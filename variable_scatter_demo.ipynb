{
 "cells": [
  {
   "cell_type": "code",
   "execution_count": 1,
   "metadata": {
    "collapsed": true
   },
   "outputs": [],
   "source": [
    "%matplotlib inline"
   ]
  },
  {
   "cell_type": "markdown",
   "metadata": {},
   "source": [
    "The `behroozi10` model is a pre-built stellar-to-halo-mass model based on subhalos. You can instantiate a class of it like this:"
   ]
  },
  {
   "cell_type": "code",
   "execution_count": 2,
   "metadata": {
    "collapsed": true
   },
   "outputs": [],
   "source": [
    "from halotools.empirical_models import PrebuiltSubhaloModelFactory\n",
    "\n",
    "model1 = PrebuiltSubhaloModelFactory('behroozi10', redshift=0)\n"
   ]
  },
  {
   "cell_type": "markdown",
   "metadata": {},
   "source": [
    "You can inspect the parameters of this model (and any Halotools model) by printing the `param_dict` attribute:"
   ]
  },
  {
   "cell_type": "code",
   "execution_count": 3,
   "metadata": {},
   "outputs": [
    {
     "data": {
      "text/plain": [
       "{u'scatter_model_param1': 0.2,\n",
       " u'smhm_beta_0': 0.43,\n",
       " u'smhm_beta_a': 0.18,\n",
       " u'smhm_delta_0': 0.56,\n",
       " u'smhm_delta_a': 0.18,\n",
       " u'smhm_gamma_0': 1.54,\n",
       " u'smhm_gamma_a': 2.52,\n",
       " u'smhm_m0_0': 10.72,\n",
       " u'smhm_m0_a': 0.59,\n",
       " u'smhm_m1_0': 12.35,\n",
       " u'smhm_m1_a': 0.3}"
      ]
     },
     "execution_count": 3,
     "metadata": {},
     "output_type": "execute_result"
    }
   ],
   "source": [
    "model1.param_dict"
   ]
  },
  {
   "cell_type": "markdown",
   "metadata": {},
   "source": [
    "Notice that the first parameter is `scatter_model_param1` - this controls the level of scatter (in dex) in stellar mass at fixed halo mass. By default, there is only one scatter parameter, and so scatter is assumed constant. \n",
    "\n",
    "This default behavior is easy to modify using the `scatter_abscissa` and `scatter_ordinates` arguments. These two arguments control the level of scatter as a function of $\\log_{10}M_{\\rm halo}.$ "
   ]
  },
  {
   "cell_type": "code",
   "execution_count": 4,
   "metadata": {
    "collapsed": true
   },
   "outputs": [],
   "source": [
    "model2 = PrebuiltSubhaloModelFactory('behroozi10', redshift=0, \n",
    "            scatter_abscissa=[12, 15], scatter_ordinates=[0.4, 0.2])"
   ]
  },
  {
   "cell_type": "code",
   "execution_count": 5,
   "metadata": {},
   "outputs": [
    {
     "data": {
      "text/plain": [
       "{u'scatter_model_param1': 0.40000000000000002,\n",
       " u'scatter_model_param2': 0.20000000000000001,\n",
       " u'smhm_beta_0': 0.43,\n",
       " u'smhm_beta_a': 0.18,\n",
       " u'smhm_delta_0': 0.56,\n",
       " u'smhm_delta_a': 0.18,\n",
       " u'smhm_gamma_0': 1.54,\n",
       " u'smhm_gamma_a': 2.52,\n",
       " u'smhm_m0_0': 10.72,\n",
       " u'smhm_m0_a': 0.59,\n",
       " u'smhm_m1_0': 12.35,\n",
       " u'smhm_m1_a': 0.3}"
      ]
     },
     "execution_count": 5,
     "metadata": {},
     "output_type": "execute_result"
    }
   ],
   "source": [
    "model2.param_dict"
   ]
  },
  {
   "cell_type": "markdown",
   "metadata": {},
   "source": [
    "Notice that there are now two scatter parameters. The first parameter regulates the scatter at $M_{\\rm halo}=10^{12}M_{\\odot}$, the second at $M_{\\rm halo}=10^{15}M_{\\odot}$ - the two abscissa values we chose.\n",
    "\n",
    "Let's verify that the model behaves as expected by generating a Monte Carlo realization of stellar mass at $10^5$ halos of the same mass:"
   ]
  },
  {
   "cell_type": "code",
   "execution_count": 6,
   "metadata": {},
   "outputs": [
    {
     "data": {
      "image/png": "[encoded data removed]",
      "text/plain": [
       "<matplotlib.figure.Figure at 0x113d89290>"
      ]
     },
     "metadata": {},
     "output_type": "display_data"
    }
   ],
   "source": [
    "num_halos = int(1e5)\n",
    "halo_mass = np.zeros(num_halos) + 10**12\n",
    "\n",
    "mstar1 = model1.mc_stellar_mass(prim_haloprop=halo_mass)\n",
    "mstar2 = model2.mc_stellar_mass(prim_haloprop=halo_mass)\n",
    "\n",
    "fig, ax = plt.subplots(1, 1)\n",
    "\n",
    "__=ax.hist(np.log10(mstar1), bins=50, alpha=0.8, normed=True, label=r'Model 1')\n",
    "__=ax.hist(np.log10(mstar2), bins=50, alpha=0.8, normed=True, label=r'Model 2')\n",
    "\n",
    "title = ax.set_title(r'$M_{\\rm halo} = 10^{12}M_{\\odot}$')\n",
    "xlabel = ax.set_xlabel(r'$\\log_{10} M_{\\ast}/M_{\\odot}$')\n",
    "ylabel = ax.set_ylabel(r'${\\rm PDF}$')\n",
    "legend = ax.legend()"
   ]
  },
  {
   "cell_type": "code",
   "execution_count": 7,
   "metadata": {},
   "outputs": [
    {
     "name": "stdout",
     "output_type": "stream",
     "text": [
      "Model 1 scatter = 0.200 dex\n",
      "Model 2 scatter = 0.400 dex\n"
     ]
    }
   ],
   "source": [
    "print(\"Model 1 scatter = {0:.3f} dex\".format(np.std(np.log10(mstar1))))\n",
    "\n",
    "print(\"Model 2 scatter = {0:.3f} dex\".format(np.std(np.log10(mstar2))))"
   ]
  },
  {
   "cell_type": "code",
   "execution_count": 8,
   "metadata": {},
   "outputs": [
    {
     "data": {
      "image/png": "[encoded data removed]",
      "text/plain": [
       "<matplotlib.figure.Figure at 0x11beb3a90>"
      ]
     },
     "metadata": {},
     "output_type": "display_data"
    }
   ],
   "source": [
    "num_halos = int(1e5)\n",
    "halo_mass = np.zeros(num_halos) + 10**15\n",
    "\n",
    "mstar1 = model1.mc_stellar_mass(prim_haloprop=halo_mass)\n",
    "mstar2 = model2.mc_stellar_mass(prim_haloprop=halo_mass)\n",
    "\n",
    "fig, ax = plt.subplots(1, 1)\n",
    "\n",
    "__=ax.hist(np.log10(mstar1), bins=50, alpha=0.8, normed=True, label=r'Model 1')\n",
    "__=ax.hist(np.log10(mstar2), bins=50, alpha=0.8, normed=True, label=r'Model 2')\n",
    "\n",
    "title = ax.set_title(r'$M_{\\rm halo} = 10^{15}M_{\\odot}$')\n",
    "xlabel = ax.set_xlabel(r'$\\log_{10} M_{\\ast}/M_{\\odot}$')\n",
    "ylabel = ax.set_ylabel(r'${\\rm PDF}$')\n",
    "legend = ax.legend()"
   ]
  },
  {
   "cell_type": "code",
   "execution_count": 9,
   "metadata": {},
   "outputs": [
    {
     "name": "stdout",
     "output_type": "stream",
     "text": [
      "Model 1 scatter = 0.200 dex\n",
      "Model 2 scatter = 0.200 dex\n"
     ]
    }
   ],
   "source": [
    "print(\"Model 1 scatter = {0:.3f} dex\".format(np.std(np.log10(mstar1))))\n",
    "\n",
    "print(\"Model 2 scatter = {0:.3f} dex\".format(np.std(np.log10(mstar2))))"
   ]
  },
  {
   "cell_type": "markdown",
   "metadata": {},
   "source": [
    "At intermediate values of halo mass, the level of scatter is interpolated in log halo mass:"
   ]
  },
  {
   "cell_type": "code",
   "execution_count": 10,
   "metadata": {},
   "outputs": [
    {
     "data": {
      "image/png": "[encoded data removed]",
      "text/plain": [
       "<matplotlib.figure.Figure at 0x11e1766d0>"
      ]
     },
     "metadata": {},
     "output_type": "display_data"
    }
   ],
   "source": [
    "num_halos = int(1e5)\n",
    "halo_mass = np.zeros(num_halos) + 10**13.5\n",
    "\n",
    "mstar1 = model1.mc_stellar_mass(prim_haloprop=halo_mass)\n",
    "mstar2 = model2.mc_stellar_mass(prim_haloprop=halo_mass)\n",
    "\n",
    "fig, ax = plt.subplots(1, 1)\n",
    "\n",
    "__=ax.hist(np.log10(mstar1), bins=50, alpha=0.8, normed=True, label=r'Model 1')\n",
    "__=ax.hist(np.log10(mstar2), bins=50, alpha=0.8, normed=True, label=r'Model 2')\n",
    "\n",
    "title = ax.set_title(r'$M_{\\rm halo} = 10^{12}M_{\\odot}$')\n",
    "xlabel = ax.set_xlabel(r'$\\log_{10} M_{\\ast}/M_{\\odot}$')\n",
    "ylabel = ax.set_ylabel(r'${\\rm PDF}$')\n",
    "legend = ax.legend()"
   ]
  },
  {
   "cell_type": "code",
   "execution_count": 11,
   "metadata": {},
   "outputs": [
    {
     "name": "stdout",
     "output_type": "stream",
     "text": [
      "Model 1 scatter = 0.200 dex\n",
      "Model 2 scatter = 0.300 dex\n"
     ]
    }
   ],
   "source": [
    "print(\"Model 1 scatter = {0:.3f} dex\".format(np.std(np.log10(mstar1))))\n",
    "\n",
    "print(\"Model 2 scatter = {0:.3f} dex\".format(np.std(np.log10(mstar2))))"
   ]
  },
  {
   "cell_type": "code",
   "execution_count": null,
   "metadata": {
    "collapsed": true
   },
   "outputs": [],
   "source": []
  },
  {
   "cell_type": "code",
   "execution_count": null,
   "metadata": {
    "collapsed": true
   },
   "outputs": [],
   "source": []
  },
  {
   "cell_type": "code",
   "execution_count": null,
   "metadata": {
    "collapsed": true
   },
   "outputs": [],
   "source": []
  },
  {
   "cell_type": "code",
   "execution_count": null,
   "metadata": {
    "collapsed": true
   },
   "outputs": [],
   "source": []
  }
 ],
 "metadata": {
  "kernelspec": {
   "display_name": "Python [conda root]",
   "language": "python",
   "name": "conda-root-py"
  },
  "language_info": {
   "codemirror_mode": {
    "name": "ipython",
    "version": 2
   },
   "file_extension": ".py",
   "mimetype": "text/x-python",
   "name": "python",
   "nbconvert_exporter": "python",
   "pygments_lexer": "ipython2",
   "version": "2.7.13"
  }
 },
 "nbformat": 4,
 "nbformat_minor": 2
}
