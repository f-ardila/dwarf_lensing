{
 "cells": [
  {
   "cell_type": "code",
   "execution_count": 1,
   "metadata": {
    "nbpresent": {
     "id": "74427125-3561-4468-9b43-57e6e362a1ed"
    }
   },
   "outputs": [
    {
     "name": "stdout",
     "output_type": "stream",
     "text": [
      "2.7.15 |Anaconda custom (64-bit)| (default, May  1 2018, 18:37:05) \n",
      "[GCC 4.2.1 Compatible Clang 4.0.1 (tags/RELEASE_401/final)]\n"
     ]
    }
   ],
   "source": [
    "import sys\n",
    "print(sys.version)"
   ]
  },
  {
   "cell_type": "code",
   "execution_count": 2,
   "metadata": {
    "nbpresent": {
     "id": "44e7cfa7-01bc-4658-a222-d45fb06bfcef"
    }
   },
   "outputs": [],
   "source": [
    "import numpy as np\n",
    "import matplotlib.pyplot as plt\n",
    "from astropy.io import ascii, fits\n",
    "import matplotlib.pyplot as plt\n",
    "\n",
    "import halotools\n"
   ]
  },
  {
   "cell_type": "code",
   "execution_count": 3,
   "metadata": {},
   "outputs": [],
   "source": [
    "%load_ext line_profiler\n",
    "%load_ext memory_profiler"
   ]
  },
  {
   "cell_type": "markdown",
   "metadata": {
    "nbpresent": {
     "id": "11ef578a-58e8-409b-8ec1-7accce76d831"
    }
   },
   "source": [
    "# COSMOS SMF\n",
    "\n",
    "Deep sample (not the UD sample) because we need the full COSMOS area to get a signal.\n",
    "\n",
    "Catalog: http://iopscience.iop.org/article/10.3847/0067-0049/224/2/24/pdf\n",
    "\n",
    "Cuts: \n",
    "- Mass below 10^9\n",
    "- z between z=0.1 and z=0.4"
   ]
  },
  {
   "cell_type": "markdown",
   "metadata": {
    "nbpresent": {
     "id": "1ff0ff9b-838a-40f8-8ef9-e04615a5f96e"
    }
   },
   "source": [
    "Some numbers regarding our sample:\n",
    "- Number of dwarfs :        6876\n",
    "- Mean mass :      8.52695\n",
    "- Mean Redshift :     0.301442\n",
    "- N objects with specz :        1153\n",
    "- fraction :    0.167685"
   ]
  },
  {
   "cell_type": "code",
   "execution_count": 4,
   "metadata": {
    "nbpresent": {
     "id": "4affb703-93de-47bd-9453-8f9c2c205c40"
    }
   },
   "outputs": [],
   "source": [
    "#first quick&dirty SMF in COSMOS at z~0.2\n",
    "cosmos_SMF_fit_file='Data/cosmos/mf_mass2b_fl5b_tot_VmaxFit2D0.dat'\n",
    "cosmos_SMF_points_file='Data/cosmos/mf_mass2b_fl5b_tot_Vmax0.dat'"
   ]
  },
  {
   "cell_type": "code",
   "execution_count": 5,
   "metadata": {
    "nbpresent": {
     "id": "01b15129-e3b8-49f0-9fd8-ab2cfeda8364"
    }
   },
   "outputs": [
    {
     "name": "stdout",
     "output_type": "stream",
     "text": [
      "  log_m      log_phi   log_phi_inf log_phi_sup\n",
      "---------- ----------- ----------- -----------\n",
      "       0.0   0.9907256   1.0965684   0.8843038\n",
      "       0.1   0.9593335   1.0640014   0.8540923\n",
      "       0.2   0.9279413   1.0314345   0.8238808\n",
      "       0.3   0.8965492   0.9988675   0.7936693\n",
      "       0.4    0.865157   0.9663005   0.7634578\n",
      "       0.5   0.8337649   0.9337335   0.7332463\n",
      "       0.6   0.8023727   0.9011666   0.7030348\n",
      "       0.7   0.7709806   0.8685996   0.6728233\n",
      "       0.8   0.7395884   0.8360326   0.6426118\n",
      "       0.9   0.7081963   0.8034657   0.6124003\n",
      "       ...         ...         ...         ...\n",
      "28.9000004 999.9000244 999.9000244 999.9000244\n",
      "29.0000004 999.9000244 999.9000244 999.9000244\n",
      "29.1000004 999.9000244 999.9000244 999.9000244\n",
      "29.2000004 999.9000244 999.9000244 999.9000244\n",
      "29.3000004 999.9000244 999.9000244 999.9000244\n",
      "29.4000004 999.9000244 999.9000244 999.9000244\n",
      "29.5000004 999.9000244 999.9000244 999.9000244\n",
      "29.6000004 999.9000244 999.9000244 999.9000244\n",
      "29.7000004 999.9000244 999.9000244 999.9000244\n",
      "29.8000004 999.9000244 999.9000244 999.9000244\n",
      "29.9000004 999.9000244 999.9000244 999.9000244\n",
      "Length = 300 rows\n",
      " col1     col2       col3       col4   \n",
      "------ ---------- --------- -----------\n",
      " 8.334 -1.6260894   0.01047   0.0107287\n",
      " 8.592 -1.7085151 0.0104339   0.0106908\n",
      " 8.863 -1.7767709 0.0112801    0.011581\n",
      " 9.126 -1.8952282  0.012866   0.0132589\n",
      " 9.393 -1.9646414 0.0135998   0.0140395\n",
      " 9.668 -2.0910648 0.0156967   0.0162854\n",
      " 9.928 -2.1836141 0.0174311     0.01816\n",
      "10.198 -2.2144673 0.0180502    0.018833\n",
      "10.467 -2.3840312 0.0218597   0.0230185\n",
      " 10.72 -2.5224617 0.0254747   0.0270626\n",
      "10.979 -2.7758803 0.0339489   0.0368295\n",
      "11.251 -3.2776016 0.0585549   0.0676986\n",
      "11.486 -3.9974896 0.1249429   0.1760996\n",
      "11.676 -4.9394857   0.30103 999.9000244\n",
      "12.026 -4.8689435   0.30103 999.9000244\n"
     ]
    }
   ],
   "source": [
    "#final SMF in COSMOS at z~0.2\n",
    "cosmos_SMF_fit_file='Data/cosmos/cosmos2015_dic2017_smf_z01-04_STY0.dat'\n",
    "cosmos_SMF_points_file='Data/cosmos/cosmos2015_dic2017_smf_z01-04_Vmax0.dat'\n",
    "cosmos_SMF_fit_table=ascii.read(cosmos_SMF_fit_file)\n",
    "cosmos_SMF_points_table=ascii.read(cosmos_SMF_points_file)\n",
    "\n",
    "\n",
    "print(cosmos_SMF_fit_table)\n",
    "print(cosmos_SMF_points_table)"
   ]
  },
  {
   "cell_type": "code",
   "execution_count": 6,
   "metadata": {
    "nbpresent": {
     "id": "e920f102-908e-40b4-a475-7d8a300ca040"
    }
   },
   "outputs": [
    {
     "data": {
      "image/png": "[encoded data removed]",
      "text/plain": [
       "<Figure size 432x288 with 1 Axes>"
      ]
     },
     "metadata": {},
     "output_type": "display_data"
    }
   ],
   "source": [
    "plt.plot(cosmos_SMF_fit_table['log_m'], cosmos_SMF_fit_table['log_phi'], label='COSMOS z~0.2 fit')\n",
    "plt.fill_between(cosmos_SMF_fit_table['log_m'], cosmos_SMF_fit_table['log_phi_inf'], \n",
    "                 cosmos_SMF_fit_table['log_phi_sup'], alpha=0.5)\n",
    "plt.errorbar(cosmos_SMF_points_table['col1'], cosmos_SMF_points_table['col2'], \n",
    "             yerr=[cosmos_SMF_points_table['col3'],cosmos_SMF_points_table['col4']], fmt='o', elinewidth=3,\n",
    "            markersize=5, c='#1f77b4', label='COSMOS z~0.2 points')\n",
    "\n",
    "plt.xlabel('log(M)')\n",
    "plt.ylabel('log(Phi)')\n",
    "plt.xlim([8,12.5])\n",
    "plt.ylim([-10,0])\n",
    "plt.legend()\n",
    "plt.show()"
   ]
  },
  {
   "cell_type": "markdown",
   "metadata": {
    "nbpresent": {
     "id": "e31be248-7b05-460a-bf05-12613cd1c65f"
    }
   },
   "source": [
    "# Abundance Matching with variable scatter"
   ]
  },
  {
   "cell_type": "markdown",
   "metadata": {
    "nbpresent": {
     "id": "556242f3-f7d1-442b-a0f7-4d0a7a25c5fb"
    }
   },
   "source": [
    "Pick a set of parameter for the PB model and do abundance matching wth variable scatter, and compare the COSMS SMF with the model SMF.\n"
   ]
  },
  {
   "cell_type": "markdown",
   "metadata": {
    "nbpresent": {
     "id": "fe2d1e7b-eafe-488b-ac58-010393297085"
    }
   },
   "source": [
    "## read in halo catalog"
   ]
  },
  {
   "cell_type": "code",
   "execution_count": 7,
   "metadata": {
    "nbpresent": {
     "id": "943875a7-b82b-4b37-987b-3fc77c7ae332"
    }
   },
   "outputs": [],
   "source": [
    "#halotools catalog\n",
    "\n",
    "halo_cat_file='Data/hlist_0.78209.list'\n",
    "#scale(0) id(1) desc_scale(2) desc_id(3) num_prog(4) pid(5) upid(6) desc_pid(7) phantom(8) sam_mvir(9) mvir(10)\n",
    "#rvir(11) rs(12) vrms(13) mmp?(14) scale_of_last_MM(15) vmax(16) x(17) y(18) z(19) vx(20) vy(21) vz(22) Jx(23) Jy(24) \n",
    "#Jz(25) Spin(26) Breadth_first_ID(27) Depth_first_ID(28) Tree_root_ID(29) Orig_halo_ID(30) Snap_num(31) \n",
    "#Next_coprogenitor_depthfirst_ID(32) Last_progenitor_depthfirst_ID(33) Last_mainleaf_depthfirst_ID(34) Tidal_Force(35)\n",
    "#Tidal_ID(36) Rs_Klypin(37) Mvir_all(38) M200b(39) M200c(40) M500c(41) M2500c(42) Xoff(43) Voff(44) Spin_Bullock(45) \n",
    "#b_to_a(46) c_to_a(47) A[x](48) A[y](49) A[z](50) b_to_a(500c)(51) c_to_a(500c)(52) A[x](500c)(53) A[y](500c)(54) \n",
    "#A[z](500c)(55) T/|U|(56) M_pe_Behroozi(57) M_pe_Diemer(58) Macc(59) Mpeak(60) Vacc(61) Vpeak(62) Halfmass_Scale(63) \n",
    "#Acc_Rate_Inst(64) Acc_Rate_100Myr(65) Acc_Rate_1*Tdyn(66) Acc_Rate_2*Tdyn(67) Acc_Rate_Mpeak(68) Mpeak_Scale(69) \n",
    "#Acc_Scale(70) First_Acc_Scale(71) First_Acc_Mvir(72) First_Acc_Vmax(73) Vmax@Mpeak(74) Tidal_Force_Tdyn(75) \n",
    "#Log_(Vmax/Vmax_Tdyn)(76)\n"
   ]
  },
  {
   "cell_type": "code",
   "execution_count": 8,
   "metadata": {
    "nbpresent": {
     "id": "db9c5656-45aa-4067-9be6-4a83603a181e"
    }
   },
   "outputs": [],
   "source": [
    "from halotools.sim_manager import TabularAsciiReader\n",
    "from halotools.sim_manager.rockstar_hlist_reader import RockstarHlistReader\n",
    "#python 3 gives error about converting unicode 'TypeError: No conversion path for dtype: dtype('<U12')'\n",
    "\n",
    "output_fname = 'Data/hlist_0.78209.hdf5'\n",
    "columns_to_keep_dict = {'halo_id': (1, 'i8'), 'halo_upid': (6, 'i8'), 'halo_mvir': (10, 'f4'), 'halo_x': (17, 'f4'), \n",
    "                        'halo_y': (18, 'f4'), 'halo_z': (19, 'f4'),'halo_vx': (20, 'f4'), 'halo_vy': (21, 'f4'), \n",
    "                        'halo_vz': (22, 'f4'), 'halo_rvir': (11, 'f4'), 'halo_mpeak': (60, 'f4')}\n",
    "\n",
    "#is there a way to read in all columns? NO\n",
    "\n",
    "simname = 'bolshoi-planck'\n",
    "halo_finder = 'rockstar'\n",
    "version_name = 'bplanck_dwarfs'\n",
    "ptcl_version_name='bplanck_dwarfs_downsampled2'\n",
    "ptcl_version_name='bplanck_dwarfs'\n",
    "\n",
    "redshift = 0.278625 #(1/0.78209)-1 ; a=0.78209\n",
    "Lbox, particle_mass = 250, 1.5e8"
   ]
  },
  {
   "cell_type": "markdown",
   "metadata": {
    "nbpresent": {
     "id": "6b3657c7-0916-472c-8102-85a1961d2b66"
    }
   },
   "source": [
    "## Read in local file as halo catalog"
   ]
  },
  {
   "cell_type": "code",
   "execution_count": 9,
   "metadata": {
    "nbpresent": {
     "id": "8fe8606c-10e9-48b5-9f89-ef8b45a2ac46"
    }
   },
   "outputs": [],
   "source": [
    "# reader = RockstarHlistReader(halo_cat_file, columns_to_keep_dict, output_fname, simname, halo_finder, redshift, \n",
    "#                              version_name, Lbox, particle_mass, overwrite=True) # doctest: +SKIP\n",
    "# reader.read_halocat(['halo_rvir'], write_to_disk = True, update_cache_log = True) # doctest: +SKIP"
   ]
  },
  {
   "cell_type": "code",
   "execution_count": 10,
   "metadata": {
    "nbpresent": {
     "id": "11240699-b115-4a3f-b5dd-1b91a4fbcd4b"
    }
   },
   "outputs": [],
   "source": [
    "# #explore with h5py\n",
    "# import h5py\n",
    "# # Load file\n",
    "# f = h5py.File('Data/hlist_0.78209.hdf5', 'r')\n",
    "\n",
    "# #HDF files have attributes: metadata attached to the whole dataset\n",
    "# print('Attribute keys : ', f.attrs.keys())\n",
    "# #Then there is the actual data, which is also called with keywords \n",
    "# print('Dataset keys : ', f.keys())\n",
    "\n",
    "# f['data'].value\n"
   ]
  },
  {
   "cell_type": "code",
   "execution_count": 11,
   "metadata": {
    "nbpresent": {
     "id": "07d1f257-2540-4075-9436-34162e9363bd"
    }
   },
   "outputs": [
    {
     "name": "stdout",
     "output_type": "stream",
     "text": [
      "('bolplanck', 'rockstar', 'halotools_v0p4', '0.4966', '/Users/fardila/.astropy/cache/halotools/halo_catalogs/bolplanck/rockstar/hlist_0.66818.list.halotools_v0p4.hdf5')\n",
      "('bolshoi', 'rockstar', 'halotools_v0p4', '-0.0003', '/Users/fardila/.astropy/cache/halotools/halo_catalogs/bolshoi/rockstar/hlist_1.00035.list.halotools_v0p4.hdf5')\n",
      "('bolshoi-planck', 'rockstar', 'bplanck_dwarfs', '0.2786', 'Data/hlist_0.78209.hdf5')\n",
      "0.2786\n",
      "bplanck_dwarfs\n"
     ]
    }
   ],
   "source": [
    "#The halo catalog is now stored in cache and can be loaded into memory at any time\n",
    "from halotools.sim_manager import HaloTableCache, CachedHaloCatalog\n",
    "cache = HaloTableCache()\n",
    "\n",
    "#list cache entries\n",
    "for entry in cache.log: \n",
    "    print(entry) \n",
    "    \n",
    "#read in halocat    \n",
    "halocat = CachedHaloCatalog(simname = simname, halo_finder = halo_finder, \n",
    "                            version_name = version_name, redshift = redshift, ptcl_version_name=ptcl_version_name) # doctest: +SKIP\n",
    "\n",
    "print(halocat.redshift) # doctest: +SKIP\n",
    "print(halocat.ptcl_version_name) # doctest: +SKIP\n",
    "\n",
    "       "
   ]
  },
  {
   "cell_type": "markdown",
   "metadata": {
    "nbpresent": {
     "id": "63935b64-ac11-4535-a15b-6d894793648f"
    }
   },
   "source": [
    "## abundance match with variable scatter"
   ]
  },
  {
   "cell_type": "code",
   "execution_count": 12,
   "metadata": {
    "nbpresent": {
     "id": "6889e38d-df80-4b55-96ff-acefe642bf7b"
    }
   },
   "outputs": [
    {
     "name": "stdout",
     "output_type": "stream",
     "text": [
      "halo_upid  halo_hostid halo_mpeak  halo_x ...    vz    galid stellar_mass\n",
      "---------- ----------- ---------- ------- ... -------- ----- ------------\n",
      "        -1  2404371171  1.627e+14 36.0446 ...  -118.07     0  4.43109e+10\n",
      "2404371171  2404371171  6.819e+09 35.5328 ...   484.04     1  1.11139e+06\n",
      "2404371171  2404371171  5.889e+09 35.4048 ...  -214.14     2     383316.0\n",
      "2404371171  2404371171  5.734e+09 35.4013 ...  -795.51     3  1.01792e+07\n",
      "2404371171  2404371171  3.254e+09 35.2266 ...  -213.05     4      13055.1\n",
      "2404371171  2404371171  7.376e+10 35.8458 ... -1119.11     5   2.3123e+08\n",
      "2404371171  2404371171  1.085e+09 35.4068 ...  -633.85     6      5810.81\n",
      "2404371171  2404371171  4.959e+09  36.277 ...  1374.05     7      77893.7\n",
      "2404371171  2404371171  9.298e+08  35.363 ...  -591.06     8      9161.56\n"
     ]
    }
   ],
   "source": [
    "from halotools.empirical_models import PrebuiltSubhaloModelFactory\n",
    "model = PrebuiltSubhaloModelFactory('behroozi10', redshift=redshift, \n",
    "                                    scatter_abscissa=[12, 15], scatter_ordinates=[0.4, 0.2])\n",
    "model.populate_mock(halocat)\n",
    "print(model.mock.galaxy_table[0:9])"
   ]
  },
  {
   "cell_type": "code",
   "execution_count": 13,
   "metadata": {
    "nbpresent": {
     "id": "6f8937aa-7027-4780-b042-58264ddc2a6a"
    },
    "slideshow": {
     "slide_type": "skip"
    }
   },
   "outputs": [
    {
     "data": {
      "image/png": "[encoded data removed]",
      "text/plain": [
       "<Figure size 432x288 with 1 Axes>"
      ]
     },
     "metadata": {},
     "output_type": "display_data"
    }
   ],
   "source": [
    "plt.hist(np.log10(model.mock.galaxy_table['stellar_mass']))\n",
    "plt.xlabel('log(M_star)')\n",
    "plt.show()"
   ]
  },
  {
   "cell_type": "code",
   "execution_count": 14,
   "metadata": {
    "nbpresent": {
     "id": "5bafffd6-74e4-475c-a886-e21d85e735ff"
    }
   },
   "outputs": [
    {
     "data": {
      "text/plain": [
       "{u'scatter_model_param1': 0.40000000000000002,\n",
       " u'scatter_model_param2': 0.20000000000000001,\n",
       " u'smhm_beta_0': 0.43,\n",
       " u'smhm_beta_a': 0.18,\n",
       " u'smhm_delta_0': 0.56,\n",
       " u'smhm_delta_a': 0.18,\n",
       " u'smhm_gamma_0': 1.54,\n",
       " u'smhm_gamma_a': 2.52,\n",
       " u'smhm_m0_0': 10.72,\n",
       " u'smhm_m0_a': 0.59,\n",
       " u'smhm_m1_0': 12.35,\n",
       " u'smhm_m1_a': 0.3}"
      ]
     },
     "execution_count": 14,
     "metadata": {},
     "output_type": "execute_result"
    }
   ],
   "source": [
    "model.param_dict\n",
    "#model._haloprop_list"
   ]
  },
  {
   "cell_type": "code",
   "execution_count": 15,
   "metadata": {
    "nbpresent": {
     "id": "f7a7f8ba-a4ce-45b6-804b-e2c6177ae9fe"
    }
   },
   "outputs": [],
   "source": [
    "#calculate smf\n",
    "#Bolshoi volume was 250h^(-1)Mpc on each side https://www.cosmosim.org/cms/simulations/bolshoip/\n",
    "\n",
    "M     = model.mock.galaxy_table['stellar_mass']         #Read stellar masses\n",
    "logM  = np.log10(M)                     #Take logarithm\n",
    "nbins = 100                             #Number of bins to divide data into\n",
    "V     = (250/0.7)**3                    #Survey volume in Mpc3\n",
    "Phi,edg = np.histogram(logM,bins=nbins) #Unnormalized histogram and bin edges\n",
    "dM    = edg[1] - edg[0]                 #Bin size\n",
    "centers   = edg[0:-1] + dM/2.           #Mass axis\n",
    "Phi   = Phi / float(V) / dM             #Normalize to volume and bin size\n",
    "logPhi= np.log10(Phi)\n"
   ]
  },
  {
   "cell_type": "code",
   "execution_count": 16,
   "metadata": {
    "nbpresent": {
     "id": "9730eeb5-1f05-4a0c-8162-3e64c5950a17"
    }
   },
   "outputs": [
    {
     "data": {
      "image/png": "[encoded data removed]",
      "text/plain": [
       "<Figure size 432x288 with 1 Axes>"
      ]
     },
     "metadata": {},
     "output_type": "display_data"
    }
   ],
   "source": [
    "plt.plot(centers,logPhi, c='r', label='Bolshoi-Planck halos')\n",
    "plt.xlabel('log(M_star)')\n",
    "plt.ylabel('log(Phi)')\n",
    "plt.legend()\n",
    "plt.show()"
   ]
  },
  {
   "cell_type": "markdown",
   "metadata": {
    "nbpresent": {
     "id": "ac374ff5-6ef8-45b8-9542-e95029cc5c32"
    }
   },
   "source": [
    "# plot both SMFs"
   ]
  },
  {
   "cell_type": "code",
   "execution_count": 17,
   "metadata": {
    "nbpresent": {
     "id": "ac7a17f1-f707-4dde-8112-00a2d45587ad"
    }
   },
   "outputs": [
    {
     "data": {
      "image/png": "[encoded data removed]",
      "text/plain": [
       "<Figure size 432x288 with 1 Axes>"
      ]
     },
     "metadata": {},
     "output_type": "display_data"
    }
   ],
   "source": [
    "plt.plot(centers,logPhi, c='r', label='Bolshoi-Planck halos')\n",
    "plt.plot(cosmos_SMF_fit_table['log_m'], cosmos_SMF_fit_table['log_phi'], label='COSMOS z~0.2 fit')\n",
    "plt.fill_between(cosmos_SMF_fit_table['log_m'], cosmos_SMF_fit_table['log_phi_inf'], \n",
    "                 cosmos_SMF_fit_table['log_phi_sup'], alpha=0.5)\n",
    "plt.errorbar(cosmos_SMF_points_table['col1'], cosmos_SMF_points_table['col2'], \n",
    "             yerr=[cosmos_SMF_points_table['col3'],cosmos_SMF_points_table['col4']], fmt='o', elinewidth=3,\n",
    "            markersize=5, c='#1f77b4', label='COSMOS z~0.2 points')\n",
    "\n",
    "plt.xlabel('log(M)')\n",
    "plt.ylabel('log(Phi)')\n",
    "plt.xlim([8,12.5])\n",
    "plt.ylim([-10,0])\n",
    "plt.legend(loc='lower left')\n",
    "plt.show()"
   ]
  },
  {
   "cell_type": "markdown",
   "metadata": {
    "nbpresent": {
     "id": "417dd06f-ab79-458b-bd22-5e8e375707d0"
    }
   },
   "source": [
    "Questions: the abundance matching does not use the data for anything...should it?"
   ]
  },
  {
   "cell_type": "markdown",
   "metadata": {
    "collapsed": true,
    "nbpresent": {
     "id": "7d2e6546-1e17-4f2e-a81b-a36f8dc0ab48"
    }
   },
   "source": [
    "# Compute the lensing"
   ]
  },
  {
   "cell_type": "markdown",
   "metadata": {
    "nbpresent": {
     "id": "c128efa6-7a7e-4a90-a2ea-94146e0f8e04"
    }
   },
   "source": [
    "* Read in the DM particles, x, y,z (manually)\n",
    "* Precompute the lensing\n",
    "* Then compute the lensing for the model above (plot the model Delta Sigma verus R)\n",
    "* Then compare the lensing with the data"
   ]
  },
  {
   "cell_type": "markdown",
   "metadata": {
    "nbpresent": {
     "id": "dfbdbdba-7ad8-4a43-af6b-24da550f1983"
    }
   },
   "source": [
    "## read in DM particle positions"
   ]
  },
  {
   "cell_type": "code",
   "execution_count": 18,
   "metadata": {
    "nbpresent": {
     "id": "71229784-7268-4477-bea8-31713fe2a0e1"
    }
   },
   "outputs": [],
   "source": [
    "# px = model.mock.ptcl_table['x']\n",
    "# py = model.mock.ptcl_table['y']\n",
    "# pz = model.mock.ptcl_table['z']\n",
    "# particles = np.vstack((px, py, pz)).T"
   ]
  },
  {
   "cell_type": "code",
   "execution_count": 19,
   "metadata": {
    "nbpresent": {
     "id": "c13b5d8c-4a79-4d19-8491-57e4d8f82184"
    }
   },
   "outputs": [],
   "source": [
    "from astropy.table import Table\n",
    "\n",
    "ptcl_table = Table.read('Data/bplanck/bplanck_particles_100m_a0.78209.hdf5', path='data')\n",
    "\n",
    "px = ptcl_table['x']\n",
    "py = ptcl_table['y']\n",
    "pz = ptcl_table['z']\n",
    "particles = np.vstack((px, py, pz)).T"
   ]
  },
  {
   "cell_type": "markdown",
   "metadata": {
    "nbpresent": {
     "id": "83979098-d2f7-4a2f-8896-a6a21e098204"
    }
   },
   "source": [
    "## read in galaxy positions"
   ]
  },
  {
   "cell_type": "code",
   "execution_count": 20,
   "metadata": {
    "nbpresent": {
     "id": "7fad7577-58cd-48d0-bc6f-9dfa19054d9c"
    }
   },
   "outputs": [],
   "source": [
    "x = model.mock.galaxy_table['x']\n",
    "y = model.mock.galaxy_table['y']\n",
    "z = model.mock.galaxy_table['z']\n",
    "galaxies = np.vstack((x, y, z)).T"
   ]
  },
  {
   "cell_type": "code",
   "execution_count": 21,
   "metadata": {
    "nbpresent": {
     "id": "c765192a-d0f9-4421-a668-4573b004604b"
    }
   },
   "outputs": [
    {
     "name": "stdout",
     "output_type": "stream",
     "text": [
      "12939617\n",
      "99993334\n"
     ]
    }
   ],
   "source": [
    "print len(galaxies)\n",
    "print len(particles)"
   ]
  },
  {
   "cell_type": "markdown",
   "metadata": {
    "nbpresent": {
     "id": "31f51d00-6fa8-4f64-b553-b26485483dc2"
    }
   },
   "source": [
    "### Make cut in mass"
   ]
  },
  {
   "cell_type": "code",
   "execution_count": 22,
   "metadata": {
    "nbpresent": {
     "id": "92985c22-8468-494d-a0e1-081cb186c123"
    }
   },
   "outputs": [
    {
     "data": {
      "image/png": "[encoded data removed]",
      "text/plain": [
       "<Figure size 432x288 with 1 Axes>"
      ]
     },
     "metadata": {},
     "output_type": "display_data"
    }
   ],
   "source": [
    "plt.hist(np.log10(model.mock.galaxy_table['stellar_mass']))\n",
    "plt.show()\n"
   ]
  },
  {
   "cell_type": "code",
   "execution_count": 23,
   "metadata": {
    "nbpresent": {
     "id": "bfd97a00-86a7-41f5-9b09-b703787a988d"
    }
   },
   "outputs": [],
   "source": [
    "galaxies_table=model.mock.galaxy_table[np.log10(model.mock.galaxy_table['stellar_mass'])>10]"
   ]
  },
  {
   "cell_type": "code",
   "execution_count": 24,
   "metadata": {
    "nbpresent": {
     "id": "9f6c6933-5d34-45e6-9382-9ddf9b899b75"
    }
   },
   "outputs": [
    {
     "data": {
      "text/plain": [
       "169588"
      ]
     },
     "execution_count": 24,
     "metadata": {},
     "output_type": "execute_result"
    }
   ],
   "source": [
    "len(galaxies_table)"
   ]
  },
  {
   "cell_type": "markdown",
   "metadata": {
    "nbpresent": {
     "id": "30d41576-870b-400e-9008-46ee0f43a1cc"
    }
   },
   "source": [
    "### read in again with mass cut"
   ]
  },
  {
   "cell_type": "code",
   "execution_count": 25,
   "metadata": {
    "nbpresent": {
     "id": "7f76d5e6-46c4-4043-82cc-0ea6c15fd4e0"
    }
   },
   "outputs": [],
   "source": [
    "x = galaxies_table['x']\n",
    "y = galaxies_table['y']\n",
    "z = galaxies_table['z']\n",
    "galaxies = np.vstack((x, y, z)).T"
   ]
  },
  {
   "cell_type": "markdown",
   "metadata": {
    "nbpresent": {
     "id": "b9bcf547-01f6-4149-a35b-6037d478bd3c"
    }
   },
   "source": [
    "# precompute lensing\n"
   ]
  },
  {
   "cell_type": "markdown",
   "metadata": {
    "nbpresent": {
     "id": "ac11c11c-b367-4e6f-9bb6-3171580507b8"
    }
   },
   "source": [
    "### downsample"
   ]
  },
  {
   "cell_type": "code",
   "execution_count": 26,
   "metadata": {
    "nbpresent": {
     "id": "0bc1d434-f2b0-4edf-b1eb-b5a1f7079b5a"
    }
   },
   "outputs": [],
   "source": [
    "from halotools.utils import randomly_downsample_data\n",
    "num_ptcls_to_use = int(1e4)\n",
    "particles = randomly_downsample_data(particles, num_ptcls_to_use)\n",
    "particle_masses = np.zeros(num_ptcls_to_use) + halocat.particle_mass\n",
    "\n",
    "#need to account for the fact that you are not using the entire snapshot of particles by providing the downsampling_factor argument:\n",
    "halocat.num_ptcl_per_dim=2048 #for bolshoi-planck : https://github.com/astropy/halotools/blob/master/halotools/sim_manager/supported_sims.py\n",
    "total_num_ptcl_in_snapshot = halocat.num_ptcl_per_dim**3\n",
    "downsampling_factor = total_num_ptcl_in_snapshot/float(len(particles))\n",
    "\n",
    "rp_bins = np.logspace(-1, 1, 10)\n",
    "period = model.mock.Lbox    \n",
    "    "
   ]
  },
  {
   "cell_type": "markdown",
   "metadata": {
    "nbpresent": {
     "id": "deb653c9-b74b-430f-b4a9-35d88b817206"
    }
   },
   "source": [
    "### calculate the mass enclosed by the cylinders around each galaxy"
   ]
  },
  {
   "cell_type": "code",
   "execution_count": 27,
   "metadata": {
    "nbpresent": {
     "id": "37504c89-4082-4cec-9693-dbe41a81f6d9"
    }
   },
   "outputs": [],
   "source": [
    "from halotools.mock_observables import total_mass_enclosed_per_cylinder\n",
    "\n",
    "mass_encl = total_mass_enclosed_per_cylinder(galaxies, particles, particle_masses, downsampling_factor, rp_bins, period)\n",
    "\n",
    "#create mask for centrals\n",
    "# cenmask = model.mock.galaxy_table['gal_type'] == 'centrals'\n",
    "# cens = galaxies[cenmask]\n",
    "# mass_encl_cens = mass_encl[cenmask, :]\n"
   ]
  },
  {
   "cell_type": "code",
   "execution_count": 28,
   "metadata": {
    "nbpresent": {
     "id": "b1c76dcd-db19-4d7d-bcbd-659ed2f5ab65"
    }
   },
   "outputs": [],
   "source": [
    "#cosmology\n",
    "from astropy.cosmology import LambdaCDM\n",
    "H0=67.8\n",
    "Om0=0.307\n",
    "Ode0=0.693\n",
    "\n",
    "halocat.cosmology = LambdaCDM(H0, Om0, Ode0)"
   ]
  },
  {
   "cell_type": "markdown",
   "metadata": {
    "nbpresent": {
     "id": "b452c823-b82a-4fac-80f1-bec693e62cb0"
    }
   },
   "source": [
    "### delta sigma"
   ]
  },
  {
   "cell_type": "code",
   "execution_count": 29,
   "metadata": {
    "nbpresent": {
     "id": "ad580bb5-43be-4095-bfc1-e5e1934f7bb1"
    }
   },
   "outputs": [],
   "source": [
    "from halotools.mock_observables import delta_sigma_from_precomputed_pairs\n",
    "rp, ds = delta_sigma_from_precomputed_pairs(galaxies, mass_encl, rp_bins, period, cosmology=halocat.cosmology)\n",
    "ds = ds/1e12 #there seems to be a discrepancy in units pc^2 --> Mpc^2"
   ]
  },
  {
   "cell_type": "markdown",
   "metadata": {
    "nbpresent": {
     "id": "8f612c75-70dc-485f-b01c-455df8d7fbd5"
    }
   },
   "source": [
    "## plot"
   ]
  },
  {
   "cell_type": "code",
   "execution_count": 30,
   "metadata": {
    "nbpresent": {
     "id": "782a1e33-6f54-4d8a-bf85-b53bc5c60ff9"
    }
   },
   "outputs": [
    {
     "data": {
      "image/png": "[encoded data removed]",
      "text/plain": [
       "<Figure size 576x432 with 1 Axes>"
      ]
     },
     "metadata": {},
     "output_type": "display_data"
    }
   ],
   "source": [
    "fig, ax = plt.subplots(1, 1, figsize=(8, 6))\n",
    "\n",
    "__=plt.loglog()\n",
    "\n",
    "__=ax.plot(rp, ds, label=r'Bol-Planck: $M_{\\ast} > 10^{10}M_{\\odot}$')\n",
    "# __=ax.plot(rp, result_mstar105_satellite_in_pc, label=r'Satellites: $M_{\\ast} \\approx 10^{10.5}M_{\\odot}$')\n",
    "# __=ax.plot(rp, result_mstar105_in_pc, label=r'All galaxies: $M_{\\ast} \\approx 10^{10.5}M_{\\odot}$')\n",
    "# __=ax.plot(rp, result_mstar105_central_in_pc, label=r'Centrals: $M_{\\ast} \\approx 10^{10.5}M_{\\odot}$')\n",
    "\n",
    "__=ax.set_xlim(xmin = 0.1, xmax = 10)\n",
    "# __=ax.set_ylim(ymin = 0.5, ymax = 200)\n",
    "\n",
    "__=ax.set_xlabel(r'$R_{\\rm p} $  $\\rm{[Mpc / h]}$', fontsize=16)\n",
    "__=ax.set_ylabel(r'$\\Delta\\Sigma(R_{\\rm p})$  $[h M_{\\odot} / {\\rm pc}^2]$', fontsize=16)\n",
    "__=ax.legend(loc='best', fontsize=13)\n",
    "__=plt.xticks(fontsize=15); plt.yticks(fontsize=15)\n",
    "\n",
    "\n",
    "plt.show()"
   ]
  },
  {
   "cell_type": "markdown",
   "metadata": {
    "collapsed": true,
    "nbpresent": {
     "id": "20bbfc89-b4b4-4767-a136-e426e9af0cd2"
    }
   },
   "source": [
    "## compare with data"
   ]
  },
  {
   "cell_type": "markdown",
   "metadata": {
    "nbpresent": {
     "id": "93dda242-9b5e-450e-841d-19f38f164359"
    }
   },
   "source": [
    "Will get distribution of masses from data (COSMOS dwarf galaxies) and match that distribution in simulation galaxies, then use that catalog to calculate lensing signal. Then use MCMC to match lensing signal to measured lensing signal of dwarf galaxies."
   ]
  },
  {
   "cell_type": "markdown",
   "metadata": {
    "nbpresent": {
     "id": "4f7b477e-d181-421d-ba39-da486bc5e4ae"
    }
   },
   "source": [
    "Laigle2015 Cosmolgy: H0 = 67.8, Omega_M = 0.307, Omega_L = 0.693."
   ]
  },
  {
   "cell_type": "code",
   "execution_count": 31,
   "metadata": {
    "nbpresent": {
     "id": "fae68d29-2658-447d-91cf-863fd4cd0973"
    }
   },
   "outputs": [],
   "source": [
    "#lensing signal \n",
    "lensing_signal_file = '/Users/fardila/Documents/GitHub/dwarf_lensing/Data/cosmos/dwarf_all_lens_laigle2015_nozp2.out'\n",
    "dwarf_sample_file = '/Users/fardila/Documents/GitHub/dwarf_lensing/Data/cosmos/dwarf_sample_for_paper.fits'"
   ]
  },
  {
   "cell_type": "code",
   "execution_count": 32,
   "metadata": {
    "nbpresent": {
     "id": "ea4d1428-412b-4755-80d6-fa67eae0c991"
    }
   },
   "outputs": [
    {
     "name": "stdout",
     "output_type": "stream",
     "text": [
      "  R(Mpc)  SigR(Msun/pc^2) err(weights) ... Nsources    <R>        e2    \n",
      "--------- --------------- ------------ ... -------- --------- ----------\n",
      "0.0133352      58.8677431   17.3327507 ...     2176 0.0142079 -5.3672735\n",
      "0.0237137      11.8954158    9.6261485 ...     7082 0.0250451 13.2385548\n",
      "0.0421697       5.6647874    5.4522923 ...    22133 0.0446207  3.5197639\n",
      "0.0749894       3.2644803    3.0599847 ...    70223 0.0791256  1.1381985\n",
      "0.1333521       3.9288803    1.7389203 ...   217526 0.1406552 -2.5727109\n",
      "0.2371374       3.5901829    0.9840321 ...   679967 0.2502264  1.6006856\n",
      "0.4216965       1.4727592    0.5573089 ...  2120184 0.4446665 -0.0681996\n",
      "0.7498942       2.5547892    0.3172553 ...  6543536 0.7906795 -0.2700844\n"
     ]
    }
   ],
   "source": [
    "cosmos_lensing_signal = ascii.read(lensing_signal_file)\n",
    "print cosmos_lensing_signal"
   ]
  },
  {
   "cell_type": "code",
   "execution_count": 39,
   "metadata": {},
   "outputs": [
    {
     "data": {
      "text/plain": [
       "['R(Mpc)',\n",
       " 'SigR(Msun/pc^2)',\n",
       " 'err(weights)',\n",
       " 'err(resampling)',\n",
       " 'Nsources',\n",
       " '<R>',\n",
       " 'e2']"
      ]
     },
     "execution_count": 39,
     "metadata": {},
     "output_type": "execute_result"
    }
   ],
   "source": [
    "cosmos_lensing_signal.colnames"
   ]
  },
  {
   "cell_type": "code",
   "execution_count": 41,
   "metadata": {
    "nbpresent": {
     "id": "74094daf-da1e-45eb-a21e-1c30684b9deb"
    }
   },
   "outputs": [
    {
     "data": {
      "image/png": "[encoded data removed]",
      "text/plain": [
       "<Figure size 576x432 with 1 Axes>"
      ]
     },
     "metadata": {},
     "output_type": "display_data"
    }
   ],
   "source": [
    "fig, ax = plt.subplots(1, 1, figsize=(8, 6))\n",
    "\n",
    "__=plt.loglog()\n",
    "\n",
    "__=ax.plot(rp, ds, label=r'Bol-Planck: $M_{\\ast} > 10^{10}M_{\\odot}$')\n",
    "ax.fill_between(rp, ds,ds, alpha=0.5)\n",
    "# __=ax.plot(rp, result_mstar105_satellite_in_pc, label=r'Satellites: $M_{\\ast} \\approx 10^{10.5}M_{\\odot}$')\n",
    "# __=ax.plot(rp, result_mstar105_in_pc, label=r'All galaxies: $M_{\\ast} \\approx 10^{10.5}M_{\\odot}$')\n",
    "# __=ax.plot(rp, result_mstar105_central_in_pc, label=r'Centrals: $M_{\\ast} \\approx 10^{10.5}M_{\\odot}$')\n",
    "\n",
    "ax.plot(cosmos_lensing_signal['R(Mpc)'], cosmos_lensing_signal['SigR(Msun/pc^2)'], label=r'Laigle2015')\n",
    "ax.fill_between(cosmos_lensing_signal['R(Mpc)'], cosmos_lensing_signal['SigR(Msun/pc^2)']+cosmos_lensing_signal['err(weights)'],\n",
    "                cosmos_lensing_signal['SigR(Msun/pc^2)']-cosmos_lensing_signal['err(weights)'], alpha=0.5)\n",
    "\n",
    "__=ax.set_xlim(xmin = 0.1, xmax = 10)\n",
    "# __=ax.set_ylim(ymin = 0.5, ymax = 200)\n",
    "\n",
    "__=ax.set_xlabel(r'$R_{\\rm p} $  $\\rm{[Mpc / h]}$', fontsize=16)\n",
    "__=ax.set_ylabel(r'$\\Delta\\Sigma(R_{\\rm p})$  $[h M_{\\odot} / {\\rm pc}^2]$', fontsize=16)\n",
    "__=ax.legend(loc='best', fontsize=13)\n",
    "__=plt.xticks(fontsize=15); plt.yticks(fontsize=15)\n",
    "\n",
    "\n",
    "plt.show()"
   ]
  },
  {
   "cell_type": "markdown",
   "metadata": {},
   "source": [
    "## what is weights error??"
   ]
  },
  {
   "cell_type": "code",
   "execution_count": 5,
   "metadata": {
    "nbpresent": {
     "id": "0fd9ca77-abd5-4c5f-9f18-df9ccc9f3cff"
    }
   },
   "outputs": [
    {
     "name": "stdout",
     "output_type": "stream",
     "text": [
      "ColDefs(\n",
      "    name = 'IDENT'; format = 'J'\n",
      "    name = 'MAG_AUTO'; format = 'E'\n",
      "    name = 'FLUX_AUTO'; format = 'E'\n",
      "    name = 'MAGERR_AUTO'; format = 'E'\n",
      "    name = 'FLUX_RADIUS'; format = 'E'\n",
      "    name = 'FLUXERR_AUTO'; format = 'E'\n",
      "    name = 'KRON_RADIUS'; format = 'E'\n",
      "    name = 'MU_MAX'; format = 'E'\n",
      "    name = 'MU_CLASS'; format = 'E'\n",
      "    name = 'CLEAN'; format = 'I'\n",
      "    name = 'GOOD'; format = 'I'\n",
      "    name = 'FLAGS'; format = 'I'\n",
      "    name = 'SN'; format = 'E'\n",
      "    name = 'SN_NON_CORR'; format = 'E'\n",
      "    name = 'FWHM_IMAGE'; format = 'E'\n",
      "    name = 'ALPHA_J2000'; format = 'D'\n",
      "    name = 'DELTA_J2000'; format = 'D'\n",
      "    name = 'X_IMAGE'; format = 'E'\n",
      "    name = 'Y_IMAGE'; format = 'E'\n",
      "    name = 'A_IMAGE'; format = 'E'\n",
      "    name = 'B_IMAGE'; format = 'E'\n",
      "    name = 'THETA_IMAGE'; format = 'E'\n",
      "    name = 'PETRO_RADIUS'; format = 'E'\n",
      "    name = 'D'; format = 'E'\n",
      "    name = 'E1_R'; format = 'E'\n",
      "    name = 'E2_R'; format = 'E'\n",
      "    name = 'E1_RU'; format = 'E'\n",
      "    name = 'E2_RU'; format = 'E'\n",
      "    name = 'GAMMA1'; format = 'E'\n",
      "    name = 'GAMMA2'; format = 'E'\n",
      "    name = 'FOCUS_MODEL'; format = 'E'\n",
      "    name = 'IXX'; format = 'E'\n",
      "    name = 'IYY'; format = 'E'\n",
      "    name = 'IXY'; format = 'E'\n",
      "    name = 'WEIGHT_FUNCT_RADIUS'; format = 'E'\n",
      "    name = 'VAR_E1'; format = 'E'\n",
      "    name = 'VAR_E2'; format = 'E'\n",
      "    name = 'BOX'; format = 'I'\n",
      "    name = 'SPECZ'; format = 'E'\n",
      "    name = 'SPECZ_MARA'; format = 'E'\n",
      "    name = 'SPECZ_CLASS'; format = 'E'\n",
      "    name = 'SPECZ_ORIGIN'; format = 'I'\n",
      "    name = 'GOOD_SPECZ'; format = 'I'\n",
      "    name = 'SPECZ_BL_AGN'; format = 'I'\n",
      "    name = 'FORS2_OBJECT_FLAG'; format = 'J'\n",
      "    name = 'ZEST_TYPE'; format = 'I'\n",
      "    name = 'ZEST_BULGE'; format = 'I'\n",
      "    name = 'ZEST_IRREGULARITY'; format = 'I'\n",
      "    name = 'ZEST_ELONGATION'; format = 'E'\n",
      "    name = 'ZEST_GINI'; format = 'E'\n",
      "    name = 'ZEST_M20'; format = 'E'\n",
      "    name = 'ZEST_CONCENTRATION'; format = 'E'\n",
      "    name = 'ZEST_ASYMMETRY'; format = 'E'\n",
      "    name = 'BULGE'; format = 'I'\n",
      "    name = 'KT'; format = 'E'\n",
      "    name = 'OLD_ZPHOT'; format = 'E'\n",
      "    name = 'OLD_GOOD_ZPHOT'; format = 'E'\n",
      "    name = 'HL_KPC'; format = 'E'\n",
      "    name = 'CHANDRA_GOOD'; format = 'E'\n",
      "    name = 'CHANDRA_AGN'; format = 'E'\n",
      "    name = 'CHANDRA_LX_HARD'; format = 'E'\n",
      "    name = 'CHANDRA_LX_SOFT'; format = 'E'\n",
      "    name = 'CHANDRA_LX_FULL'; format = 'E'\n",
      "    name = 'CHANDRA_ZETA'; format = 'E'\n",
      "    name = 'CHANDRA_ZSPEC'; format = 'E'\n",
      "    name = 'CHANDRA_CLASSZSPEC'; format = 'E'\n",
      "    name = 'CHANDRA_MODEL'; format = 'E'\n",
      "    name = 'CHANDRA_TYPE'; format = 'I'\n",
      "    name = 'CHANDRA_LUSSO_MASS'; format = 'E'\n",
      "    name = 'XMM_GOOD'; format = 'E'\n",
      "    name = 'XMM_AGN'; format = 'E'\n",
      "    name = 'XMM_LX_FULL'; format = 'E'\n",
      "    name = 'XMM_LX_SOFT'; format = 'E'\n",
      "    name = 'XMM_ZETA'; format = 'E'\n",
      "    name = 'XMM_ZSPEC'; format = 'E'\n",
      "    name = 'XMM_CLASSZSPEC'; format = 'E'\n",
      "    name = 'XMM_MODEL'; format = 'E'\n",
      "    name = 'XMM_TYPE'; format = 'I'\n",
      "    name = 'XMM_LUSSO_MASS'; format = 'E'\n",
      "    name = 'AGN_GOOD'; format = 'E'\n",
      "    name = 'AGN_Z'; format = 'E'\n",
      "    name = 'AGN_TYPE'; format = 'E'\n",
      "    name = 'AGN_LX'; format = 'E'\n",
      "    name = 'AGN_LX_SOFT'; format = 'E'\n",
      "    name = 'AGN_LX_HARD'; format = 'E'\n",
      "    name = 'AGN_LUSSO_MASS'; format = 'E'\n",
      "    name = 'AGN_FOR_LENSING'; format = 'I'\n",
      "    name = 'AGN_ZSPEC'; format = 'E'\n",
      "    name = 'BOSS_LRG'; format = 'I'\n",
      "    name = 'KEVIN_MSTAR'; format = 'E'\n",
      "    name = 'KEVIN_MSTAR2'; format = 'E'\n",
      "    name = 'KEVIN_MASSERR'; format = 'E'\n",
      "    name = 'KEVIN_QUENCH_FLAG'; format = 'I'\n",
      "    name = 'MVIR'; format = 'E'\n",
      "    name = 'TYPE2_ZPHOT_MARA'; format = 'E'\n",
      "    name = 'PHOTOZ_ORDER'; format = 'J'\n",
      "    name = 'PHOTOZ_NON_COMB'; format = 'E'\n",
      "    name = 'PHOTOZ_NON_COMB_LOW_68'; format = 'E'\n",
      "    name = 'PHOTOZ_NON_COMB_HIGH_68'; format = 'E'\n",
      "    name = 'FLAG_PETER'; format = 'I'\n",
      "    name = 'FLAG_HJMCC'; format = 'I'\n",
      "    name = 'FLAG_COSMOS'; format = 'I'\n",
      "    name = 'FLAG_DEEP'; format = 'I'\n",
      "    name = 'FLAG_SHALLOW'; format = 'I'\n",
      "    name = 'ZPHOT'; format = 'E'\n",
      "    name = 'TYPE'; format = 'I'\n",
      "    name = 'ZPDF'; format = 'E'\n",
      "    name = 'PHOTZ_LOW_68'; format = 'E'\n",
      "    name = 'PHOTZ_HIGH_68'; format = 'E'\n",
      "    name = 'ZMINCHI2'; format = 'E'\n",
      "    name = 'ZP2'; format = 'E'\n",
      "    name = 'MNUV_MR'; format = 'E'\n",
      "    name = 'CLASS'; format = 'I'\n",
      "    name = 'MASS_MED'; format = 'E'\n",
      "    name = 'MASS_MED_MIN68'; format = 'E'\n",
      "    name = 'MASS_MED_MAX68'; format = 'E'\n",
      "    name = 'MASS_BEST'; format = 'E'\n",
      "    name = 'MATCH_S'; format = 'I'\n",
      ")\n"
     ]
    }
   ],
   "source": [
    "dwarf_sample_data  = fits.open(dwarf_sample_file)[1].data\n",
    "print dwarf_sample_data.columns\n",
    "dwarf_masses = dwarf_sample_data['mass_med']"
   ]
  },
  {
   "cell_type": "code",
   "execution_count": 35,
   "metadata": {
    "nbpresent": {
     "id": "31bf0025-6833-4f80-adb4-2118590febc6"
    }
   },
   "outputs": [
    {
     "data": {
      "image/png": "[encoded data removed]",
      "text/plain": [
       "<Figure size 432x288 with 1 Axes>"
      ]
     },
     "metadata": {},
     "output_type": "display_data"
    }
   ],
   "source": [
    "plt.hist(dwarf_masses)\n",
    "plt.show()"
   ]
  },
  {
   "cell_type": "code",
   "execution_count": 36,
   "metadata": {
    "nbpresent": {
     "id": "2bcd70f6-4a93-4552-baae-4e83bb549ef1"
    }
   },
   "outputs": [
    {
     "data": {
      "image/png": "[encoded data removed]",
      "text/plain": [
       "<Figure size 432x288 with 1 Axes>"
      ]
     },
     "metadata": {},
     "output_type": "display_data"
    }
   ],
   "source": [
    "plt.hist(np.log10(model.mock.galaxy_table['stellar_mass']))\n",
    "plt.show()"
   ]
  },
  {
   "cell_type": "markdown",
   "metadata": {
    "collapsed": true,
    "nbpresent": {
     "id": "c439bb26-4727-4842-8444-0f277123cc9c"
    }
   },
   "source": [
    "## Create sample with same distribution of $M_*$ as dwarf sample"
   ]
  },
  {
   "cell_type": "code",
   "execution_count": 37,
   "metadata": {
    "nbpresent": {
     "id": "7d245c51-02da-4b89-a99a-30520391e2ed"
    }
   },
   "outputs": [
    {
     "name": "stdout",
     "output_type": "stream",
     "text": [
      "6876\n",
      "7.73324 8.99998\n"
     ]
    }
   ],
   "source": [
    "print len(dwarf_masses)\n",
    "print min(dwarf_masses), max(dwarf_masses)"
   ]
  },
  {
   "cell_type": "code",
   "execution_count": 58,
   "metadata": {
    "nbpresent": {
     "id": "0cb30008-65df-4467-abee-c4eb85603367"
    }
   },
   "outputs": [
    {
     "name": "stdout",
     "output_type": "stream",
     "text": [
      "1190735\n"
     ]
    },
    {
     "data": {
      "image/png": "[encoded data removed]",
      "text/plain": [
       "<Figure size 432x288 with 1 Axes>"
      ]
     },
     "metadata": {},
     "output_type": "display_data"
    }
   ],
   "source": [
    "#galaxy table limited to mass range of dwarfs\n",
    "mock_galaxies = model.mock.galaxy_table\n",
    "mock_galaxies = mock_galaxies['galid', 'x', 'y', 'z', 'stellar_mass']\n",
    "mock_galaxies = mock_galaxies[(np.log10(mock_galaxies['stellar_mass'])>=min(dwarf_masses)) & (np.log10(mock_galaxies['stellar_mass'])<9.0)]\n",
    "\n",
    "print len(mock_galaxies)\n",
    "plt.hist(np.log10(mock_galaxies['stellar_mass']))\n",
    "plt.show()"
   ]
  },
  {
   "cell_type": "code",
   "execution_count": 59,
   "metadata": {},
   "outputs": [
    {
     "data": {
      "text/html": [
       "&lt;Table length=1190735&gt;\n",
       "<table id=\"table112947401808\" class=\"table-striped table-bordered table-condensed\">\n",
       "<thead><tr><th>galid</th><th>x</th><th>y</th><th>z</th><th>stellar_mass</th></tr></thead>\n",
       "<thead><tr><th>int64</th><th>float32</th><th>float32</th><th>float32</th><th>float32</th></tr></thead>\n",
       "<tr><td>5</td><td>35.8458</td><td>43.3429</td><td>18.4178</td><td>5.23951e+08</td></tr>\n",
       "<tr><td>19</td><td>36.8677</td><td>43.2258</td><td>18.471</td><td>3.61312e+08</td></tr>\n",
       "<tr><td>47</td><td>36.1053</td><td>43.1933</td><td>18.2719</td><td>6.88885e+08</td></tr>\n",
       "<tr><td>51</td><td>36.7186</td><td>42.7676</td><td>18.0709</td><td>1.4837e+08</td></tr>\n",
       "<tr><td>59</td><td>35.3761</td><td>43.2873</td><td>18.4724</td><td>5.03709e+08</td></tr>\n",
       "<tr><td>72</td><td>36.334</td><td>42.7131</td><td>18.1153</td><td>5.99555e+07</td></tr>\n",
       "<tr><td>80</td><td>35.2765</td><td>43.4522</td><td>18.1303</td><td>1.29171e+08</td></tr>\n",
       "<tr><td>92</td><td>36.7234</td><td>43.4057</td><td>19.1162</td><td>5.62571e+08</td></tr>\n",
       "<tr><td>151</td><td>36.0071</td><td>43.3904</td><td>19.1877</td><td>7.91847e+07</td></tr>\n",
       "<tr><td>154</td><td>35.2847</td><td>43.0203</td><td>18.0192</td><td>5.68873e+07</td></tr>\n",
       "<tr><td>...</td><td>...</td><td>...</td><td>...</td><td>...</td></tr>\n",
       "<tr><td>12937957</td><td>243.873</td><td>206.705</td><td>236.162</td><td>6.56779e+07</td></tr>\n",
       "<tr><td>12938122</td><td>242.995</td><td>219.31</td><td>222.977</td><td>7.35673e+07</td></tr>\n",
       "<tr><td>12938250</td><td>205.02</td><td>205.129</td><td>232.336</td><td>1.88156e+08</td></tr>\n",
       "<tr><td>12938405</td><td>239.979</td><td>208.789</td><td>221.444</td><td>6.79182e+07</td></tr>\n",
       "<tr><td>12938592</td><td>240.993</td><td>222.556</td><td>229.04</td><td>6.38785e+07</td></tr>\n",
       "<tr><td>12938766</td><td>223.294</td><td>207.564</td><td>206.847</td><td>5.76068e+07</td></tr>\n",
       "<tr><td>12938784</td><td>238.594</td><td>212.24</td><td>225.667</td><td>7.24973e+07</td></tr>\n",
       "<tr><td>12939148</td><td>247.116</td><td>225.227</td><td>205.215</td><td>5.52856e+07</td></tr>\n",
       "<tr><td>12939184</td><td>224.919</td><td>226.027</td><td>219.611</td><td>3.24297e+08</td></tr>\n",
       "<tr><td>12939356</td><td>218.92</td><td>227.061</td><td>244.862</td><td>5.80343e+07</td></tr>\n",
       "</table>"
      ],
      "text/plain": [
       "<Table length=1190735>\n",
       " galid      x       y       z    stellar_mass\n",
       " int64   float32 float32 float32   float32   \n",
       "-------- ------- ------- ------- ------------\n",
       "       5 35.8458 43.3429 18.4178  5.23951e+08\n",
       "      19 36.8677 43.2258  18.471  3.61312e+08\n",
       "      47 36.1053 43.1933 18.2719  6.88885e+08\n",
       "      51 36.7186 42.7676 18.0709   1.4837e+08\n",
       "      59 35.3761 43.2873 18.4724  5.03709e+08\n",
       "      72  36.334 42.7131 18.1153  5.99555e+07\n",
       "      80 35.2765 43.4522 18.1303  1.29171e+08\n",
       "      92 36.7234 43.4057 19.1162  5.62571e+08\n",
       "     151 36.0071 43.3904 19.1877  7.91847e+07\n",
       "     154 35.2847 43.0203 18.0192  5.68873e+07\n",
       "     ...     ...     ...     ...          ...\n",
       "12937957 243.873 206.705 236.162  6.56779e+07\n",
       "12938122 242.995  219.31 222.977  7.35673e+07\n",
       "12938250  205.02 205.129 232.336  1.88156e+08\n",
       "12938405 239.979 208.789 221.444  6.79182e+07\n",
       "12938592 240.993 222.556  229.04  6.38785e+07\n",
       "12938766 223.294 207.564 206.847  5.76068e+07\n",
       "12938784 238.594  212.24 225.667  7.24973e+07\n",
       "12939148 247.116 225.227 205.215  5.52856e+07\n",
       "12939184 224.919 226.027 219.611  3.24297e+08\n",
       "12939356  218.92 227.061 244.862  5.80343e+07"
      ]
     },
     "execution_count": 59,
     "metadata": {},
     "output_type": "execute_result"
    }
   ],
   "source": [
    "mock_galaxies"
   ]
  },
  {
   "cell_type": "code",
   "execution_count": 79,
   "metadata": {},
   "outputs": [
    {
     "data": {
      "text/plain": [
       "[[5, 35.845791, 43.342949, 18.417801, 5.2395082e+08],\n",
       " [19, 36.867691, 43.225811, 18.470961, 3.6131194e+08],\n",
       " [47, 36.105289, 43.193329, 18.27194, 6.8888518e+08],\n",
       " [51, 36.71859, 42.767578, 18.07091, 1.4836974e+08],\n",
       " [59, 35.376099, 43.28727, 18.472361, 5.0370851e+08],\n",
       " [72, 36.334, 42.713139, 18.11528, 59955472.0],\n",
       " [80, 35.276539, 43.45219, 18.13028, 1.2917127e+08],\n",
       " [92, 36.723351, 43.405708, 19.11618, 5.6257094e+08],\n",
       " [151, 36.007061, 43.3904, 19.187679, 79184696.0],\n",
       " [154, 35.284691, 43.02029, 18.01919, 56887252.0]]"
      ]
     },
     "execution_count": 79,
     "metadata": {},
     "output_type": "execute_result"
    }
   ],
   "source": [
    "[list(a) for a in mock_galaxies[:10]]"
   ]
  },
  {
   "cell_type": "code",
   "execution_count": 70,
   "metadata": {},
   "outputs": [
    {
     "name": "stdout",
     "output_type": "stream",
     "text": [
      "###############\n",
      "peak memory: 1205.06 MiB, increment: 12.88 MiB\n",
      "peak memory: 1205.06 MiB, increment: 0.00 MiB\n",
      "peak memory: 1205.06 MiB, increment: 0.00 MiB\n",
      "peak memory: 1205.06 MiB, increment: 0.00 MiB\n",
      "###############\n",
      "peak memory: 1205.06 MiB, increment: 0.00 MiB\n",
      "peak memory: 1205.06 MiB, increment: 0.00 MiB\n",
      "peak memory: 1205.06 MiB, increment: 0.00 MiB\n",
      "peak memory: 1205.06 MiB, increment: 0.00 MiB\n",
      "###############\n",
      "peak memory: 1205.06 MiB, increment: 0.00 MiB\n",
      "peak memory: 1205.06 MiB, increment: 0.00 MiB\n",
      "peak memory: 1205.07 MiB, increment: 0.00 MiB\n",
      "peak memory: 1205.07 MiB, increment: 0.00 MiB\n",
      "###############\n",
      "peak memory: 1205.07 MiB, increment: 0.00 MiB\n",
      "peak memory: 1205.07 MiB, increment: 0.00 MiB\n",
      "peak memory: 1205.07 MiB, increment: 0.00 MiB\n",
      "peak memory: 1205.07 MiB, increment: 0.00 MiB\n",
      "###############\n",
      "peak memory: 1205.07 MiB, increment: 0.00 MiB\n",
      "peak memory: 1205.07 MiB, increment: 0.00 MiB\n",
      "peak memory: 1205.07 MiB, increment: 0.00 MiB\n",
      "peak memory: 1205.07 MiB, increment: 0.00 MiB\n",
      "###############\n",
      "peak memory: 1205.07 MiB, increment: 0.00 MiB\n",
      "peak memory: 1205.07 MiB, increment: 0.00 MiB\n",
      "peak memory: 1205.07 MiB, increment: 0.00 MiB\n",
      "peak memory: 1205.07 MiB, increment: 0.00 MiB\n",
      "###############\n",
      "peak memory: 1205.07 MiB, increment: 0.00 MiB\n",
      "peak memory: 1205.07 MiB, increment: 0.00 MiB\n",
      "peak memory: 1205.07 MiB, increment: 0.00 MiB\n",
      "peak memory: 1205.07 MiB, increment: 0.00 MiB\n",
      "###############\n",
      "peak memory: 1205.07 MiB, increment: 0.00 MiB\n",
      "peak memory: 1205.07 MiB, increment: 0.00 MiB\n",
      "peak memory: 1205.07 MiB, increment: 0.00 MiB\n",
      "peak memory: 1205.07 MiB, increment: 0.00 MiB\n",
      "###############\n",
      "peak memory: 1205.07 MiB, increment: 0.00 MiB\n",
      "peak memory: 1205.07 MiB, increment: 0.00 MiB\n",
      "peak memory: 1205.07 MiB, increment: 0.00 MiB\n",
      "peak memory: 1205.07 MiB, increment: 0.00 MiB\n",
      "###############\n",
      "peak memory: 1205.07 MiB, increment: 0.00 MiB\n",
      "peak memory: 1205.07 MiB, increment: 0.00 MiB\n",
      "peak memory: 1205.07 MiB, increment: 0.00 MiB\n",
      "peak memory: 1205.07 MiB, increment: 0.00 MiB\n",
      "CPU times: user 50.7 s, sys: 5.58 s, total: 56.3 s\n",
      "Wall time: 1min 2s\n"
     ]
    }
   ],
   "source": [
    "%%time\n",
    "\n",
    "def find_nearest_index(array,value):\n",
    "    idx = (np.abs(np.array(array)-value)).argmin()\n",
    "    \n",
    "    return idx\n",
    "\n",
    "\n",
    "subsample=[]\n",
    "copy_mock_galaxies = list(mock_galaxies)\n",
    "gal_masses=[g[-1] for g in copy_mock_galaxies]\n",
    "\n",
    "for dwarf in dwarf_masses[:10]:\n",
    "\n",
    "    \n",
    "    print '###############'\n",
    "    #find index of mock galaxy with mass closes to dwarf\n",
    "    %memit index = find_nearest_index(np.log10(gal_masses), dwarf)\n",
    "\n",
    "    # append to subsample\n",
    "    %memit subsample.append(copy_mock_galaxies[index])\n",
    "\n",
    "    #do not replace in array of mock galaxy masses \n",
    "    #%memit copy_mock_galaxies = np.delete(copy_mock_galaxies, index)\n",
    "    %memit del copy_mock_galaxies[index]\n",
    "    %memit del gal_masses[index]"
   ]
  },
  {
   "cell_type": "code",
   "execution_count": 71,
   "metadata": {},
   "outputs": [
    {
     "name": "stdout",
     "output_type": "stream",
     "text": [
      "###############\n",
      "peak memory: 1212.24 MiB, increment: 24.14 MiB\n",
      "peak memory: 1192.53 MiB, increment: 0.00 MiB\n",
      "peak memory: 1192.53 MiB, increment: 0.00 MiB\n",
      "peak memory: 1192.53 MiB, increment: 0.00 MiB\n",
      "###############\n",
      "peak memory: 1214.50 MiB, increment: 21.97 MiB\n",
      "peak memory: 1192.53 MiB, increment: 0.00 MiB\n",
      "peak memory: 1192.53 MiB, increment: 0.00 MiB\n",
      "peak memory: 1192.53 MiB, increment: 0.00 MiB\n",
      "###############\n",
      "peak memory: 1211.43 MiB, increment: 18.90 MiB\n",
      "peak memory: 1192.53 MiB, increment: 0.00 MiB\n",
      "peak memory: 1192.53 MiB, increment: 0.00 MiB\n",
      "peak memory: 1192.53 MiB, increment: 0.00 MiB\n",
      "###############\n",
      "peak memory: 1214.42 MiB, increment: 21.89 MiB\n",
      "peak memory: 1192.53 MiB, increment: 0.00 MiB\n",
      "peak memory: 1192.53 MiB, increment: 0.00 MiB\n",
      "peak memory: 1192.53 MiB, increment: 0.00 MiB\n",
      "###############\n",
      "peak memory: 1212.13 MiB, increment: 19.60 MiB\n",
      "peak memory: 1192.61 MiB, increment: 0.00 MiB\n",
      "peak memory: 1192.61 MiB, increment: 0.00 MiB\n",
      "peak memory: 1192.61 MiB, increment: 0.00 MiB\n",
      "###############\n",
      "peak memory: 1214.20 MiB, increment: 21.59 MiB\n",
      "peak memory: 1192.61 MiB, increment: 0.00 MiB\n",
      "peak memory: 1192.61 MiB, increment: 0.00 MiB\n",
      "peak memory: 1192.61 MiB, increment: 0.00 MiB\n",
      "###############\n",
      "peak memory: 1216.41 MiB, increment: 23.80 MiB\n",
      "peak memory: 1192.61 MiB, increment: 0.00 MiB\n",
      "peak memory: 1192.61 MiB, increment: 0.00 MiB\n",
      "peak memory: 1192.61 MiB, increment: 0.00 MiB\n",
      "###############\n",
      "peak memory: 1214.89 MiB, increment: 22.28 MiB\n",
      "peak memory: 1192.61 MiB, increment: 0.00 MiB\n",
      "peak memory: 1192.61 MiB, increment: 0.00 MiB\n",
      "peak memory: 1192.61 MiB, increment: 0.00 MiB\n",
      "###############\n",
      "peak memory: 1211.84 MiB, increment: 19.23 MiB\n",
      "peak memory: 1192.61 MiB, increment: 0.00 MiB\n",
      "peak memory: 1192.61 MiB, increment: 0.00 MiB\n",
      "peak memory: 1192.61 MiB, increment: 0.00 MiB\n",
      "###############\n",
      "peak memory: 1216.14 MiB, increment: 23.53 MiB\n",
      "peak memory: 1192.61 MiB, increment: 0.00 MiB\n",
      "peak memory: 1192.61 MiB, increment: 0.00 MiB\n",
      "peak memory: 1192.61 MiB, increment: 0.00 MiB\n",
      "CPU times: user 53.7 s, sys: 5.59 s, total: 59.3 s\n",
      "Wall time: 1min 5s\n"
     ]
    }
   ],
   "source": [
    "# %%time\n",
    "# def find_nearest_index(array,value):\n",
    "#     differences = [t-value for t in array]\n",
    "    \n",
    "#     return differences.index(min(differences))\n",
    "\n",
    "# subsample=[]\n",
    "# copy_mock_galaxies = list(mock_galaxies)\n",
    "# gal_masses=[g[-1] for g in copy_mock_galaxies]\n",
    "\n",
    "# for dwarf in dwarf_masses[:10]:\n",
    "\n",
    "    \n",
    "#     print '###############'\n",
    "#     #find index of mock galaxy with mass closes to dwarf\n",
    "#     %memit index = find_nearest_index(np.log10(gal_masses), dwarf)\n",
    "\n",
    "#     # append to subsample\n",
    "#     %memit subsample.append(copy_mock_galaxies[index])\n",
    "\n",
    "#     #do not replace in array of mock galaxy masses \n",
    "#     #%memit copy_mock_galaxies = np.delete(copy_mock_galaxies, index)\n",
    "#     %memit del copy_mock_galaxies[index]\n",
    "#     %memit del gal_masses[index]\n",
    "\n"
   ]
  },
  {
   "cell_type": "code",
   "execution_count": null,
   "metadata": {},
   "outputs": [],
   "source": [
    "def find_nearest_index(array,value):\n",
    "    idx = (np.abs(np.array(array)-value)).argmin()\n",
    "    \n",
    "    return idx\n",
    "\n",
    "\n",
    "subsample=[]\n",
    "copy_mock_galaxies = list(mock_galaxies)\n",
    "gal_masses=[g[-1] for g in copy_mock_galaxies]"
   ]
  },
  {
   "cell_type": "code",
   "execution_count": null,
   "metadata": {
    "nbpresent": {
     "id": "07c22b96-4b61-48d4-aa76-a3db29b1b40d"
    }
   },
   "outputs": [
    {
     "name": "stdout",
     "output_type": "stream",
     "text": [
      "0\n",
      "8.34463\n",
      "8.54234\n",
      "8.05947\n",
      "8.44933\n",
      "8.49875\n",
      "8.96773\n",
      "8.22163\n",
      "8.2177\n",
      "8.57805\n",
      "8.801\n",
      "8.53579\n",
      "8.15993\n",
      "8.4536\n",
      "8.89182\n",
      "8.96603\n",
      "8.1984\n",
      "8.6858\n",
      "8.87099\n",
      "8.47496\n",
      "8.84171\n",
      "8.46863\n",
      "8.0032\n",
      "8.7043\n",
      "8.70386\n",
      "7.98446\n",
      "8.21807\n",
      "8.44695\n",
      "8.95177\n",
      "8.58067\n",
      "8.38835\n",
      "8.62528\n",
      "7.90337\n",
      "8.4899\n",
      "8.0197\n",
      "8.20226\n",
      "8.59608\n",
      "8.98113\n",
      "8.37229\n",
      "8.38156\n",
      "8.29772\n",
      "8.60971\n",
      "8.24669\n",
      "8.71443\n",
      "8.08236\n",
      "8.61166\n",
      "8.01013\n",
      "8.93786\n",
      "8.61148\n",
      "8.94224\n",
      "8.09933\n",
      "8.48478\n",
      "8.91673\n",
      "8.52965\n",
      "8.71793\n",
      "8.75914\n",
      "8.44939\n",
      "8.47905\n",
      "8.31385\n",
      "8.39342\n",
      "8.27933\n",
      "8.38656\n",
      "8.49251\n",
      "8.98078\n",
      "8.46024\n",
      "8.90134\n",
      "8.37353\n",
      "8.33207\n",
      "8.58315\n",
      "8.37952\n",
      "8.31335\n",
      "8.11051\n",
      "8.45514\n",
      "8.98765\n",
      "8.53462\n",
      "8.62438\n",
      "8.66306\n",
      "8.3123\n",
      "8.38124\n",
      "8.96872\n",
      "8.50373\n",
      "8.867\n",
      "8.89348\n",
      "8.42087\n",
      "8.50355\n",
      "8.32745\n",
      "8.2957\n",
      "8.59034\n",
      "8.90594\n",
      "8.64289\n",
      "8.42456\n",
      "8.49621\n",
      "8.85088\n",
      "8.53624\n",
      "8.803\n",
      "8.61509\n",
      "8.29269\n",
      "8.81161\n",
      "8.54467\n",
      "8.97923\n",
      "8.1467\n",
      "8.59644\n",
      "8.59714\n",
      "8.98939\n",
      "8.46566\n",
      "8.47354\n",
      "8.74147\n",
      "8.54246\n",
      "8.26616\n",
      "8.75231\n",
      "8.7535\n",
      "8.28877\n",
      "8.45523\n",
      "8.33399\n",
      "8.20011\n",
      "8.54334\n",
      "8.72418\n",
      "8.27786\n",
      "8.91034\n",
      "8.44262\n",
      "8.86038\n",
      "8.18484\n",
      "8.41389\n",
      "8.87286\n",
      "8.45586\n",
      "8.60976\n",
      "8.25197\n",
      "8.98458\n",
      "8.19531\n",
      "8.43997\n",
      "8.92427\n",
      "8.60054\n",
      "8.14019\n",
      "7.89901\n",
      "8.63907\n",
      "8.14646\n",
      "8.75226\n",
      "8.46136\n",
      "8.76209\n",
      "8.28512\n",
      "8.77922\n",
      "8.76859\n",
      "8.84821\n",
      "8.82872\n",
      "8.66235\n",
      "8.75452\n",
      "8.32993\n",
      "8.57022\n",
      "8.24892\n",
      "8.94535\n",
      "8.76555\n",
      "8.33841\n",
      "8.06911\n",
      "8.8636\n",
      "8.54629\n",
      "8.24898\n",
      "8.87916\n",
      "8.89465\n",
      "7.96026\n",
      "8.62574\n",
      "8.34765\n",
      "8.18324\n",
      "8.16618\n",
      "8.85241\n",
      "8.21013\n",
      "7.96331\n",
      "8.24083\n",
      "8.74861\n",
      "7.79369\n",
      "8.43954\n",
      "8.72983\n",
      "8.38756\n",
      "8.29818\n",
      "8.44441\n",
      "8.51468\n",
      "8.71069\n",
      "8.41478\n",
      "8.51336\n",
      "8.19987\n",
      "8.99858\n",
      "8.91348\n",
      "8.84801\n",
      "8.90585\n",
      "8.42418\n",
      "8.64704\n",
      "7.95522\n",
      "8.71206\n",
      "8.65986\n",
      "8.45963\n",
      "8.81279\n",
      "8.92283\n",
      "8.86277\n",
      "8.4626\n",
      "8.33241\n",
      "8.94462\n",
      "8.94313\n",
      "8.6039\n",
      "8.86455\n",
      "8.86938\n",
      "8.9463\n",
      "8.26981\n",
      "8.29989\n",
      "8.39443\n",
      "8.19054\n",
      "8.55753\n",
      "8.55306\n",
      "8.45079\n",
      "8.68227\n",
      "8.35178\n",
      "8.53132\n",
      "8.82988\n",
      "8.00935\n",
      "8.92286\n",
      "8.34471\n",
      "8.29275\n",
      "8.4174\n",
      "8.62193\n",
      "8.56804\n",
      "8.86614\n",
      "8.66351\n",
      "8.85015\n",
      "8.95373\n",
      "8.53465\n",
      "8.27075\n",
      "7.98525\n",
      "8.23613\n",
      "8.699\n",
      "8.35491\n",
      "8.03775\n",
      "8.5482\n",
      "8.41427\n",
      "8.49224\n",
      "8.41501\n",
      "8.95909\n",
      "8.41054\n",
      "8.55617\n",
      "8.57464\n",
      "8.85217\n",
      "8.44473\n",
      "8.90307\n",
      "8.73698\n",
      "8.82767\n",
      "8.46059\n",
      "8.22802\n",
      "8.92664\n",
      "7.92893\n",
      "8.01034\n",
      "8.79184\n",
      "8.18158\n",
      "8.89492\n",
      "8.29819\n",
      "8.73586\n",
      "8.60971\n",
      "8.51382\n",
      "8.7989\n",
      "8.86089\n",
      "8.68612\n",
      "8.03101\n",
      "8.94194\n",
      "8.20174\n",
      "8.96371\n",
      "8.3569\n",
      "8.71214\n",
      "8.67378\n",
      "8.96813\n",
      "8.91772\n",
      "8.20478\n",
      "8.33574\n",
      "8.43905\n",
      "8.60672\n",
      "8.99521\n",
      "8.4141\n",
      "8.34661\n",
      "8.71133\n",
      "8.95823\n",
      "8.87271\n",
      "8.91435\n",
      "8.6069\n",
      "8.16569\n",
      "8.61925\n",
      "8.51231\n",
      "8.59748\n",
      "8.6226\n",
      "8.42599\n",
      "8.42808\n",
      "8.87292\n",
      "8.32368\n",
      "8.49425\n",
      "8.31133\n",
      "8.48602\n",
      "8.89349\n",
      "7.83893\n",
      "8.87381\n",
      "8.5917\n",
      "8.91206\n",
      "8.94477\n",
      "7.94433\n",
      "8.27699\n",
      "8.73386\n",
      "8.22708\n",
      "8.60406\n",
      "8.90719\n",
      "8.8089\n",
      "8.12727\n",
      "8.29723\n",
      "8.5141\n",
      "8.98158\n",
      "8.92154\n",
      "8.66429\n",
      "8.92499\n",
      "8.87134\n",
      "8.40591\n",
      "8.58224\n",
      "8.68881\n",
      "7.90765\n",
      "8.18741\n",
      "8.3991\n",
      "8.6045\n",
      "8.0139\n",
      "8.15318\n",
      "8.39939\n",
      "8.61047\n",
      "8.39834\n",
      "8.82275\n",
      "8.30266\n",
      "8.67299\n",
      "8.80899\n",
      "8.3249\n",
      "8.25954\n",
      "7.99173\n",
      "8.61869\n",
      "8.25465\n",
      "8.9758\n",
      "8.93012\n",
      "8.74777\n",
      "8.70378\n",
      "8.5061\n",
      "8.51297\n",
      "8.45064\n",
      "8.47997\n",
      "8.60963\n",
      "8.43905\n",
      "8.88279\n",
      "8.58173\n",
      "8.45199\n",
      "8.59814\n",
      "7.84862\n",
      "8.91352\n",
      "8.11333\n",
      "8.88517\n",
      "8.65485\n",
      "8.44309\n",
      "8.81024\n",
      "8.08581\n",
      "8.0785\n",
      "8.60039\n",
      "8.08684\n",
      "8.39321\n",
      "8.50494\n",
      "8.98874\n",
      "8.76788\n",
      "8.64574\n",
      "7.92347\n",
      "8.64131\n",
      "8.64951\n",
      "8.84701\n",
      "8.15475\n",
      "8.58842\n",
      "7.84832\n",
      "8.57602\n",
      "8.02801\n",
      "8.58767\n",
      "8.25349\n",
      "8.58617\n",
      "8.02182\n",
      "8.93058\n",
      "8.64586\n",
      "8.50621\n",
      "8.51804\n"
     ]
    }
   ],
   "source": [
    "subsample=[]\n",
    "copy_mock_galaxies = np.copy(mock_galaxies)\n",
    "\n",
    "for i in range(1):\n",
    "    print i\n",
    "    \n",
    "    for dwarf in dwarf_masses:\n",
    "    \n",
    "        #find index of mock galaxy with mass closes to dwarf\n",
    "        index = find_nearest_index(np.log10(copy_mock_galaxies['stellar_mass']), dwarf)\n",
    "\n",
    "        # append to subsample\n",
    "        subsample.append(copy_mock_galaxies[index])\n",
    "\n",
    "        #do not replace in array of mock galaxy masses \n",
    "        copy_mock_galaxies = np.delete(copy_mock_galaxies, index)"
   ]
  },
  {
   "cell_type": "code",
   "execution_count": 113,
   "metadata": {
    "nbpresent": {
     "id": "127df191-eb86-4da3-9151-911104c41088"
    }
   },
   "outputs": [
    {
     "name": "stdout",
     "output_type": "stream",
     "text": [
      "68760 1122185 1190945\n"
     ]
    }
   ],
   "source": [
    "print len(subsample), len(copy_mock_galaxies), len(mock_galaxies)"
   ]
  },
  {
   "cell_type": "code",
   "execution_count": 115,
   "metadata": {
    "nbpresent": {
     "id": "9d07b42d-9712-44d7-bab7-b51161b6e3a2"
    }
   },
   "outputs": [
    {
     "data": {
      "text/plain": [
       "Ks_2sampResult(statistic=0.00058173356602675419, pvalue=0.99999999999999978)"
      ]
     },
     "execution_count": 115,
     "metadata": {},
     "output_type": "execute_result"
    }
   ],
   "source": [
    "#check that they are indistinguishable\n",
    "from scipy.stats import anderson_ksamp, ks_2samp\n",
    "\n",
    "anderson_ksamp([subsample,dwarf_masses])\n",
    "ks_2samp(subsample,dwarf_masses)"
   ]
  },
  {
   "cell_type": "code",
   "execution_count": 125,
   "metadata": {
    "nbpresent": {
     "id": "5fc98d93-4be8-4945-9986-9f54ddf5b209"
    }
   },
   "outputs": [
    {
     "data": {
      "image/png": "[encoded data removed]",
      "text/plain": [
       "<matplotlib.figure.Figure at 0x116986d10>"
      ]
     },
     "metadata": {},
     "output_type": "display_data"
    }
   ],
   "source": [
    "plt.hist(dwarf_masses, bins=100, histtype='step', normed=True)\n",
    "plt.hist(subsample, bins=100, histtype='step', normed=True)\n",
    "plt.show()"
   ]
  },
  {
   "cell_type": "markdown",
   "metadata": {
    "collapsed": true
   },
   "source": [
    "### 5/8: trying to figure out how to decrese the memory enough to run"
   ]
  },
  {
   "cell_type": "code",
   "execution_count": 80,
   "metadata": {},
   "outputs": [
    {
     "name": "stdout",
     "output_type": "stream",
     "text": [
      "0\n"
     ]
    }
   ],
   "source": [
    "subsample=[]\n",
    "copy_mock_galaxies = [list(a) for a in mock_galaxies[:10]]\n",
    "gal_masses=[g[-1] for g in copy_mock_galaxies]\n",
    "\n",
    "for i in range(1):\n",
    "    print i\n",
    "\n",
    "    for dwarf in dwarf_masses[:5]:\n",
    "\n",
    "        #find index of mock galaxy with mass closes to dwarf\n",
    "        index = find_nearest_index(np.log10(gal_masses), dwarf)\n",
    "\n",
    "        # append to subsample\n",
    "        subsample.append(copy_mock_galaxies[index])\n",
    "\n",
    "        #do not replace in array of mock galaxy masses \n",
    "        del copy_mock_galaxies[index]\n",
    "        del gal_masses[index]"
   ]
  },
  {
   "cell_type": "code",
   "execution_count": 86,
   "metadata": {},
   "outputs": [],
   "source": [
    "subsample_masses= [np.log10(s[-1]) for s in subsample]"
   ]
  },
  {
   "cell_type": "code",
   "execution_count": 87,
   "metadata": {},
   "outputs": [
    {
     "data": {
      "text/plain": [
       "[7.7550149, 7.7778287, 7.8986411, 8.111166, 8.1713457]"
      ]
     },
     "execution_count": 87,
     "metadata": {},
     "output_type": "execute_result"
    }
   ],
   "source": [
    "subsample_masses"
   ]
  },
  {
   "cell_type": "code",
   "execution_count": 88,
   "metadata": {},
   "outputs": [
    {
     "data": {
      "text/plain": [
       "6876"
      ]
     },
     "execution_count": 88,
     "metadata": {},
     "output_type": "execute_result"
    }
   ],
   "source": [
    "len(dwarf_masses)"
   ]
  },
  {
   "cell_type": "markdown",
   "metadata": {},
   "source": [
    "## done in separate script "
   ]
  },
  {
   "cell_type": "code",
   "execution_count": 2,
   "metadata": {},
   "outputs": [],
   "source": [
    "#read in dwarf catalog\n",
    "dwarf_galaxies = np.load('/Users/fardila/Documents/GitHub/dwarf_lensing/bplanck_dwarfs.npy')"
   ]
  },
  {
   "cell_type": "code",
   "execution_count": 3,
   "metadata": {},
   "outputs": [
    {
     "data": {
      "text/plain": [
       "343800"
      ]
     },
     "execution_count": 3,
     "metadata": {},
     "output_type": "execute_result"
    }
   ],
   "source": [
    "len(dwarf_galaxies)"
   ]
  },
  {
   "cell_type": "code",
   "execution_count": 100,
   "metadata": {},
   "outputs": [
    {
     "data": {
      "text/plain": [
       "array([[  8.88345000e+06,   1.85361984e+02,   1.13884193e+02,\n",
       "          1.92980347e+02,   2.21121760e+08],\n",
       "       [  8.66529500e+06,   1.81694412e+02,   1.21988007e+02,\n",
       "          4.05911484e+01,   3.48609920e+08],\n",
       "       [  6.13945400e+06,   1.28867691e+02,   6.90023422e+01,\n",
       "          1.50045242e+02,   1.14675448e+08],\n",
       "       ..., \n",
       "       [  4.61303300e+06,   8.84384537e+01,   1.69996918e+02,\n",
       "          2.36955872e+02,   7.17462848e+08],\n",
       "       [  2.38418700e+06,   4.72314911e+01,   2.42901855e+02,\n",
       "          1.14398659e+02,   5.33227712e+08],\n",
       "       [  1.16175100e+07,   2.21008698e+02,   1.37380524e+02,\n",
       "          1.66056747e+02,   2.51375600e+08]])"
      ]
     },
     "execution_count": 100,
     "metadata": {},
     "output_type": "execute_result"
    }
   ],
   "source": [
    "dwarf_galaxies"
   ]
  },
  {
   "cell_type": "code",
   "execution_count": 101,
   "metadata": {},
   "outputs": [],
   "source": [
    "x = [gal[1] for gal in dwarf_galaxies]\n",
    "y = [gal[2] for gal in dwarf_galaxies]\n",
    "z = [gal[3] for gal in dwarf_galaxies]\n",
    "galaxies = np.vstack((x, y, z)).T"
   ]
  },
  {
   "cell_type": "code",
   "execution_count": 102,
   "metadata": {},
   "outputs": [],
   "source": [
    "mass_encl = total_mass_enclosed_per_cylinder(galaxies, particles, particle_masses, downsampling_factor, rp_bins, period)\n",
    "\n",
    "rp, ds = delta_sigma_from_precomputed_pairs(galaxies, mass_encl, rp_bins, period, cosmology=halocat.cosmology)\n",
    "ds = ds/1e12 #there seems to be a discrepancy in units pc^2 --> Mpc^2"
   ]
  },
  {
   "cell_type": "code",
   "execution_count": 104,
   "metadata": {},
   "outputs": [
    {
     "data": {
      "image/png": "[encoded data removed]",
      "text/plain": [
       "<Figure size 576x432 with 1 Axes>"
      ]
     },
     "metadata": {},
     "output_type": "display_data"
    }
   ],
   "source": [
    "fig, ax = plt.subplots(1, 1, figsize=(8, 6))\n",
    "\n",
    "__=plt.loglog()\n",
    "\n",
    "__=ax.plot(rp, ds, label=r'Bol-Planck: ' +str(len(dwarf_galaxies))+ ' galaxies')\n",
    "# __=ax.plot(rp, result_mstar105_satellite_in_pc, label=r'Satellites: $M_{\\ast} \\approx 10^{10.5}M_{\\odot}$')\n",
    "# __=ax.plot(rp, result_mstar105_in_pc, label=r'All galaxies: $M_{\\ast} \\approx 10^{10.5}M_{\\odot}$')\n",
    "# __=ax.plot(rp, result_mstar105_central_in_pc, label=r'Centrals: $M_{\\ast} \\approx 10^{10.5}M_{\\odot}$')\n",
    "\n",
    "ax.plot(cosmos_lensing_signal['R(Mpc)'], cosmos_lensing_signal['SigR(Msun/pc^2)'], label=r'Laigle2015: ' +str(len(dwarf_masses))+ ' galaxies')\n",
    "\n",
    "__=ax.set_xlim(xmin = 0.1, xmax = 10)\n",
    "# __=ax.set_ylim(ymin = 0.5, ymax = 200)\n",
    "\n",
    "__=ax.set_xlabel(r'$R_{\\rm p} $  $\\rm{[Mpc / h]}$', fontsize=16)\n",
    "__=ax.set_ylabel(r'$\\Delta\\Sigma(R_{\\rm p})$  $[h M_{\\odot} / {\\rm pc}^2]$', fontsize=16)\n",
    "__=ax.legend(loc='best', fontsize=13)\n",
    "__=plt.xticks(fontsize=15); plt.yticks(fontsize=15)\n",
    "\n",
    "plt.title('Matched Mass distribution')\n",
    "plt.show()"
   ]
  },
  {
   "cell_type": "markdown",
   "metadata": {},
   "source": [
    "## histogram"
   ]
  },
  {
   "cell_type": "code",
   "execution_count": 15,
   "metadata": {},
   "outputs": [
    {
     "data": {
      "image/png": "[encoded data removed]",
      "text/plain": [
       "<Figure size 432x288 with 1 Axes>"
      ]
     },
     "metadata": {},
     "output_type": "display_data"
    }
   ],
   "source": [
    "mock_masses = [np.log10(d[-1]) for d in dwarf_galaxies]\n",
    "\n",
    "plt.hist(dwarf_masses, bins=50, histtype='step', normed=True, linewidth=2, label='COSMOS dwarfs')\n",
    "plt.hist(mock_masses, bins=50, histtype='step', normed=True, label='Bol-Planck dwarfs')\n",
    "plt.xlabel('Mass')\n",
    "plt.legend(loc='upper left')\n",
    "plt.show()"
   ]
  },
  {
   "cell_type": "code",
   "execution_count": null,
   "metadata": {},
   "outputs": [],
   "source": []
  }
 ],
 "metadata": {
  "kernelspec": {
   "display_name": "Python [default]",
   "language": "python",
   "name": "python2"
  },
  "language_info": {
   "codemirror_mode": {
    "name": "ipython",
    "version": 2
   },
   "file_extension": ".py",
   "mimetype": "text/x-python",
   "name": "python",
   "nbconvert_exporter": "python",
   "pygments_lexer": "ipython2",
   "version": "2.7.15"
  },
  "nbpresent": {
   "slides": {
    "01ef6e82-8f25-47ed-a3db-591d9437b0a9": {
     "id": "01ef6e82-8f25-47ed-a3db-591d9437b0a9",
     "prev": "f88b0979-5f78-48de-bd7a-3ac570a80015",
     "regions": {
      "b694c7ee-9be9-4b4c-8367-cf3f4e8f67f2": {
       "attrs": {
        "height": 0.8,
        "width": 0.8,
        "x": 0.1,
        "y": 0.1
       },
       "content": {
        "cell": "ea4d1428-412b-4755-80d6-fa67eae0c991",
        "part": "whole"
       },
       "id": "b694c7ee-9be9-4b4c-8367-cf3f4e8f67f2"
      }
     }
    },
    "02f24a08-57b5-4aa3-97f9-90fc63b18cf4": {
     "id": "02f24a08-57b5-4aa3-97f9-90fc63b18cf4",
     "prev": "8cd4d961-585a-49c2-89ec-da14eb1e1bdb",
     "regions": {
      "c33c41e4-f171-4432-bc38-86685b271220": {
       "attrs": {
        "height": 0.8,
        "width": 0.8,
        "x": 0.1,
        "y": 0.1
       },
       "content": {
        "cell": "0bc1d434-f2b0-4edf-b1eb-b5a1f7079b5a",
        "part": "whole"
       },
       "id": "c33c41e4-f171-4432-bc38-86685b271220"
      }
     }
    },
    "056bc643-8eaf-4ff2-898b-3873f2daaf31": {
     "id": "056bc643-8eaf-4ff2-898b-3873f2daaf31",
     "prev": "ee6ad32d-afd2-4a17-bc0d-25d2ac157470",
     "regions": {
      "bf8a76ff-aab4-45ba-b210-b178533cae85": {
       "attrs": {
        "height": 0.8,
        "width": 0.8,
        "x": 0.1,
        "y": 0.1
       },
       "content": {
        "cell": "4affb703-93de-47bd-9453-8f9c2c205c40",
        "part": "whole"
       },
       "id": "bf8a76ff-aab4-45ba-b210-b178533cae85"
      }
     }
    },
    "0b30d499-3ab9-403b-ac4d-66c01f796882": {
     "id": "0b30d499-3ab9-403b-ac4d-66c01f796882",
     "prev": "056bc643-8eaf-4ff2-898b-3873f2daaf31",
     "regions": {
      "a903093d-665e-4775-87e4-29ec8a8ba49d": {
       "attrs": {
        "height": 0.8,
        "width": 0.8,
        "x": 0.1,
        "y": 0.1
       },
       "content": {
        "cell": "01b15129-e3b8-49f0-9fd8-ab2cfeda8364",
        "part": "whole"
       },
       "id": "a903093d-665e-4775-87e4-29ec8a8ba49d"
      }
     }
    },
    "17911ac0-dd4d-40cf-9238-776ae480daa9": {
     "id": "17911ac0-dd4d-40cf-9238-776ae480daa9",
     "prev": "cc10cb41-a1b1-401c-9153-47fb951386d4",
     "regions": {
      "65aed126-6a80-46e2-8453-c097f4b33e04": {
       "attrs": {
        "height": 0.8,
        "width": 0.8,
        "x": 0.1,
        "y": 0.1
       },
       "content": {
        "cell": "0cb30008-65df-4467-abee-c4eb85603367",
        "part": "whole"
       },
       "id": "65aed126-6a80-46e2-8453-c097f4b33e04"
      }
     }
    },
    "17c7d956-1a9c-4486-945e-bf4b15e24ce7": {
     "id": "17c7d956-1a9c-4486-945e-bf4b15e24ce7",
     "prev": "3681dd96-6b00-4e0c-bf89-c9ad053c99a1",
     "regions": {
      "73eead12-74fa-4006-a636-0e021c5dbc61": {
       "attrs": {
        "height": 0.8,
        "width": 0.8,
        "x": 0.1,
        "y": 0.1
       },
       "content": {
        "cell": "e31be248-7b05-460a-bf05-12613cd1c65f",
        "part": "whole"
       },
       "id": "73eead12-74fa-4006-a636-0e021c5dbc61"
      }
     }
    },
    "18349ebc-4d2b-445b-8617-9fb77cb10f4a": {
     "id": "18349ebc-4d2b-445b-8617-9fb77cb10f4a",
     "prev": "6e6bda26-078e-443c-b249-e506afcc8b92",
     "regions": {
      "e1eede51-15bc-49dd-a3ba-2d018c2c17fa": {
       "attrs": {
        "height": 0.8,
        "width": 0.8,
        "x": 0.1,
        "y": 0.1
       },
       "content": {
        "cell": "943875a7-b82b-4b37-987b-3fc77c7ae332",
        "part": "whole"
       },
       "id": "e1eede51-15bc-49dd-a3ba-2d018c2c17fa"
      }
     }
    },
    "19da61f7-c865-44ba-92ee-1031465a9032": {
     "id": "19da61f7-c865-44ba-92ee-1031465a9032",
     "prev": "ca881eec-cc63-4ab1-8571-610eb8787ce7",
     "regions": {
      "59a86983-cfbf-492f-a8b5-2b8d02f021ee": {
       "attrs": {
        "height": 0.8,
        "width": 0.8,
        "x": 0.1,
        "y": 0.1
       },
       "content": {
        "cell": "417dd06f-ab79-458b-bd22-5e8e375707d0",
        "part": "whole"
       },
       "id": "59a86983-cfbf-492f-a8b5-2b8d02f021ee"
      }
     }
    },
    "1a8d891f-12ba-4bd1-86c0-bd6b8839e40a": {
     "id": "1a8d891f-12ba-4bd1-86c0-bd6b8839e40a",
     "prev": "dac64c6a-88e2-4f00-b266-eeccac279ac4",
     "regions": {
      "340960a1-4e02-4bf4-bd50-b21a706e61fa": {
       "attrs": {
        "height": 0.8,
        "width": 0.8,
        "x": 0.1,
        "y": 0.1
       },
       "content": {
        "cell": "63935b64-ac11-4535-a15b-6d894793648f",
        "part": "whole"
       },
       "id": "340960a1-4e02-4bf4-bd50-b21a706e61fa"
      }
     }
    },
    "1bb34625-de55-4eef-b720-4fd0314f1362": {
     "id": "1bb34625-de55-4eef-b720-4fd0314f1362",
     "prev": "17911ac0-dd4d-40cf-9238-776ae480daa9",
     "regions": {
      "020404b3-f0fb-4404-a7e9-f6e987e5bc88": {
       "attrs": {
        "height": 0.8,
        "width": 0.8,
        "x": 0.1,
        "y": 0.1
       },
       "content": {
        "cell": "e72c1dd2-6d0a-4621-86de-18cb9d17a963",
        "part": "whole"
       },
       "id": "020404b3-f0fb-4404-a7e9-f6e987e5bc88"
      }
     }
    },
    "1bb6f61a-1c3a-4551-81d7-d520cfb51584": {
     "id": "1bb6f61a-1c3a-4551-81d7-d520cfb51584",
     "prev": "be912d93-e164-4cd1-b83c-245f9e55b2a7",
     "regions": {
      "8f6fd99a-8ed6-44f3-9ca2-d8f39e13cd66": {
       "attrs": {
        "height": 0.8,
        "width": 0.8,
        "x": 0.1,
        "y": 0.1
       },
       "content": {
        "cell": "8f612c75-70dc-485f-b01c-455df8d7fbd5",
        "part": "whole"
       },
       "id": "8f6fd99a-8ed6-44f3-9ca2-d8f39e13cd66"
      }
     }
    },
    "1c76ea19-a77e-4d72-a2c5-75f980fd2e51": {
     "id": "1c76ea19-a77e-4d72-a2c5-75f980fd2e51",
     "prev": "36158350-a852-4326-af83-e11917e834b1",
     "regions": {
      "a9de96e2-94f9-4b30-82dd-a935ca883738": {
       "attrs": {
        "height": 0.8,
        "width": 0.8,
        "x": 0.1,
        "y": 0.1
       },
       "content": {
        "cell": "5bafffd6-74e4-475c-a886-e21d85e735ff",
        "part": "whole"
       },
       "id": "a9de96e2-94f9-4b30-82dd-a935ca883738"
      }
     }
    },
    "2aefa571-3f59-4131-b3e0-7ca1886031a0": {
     "id": "2aefa571-3f59-4131-b3e0-7ca1886031a0",
     "prev": "6f9666d9-b0be-40d4-9891-532077d76225",
     "regions": {
      "32896c7d-3fef-4066-9b3a-bdf1ec584400": {
       "attrs": {
        "height": 0.8,
        "width": 0.8,
        "x": 0.1,
        "y": 0.1
       },
       "content": {
        "cell": "9730eeb5-1f05-4a0c-8162-3e64c5950a17",
        "part": "whole"
       },
       "id": "32896c7d-3fef-4066-9b3a-bdf1ec584400"
      }
     }
    },
    "36158350-a852-4326-af83-e11917e834b1": {
     "id": "36158350-a852-4326-af83-e11917e834b1",
     "prev": "731807f7-85ec-43e9-8c44-3fc8ce7b54f0",
     "regions": {
      "d45d1dc9-871e-467d-8476-e0bef969e634": {
       "attrs": {
        "height": 0.8,
        "width": 0.8,
        "x": 0.1,
        "y": 0.1
       },
       "content": {
        "cell": "6f8937aa-7027-4780-b042-58264ddc2a6a",
        "part": "whole"
       },
       "id": "d45d1dc9-871e-467d-8476-e0bef969e634"
      }
     }
    },
    "366d5fbb-8b55-41bc-83b1-1471ce38c181": {
     "id": "366d5fbb-8b55-41bc-83b1-1471ce38c181",
     "prev": "afa7411c-ed6f-4d1a-82b8-43082362ed5e",
     "regions": {
      "36ce1499-f72c-4d0b-b273-1cc69f6cc0e1": {
       "attrs": {
        "height": 0.8,
        "width": 0.8,
        "x": 0.1,
        "y": 0.1
       },
       "content": {
        "cell": "83979098-d2f7-4a2f-8896-a6a21e098204",
        "part": "whole"
       },
       "id": "36ce1499-f72c-4d0b-b273-1cc69f6cc0e1"
      }
     }
    },
    "3681dd96-6b00-4e0c-bf89-c9ad053c99a1": {
     "id": "3681dd96-6b00-4e0c-bf89-c9ad053c99a1",
     "prev": "0b30d499-3ab9-403b-ac4d-66c01f796882",
     "regions": {
      "016c4fa7-384d-4594-bce2-ca43bbf38236": {
       "attrs": {
        "height": 0.8,
        "width": 0.8,
        "x": 0.1,
        "y": 0.1
       },
       "content": {
        "cell": "e920f102-908e-40b4-a475-7d8a300ca040",
        "part": "whole"
       },
       "id": "016c4fa7-384d-4594-bce2-ca43bbf38236"
      }
     }
    },
    "36e2764a-12d1-48eb-9b73-776c3227a729": {
     "id": "36e2764a-12d1-48eb-9b73-776c3227a729",
     "prev": "02f24a08-57b5-4aa3-97f9-90fc63b18cf4",
     "regions": {
      "05dc172d-0fe1-4329-992b-bf85329c1480": {
       "attrs": {
        "height": 0.8,
        "width": 0.8,
        "x": 0.1,
        "y": 0.1
       },
       "content": {
        "cell": "deb653c9-b74b-430f-b4a9-35d88b817206",
        "part": "whole"
       },
       "id": "05dc172d-0fe1-4329-992b-bf85329c1480"
      }
     }
    },
    "48378a1d-ff8a-4b41-8502-7afd992368bf": {
     "id": "48378a1d-ff8a-4b41-8502-7afd992368bf",
     "prev": "f50258dd-34b6-4cf4-81e1-aa8871a315e1",
     "regions": {
      "d5978ee3-e20d-465d-b90c-16c894f6edeb": {
       "attrs": {
        "height": 0.8,
        "width": 0.8,
        "x": 0.1,
        "y": 0.1
       },
       "content": {
        "cell": "5fc98d93-4be8-4945-9986-9f54ddf5b209",
        "part": "whole"
       },
       "id": "d5978ee3-e20d-465d-b90c-16c894f6edeb"
      }
     }
    },
    "4a991f09-7769-4cdc-aea0-c0c180af90a8": {
     "id": "4a991f09-7769-4cdc-aea0-c0c180af90a8",
     "prev": "eb2b12f6-3dee-4c7c-aa18-73fe13f9dc94",
     "regions": {
      "719d18bd-6e09-4b0f-bc61-0c685508d71b": {
       "attrs": {
        "height": 0.8,
        "width": 0.8,
        "x": 0.1,
        "y": 0.1
       },
       "content": {
        "cell": "44e7cfa7-01bc-4658-a222-d45fb06bfcef",
        "part": "whole"
       },
       "id": "719d18bd-6e09-4b0f-bc61-0c685508d71b"
      }
     }
    },
    "4d8faaee-66a2-4acc-9c57-36bd9dcbbd7e": {
     "id": "4d8faaee-66a2-4acc-9c57-36bd9dcbbd7e",
     "prev": "54573520-2e7d-43fe-b989-faac58e8f150",
     "regions": {
      "180ff214-dcf4-4d8a-83de-5c0f2c3dccad": {
       "attrs": {
        "height": 0.8,
        "width": 0.8,
        "x": 0.1,
        "y": 0.1
       },
       "content": {
        "cell": "6b3657c7-0916-472c-8102-85a1961d2b66",
        "part": "whole"
       },
       "id": "180ff214-dcf4-4d8a-83de-5c0f2c3dccad"
      }
     }
    },
    "4f961b19-b5c1-448f-aafc-9959bd44cba7": {
     "id": "4f961b19-b5c1-448f-aafc-9959bd44cba7",
     "prev": "6b5f7061-d644-4d6c-a76d-bd6ed2b72a61",
     "regions": {
      "d06b8a05-24e0-4bb5-896c-6ffa28024abe": {
       "attrs": {
        "height": 0.8,
        "width": 0.8,
        "x": 0.1,
        "y": 0.1
       },
       "content": {
        "cell": "93dda242-9b5e-450e-841d-19f38f164359",
        "part": "whole"
       },
       "id": "d06b8a05-24e0-4bb5-896c-6ffa28024abe"
      }
     }
    },
    "54573520-2e7d-43fe-b989-faac58e8f150": {
     "id": "54573520-2e7d-43fe-b989-faac58e8f150",
     "prev": "18349ebc-4d2b-445b-8617-9fb77cb10f4a",
     "regions": {
      "d89c3347-2d3b-4048-a2dd-e6d50e072658": {
       "attrs": {
        "height": 0.8,
        "width": 0.8,
        "x": 0.1,
        "y": 0.1
       },
       "content": {
        "cell": "db9c5656-45aa-4067-9be6-4a83603a181e",
        "part": "whole"
       },
       "id": "d89c3347-2d3b-4048-a2dd-e6d50e072658"
      }
     }
    },
    "5597bfd0-bf12-4628-a5b9-7c3cacf0f5f8": {
     "id": "5597bfd0-bf12-4628-a5b9-7c3cacf0f5f8",
     "prev": "4f961b19-b5c1-448f-aafc-9959bd44cba7",
     "regions": {
      "92f86e02-dbed-4d8b-9e1a-4ba6566da8a3": {
       "attrs": {
        "height": 0.8,
        "width": 0.8,
        "x": 0.1,
        "y": 0.1
       },
       "content": {
        "cell": "4f7b477e-d181-421d-ba39-da486bc5e4ae",
        "part": "whole"
       },
       "id": "92f86e02-dbed-4d8b-9e1a-4ba6566da8a3"
      }
     }
    },
    "61cba4b5-f653-4e96-a799-26b2951b2353": {
     "id": "61cba4b5-f653-4e96-a799-26b2951b2353",
     "prev": "952b1b39-682a-4b0a-8c5b-f3b880cb22f6",
     "regions": {
      "e8ad351e-a865-42b4-bd6a-650550687057": {
       "attrs": {
        "height": 0.8,
        "width": 0.8,
        "x": 0.1,
        "y": 0.1
       },
       "content": {
        "cell": "127df191-eb86-4da3-9151-911104c41088",
        "part": "whole"
       },
       "id": "e8ad351e-a865-42b4-bd6a-650550687057"
      }
     }
    },
    "63ea998e-189f-4074-a449-fee63012612d": {
     "id": "63ea998e-189f-4074-a449-fee63012612d",
     "prev": "8fab6269-2eb1-4fd7-aca3-cadc645cbda7",
     "regions": {
      "e82e6595-af15-4cfd-8850-7be7def3a0b4": {
       "attrs": {
        "height": 0.8,
        "width": 0.8,
        "x": 0.1,
        "y": 0.1
       },
       "content": {
        "cell": "31bf0025-6833-4f80-adb4-2118590febc6",
        "part": "whole"
       },
       "id": "e82e6595-af15-4cfd-8850-7be7def3a0b4"
      }
     }
    },
    "69ad7f31-11db-48ec-b3e8-b52f01c025f1": {
     "id": "69ad7f31-11db-48ec-b3e8-b52f01c025f1",
     "prev": "82af357d-ef43-46f5-87d8-7ba7582ae2f7",
     "regions": {
      "ed884ba8-d53d-4370-9314-fd204a1e9962": {
       "attrs": {
        "height": 0.8,
        "width": 0.8,
        "x": 0.1,
        "y": 0.1
       },
       "content": {
        "cell": "c439bb26-4727-4842-8444-0f277123cc9c",
        "part": "whole"
       },
       "id": "ed884ba8-d53d-4370-9314-fd204a1e9962"
      }
     }
    },
    "6aae1421-2876-45f8-abf2-8dc4fd2f1161": {
     "id": "6aae1421-2876-45f8-abf2-8dc4fd2f1161",
     "prev": "cc1d2d5e-32b0-41b4-b205-4bd3482c0659",
     "regions": {
      "78810d65-5f54-471c-9535-79d5f2819195": {
       "attrs": {
        "height": 0.8,
        "width": 0.8,
        "x": 0.1,
        "y": 0.1
       },
       "content": {
        "cell": "31f51d00-6fa8-4f64-b553-b26485483dc2",
        "part": "whole"
       },
       "id": "78810d65-5f54-471c-9535-79d5f2819195"
      }
     }
    },
    "6b5f7061-d644-4d6c-a76d-bd6ed2b72a61": {
     "id": "6b5f7061-d644-4d6c-a76d-bd6ed2b72a61",
     "prev": "c6375186-21fd-4aec-b55c-35021e347223",
     "regions": {
      "95ead2d9-4b48-4609-8328-7a00a3403ef7": {
       "attrs": {
        "height": 0.8,
        "width": 0.8,
        "x": 0.1,
        "y": 0.1
       },
       "content": {
        "cell": "20bbfc89-b4b4-4767-a136-e426e9af0cd2",
        "part": "whole"
       },
       "id": "95ead2d9-4b48-4609-8328-7a00a3403ef7"
      }
     }
    },
    "6e6bda26-078e-443c-b249-e506afcc8b92": {
     "id": "6e6bda26-078e-443c-b249-e506afcc8b92",
     "prev": "f6c86fc7-bd80-4faa-9a51-cbf55892636f",
     "regions": {
      "d53ffe26-db2e-4b26-b824-f1597126af3e": {
       "attrs": {
        "height": 0.8,
        "width": 0.8,
        "x": 0.1,
        "y": 0.1
       },
       "content": {
        "cell": "fe2d1e7b-eafe-488b-ac58-010393297085",
        "part": "whole"
       },
       "id": "d53ffe26-db2e-4b26-b824-f1597126af3e"
      }
     }
    },
    "6f9666d9-b0be-40d4-9891-532077d76225": {
     "id": "6f9666d9-b0be-40d4-9891-532077d76225",
     "prev": "1c76ea19-a77e-4d72-a2c5-75f980fd2e51",
     "regions": {
      "954df2cc-5b98-4a34-a1ba-61a8eee0b538": {
       "attrs": {
        "height": 0.8,
        "width": 0.8,
        "x": 0.1,
        "y": 0.1
       },
       "content": {
        "cell": "f7a7f8ba-a4ce-45b6-804b-e2c6177ae9fe",
        "part": "whole"
       },
       "id": "954df2cc-5b98-4a34-a1ba-61a8eee0b538"
      }
     }
    },
    "7101c664-b2b2-4a03-965c-1a73050eb601": {
     "id": "7101c664-b2b2-4a03-965c-1a73050eb601",
     "prev": "aa4f2970-4695-4aad-9738-e28c6ebc8345",
     "regions": {
      "55e463e9-c5b4-4c28-8dcd-fd53ced1a0b7": {
       "attrs": {
        "height": 0.8,
        "width": 0.8,
        "x": 0.1,
        "y": 0.1
       },
       "content": {
        "cell": "11240699-b115-4a3f-b5dd-1b91a4fbcd4b",
        "part": "whole"
       },
       "id": "55e463e9-c5b4-4c28-8dcd-fd53ced1a0b7"
      }
     }
    },
    "731807f7-85ec-43e9-8c44-3fc8ce7b54f0": {
     "id": "731807f7-85ec-43e9-8c44-3fc8ce7b54f0",
     "prev": "1a8d891f-12ba-4bd1-86c0-bd6b8839e40a",
     "regions": {
      "88183962-2d0e-4b92-9dec-8a300efe9c15": {
       "attrs": {
        "height": 0.8,
        "width": 0.8,
        "x": 0.1,
        "y": 0.1
       },
       "content": {
        "cell": "6889e38d-df80-4b55-96ff-acefe642bf7b",
        "part": "whole"
       },
       "id": "88183962-2d0e-4b92-9dec-8a300efe9c15"
      }
     }
    },
    "7516e60f-6ea1-419b-a167-7dfb4bb925e4": {
     "id": "7516e60f-6ea1-419b-a167-7dfb4bb925e4",
     "prev": "7eb8cb8f-0991-425d-84e7-839074a4372a",
     "regions": {
      "62cc99cb-9f2d-4952-bdc5-c277f82f5708": {
       "attrs": {
        "height": 0.8,
        "width": 0.8,
        "x": 0.1,
        "y": 0.1
       },
       "content": {
        "cell": "bfd97a00-86a7-41f5-9b09-b703787a988d",
        "part": "whole"
       },
       "id": "62cc99cb-9f2d-4952-bdc5-c277f82f5708"
      }
     }
    },
    "7eb8cb8f-0991-425d-84e7-839074a4372a": {
     "id": "7eb8cb8f-0991-425d-84e7-839074a4372a",
     "prev": "6aae1421-2876-45f8-abf2-8dc4fd2f1161",
     "regions": {
      "4ea1bdd9-ca41-4ab8-abf4-a1449f099a7f": {
       "attrs": {
        "height": 0.8,
        "width": 0.8,
        "x": 0.1,
        "y": 0.1
       },
       "content": {
        "cell": "92985c22-8468-494d-a0e1-081cb186c123",
        "part": "whole"
       },
       "id": "4ea1bdd9-ca41-4ab8-abf4-a1449f099a7f"
      }
     }
    },
    "82af357d-ef43-46f5-87d8-7ba7582ae2f7": {
     "id": "82af357d-ef43-46f5-87d8-7ba7582ae2f7",
     "prev": "63ea998e-189f-4074-a449-fee63012612d",
     "regions": {
      "e82abe21-68fe-44ba-b8da-54ae35bf1907": {
       "attrs": {
        "height": 0.8,
        "width": 0.8,
        "x": 0.1,
        "y": 0.1
       },
       "content": {
        "cell": "2bcd70f6-4a93-4552-baae-4e83bb549ef1",
        "part": "whole"
       },
       "id": "e82abe21-68fe-44ba-b8da-54ae35bf1907"
      }
     }
    },
    "877b9ff8-782d-4fe0-b4d6-f6f24283bfa6": {
     "id": "877b9ff8-782d-4fe0-b4d6-f6f24283bfa6",
     "prev": "8adc5aaa-2ab6-43b7-8f3e-a8a4479ab30b",
     "regions": {
      "89a54ed6-0c41-4422-8f9b-22295c186a8a": {
       "attrs": {
        "height": 0.8,
        "width": 0.8,
        "x": 0.1,
        "y": 0.1
       },
       "content": {
        "cell": "71229784-7268-4477-bea8-31713fe2a0e1",
        "part": "whole"
       },
       "id": "89a54ed6-0c41-4422-8f9b-22295c186a8a"
      }
     }
    },
    "8adc5aaa-2ab6-43b7-8f3e-a8a4479ab30b": {
     "id": "8adc5aaa-2ab6-43b7-8f3e-a8a4479ab30b",
     "prev": "dc1f9545-98c0-4214-a9c4-9bec39e2319b",
     "regions": {
      "d53ea39c-8f36-434e-b5b5-cc1c1091c177": {
       "attrs": {
        "height": 0.8,
        "width": 0.8,
        "x": 0.1,
        "y": 0.1
       },
       "content": {
        "cell": "dfbdbdba-7ad8-4a43-af6b-24da550f1983",
        "part": "whole"
       },
       "id": "d53ea39c-8f36-434e-b5b5-cc1c1091c177"
      }
     }
    },
    "8cd4d961-585a-49c2-89ec-da14eb1e1bdb": {
     "id": "8cd4d961-585a-49c2-89ec-da14eb1e1bdb",
     "prev": "d03d8e56-e740-462e-bd8f-f8175b12cf6a",
     "regions": {
      "e0048fbc-0321-434c-a640-cd93ccd45cf8": {
       "attrs": {
        "height": 0.8,
        "width": 0.8,
        "x": 0.1,
        "y": 0.1
       },
       "content": {
        "cell": "ac11c11c-b367-4e6f-9bb6-3171580507b8",
        "part": "whole"
       },
       "id": "e0048fbc-0321-434c-a640-cd93ccd45cf8"
      }
     }
    },
    "8e6b353e-ed9c-499d-a769-25d81c2042c1": {
     "id": "8e6b353e-ed9c-499d-a769-25d81c2042c1",
     "prev": "e4dcb91f-6e94-4901-9153-53e74e210cbe",
     "regions": {
      "a471bce7-4136-4c0c-8d7c-5b6cce76fed5": {
       "attrs": {
        "height": 0.8,
        "width": 0.8,
        "x": 0.1,
        "y": 0.1
       },
       "content": {
        "cell": "b1c76dcd-db19-4d7d-bcbd-659ed2f5ab65",
        "part": "whole"
       },
       "id": "a471bce7-4136-4c0c-8d7c-5b6cce76fed5"
      }
     }
    },
    "8fab6269-2eb1-4fd7-aca3-cadc645cbda7": {
     "id": "8fab6269-2eb1-4fd7-aca3-cadc645cbda7",
     "prev": "be8b9d7c-f9ec-4e99-8ba8-25888a7216dc",
     "regions": {
      "808305d2-6038-4b0d-8440-5a555dbc4fc2": {
       "attrs": {
        "height": 0.8,
        "width": 0.8,
        "x": 0.1,
        "y": 0.1
       },
       "content": {
        "cell": "0fd9ca77-abd5-4c5f-9f18-df9ccc9f3cff",
        "part": "whole"
       },
       "id": "808305d2-6038-4b0d-8440-5a555dbc4fc2"
      }
     }
    },
    "952b1b39-682a-4b0a-8c5b-f3b880cb22f6": {
     "id": "952b1b39-682a-4b0a-8c5b-f3b880cb22f6",
     "prev": "1bb34625-de55-4eef-b720-4fd0314f1362",
     "regions": {
      "d4b9041e-9619-4008-9fbd-88ae09193b6e": {
       "attrs": {
        "height": 0.8,
        "width": 0.8,
        "x": 0.1,
        "y": 0.1
       },
       "content": {
        "cell": "07c22b96-4b61-48d4-aa76-a3db29b1b40d",
        "part": "whole"
       },
       "id": "d4b9041e-9619-4008-9fbd-88ae09193b6e"
      }
     }
    },
    "95af4932-3343-4fcf-829b-f5bad35f7b8b": {
     "id": "95af4932-3343-4fcf-829b-f5bad35f7b8b",
     "prev": "f7a6b555-bc82-42d3-8c6a-2d551ca1aefb",
     "regions": {
      "735fd501-c07e-42d2-853c-11ae153b7425": {
       "attrs": {
        "height": 0.8,
        "width": 0.8,
        "x": 0.1,
        "y": 0.1
       },
       "content": {
        "cell": "30d41576-870b-400e-9008-46ee0f43a1cc",
        "part": "whole"
       },
       "id": "735fd501-c07e-42d2-853c-11ae153b7425"
      }
     }
    },
    "aa4f2970-4695-4aad-9738-e28c6ebc8345": {
     "id": "aa4f2970-4695-4aad-9738-e28c6ebc8345",
     "prev": "4d8faaee-66a2-4acc-9c57-36bd9dcbbd7e",
     "regions": {
      "dd5b8f87-2eee-4592-be1e-eca16ca59b87": {
       "attrs": {
        "height": 0.8,
        "width": 0.8,
        "x": 0.1,
        "y": 0.1
       },
       "content": {
        "cell": "8fe8606c-10e9-48b5-9f89-ef8b45a2ac46",
        "part": "whole"
       },
       "id": "dd5b8f87-2eee-4592-be1e-eca16ca59b87"
      }
     }
    },
    "afa7411c-ed6f-4d1a-82b8-43082362ed5e": {
     "id": "afa7411c-ed6f-4d1a-82b8-43082362ed5e",
     "prev": "877b9ff8-782d-4fe0-b4d6-f6f24283bfa6",
     "regions": {
      "b038c10e-c448-4c85-bb99-2436d2ddbc92": {
       "attrs": {
        "height": 0.8,
        "width": 0.8,
        "x": 0.1,
        "y": 0.1
       },
       "content": {
        "cell": "c13b5d8c-4a79-4d19-8491-57e4d8f82184",
        "part": "whole"
       },
       "id": "b038c10e-c448-4c85-bb99-2436d2ddbc92"
      }
     }
    },
    "b42d4ed1-5390-4d4e-906b-1e755d54046e": {
     "id": "b42d4ed1-5390-4d4e-906b-1e755d54046e",
     "prev": "48378a1d-ff8a-4b41-8502-7afd992368bf",
     "regions": {
      "ef2dc719-b05f-4a1d-9f5d-499f671d0fbb": {
       "attrs": {
        "height": 0.8,
        "width": 0.8,
        "x": 0.1,
        "y": 0.1
       },
       "content": {
        "cell": "714c8d7c-6855-4dbc-ae4c-0743777d8ebe",
        "part": "whole"
       },
       "id": "ef2dc719-b05f-4a1d-9f5d-499f671d0fbb"
      }
     }
    },
    "be8b9d7c-f9ec-4e99-8ba8-25888a7216dc": {
     "id": "be8b9d7c-f9ec-4e99-8ba8-25888a7216dc",
     "prev": "01ef6e82-8f25-47ed-a3db-591d9437b0a9",
     "regions": {
      "5f4587e3-03db-4829-9fd0-c081fc763a9f": {
       "attrs": {
        "height": 0.8,
        "width": 0.8,
        "x": 0.1,
        "y": 0.1
       },
       "content": {
        "cell": "74094daf-da1e-45eb-a21e-1c30684b9deb",
        "part": "whole"
       },
       "id": "5f4587e3-03db-4829-9fd0-c081fc763a9f"
      }
     }
    },
    "be912d93-e164-4cd1-b83c-245f9e55b2a7": {
     "id": "be912d93-e164-4cd1-b83c-245f9e55b2a7",
     "prev": "cd339bc2-6b4b-4ae0-a0b8-922945a78762",
     "regions": {
      "410e61a4-cc69-4733-ba10-54d553a0ac2f": {
       "attrs": {
        "height": 0.8,
        "width": 0.8,
        "x": 0.1,
        "y": 0.1
       },
       "content": {
        "cell": "ad580bb5-43be-4095-bfc1-e5e1934f7bb1",
        "part": "whole"
       },
       "id": "410e61a4-cc69-4733-ba10-54d553a0ac2f"
      }
     }
    },
    "c00a4f93-623b-47ce-b553-a662de45d91a": {
     "id": "c00a4f93-623b-47ce-b553-a662de45d91a",
     "prev": "19da61f7-c865-44ba-92ee-1031465a9032",
     "regions": {
      "b07441f9-190f-43c1-8e50-7071a7dbe639": {
       "attrs": {
        "height": 0.8,
        "width": 0.8,
        "x": 0.1,
        "y": 0.1
       },
       "content": {
        "cell": "7d2e6546-1e17-4f2e-a81b-a36f8dc0ab48",
        "part": "whole"
       },
       "id": "b07441f9-190f-43c1-8e50-7071a7dbe639"
      }
     }
    },
    "c1be4538-9490-4ad4-922a-b2c2bb0b305c": {
     "id": "c1be4538-9490-4ad4-922a-b2c2bb0b305c",
     "prev": "366d5fbb-8b55-41bc-83b1-1471ce38c181",
     "regions": {
      "af07ed43-cb89-4675-bf15-2b8d19118716": {
       "attrs": {
        "height": 0.8,
        "width": 0.8,
        "x": 0.1,
        "y": 0.1
       },
       "content": {
        "cell": "7fad7577-58cd-48d0-bc6f-9dfa19054d9c",
        "part": "whole"
       },
       "id": "af07ed43-cb89-4675-bf15-2b8d19118716"
      }
     }
    },
    "c6375186-21fd-4aec-b55c-35021e347223": {
     "id": "c6375186-21fd-4aec-b55c-35021e347223",
     "prev": "1bb6f61a-1c3a-4551-81d7-d520cfb51584",
     "regions": {
      "ed5d2163-3c29-411d-b901-275619781389": {
       "attrs": {
        "height": 0.8,
        "width": 0.8,
        "x": 0.1,
        "y": 0.1
       },
       "content": {
        "cell": "782a1e33-6f54-4d8a-bf85-b53bc5c60ff9",
        "part": "whole"
       },
       "id": "ed5d2163-3c29-411d-b901-275619781389"
      }
     }
    },
    "ca881eec-cc63-4ab1-8571-610eb8787ce7": {
     "id": "ca881eec-cc63-4ab1-8571-610eb8787ce7",
     "prev": "f6a5c69f-717a-4d2e-88fa-fe594a695b06",
     "regions": {
      "2a199030-7bdb-4d63-8ebd-3d115837641a": {
       "attrs": {
        "height": 0.8,
        "width": 0.8,
        "x": 0.1,
        "y": 0.1
       },
       "content": {
        "cell": "ac7a17f1-f707-4dde-8112-00a2d45587ad",
        "part": "whole"
       },
       "id": "2a199030-7bdb-4d63-8ebd-3d115837641a"
      }
     }
    },
    "cc10cb41-a1b1-401c-9153-47fb951386d4": {
     "id": "cc10cb41-a1b1-401c-9153-47fb951386d4",
     "prev": "69ad7f31-11db-48ec-b3e8-b52f01c025f1",
     "regions": {
      "b38ed5ea-c1b9-4b9e-8772-9138b36da001": {
       "attrs": {
        "height": 0.8,
        "width": 0.8,
        "x": 0.1,
        "y": 0.1
       },
       "content": {
        "cell": "7d245c51-02da-4b89-a99a-30520391e2ed",
        "part": "whole"
       },
       "id": "b38ed5ea-c1b9-4b9e-8772-9138b36da001"
      }
     }
    },
    "cc1d2d5e-32b0-41b4-b205-4bd3482c0659": {
     "id": "cc1d2d5e-32b0-41b4-b205-4bd3482c0659",
     "prev": "c1be4538-9490-4ad4-922a-b2c2bb0b305c",
     "regions": {
      "036c10f9-874b-4cb0-9adf-28721ac253ea": {
       "attrs": {
        "height": 0.8,
        "width": 0.8,
        "x": 0.1,
        "y": 0.1
       },
       "content": {
        "cell": "c765192a-d0f9-4421-a668-4573b004604b",
        "part": "whole"
       },
       "id": "036c10f9-874b-4cb0-9adf-28721ac253ea"
      }
     }
    },
    "cd339bc2-6b4b-4ae0-a0b8-922945a78762": {
     "id": "cd339bc2-6b4b-4ae0-a0b8-922945a78762",
     "prev": "8e6b353e-ed9c-499d-a769-25d81c2042c1",
     "regions": {
      "55edb0e7-fd91-4ad4-bd52-6e881fb84069": {
       "attrs": {
        "height": 0.8,
        "width": 0.8,
        "x": 0.1,
        "y": 0.1
       },
       "content": {
        "cell": "b452c823-b82a-4fac-80f1-bec693e62cb0",
        "part": "whole"
       },
       "id": "55edb0e7-fd91-4ad4-bd52-6e881fb84069"
      }
     }
    },
    "d03d8e56-e740-462e-bd8f-f8175b12cf6a": {
     "id": "d03d8e56-e740-462e-bd8f-f8175b12cf6a",
     "prev": "e0c6dccd-a98a-4a26-b637-de0ddbff5cf9",
     "regions": {
      "c952ad4c-2b6d-4017-b34c-74fa756d3f7a": {
       "attrs": {
        "height": 0.8,
        "width": 0.8,
        "x": 0.1,
        "y": 0.1
       },
       "content": {
        "cell": "b9bcf547-01f6-4149-a35b-6037d478bd3c",
        "part": "whole"
       },
       "id": "c952ad4c-2b6d-4017-b34c-74fa756d3f7a"
      }
     }
    },
    "dac64c6a-88e2-4f00-b266-eeccac279ac4": {
     "id": "dac64c6a-88e2-4f00-b266-eeccac279ac4",
     "prev": "7101c664-b2b2-4a03-965c-1a73050eb601",
     "regions": {
      "0c0a2849-1a03-4c2b-886c-d3dbe6be4739": {
       "attrs": {
        "height": 0.8,
        "width": 0.8,
        "x": 0.1,
        "y": 0.1
       },
       "content": {
        "cell": "07d1f257-2540-4075-9436-34162e9363bd",
        "part": "whole"
       },
       "id": "0c0a2849-1a03-4c2b-886c-d3dbe6be4739"
      }
     }
    },
    "dc1f9545-98c0-4214-a9c4-9bec39e2319b": {
     "id": "dc1f9545-98c0-4214-a9c4-9bec39e2319b",
     "prev": "c00a4f93-623b-47ce-b553-a662de45d91a",
     "regions": {
      "95eeb696-343e-4866-acb5-84a52a4883d2": {
       "attrs": {
        "height": 0.8,
        "width": 0.8,
        "x": 0.1,
        "y": 0.1
       },
       "content": {
        "cell": "c128efa6-7a7e-4a90-a2ea-94146e0f8e04",
        "part": "whole"
       },
       "id": "95eeb696-343e-4866-acb5-84a52a4883d2"
      }
     }
    },
    "e0c6dccd-a98a-4a26-b637-de0ddbff5cf9": {
     "id": "e0c6dccd-a98a-4a26-b637-de0ddbff5cf9",
     "prev": "95af4932-3343-4fcf-829b-f5bad35f7b8b",
     "regions": {
      "e3cc95ed-ef83-4b71-854e-6d1b35138bfa": {
       "attrs": {
        "height": 0.8,
        "width": 0.8,
        "x": 0.1,
        "y": 0.1
       },
       "content": {
        "cell": "7f76d5e6-46c4-4043-82cc-0ea6c15fd4e0",
        "part": "whole"
       },
       "id": "e3cc95ed-ef83-4b71-854e-6d1b35138bfa"
      }
     }
    },
    "e4dcb91f-6e94-4901-9153-53e74e210cbe": {
     "id": "e4dcb91f-6e94-4901-9153-53e74e210cbe",
     "prev": "36e2764a-12d1-48eb-9b73-776c3227a729",
     "regions": {
      "1ffadef6-ed3f-4776-b793-53a3291cceb1": {
       "attrs": {
        "height": 0.8,
        "width": 0.8,
        "x": 0.1,
        "y": 0.1
       },
       "content": {
        "cell": "37504c89-4082-4cec-9693-dbe41a81f6d9",
        "part": "whole"
       },
       "id": "1ffadef6-ed3f-4776-b793-53a3291cceb1"
      }
     }
    },
    "eb2b12f6-3dee-4c7c-aa18-73fe13f9dc94": {
     "id": "eb2b12f6-3dee-4c7c-aa18-73fe13f9dc94",
     "prev": null,
     "regions": {
      "11e7eb2c-2c91-422a-96e6-02a8e5a6c294": {
       "attrs": {
        "height": 0.8,
        "width": 0.8,
        "x": 0.1,
        "y": 0.1
       },
       "content": {
        "cell": "74427125-3561-4468-9b43-57e6e362a1ed",
        "part": "whole"
       },
       "id": "11e7eb2c-2c91-422a-96e6-02a8e5a6c294"
      }
     }
    },
    "ee6ad32d-afd2-4a17-bc0d-25d2ac157470": {
     "id": "ee6ad32d-afd2-4a17-bc0d-25d2ac157470",
     "prev": "f8c6a184-2632-4437-bc22-d31c2fe6c07e",
     "regions": {
      "f7a6a8f8-99da-4f16-9314-94c00f1aa846": {
       "attrs": {
        "height": 0.8,
        "width": 0.8,
        "x": 0.1,
        "y": 0.1
       },
       "content": {
        "cell": "1ff0ff9b-838a-40f8-8ef9-e04615a5f96e",
        "part": "whole"
       },
       "id": "f7a6a8f8-99da-4f16-9314-94c00f1aa846"
      }
     }
    },
    "f50258dd-34b6-4cf4-81e1-aa8871a315e1": {
     "id": "f50258dd-34b6-4cf4-81e1-aa8871a315e1",
     "prev": "61cba4b5-f653-4e96-a799-26b2951b2353",
     "regions": {
      "6e8f3096-b880-4828-98ac-4634e64a3aeb": {
       "attrs": {
        "height": 0.8,
        "width": 0.8,
        "x": 0.1,
        "y": 0.1
       },
       "content": {
        "cell": "9d07b42d-9712-44d7-bab7-b51161b6e3a2",
        "part": "whole"
       },
       "id": "6e8f3096-b880-4828-98ac-4634e64a3aeb"
      }
     }
    },
    "f6a5c69f-717a-4d2e-88fa-fe594a695b06": {
     "id": "f6a5c69f-717a-4d2e-88fa-fe594a695b06",
     "prev": "2aefa571-3f59-4131-b3e0-7ca1886031a0",
     "regions": {
      "37d32a1c-1190-44a6-9ae0-cec0153f01f6": {
       "attrs": {
        "height": 0.8,
        "width": 0.8,
        "x": 0.1,
        "y": 0.1
       },
       "content": {
        "cell": "ac374ff5-6ef8-45b8-9542-e95029cc5c32",
        "part": "whole"
       },
       "id": "37d32a1c-1190-44a6-9ae0-cec0153f01f6"
      }
     }
    },
    "f6c86fc7-bd80-4faa-9a51-cbf55892636f": {
     "id": "f6c86fc7-bd80-4faa-9a51-cbf55892636f",
     "prev": "17c7d956-1a9c-4486-945e-bf4b15e24ce7",
     "regions": {
      "fa9233b5-c8cc-4647-b71d-bb4de48799f5": {
       "attrs": {
        "height": 0.8,
        "width": 0.8,
        "x": 0.1,
        "y": 0.1
       },
       "content": {
        "cell": "556242f3-f7d1-442b-a0f7-4d0a7a25c5fb",
        "part": "whole"
       },
       "id": "fa9233b5-c8cc-4647-b71d-bb4de48799f5"
      }
     }
    },
    "f7a6b555-bc82-42d3-8c6a-2d551ca1aefb": {
     "id": "f7a6b555-bc82-42d3-8c6a-2d551ca1aefb",
     "prev": "7516e60f-6ea1-419b-a167-7dfb4bb925e4",
     "regions": {
      "6f27d61b-3de0-48ee-80f8-23fd95b1d8ff": {
       "attrs": {
        "height": 0.8,
        "width": 0.8,
        "x": 0.1,
        "y": 0.1
       },
       "content": {
        "cell": "9f6c6933-5d34-45e6-9382-9ddf9b899b75",
        "part": "whole"
       },
       "id": "6f27d61b-3de0-48ee-80f8-23fd95b1d8ff"
      }
     }
    },
    "f88b0979-5f78-48de-bd7a-3ac570a80015": {
     "id": "f88b0979-5f78-48de-bd7a-3ac570a80015",
     "prev": "5597bfd0-bf12-4628-a5b9-7c3cacf0f5f8",
     "regions": {
      "7e7afebd-01b1-47ad-8fe9-3866cf71777c": {
       "attrs": {
        "height": 0.8,
        "width": 0.8,
        "x": 0.1,
        "y": 0.1
       },
       "content": {
        "cell": "fae68d29-2658-447d-91cf-863fd4cd0973",
        "part": "whole"
       },
       "id": "7e7afebd-01b1-47ad-8fe9-3866cf71777c"
      }
     }
    },
    "f8c6a184-2632-4437-bc22-d31c2fe6c07e": {
     "id": "f8c6a184-2632-4437-bc22-d31c2fe6c07e",
     "prev": "4a991f09-7769-4cdc-aea0-c0c180af90a8",
     "regions": {
      "6a343f93-88dc-4b4f-8aa8-787b14227efa": {
       "attrs": {
        "height": 0.8,
        "width": 0.8,
        "x": 0.1,
        "y": 0.1
       },
       "content": {
        "cell": "11ef578a-58e8-409b-8ec1-7accce76d831",
        "part": "whole"
       },
       "id": "6a343f93-88dc-4b4f-8aa8-787b14227efa"
      }
     }
    }
   },
   "themes": {
    "default": "b413747d-de10-4f55-974f-9dccb50d8260",
    "theme": {
     "b413747d-de10-4f55-974f-9dccb50d8260": {
      "backgrounds": {
       "dc7afa04-bf90-40b1-82a5-726e3cff5267": {
        "background-color": "31af15d2-7e15-44c5-ab5e-e04b16a89eff",
        "id": "dc7afa04-bf90-40b1-82a5-726e3cff5267"
       }
      },
      "id": "b413747d-de10-4f55-974f-9dccb50d8260",
      "palette": {
       "19cc588f-0593-49c9-9f4b-e4d7cc113b1c": {
        "id": "19cc588f-0593-49c9-9f4b-e4d7cc113b1c",
        "rgb": [
         252,
         252,
         252
        ]
       },
       "31af15d2-7e15-44c5-ab5e-e04b16a89eff": {
        "id": "31af15d2-7e15-44c5-ab5e-e04b16a89eff",
        "rgb": [
         68,
         68,
         68
        ]
       },
       "50f92c45-a630-455b-aec3-788680ec7410": {
        "id": "50f92c45-a630-455b-aec3-788680ec7410",
        "rgb": [
         197,
         226,
         245
        ]
       },
       "c5cc3653-2ee1-402a-aba2-7caae1da4f6c": {
        "id": "c5cc3653-2ee1-402a-aba2-7caae1da4f6c",
        "rgb": [
         43,
         126,
         184
        ]
       },
       "efa7f048-9acb-414c-8b04-a26811511a21": {
        "id": "efa7f048-9acb-414c-8b04-a26811511a21",
        "rgb": [
         25.118061674008803,
         73.60176211453744,
         107.4819383259912
        ]
       }
      },
      "rules": {
       "a": {
        "color": "19cc588f-0593-49c9-9f4b-e4d7cc113b1c"
       },
       "blockquote": {
        "color": "50f92c45-a630-455b-aec3-788680ec7410",
        "font-size": 3
       },
       "code": {
        "font-family": "Anonymous Pro"
       },
       "h1": {
        "color": "19cc588f-0593-49c9-9f4b-e4d7cc113b1c",
        "font-family": "Merriweather",
        "font-size": 8
       },
       "h2": {
        "color": "19cc588f-0593-49c9-9f4b-e4d7cc113b1c",
        "font-family": "Merriweather",
        "font-size": 6
       },
       "h3": {
        "color": "50f92c45-a630-455b-aec3-788680ec7410",
        "font-family": "Lato",
        "font-size": 5.5
       },
       "h4": {
        "color": "c5cc3653-2ee1-402a-aba2-7caae1da4f6c",
        "font-family": "Lato",
        "font-size": 5
       },
       "h5": {
        "font-family": "Lato"
       },
       "h6": {
        "font-family": "Lato"
       },
       "h7": {
        "font-family": "Lato"
       },
       "li": {
        "color": "50f92c45-a630-455b-aec3-788680ec7410",
        "font-size": 3.25
       },
       "pre": {
        "font-family": "Anonymous Pro",
        "font-size": 4
       }
      },
      "text-base": {
       "color": "19cc588f-0593-49c9-9f4b-e4d7cc113b1c",
       "font-family": "Lato",
       "font-size": 4
      }
     }
    }
   }
  }
 },
 "nbformat": 4,
 "nbformat_minor": 2
}
