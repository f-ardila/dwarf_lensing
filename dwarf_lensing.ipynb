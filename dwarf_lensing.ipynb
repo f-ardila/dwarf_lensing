{
 "cells": [
  {
   "cell_type": "code",
   "execution_count": 1,
   "metadata": {},
   "outputs": [
    {
     "name": "stdout",
     "output_type": "stream",
     "text": [
      "2.7.13 |Anaconda custom (x86_64)| (default, Dec 20 2016, 23:05:08) \n",
      "[GCC 4.2.1 Compatible Apple LLVM 6.0 (clang-600.0.57)]\n"
     ]
    }
   ],
   "source": [
    "import sys\n",
    "print(sys.version)"
   ]
  },
  {
   "cell_type": "code",
   "execution_count": 2,
   "metadata": {
    "collapsed": true
   },
   "outputs": [],
   "source": [
    "import numpy as np\n",
    "import matplotlib.pyplot as plt\n",
    "from astropy.io import ascii\n",
    "\n",
    "import halotools\n"
   ]
  },
  {
   "cell_type": "markdown",
   "metadata": {},
   "source": [
    "# COSMOS SMF"
   ]
  },
  {
   "cell_type": "code",
   "execution_count": 3,
   "metadata": {
    "collapsed": true
   },
   "outputs": [],
   "source": [
    "#first quick&dirty SMF in COSMOS at z~0.2\n",
    "cosmos_SMF_fit_file='Data/mf_mass2b_fl5b_tot_VmaxFit2D0.dat'\n",
    "cosmos_SMF_points_file='Data/mf_mass2b_fl5b_tot_Vmax0.dat'"
   ]
  },
  {
   "cell_type": "code",
   "execution_count": 4,
   "metadata": {},
   "outputs": [
    {
     "name": "stdout",
     "output_type": "stream",
     "text": [
      "  log_m      log_phi   log_phi_inf log_phi_sup\n",
      "---------- ----------- ----------- -----------\n",
      "       0.0   0.9907256   1.0965684   0.8843038\n",
      "       0.1   0.9593335   1.0640014   0.8540923\n",
      "       0.2   0.9279413   1.0314345   0.8238808\n",
      "       0.3   0.8965492   0.9988675   0.7936693\n",
      "       0.4    0.865157   0.9663005   0.7634578\n",
      "       0.5   0.8337649   0.9337335   0.7332463\n",
      "       0.6   0.8023727   0.9011666   0.7030348\n",
      "       0.7   0.7709806   0.8685996   0.6728233\n",
      "       0.8   0.7395884   0.8360326   0.6426118\n",
      "       0.9   0.7081963   0.8034657   0.6124003\n",
      "       ...         ...         ...         ...\n",
      "28.9000004 999.9000244 999.9000244 999.9000244\n",
      "29.0000004 999.9000244 999.9000244 999.9000244\n",
      "29.1000004 999.9000244 999.9000244 999.9000244\n",
      "29.2000004 999.9000244 999.9000244 999.9000244\n",
      "29.3000004 999.9000244 999.9000244 999.9000244\n",
      "29.4000004 999.9000244 999.9000244 999.9000244\n",
      "29.5000004 999.9000244 999.9000244 999.9000244\n",
      "29.6000004 999.9000244 999.9000244 999.9000244\n",
      "29.7000004 999.9000244 999.9000244 999.9000244\n",
      "29.8000004 999.9000244 999.9000244 999.9000244\n",
      "29.9000004 999.9000244 999.9000244 999.9000244\n",
      "Length = 300 rows\n",
      " col1     col2       col3       col4   \n",
      "------ ---------- --------- -----------\n",
      " 8.334 -1.6260894   0.01047   0.0107287\n",
      " 8.592 -1.7085151 0.0104339   0.0106908\n",
      " 8.863 -1.7767709 0.0112801    0.011581\n",
      " 9.126 -1.8952282  0.012866   0.0132589\n",
      " 9.393 -1.9646414 0.0135998   0.0140395\n",
      " 9.668 -2.0910648 0.0156967   0.0162854\n",
      " 9.928 -2.1836141 0.0174311     0.01816\n",
      "10.198 -2.2144673 0.0180502    0.018833\n",
      "10.467 -2.3840312 0.0218597   0.0230185\n",
      " 10.72 -2.5224617 0.0254747   0.0270626\n",
      "10.979 -2.7758803 0.0339489   0.0368295\n",
      "11.251 -3.2776016 0.0585549   0.0676986\n",
      "11.486 -3.9974896 0.1249429   0.1760996\n",
      "11.676 -4.9394857   0.30103 999.9000244\n",
      "12.026 -4.8689435   0.30103 999.9000244\n"
     ]
    }
   ],
   "source": [
    "#final SMF in COSMOS at z~0.2\n",
    "cosmos_SMF_fit_file='Data/cosmos2015_dic2017_smf_z01-04_STY0.dat'\n",
    "cosmos_SMF_points_file='Data/cosmos2015_dic2017_smf_z01-04_Vmax0.dat'\n",
    "cosmos_SMF_fit_table=ascii.read(cosmos_SMF_fit_file)\n",
    "cosmos_SMF_points_table=ascii.read(cosmos_SMF_points_file)\n",
    "\n",
    "\n",
    "print(cosmos_SMF_fit_table)\n",
    "print(cosmos_SMF_points_table)"
   ]
  },
  {
   "cell_type": "code",
   "execution_count": 5,
   "metadata": {},
   "outputs": [
    {
     "data": {
      "image/png": "[encoded data removed]",
      "text/plain": [
       "<matplotlib.figure.Figure at 0x113236fd0>"
      ]
     },
     "metadata": {},
     "output_type": "display_data"
    }
   ],
   "source": [
    "plt.plot(cosmos_SMF_fit_table['log_m'], cosmos_SMF_fit_table['log_phi'], label='COSMOS z~0.2 fit')\n",
    "plt.fill_between(cosmos_SMF_fit_table['log_m'], cosmos_SMF_fit_table['log_phi_inf'], \n",
    "                 cosmos_SMF_fit_table['log_phi_sup'], alpha=0.5)\n",
    "plt.errorbar(cosmos_SMF_points_table['col1'], cosmos_SMF_points_table['col2'], \n",
    "             yerr=[cosmos_SMF_points_table['col3'],cosmos_SMF_points_table['col4']], fmt='o', elinewidth=3,\n",
    "            markersize=5, c='#1f77b4', label='COSMOS z~0.2 points')\n",
    "\n",
    "plt.xlabel('log(M)')\n",
    "plt.ylabel('log(Phi)')\n",
    "plt.xlim([8,12.5])\n",
    "plt.ylim([-10,0])\n",
    "plt.legend()\n",
    "plt.show()"
   ]
  },
  {
   "cell_type": "markdown",
   "metadata": {},
   "source": [
    "# Abundance Matching with variable scatter"
   ]
  },
  {
   "cell_type": "markdown",
   "metadata": {},
   "source": [
    "Pick a set of parameter for the PB model and do abundance matching wth variable scatter, and compare the COSMS SMF with the model SMF.\n"
   ]
  },
  {
   "cell_type": "markdown",
   "metadata": {},
   "source": [
    "## read in halo catalog"
   ]
  },
  {
   "cell_type": "code",
   "execution_count": 6,
   "metadata": {
    "collapsed": true
   },
   "outputs": [],
   "source": [
    "#halotools catalog\n",
    "\n",
    "halo_cat_file='Data/hlist_0.78209.list'\n",
    "#scale(0) id(1) desc_scale(2) desc_id(3) num_prog(4) pid(5) upid(6) desc_pid(7) phantom(8) sam_mvir(9) mvir(10)\n",
    "#rvir(11) rs(12) vrms(13) mmp?(14) scale_of_last_MM(15) vmax(16) x(17) y(18) z(19) vx(20) vy(21) vz(22) Jx(23) Jy(24) \n",
    "#Jz(25) Spin(26) Breadth_first_ID(27) Depth_first_ID(28) Tree_root_ID(29) Orig_halo_ID(30) Snap_num(31) \n",
    "#Next_coprogenitor_depthfirst_ID(32) Last_progenitor_depthfirst_ID(33) Last_mainleaf_depthfirst_ID(34) Tidal_Force(35)\n",
    "#Tidal_ID(36) Rs_Klypin(37) Mvir_all(38) M200b(39) M200c(40) M500c(41) M2500c(42) Xoff(43) Voff(44) Spin_Bullock(45) \n",
    "#b_to_a(46) c_to_a(47) A[x](48) A[y](49) A[z](50) b_to_a(500c)(51) c_to_a(500c)(52) A[x](500c)(53) A[y](500c)(54) \n",
    "#A[z](500c)(55) T/|U|(56) M_pe_Behroozi(57) M_pe_Diemer(58) Macc(59) Mpeak(60) Vacc(61) Vpeak(62) Halfmass_Scale(63) \n",
    "#Acc_Rate_Inst(64) Acc_Rate_100Myr(65) Acc_Rate_1*Tdyn(66) Acc_Rate_2*Tdyn(67) Acc_Rate_Mpeak(68) Mpeak_Scale(69) \n",
    "#Acc_Scale(70) First_Acc_Scale(71) First_Acc_Mvir(72) First_Acc_Vmax(73) Vmax@Mpeak(74) Tidal_Force_Tdyn(75) \n",
    "#Log_(Vmax/Vmax_Tdyn)(76)\n"
   ]
  },
  {
   "cell_type": "code",
   "execution_count": 7,
   "metadata": {
    "collapsed": true
   },
   "outputs": [],
   "source": [
    "from halotools.sim_manager import TabularAsciiReader\n",
    "from halotools.sim_manager.rockstar_hlist_reader import RockstarHlistReader\n",
    "#python 3 gives error about converting unicode 'TypeError: No conversion path for dtype: dtype('<U12')'\n",
    "\n",
    "output_fname = 'Data/hlist_0.78209.hdf5'\n",
    "columns_to_keep_dict = {'halo_id': (1, 'i8'), 'halo_upid': (6, 'i8'), 'halo_mvir': (10, 'f4'), 'halo_x': (17, 'f4'), \n",
    "                        'halo_y': (18, 'f4'), 'halo_z': (19, 'f4'),'halo_vx': (20, 'f4'), 'halo_vy': (21, 'f4'), \n",
    "                        'halo_vz': (22, 'f4'), 'halo_rvir': (11, 'f4'), 'halo_mpeak': (60, 'f4')}\n",
    "\n",
    "#is there a way to read in all columns? NO\n",
    "\n",
    "simname = 'bolshoi-planck'\n",
    "halo_finder = 'rockstar'\n",
    "version_name = 'bplanck_dwarfs'\n",
    "ptcl_version_name='bplanck_dwarfs_downsampled2'\n",
    "ptcl_version_name='bplanck_dwarfs'\n",
    "\n",
    "redshift = 0.278625 #(1/0.78209)-1 ; a=0.78209\n",
    "Lbox, particle_mass = 250, 1.5e8"
   ]
  },
  {
   "cell_type": "markdown",
   "metadata": {},
   "source": [
    "## Read in local file as halo catalog"
   ]
  },
  {
   "cell_type": "code",
   "execution_count": 81,
   "metadata": {},
   "outputs": [
    {
     "name": "stdout",
     "output_type": "stream",
     "text": [
      "\n",
      "\n",
      "The information about your ascii file and the metadata about the catalog \n",
      "have been processed and no exceptions were raised. \n",
      "Use the ``read_halocat`` method to read the ascii data, \n",
      "setting the write_to_disk and update_cache_log arguments as you like. \n",
      "See the docstring of the ``read_halocat`` method\n",
      "for details about these options. \n",
      "\n",
      "\n",
      "...Processing ASCII data of file: \n",
      "/Users/fardila/Documents/GitHub/dwarf_lensing/Data/hlist_0.78209.list\n",
      " \n",
      "Total number of rows in detected data = 12939617\n",
      "Number of rows in detected header = 62 \n",
      "\n",
      "... working on chunk 0 of 18\n",
      "... working on chunk 1 of 18\n",
      "... working on chunk 2 of 18\n",
      "... working on chunk 3 of 18\n",
      "... working on chunk 4 of 18\n",
      "... working on chunk 5 of 18\n",
      "... working on chunk 6 of 18\n",
      "... working on chunk 7 of 18\n",
      "... working on chunk 8 of 18\n",
      "... working on chunk 9 of 18\n",
      "... working on chunk 10 of 18\n",
      "... working on chunk 11 of 18\n",
      "... working on chunk 12 of 18\n",
      "... working on chunk 13 of 18\n",
      "... working on chunk 14 of 18\n",
      "... working on chunk 15 of 18\n",
      "... working on chunk 16 of 18\n",
      "... working on chunk 17 of 18\n",
      "Total runtime to read in ASCII = 3.2 minutes\n",
      "\n",
      "\u0007\n"
     ]
    }
   ],
   "source": [
    "reader = RockstarHlistReader(halo_cat_file, columns_to_keep_dict, output_fname, simname, halo_finder, redshift, \n",
    "                             version_name, Lbox, particle_mass, overwrite=True) # doctest: +SKIP\n",
    "reader.read_halocat(['halo_rvir'], write_to_disk = True, update_cache_log = True) # doctest: +SKIP"
   ]
  },
  {
   "cell_type": "code",
   "execution_count": 80,
   "metadata": {},
   "outputs": [
    {
     "name": "stdout",
     "output_type": "stream",
     "text": [
      "('Attribute keys : ', [u'simname', u'halo_finder', u'redshift', u'version_name', u'fname', u'Lbox', u'particle_mass', u'orig_ascii_fname', u'time_of_catalog_production', u'processing_notes'])\n",
      "('Dataset keys : ', [u'data'])\n"
     ]
    },
    {
     "data": {
      "text/plain": [
       "array([ (-1, 162700004950016.0, 1.2072010040283203, 43.11970138549805, 18.14896011352539, 162700004950016.0, 2404371171, 36.04457092285156, 2404371171),\n",
       "       (2404371171, 6818999808.0, 0.03770900145173073, 43.78070831298828, 18.667800903320312, 4959000064.0, 2404371172, 35.53276062011719, 2404371171),\n",
       "       (2404371171, 5888999936.0, 0.035186998546123505, 43.79096984863281, 17.89661979675293, 4028999936.0, 2404371173, 35.40476989746094, 2404371171),\n",
       "       ...,\n",
       "       (-1, 309900000.0, 0.014965000562369823, 223.76075744628906, 248.99447631835938, 309900000.0, 2416007927, 237.99644470214844, 2416007927),\n",
       "       (-1, 464900000.0, 0.01712999865412712, 221.73890686035156, 248.03411865234375, 464900000.0, 2416007949, 225.24017333984375, 2416007949),\n",
       "       (-1, 2324000000.0, 0.02929299883544445, 225.42611694335938, 243.03797912597656, 2324000000.0, 2416008057, 225.692138671875, 2416008057)], \n",
       "      dtype=[('halo_upid', '<i8'), ('halo_mpeak', '<f4'), ('halo_rvir', '<f4'), ('halo_y', '<f4'), ('halo_z', '<f4'), ('halo_mvir', '<f4'), ('halo_id', '<i8'), ('halo_x', '<f4'), ('halo_hostid', '<i8')])"
      ]
     },
     "execution_count": 80,
     "metadata": {},
     "output_type": "execute_result"
    }
   ],
   "source": [
    "#explore with h5py\n",
    "import h5py\n",
    "# Load file\n",
    "f = h5py.File('Data/hlist_0.78209.hdf5', 'r')\n",
    "\n",
    "#HDF files have attributes: metadata attached to the whole dataset\n",
    "print('Attribute keys : ', f.attrs.keys())\n",
    "#Then there is the actual data, which is also called with keywords \n",
    "print('Dataset keys : ', f.keys())\n",
    "\n",
    "f['data'].value\n"
   ]
  },
  {
   "cell_type": "code",
   "execution_count": 8,
   "metadata": {},
   "outputs": [
    {
     "name": "stdout",
     "output_type": "stream",
     "text": [
      "('bolplanck', 'rockstar', 'halotools_v0p4', '0.4966', '/Users/fardila/.astropy/cache/halotools/halo_catalogs/bolplanck/rockstar/hlist_0.66818.list.halotools_v0p4.hdf5')\n",
      "('bolshoi', 'rockstar', 'halotools_v0p4', '-0.0003', '/Users/fardila/.astropy/cache/halotools/halo_catalogs/bolshoi/rockstar/hlist_1.00035.list.halotools_v0p4.hdf5')\n",
      "('bolshoi-planck', 'rockstar', 'bplanck_dwarfs', '0.2786', 'Data/hlist_0.78209.hdf5')\n",
      "0.2786\n",
      "bplanck_dwarfs\n"
     ]
    }
   ],
   "source": [
    "#The halo catalog is now stored in cache and can be loaded into memory at any time\n",
    "from halotools.sim_manager import HaloTableCache, CachedHaloCatalog\n",
    "cache = HaloTableCache()\n",
    "\n",
    "#list cache entries\n",
    "for entry in cache.log: \n",
    "    print(entry) \n",
    "    \n",
    "#read in halocat    \n",
    "halocat = CachedHaloCatalog(simname = simname, halo_finder = halo_finder, \n",
    "                            version_name = version_name, redshift = redshift, ptcl_version_name=ptcl_version_name) # doctest: +SKIP\n",
    "\n",
    "print(halocat.redshift) # doctest: +SKIP\n",
    "print(halocat.ptcl_version_name) # doctest: +SKIP\n",
    "\n",
    "       "
   ]
  },
  {
   "cell_type": "markdown",
   "metadata": {},
   "source": [
    "## abundance match with variable scatter"
   ]
  },
  {
   "cell_type": "code",
   "execution_count": 9,
   "metadata": {},
   "outputs": [
    {
     "name": "stdout",
     "output_type": "stream",
     "text": [
      "halo_upid  halo_hostid halo_mpeak  halo_x ...    vz    galid stellar_mass\n",
      "---------- ----------- ---------- ------- ... -------- ----- ------------\n",
      "        -1  2404371171  1.627e+14 36.0446 ...  -118.07     0  7.64772e+10\n",
      "2404371171  2404371171  6.819e+09 35.5328 ...   484.04     1      89036.8\n",
      "2404371171  2404371171  5.889e+09 35.4048 ...  -214.14     2     383746.0\n",
      "2404371171  2404371171  5.734e+09 35.4013 ...  -795.51     3     158669.0\n",
      "2404371171  2404371171  3.254e+09 35.2266 ...  -213.05     4      13331.5\n",
      "2404371171  2404371171  7.376e+10 35.8458 ... -1119.11     5  1.81676e+08\n",
      "2404371171  2404371171  1.085e+09 35.4068 ...  -633.85     6      10964.9\n",
      "2404371171  2404371171  4.959e+09  36.277 ...  1374.05     7      89114.0\n",
      "2404371171  2404371171  9.298e+08  35.363 ...  -591.06     8      2095.63\n"
     ]
    }
   ],
   "source": [
    "from halotools.empirical_models import PrebuiltSubhaloModelFactory\n",
    "model = PrebuiltSubhaloModelFactory('behroozi10', redshift=redshift, \n",
    "                                    scatter_abscissa=[12, 15], scatter_ordinates=[0.4, 0.2])\n",
    "model.populate_mock(halocat)\n",
    "print(model.mock.galaxy_table[0:9])"
   ]
  },
  {
   "cell_type": "code",
   "execution_count": 10,
   "metadata": {},
   "outputs": [
    {
     "data": {
      "text/plain": [
       "{u'scatter_model_param1': 0.40000000000000002,\n",
       " u'scatter_model_param2': 0.20000000000000001,\n",
       " u'smhm_beta_0': 0.43,\n",
       " u'smhm_beta_a': 0.18,\n",
       " u'smhm_delta_0': 0.56,\n",
       " u'smhm_delta_a': 0.18,\n",
       " u'smhm_gamma_0': 1.54,\n",
       " u'smhm_gamma_a': 2.52,\n",
       " u'smhm_m0_0': 10.72,\n",
       " u'smhm_m0_a': 0.59,\n",
       " u'smhm_m1_0': 12.35,\n",
       " u'smhm_m1_a': 0.3}"
      ]
     },
     "execution_count": 10,
     "metadata": {},
     "output_type": "execute_result"
    }
   ],
   "source": [
    "model.param_dict\n",
    "#model._haloprop_list"
   ]
  },
  {
   "cell_type": "code",
   "execution_count": 11,
   "metadata": {
    "collapsed": true
   },
   "outputs": [],
   "source": [
    "#calculate smf\n",
    "#Bolshoi volume was 250h^(-1)Mpc on each side http://iopscience.iop.org/article/10.1088/0004-637X/740/2/102/pdf\n",
    "\n",
    "M     = model.mock.galaxy_table['stellar_mass']         #Read stellar masses\n",
    "logM  = np.log10(M)                     #Take logarithm\n",
    "nbins = 100                             #Number of bins to divide data into\n",
    "V     = (250/0.7)**3                    #Survey volume in Mpc3\n",
    "Phi,edg = np.histogram(logM,bins=nbins) #Unnormalized histogram and bin edges\n",
    "dM    = edg[1] - edg[0]                 #Bin size\n",
    "centers   = edg[0:-1] + dM/2.           #Mass axis\n",
    "Phi   = Phi / float(V) / dM             #Normalize to volume and bin size\n",
    "logPhi= np.log10(Phi)\n"
   ]
  },
  {
   "cell_type": "code",
   "execution_count": 12,
   "metadata": {},
   "outputs": [
    {
     "data": {
      "image/png": "[encoded data removed]",
      "text/plain": [
       "<matplotlib.figure.Figure at 0x119cf4dd0>"
      ]
     },
     "metadata": {},
     "output_type": "display_data"
    }
   ],
   "source": [
    "plt.plot(centers,logPhi, c='r', label='Bolshoi-Planck halos')\n",
    "plt.xlabel('log(M)')\n",
    "plt.ylabel('log(Phi)')\n",
    "plt.legend()\n",
    "plt.show()"
   ]
  },
  {
   "cell_type": "markdown",
   "metadata": {},
   "source": [
    "# plot both SMFs"
   ]
  },
  {
   "cell_type": "code",
   "execution_count": 14,
   "metadata": {},
   "outputs": [
    {
     "data": {
      "image/png": "[encoded data removed]",
      "text/plain": [
       "<matplotlib.figure.Figure at 0x11696c090>"
      ]
     },
     "metadata": {},
     "output_type": "display_data"
    }
   ],
   "source": [
    "plt.plot(centers,logPhi, c='r', label='Bolshoi-Planck halos')\n",
    "plt.plot(cosmos_SMF_fit_table['log_m'], cosmos_SMF_fit_table['log_phi'], label='COSMOS z~0.2 fit')\n",
    "plt.fill_between(cosmos_SMF_fit_table['log_m'], cosmos_SMF_fit_table['log_phi_inf'], \n",
    "                 cosmos_SMF_fit_table['log_phi_sup'], alpha=0.5)\n",
    "plt.errorbar(cosmos_SMF_points_table['col1'], cosmos_SMF_points_table['col2'], \n",
    "             yerr=[cosmos_SMF_points_table['col3'],cosmos_SMF_points_table['col4']], fmt='o', elinewidth=3,\n",
    "            markersize=5, c='#1f77b4', label='COSMOS z~0.2 points')\n",
    "\n",
    "plt.xlabel('log(M)')\n",
    "plt.ylabel('log(Phi)')\n",
    "plt.xlim([8,12.5])\n",
    "plt.ylim([-10,0])\n",
    "plt.legend(loc='lower left')\n",
    "plt.show()"
   ]
  },
  {
   "cell_type": "markdown",
   "metadata": {
    "collapsed": true
   },
   "source": [
    "# Compute the lensing"
   ]
  },
  {
   "cell_type": "markdown",
   "metadata": {},
   "source": [
    "* Read in the DM particles, x, y,z (manually)\n",
    "* Precompute the lensing\n",
    "* Then compute the lensing for the model above (plot the model Delta Sigma verus R)\n",
    "* Then compare the lensing with the data"
   ]
  },
  {
   "cell_type": "markdown",
   "metadata": {},
   "source": [
    "## read in DM particle positions"
   ]
  },
  {
   "cell_type": "code",
   "execution_count": 78,
   "metadata": {},
   "outputs": [
    {
     "ename": "AttributeError",
     "evalue": "'SubhaloMockFactory' object has no attribute 'ptcl_table'",
     "output_type": "error",
     "traceback": [
      "\u001b[0;31m---------------------------------------------------------------------------\u001b[0m",
      "\u001b[0;31mAttributeError\u001b[0m                            Traceback (most recent call last)",
      "\u001b[0;32m<ipython-input-78-ea35ae85d77c>\u001b[0m in \u001b[0;36m<module>\u001b[0;34m()\u001b[0m\n\u001b[0;32m----> 1\u001b[0;31m \u001b[0mpx\u001b[0m \u001b[0;34m=\u001b[0m \u001b[0mmodel\u001b[0m\u001b[0;34m.\u001b[0m\u001b[0mmock\u001b[0m\u001b[0;34m.\u001b[0m\u001b[0mptcl_table\u001b[0m\u001b[0;34m[\u001b[0m\u001b[0;34m'x'\u001b[0m\u001b[0;34m]\u001b[0m\u001b[0;34m\u001b[0m\u001b[0m\n\u001b[0m\u001b[1;32m      2\u001b[0m \u001b[0mpy\u001b[0m \u001b[0;34m=\u001b[0m \u001b[0mmodel\u001b[0m\u001b[0;34m.\u001b[0m\u001b[0mmock\u001b[0m\u001b[0;34m.\u001b[0m\u001b[0mptcl_table\u001b[0m\u001b[0;34m[\u001b[0m\u001b[0;34m'y'\u001b[0m\u001b[0;34m]\u001b[0m\u001b[0;34m\u001b[0m\u001b[0m\n\u001b[1;32m      3\u001b[0m \u001b[0mpz\u001b[0m \u001b[0;34m=\u001b[0m \u001b[0mmodel\u001b[0m\u001b[0;34m.\u001b[0m\u001b[0mmock\u001b[0m\u001b[0;34m.\u001b[0m\u001b[0mptcl_table\u001b[0m\u001b[0;34m[\u001b[0m\u001b[0;34m'z'\u001b[0m\u001b[0;34m]\u001b[0m\u001b[0;34m\u001b[0m\u001b[0m\n\u001b[1;32m      4\u001b[0m \u001b[0mparticles\u001b[0m \u001b[0;34m=\u001b[0m \u001b[0mnp\u001b[0m\u001b[0;34m.\u001b[0m\u001b[0mvstack\u001b[0m\u001b[0;34m(\u001b[0m\u001b[0;34m(\u001b[0m\u001b[0mpx\u001b[0m\u001b[0;34m,\u001b[0m \u001b[0mpy\u001b[0m\u001b[0;34m,\u001b[0m \u001b[0mpz\u001b[0m\u001b[0;34m)\u001b[0m\u001b[0;34m)\u001b[0m\u001b[0;34m.\u001b[0m\u001b[0mT\u001b[0m\u001b[0;34m\u001b[0m\u001b[0m\n",
      "\u001b[0;31mAttributeError\u001b[0m: 'SubhaloMockFactory' object has no attribute 'ptcl_table'"
     ]
    }
   ],
   "source": [
    "px = model.mock.ptcl_table['x']\n",
    "py = model.mock.ptcl_table['y']\n",
    "pz = model.mock.ptcl_table['z']\n",
    "particles = np.vstack((px, py, pz)).T"
   ]
  },
  {
   "cell_type": "code",
   "execution_count": 13,
   "metadata": {},
   "outputs": [],
   "source": [
    "from astropy.table import Table\n",
    "\n",
    "ptcl_table = Table.read('Data/bplanck_particles_100m_a0.78209.hdf5', path='data')\n",
    "\n",
    "px = ptcl_table['x']\n",
    "py = ptcl_table['y']\n",
    "pz = ptcl_table['z']\n",
    "particles = np.vstack((px, py, pz)).T"
   ]
  },
  {
   "cell_type": "markdown",
   "metadata": {},
   "source": [
    "## read in galaxy positions"
   ]
  },
  {
   "cell_type": "code",
   "execution_count": 14,
   "metadata": {
    "collapsed": true
   },
   "outputs": [],
   "source": [
    "x = model.mock.galaxy_table['x']\n",
    "y = model.mock.galaxy_table['y']\n",
    "z = model.mock.galaxy_table['z']\n",
    "galaxies = np.vstack((x, y, z)).T"
   ]
  },
  {
   "cell_type": "code",
   "execution_count": 15,
   "metadata": {},
   "outputs": [
    {
     "name": "stdout",
     "output_type": "stream",
     "text": [
      "12939617\n",
      "99993334\n"
     ]
    }
   ],
   "source": [
    "print len(galaxies)\n",
    "print len(particles)"
   ]
  },
  {
   "cell_type": "markdown",
   "metadata": {},
   "source": [
    "## precompute lensing\n"
   ]
  },
  {
   "cell_type": "markdown",
   "metadata": {},
   "source": [
    "### downsample"
   ]
  },
  {
   "cell_type": "code",
   "execution_count": 16,
   "metadata": {
    "collapsed": true
   },
   "outputs": [],
   "source": [
    "from halotools.utils import randomly_downsample_data\n",
    "num_ptcls_to_use = int(1e4)\n",
    "particles = randomly_downsample_data(particles, num_ptcls_to_use)\n",
    "particle_masses = np.zeros(num_ptcls_to_use) + halocat.particle_mass\n",
    "\n",
    "#need to account for the fact that you are not using the entire snapshot of particles by providing the downsampling_factor argument:\n",
    "halocat.num_ptcl_per_dim=2048 #for bolshoi-planck : https://github.com/astropy/halotools/blob/master/halotools/sim_manager/supported_sims.py\n",
    "total_num_ptcl_in_snapshot = halocat.num_ptcl_per_dim**3\n",
    "downsampling_factor = total_num_ptcl_in_snapshot/float(len(particles))\n",
    "\n",
    "rp_bins = np.logspace(-1, 1, 10)\n",
    "period = model.mock.Lbox    \n",
    "    "
   ]
  },
  {
   "cell_type": "markdown",
   "metadata": {},
   "source": [
    "### calculate the mass enclosed by the cylinders around each galaxy"
   ]
  },
  {
   "cell_type": "code",
   "execution_count": 17,
   "metadata": {
    "collapsed": true
   },
   "outputs": [],
   "source": [
    "from halotools.mock_observables import total_mass_enclosed_per_cylinder\n",
    "\n",
    "mass_encl = total_mass_enclosed_per_cylinder(galaxies, particles, particle_masses, downsampling_factor, rp_bins, period)\n",
    "\n",
    "#create mask for centrals\n",
    "# cenmask = model.mock.galaxy_table['gal_type'] == 'centrals'\n",
    "# cens = galaxies[cenmask]\n",
    "# mass_encl_cens = mass_encl[cenmask, :]\n"
   ]
  },
  {
   "cell_type": "code",
   "execution_count": 18,
   "metadata": {
    "collapsed": true
   },
   "outputs": [],
   "source": [
    "#cosmology\n",
    "from astropy.cosmology import LambdaCDM\n",
    "H0=67.8\n",
    "Om0=0.307\n",
    "Ode0=0.693\n",
    "\n",
    "halocat.cosmology = LambdaCDM(H0, Om0, Ode0)"
   ]
  },
  {
   "cell_type": "markdown",
   "metadata": {},
   "source": [
    "### delta sigma"
   ]
  },
  {
   "cell_type": "code",
   "execution_count": 19,
   "metadata": {
    "collapsed": true
   },
   "outputs": [],
   "source": [
    "from halotools.mock_observables import delta_sigma_from_precomputed_pairs\n",
    "rp, ds = delta_sigma_from_precomputed_pairs(galaxies, mass_encl, rp_bins, period, cosmology=halocat.cosmology)\n",
    "ds = ds/1e12 #there seems to be a discrepancy in units pc^2 --> Mpc^2"
   ]
  },
  {
   "cell_type": "markdown",
   "metadata": {},
   "source": [
    "## plot"
   ]
  },
  {
   "cell_type": "code",
   "execution_count": 20,
   "metadata": {},
   "outputs": [
    {
     "data": {
      "image/png": "[encoded data removed]",
      "text/plain": [
       "<matplotlib.figure.Figure at 0x119cf47d0>"
      ]
     },
     "metadata": {},
     "output_type": "display_data"
    }
   ],
   "source": [
    "fig, ax = plt.subplots(1, 1, figsize=(8, 6))\n",
    "\n",
    "__=plt.loglog()\n",
    "\n",
    "__=ax.plot(rp, ds) #, label=r'All galaxies: $M_{\\ast} > 10^{11}M_{\\odot}$')\n",
    "# __=ax.plot(rp, result_mstar105_satellite_in_pc, label=r'Satellites: $M_{\\ast} \\approx 10^{10.5}M_{\\odot}$')\n",
    "# __=ax.plot(rp, result_mstar105_in_pc, label=r'All galaxies: $M_{\\ast} \\approx 10^{10.5}M_{\\odot}$')\n",
    "# __=ax.plot(rp, result_mstar105_central_in_pc, label=r'Centrals: $M_{\\ast} \\approx 10^{10.5}M_{\\odot}$')\n",
    "\n",
    "__=ax.set_xlim(xmin = 0.1, xmax = 10)\n",
    "# __=ax.set_ylim(ymin = 0.5, ymax = 200)\n",
    "\n",
    "__=ax.set_xlabel(r'$R_{\\rm p} $  $\\rm{[Mpc / h]}$', fontsize=16)\n",
    "__=ax.set_ylabel(r'$\\Delta\\Sigma(R_{\\rm p})$  $[h M_{\\odot} / {\\rm pc}^2]$', fontsize=16)\n",
    "#__=ax.legend(loc='best', fontsize=13)\n",
    "__=plt.xticks(fontsize=15); plt.yticks(fontsize=15)\n",
    "\n",
    "\n",
    "plt.show()"
   ]
  },
  {
   "cell_type": "markdown",
   "metadata": {
    "collapsed": true
   },
   "source": [
    "## compare with data"
   ]
  },
  {
   "cell_type": "code",
   "execution_count": null,
   "metadata": {
    "collapsed": true
   },
   "outputs": [],
   "source": []
  }
 ],
 "metadata": {
  "kernelspec": {
   "display_name": "Python [default]",
   "language": "python",
   "name": "python2"
  },
  "language_info": {
   "codemirror_mode": {
    "name": "ipython",
    "version": 2
   },
   "file_extension": ".py",
   "mimetype": "text/x-python",
   "name": "python",
   "nbconvert_exporter": "python",
   "pygments_lexer": "ipython2",
   "version": "2.7.13"
  }
 },
 "nbformat": 4,
 "nbformat_minor": 2
}
