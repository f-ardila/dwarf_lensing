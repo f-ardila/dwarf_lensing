{
 "cells": [
  {
   "cell_type": "code",
   "execution_count": 1,
   "metadata": {},
   "outputs": [],
   "source": [
    "import numpy as np\n",
    "import matplotlib.pyplot as plt\n",
    "import scipy.interpolate\n",
    "\n",
    "import halotools"
   ]
  },
  {
   "cell_type": "code",
   "execution_count": 2,
   "metadata": {},
   "outputs": [
    {
     "name": "stdout",
     "output_type": "stream",
     "text": [
      "3.0rc1\n"
     ]
    }
   ],
   "source": [
    "import sys \n",
    "sys.path.append('MCMC/')\n",
    "from functions import *"
   ]
  },
  {
   "cell_type": "code",
   "execution_count": 3,
   "metadata": {},
   "outputs": [
    {
     "name": "stdout",
     "output_type": "stream",
     "text": [
      "5SHMR+scatter\n"
     ]
    }
   ],
   "source": [
    "config_directory = '/Users/fardila/Documents/GitHub/dwarf_lensing/MCMC/config/'\n",
    "\n",
    "config_initial = parse_config(config_directory+'mcmc_config_5.yaml')\n",
    "config, cosmos_data, sim_data = initial_model(config_initial)"
   ]
  },
  {
   "cell_type": "code",
   "execution_count": 4,
   "metadata": {},
   "outputs": [],
   "source": [
    "halo_data = sim_data['halocat'].halo_table"
   ]
  },
  {
   "cell_type": "markdown",
   "metadata": {},
   "source": [
    "# Chris code"
   ]
  },
  {
   "cell_type": "code",
   "execution_count": 21,
   "metadata": {},
   "outputs": [],
   "source": [
    "# Given a list of halo masses, find the expected stellar mass\n",
    "# Does this by guessing stellar masses and plugging them into the inverse\n",
    "# Scipy is so sick . . .\n",
    "def f_shmr(log_halo_masses, m1, sm0, beta, delta, gamma):\n",
    "    if np.max(log_halo_masses) > 1e6:\n",
    "        raise Exception(\"You are probably not passing log halo masses!\")\n",
    "    # Function to minimize\n",
    "    def f(stellar_masses_guess):\n",
    "        return np.sum(\n",
    "                np.power(\n",
    "                    f_shmr_inverse(stellar_masses_guess, m1, sm0, beta, delta, gamma) - log_halo_masses,\n",
    "                    2,\n",
    "                )\n",
    "        )\n",
    "    # Gradient of the function to minimize\n",
    "    def f_der(stellar_masses_guess):\n",
    "        return 2 * (\n",
    "                (f_shmr_inverse(stellar_masses_guess, m1, sm0, beta, delta, gamma) - log_halo_masses) *\n",
    "                f_shmr_inverse_der(stellar_masses_guess, sm0, beta, delta, gamma)\n",
    "        )\n",
    "\n",
    "    x = scipy.optimize.minimize(\n",
    "            f,\n",
    "            log_halo_masses - 2,\n",
    "            method=\"CG\",\n",
    "            jac=f_der,\n",
    "            tol=1e-12, # roughly seems to be as far as we go without loss of precision\n",
    "    )\n",
    "    if not x.success:\n",
    "        raise Exception(\"Failure to invert {}\".format(x.message))\n",
    "    return x.x\n",
    "def f_shmr_inverse(log_stellar_masses, m1, sm0, beta, delta, gamma):\n",
    "    if np.max(log_stellar_masses) > 1e6:\n",
    "        raise Exception(\"You are probably not passing log masses!\")\n",
    "\n",
    "    stellar_masses = np.power(10, log_stellar_masses)\n",
    "\n",
    "    usm = stellar_masses / sm0 # unitless stellar mass is sm / characteristic mass\n",
    "    log_halo_mass = np.log10(m1) + (beta * np.log10(usm)) + ((np.power(usm, delta)) / (1 + np.power(usm, -gamma))) - 0.5\n",
    "    return log_halo_mass\n",
    "\n",
    "# d log10(halo_mass) / d log10(stellar_mass)\n",
    "# http://www.wolframalpha.com/input/?i=d%2Fdx+B*log10(x%2FS)+%2B+((x%2FS)%5Ed)+%2F+(1+%2B+(x%2FS)%5E-g)+-+0.5\n",
    "# https://math.stackexchange.com/questions/504997/derivative-with-respect-to-logx\n",
    "def f_shmr_inverse_der(log_stellar_masses, sm0, beta, delta, gamma):\n",
    "    if np.max(log_stellar_masses) > 1e6:\n",
    "        raise Exception(\"You are probably not passing log masses to der!\")\n",
    "\n",
    "    stellar_masses = np.power(10, log_stellar_masses)\n",
    "    usm = stellar_masses / sm0 # unitless stellar mass is sm / characteristic mass\n",
    "    denom = (usm**-gamma) + 1\n",
    "    return stellar_masses * np.log(10) * (\n",
    "        (beta / (stellar_masses * np.log(10))) +\n",
    "        ((delta * np.power(usm, delta - 1)) / (sm0 * denom)) +\n",
    "        ((gamma * np.power(usm, delta - gamma - 1)) / (sm0 * np.power(denom, 2))))\n",
    "\n",
    "\n",
    "\n",
    "\n",
    "\n",
    "\n",
    "# Given the b_params for the behroozi functional form, and the halos in the sim\n",
    "# find the SM for each halo\n",
    "def get_sm_for_sim(sim_data, b_params, s_params, x_field, sanity=False):\n",
    "    assert len(b_params) == 5 and len(s_params) == 2\n",
    "\n",
    "    log_halo_masses = np.log10(sim_data[x_field])\n",
    "    min_mvir = np.min(log_halo_masses)\n",
    "    max_mvir = np.max(log_halo_masses)\n",
    "\n",
    "    sample_halo_masses = np.linspace(min_mvir, max_mvir, num=12)\n",
    "\n",
    "    try:\n",
    "        sample_stellar_masses = f_shmr(\n",
    "            sample_halo_masses,\n",
    "            10**b_params[0],\n",
    "            10**b_params[1],\n",
    "            *b_params[2:])\n",
    "        \n",
    "    except Exception as e:\n",
    "        if e.args[0].startswith(\"Failure to invert\"):\n",
    "            return np.zeros_like(log_halo_masses)\n",
    "        raise\n",
    "\n",
    "\n",
    "    f_mvir_to_sm = scipy.interpolate.interp1d(sample_halo_masses, sample_stellar_masses)\n",
    "\n",
    "    log_stellar_masses = f_mvir_to_sm(log_halo_masses)\n",
    "    if not np.all(np.isfinite(log_stellar_masses)):\n",
    "        print(\"infinite SM\")\n",
    "        return np.zeros_like(log_stellar_masses)\n",
    "\n",
    "    # This adds some stochasticity... Ideally we would keep these as a distribution\n",
    "    # But that is much harder. So we just accept the stochasticity and that the MCMC\n",
    "    # will take longer to converge\n",
    "\n",
    "    log_sm_scatter = s_params[0] * log_halo_masses + s_params[1]\n",
    "    if not np.all(log_sm_scatter > 0):\n",
    "        print(\"negative scatter\")\n",
    "        return np.zeros_like(log_stellar_masses)\n",
    "\n",
    "    log_stellar_masses += np.random.normal(0, log_sm_scatter, size=len(log_sm_scatter))\n",
    "\n",
    "    if sanity:\n",
    "        return log_stellar_masses, sample_halo_masses, sample_stellar_masses, f_mvir_to_sm, min_mvir, max_mvir\n",
    "    else:\n",
    "        return log_stellar_masses"
   ]
  },
  {
   "cell_type": "code",
   "execution_count": 59,
   "metadata": {},
   "outputs": [],
   "source": [
    "mass_b_params = [12.52, 10.91, 0.45, 0.6, 1.83]\n",
    "# mass_s_params = [-0.06, 1.08] #chris params\n",
    "mass_s_params = [-0.2/3., 1.2]  #felipe params\n",
    "mass_x_field = \"halo_mvir\""
   ]
  },
  {
   "cell_type": "code",
   "execution_count": 61,
   "metadata": {},
   "outputs": [],
   "source": [
    "chris_stellar_masses = get_sm_for_sim(halo_data, mass_b_params, mass_s_params, mass_x_field, sanity=False)"
   ]
  },
  {
   "cell_type": "markdown",
   "metadata": {},
   "source": [
    "# HALOTOOLS "
   ]
  },
  {
   "cell_type": "code",
   "execution_count": 26,
   "metadata": {},
   "outputs": [],
   "source": [
    "from halotools.empirical_models import PrebuiltSubhaloModelFactory"
   ]
  },
  {
   "cell_type": "code",
   "execution_count": 62,
   "metadata": {},
   "outputs": [],
   "source": [
    "params = mass_s_params + mass_b_params #concatenate\n",
    "params = [0.4,0.2]+mass_b_params"
   ]
  },
  {
   "cell_type": "code",
   "execution_count": 63,
   "metadata": {},
   "outputs": [],
   "source": [
    "sim_data['model'] = PrebuiltSubhaloModelFactory('behroozi10', redshift=config['sim_z'],\n",
    "                                        scatter_abscissa=[12, 15],\n",
    "                                        scatter_ordinates=[params[0], params[1]])\n",
    "\n",
    "for i, model_param in enumerate(config['param_labels']):\n",
    "    sim_data['model'].param_dict[model_param] = params[i]\n",
    "\n",
    "# set redshift dependence to 0\n",
    "for i, model_param in enumerate(config['redshift_param_labels']):\n",
    "    sim_data['model'].param_dict[model_param] = 0\n",
    "\n",
    "# populate mock\n",
    "# sim_data['model'].populate_mock(deepcopy(sim_data['halocat']))\n",
    "sim_data['model'].populate_mock(sim_data['halocat'])\n",
    "\n",
    "mock_galaxies = sim_data['model'].mock.galaxy_table\n",
    "mock_galaxies = mock_galaxies['x', 'y', 'z', 'stellar_mass']"
   ]
  },
  {
   "cell_type": "code",
   "execution_count": 64,
   "metadata": {},
   "outputs": [],
   "source": [
    "halotools_stellar_masses = np.log10(mock_galaxies['stellar_mass'])"
   ]
  },
  {
   "cell_type": "markdown",
   "metadata": {},
   "source": [
    "# histograms "
   ]
  },
  {
   "cell_type": "code",
   "execution_count": 65,
   "metadata": {
    "scrolled": false
   },
   "outputs": [
    {
     "data": {
      "image/png": "[encoded data removed]",
      "text/plain": [
       "<Figure size 432x288 with 1 Axes>"
      ]
     },
     "metadata": {
      "needs_background": "light"
     },
     "output_type": "display_data"
    }
   ],
   "source": [
    "plt.hist(chris_stellar_masses, bins =100, alpha =0.5, label='chris')\n",
    "plt.hist(halotools_stellar_masses, bins =100, alpha =0.5, label='halotools')\n",
    "\n",
    "plt.legend()\n",
    "plt.xlabel('log stellar mass')\n",
    "\n",
    "plt.show()"
   ]
  },
  {
   "cell_type": "code",
   "execution_count": 66,
   "metadata": {},
   "outputs": [
    {
     "name": "stdout",
     "output_type": "stream",
     "text": [
      "12939617 12939617\n"
     ]
    }
   ],
   "source": [
    "print len(halotools_stellar_masses), len(chris_stellar_masses)"
   ]
  },
  {
   "cell_type": "code",
   "execution_count": 3,
   "metadata": {},
   "outputs": [],
   "source": [
    "scatter_params = np.polyfit([12,15],[0.4,0.2],1)"
   ]
  },
  {
   "cell_type": "code",
   "execution_count": 5,
   "metadata": {},
   "outputs": [
    {
     "data": {
      "text/plain": [
       "-0.06666666666666685"
      ]
     },
     "execution_count": 5,
     "metadata": {},
     "output_type": "execute_result"
    }
   ],
   "source": [
    "scatter_params[0]"
   ]
  },
  {
   "cell_type": "code",
   "execution_count": null,
   "metadata": {},
   "outputs": [],
   "source": []
  }
 ],
 "metadata": {
  "anaconda-cloud": {},
  "kernelspec": {
   "display_name": "Python (env:dwarf_lensing)",
   "language": "python",
   "name": "dwarf_lensing"
  },
  "language_info": {
   "codemirror_mode": {
    "name": "ipython",
    "version": 2
   },
   "file_extension": ".py",
   "mimetype": "text/x-python",
   "name": "python",
   "nbconvert_exporter": "python",
   "pygments_lexer": "ipython2",
   "version": "2.7.15"
  }
 },
 "nbformat": 4,
 "nbformat_minor": 2
}
