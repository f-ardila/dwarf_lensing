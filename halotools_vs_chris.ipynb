{
 "cells": [
  {
   "cell_type": "code",
   "execution_count": 3,
   "metadata": {},
   "outputs": [],
   "source": [
    "import numpy as np\n",
    "import matplotlib.pyplot as plt\n",
    "import scipy.interpolate\n",
    "\n",
    "import halotools"
   ]
  },
  {
   "cell_type": "code",
   "execution_count": null,
   "metadata": {},
   "outputs": [],
   "source": []
  },
  {
   "cell_type": "markdown",
   "metadata": {},
   "source": [
    "## Chris code"
   ]
  },
  {
   "cell_type": "code",
   "execution_count": null,
   "metadata": {},
   "outputs": [],
   "source": [
    "# Given the b_params for the behroozi functional form, and the halos in the sim\n",
    "# find the SM for each halo\n",
    "def get_sm_for_sim(sim_data, b_params, s_params, x_field, sanity=False):\n",
    "    assert len(b_params) == 5 and len(s_params) == 2\n",
    "\n",
    "    log_halo_masses = np.log10(sim_data[x_field])\n",
    "    min_mvir = np.min(log_halo_masses)\n",
    "    max_mvir = np.max(log_halo_masses)\n",
    "\n",
    "    sample_halo_masses = np.linspace(min_mvir, max_mvir, num=12)\n",
    "\n",
    "    try:\n",
    "        sample_stellar_masses = smhm_fit.f_shmr(\n",
    "            sample_halo_masses,\n",
    "            10**b_params[0],\n",
    "            10**b_params[1],\n",
    "            *b_params[2:],\n",
    "        )\n",
    "    except Exception as e:\n",
    "        if e.args[0].startswith(\"Failure to invert\"):\n",
    "            return np.zeros_like(log_halo_masses)\n",
    "        raise\n",
    "\n",
    "\n",
    "    f_mvir_to_sm = scipy.interpolate.interp1d(sample_halo_masses, sample_stellar_masses)\n",
    "\n",
    "    log_stellar_masses = f_mvir_to_sm(log_halo_masses)\n",
    "    if not np.all(np.isfinite(log_stellar_masses)):\n",
    "        print(\"infinite SM\")\n",
    "        return np.zeros_like(log_stellar_masses)\n",
    "\n",
    "    # This adds some stochasticity... Ideally we would keep these as a distribution\n",
    "    # But that is much harder. So we just accept the stochasticity and that the MCMC\n",
    "    # will take longer to converge\n",
    "\n",
    "    log_sm_scatter = s_params[0] * log_halo_masses + s_params[1]\n",
    "    if not np.all(log_sm_scatter > 0):\n",
    "        print(\"negative scatter\")\n",
    "        return np.zeros_like(log_stellar_masses)\n",
    "\n",
    "    log_stellar_masses += np.random.normal(0, log_sm_scatter, size=len(log_sm_scatter))\n",
    "\n",
    "    if sanity:\n",
    "        return log_stellar_masses, sample_halo_masses, sample_stellar_masses, f_mvir_to_sm, min_mvir, max_mvir\n",
    "    else:\n",
    "        return log_stellar_masses"
   ]
  },
  {
   "cell_type": "code",
   "execution_count": null,
   "metadata": {},
   "outputs": [],
   "source": [
    "mass_b_params = [12.52, 10.91, 0.45, 0.6, 1.83]\n",
    "mass_s_params = [-0.06, 1.08]\n",
    "mass_x_field = \"halo_mvir\""
   ]
  },
  {
   "cell_type": "markdown",
   "metadata": {},
   "source": [
    "doesnt seem like chris' code implements using Vmax@Mpeak to calculate stellar mass..."
   ]
  },
  {
   "cell_type": "markdown",
   "metadata": {},
   "source": [
    "Check his notebooks"
   ]
  },
  {
   "cell_type": "code",
   "execution_count": null,
   "metadata": {},
   "outputs": [],
   "source": []
  }
 ],
 "metadata": {
  "anaconda-cloud": {},
  "kernelspec": {
   "display_name": "Python 2",
   "language": "python",
   "name": "python2"
  },
  "language_info": {
   "codemirror_mode": {
    "name": "ipython",
    "version": 2
   },
   "file_extension": ".py",
   "mimetype": "text/x-python",
   "name": "python",
   "nbconvert_exporter": "python",
   "pygments_lexer": "ipython2",
   "version": "2.7.15"
  }
 },
 "nbformat": 4,
 "nbformat_minor": 2
}
