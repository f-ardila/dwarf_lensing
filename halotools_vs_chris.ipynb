{
 "cells": [
  {
   "cell_type": "code",
   "execution_count": 8,
   "metadata": {},
   "outputs": [],
   "source": [
    "import numpy as np\n",
    "import matplotlib.pyplot as plt\n",
    "import scipy.interpolate\n",
    "\n",
    "import halotools\n",
    "from halotools.empirical_models import PrebuiltSubhaloModelFactory"
   ]
  },
  {
   "cell_type": "code",
   "execution_count": 2,
   "metadata": {},
   "outputs": [
    {
     "name": "stdout",
     "output_type": "stream",
     "text": [
      "3.0rc2\n"
     ]
    }
   ],
   "source": [
    "import sys \n",
    "sys.path.append('MCMC/')\n",
    "from functions import *"
   ]
  },
  {
   "cell_type": "code",
   "execution_count": 3,
   "metadata": {},
   "outputs": [
    {
     "name": "stdout",
     "output_type": "stream",
     "text": [
      "5SHMR+scatter\n"
     ]
    }
   ],
   "source": [
    "config_directory = '/Users/fardila/Documents/GitHub/dwarf_lensing/MCMC/config/'\n",
    "\n",
    "config_initial = parse_config(config_directory+'mcmc_config_5.yaml')\n",
    "config, cosmos_data, sim_data = initial_model(config_initial)"
   ]
  },
  {
   "cell_type": "code",
   "execution_count": 4,
   "metadata": {},
   "outputs": [],
   "source": [
    "halo_data = sim_data['halocat'].halo_table"
   ]
  },
  {
   "cell_type": "code",
   "execution_count": 5,
   "metadata": {},
   "outputs": [
    {
     "data": {
      "text/html": [
       "&lt;Table length=12939617&gt;\n",
       "<table id=\"table112128714512\" class=\"table-striped table-bordered table-condensed\">\n",
       "<thead><tr><th>halo_upid</th><th>halo_y</th><th>halo_x</th><th>halo_z</th><th>halo_Vmax@Mpeak</th><th>halo_rvir</th><th>halo_vy</th><th>halo_id</th><th>halo_vx</th><th>halo_mpeak</th><th>halo_vz</th><th>halo_mvir</th><th>halo_hostid</th><th>halo_mvir_host_halo</th></tr></thead>\n",
       "<thead><tr><th>int64</th><th>float32</th><th>float32</th><th>float32</th><th>float64</th><th>float32</th><th>float32</th><th>int64</th><th>float32</th><th>float32</th><th>float32</th><th>float32</th><th>int64</th><th>float32</th></tr></thead>\n",
       "<tr><td>-1</td><td>43.1197</td><td>36.04457</td><td>18.14896</td><td>999.86</td><td>1.207201</td><td>64.9</td><td>2404371171</td><td>21.07</td><td>162700000000000.0</td><td>-118.07</td><td>162700000000000.0</td><td>2404371171</td><td>162700000000000.0</td></tr>\n",
       "<tr><td>2404371171</td><td>43.78071</td><td>35.53276</td><td>18.6678</td><td>40.06</td><td>0.037709</td><td>596.8</td><td>2404371172</td><td>-12.44</td><td>6819000000.0</td><td>484.04</td><td>4959000000.0</td><td>2404371171</td><td>162700000000000.0</td></tr>\n",
       "<tr><td>2404371171</td><td>43.79097</td><td>35.40477</td><td>17.89662</td><td>35.48</td><td>0.035187</td><td>215.19</td><td>2404371173</td><td>-949.14</td><td>5889000000.0</td><td>-214.14</td><td>4029000000.0</td><td>2404371171</td><td>162700000000000.0</td></tr>\n",
       "<tr><td>2404371171</td><td>43.65819</td><td>35.40134</td><td>17.56539</td><td>39.84</td><td>0.031128</td><td>167.72</td><td>2404371174</td><td>-217.95</td><td>5734000000.0</td><td>-795.51</td><td>2789000000.0</td><td>2404371171</td><td>162700000000000.0</td></tr>\n",
       "<tr><td>2404371171</td><td>42.74515</td><td>35.22659</td><td>18.61028</td><td>30.83</td><td>0.029292999</td><td>-681.13</td><td>2404371175</td><td>-593.36</td><td>3254000000.0</td><td>-213.05</td><td>2324000000.0</td><td>2404371171</td><td>162700000000000.0</td></tr>\n",
       "<tr><td>2404371171</td><td>43.34295</td><td>35.84579</td><td>18.4178</td><td>119.86</td><td>0.022721</td><td>163.26</td><td>2404371177</td><td>377.35</td><td>73760000000.0</td><td>-1119.11</td><td>1085000000.0</td><td>2404371171</td><td>162700000000000.0</td></tr>\n",
       "<tr><td>2404371171</td><td>43.06175</td><td>35.40682</td><td>18.02761</td><td>19.03</td><td>0.021583</td><td>1072.98</td><td>2404371178</td><td>957.65</td><td>1085000000.0</td><td>-633.85</td><td>929800000.0</td><td>2404371171</td><td>162700000000000.0</td></tr>\n",
       "<tr><td>2404371171</td><td>43.18763</td><td>36.27704</td><td>18.30016</td><td>43.93</td><td>0.021583</td><td>-507.66</td><td>2404371179</td><td>410.62</td><td>4959000000.0</td><td>1374.05</td><td>929800000.0</td><td>2404371171</td><td>162700000000000.0</td></tr>\n",
       "<tr><td>2404371171</td><td>43.62281</td><td>35.36304</td><td>18.34547</td><td>17.54</td><td>0.018855</td><td>87.78</td><td>2404371190</td><td>-620.88</td><td>929800000.0</td><td>-591.06</td><td>619900000.0</td><td>2404371171</td><td>162700000000000.0</td></tr>\n",
       "<tr><td>2404371171</td><td>43.22979</td><td>35.51199</td><td>18.20248</td><td>16.56</td><td>0.017129999</td><td>-546.64</td><td>2404371193</td><td>866.07</td><td>929800000.0</td><td>-975.84</td><td>464900000.0</td><td>2404371171</td><td>162700000000000.0</td></tr>\n",
       "<tr><td>...</td><td>...</td><td>...</td><td>...</td><td>...</td><td>...</td><td>...</td><td>...</td><td>...</td><td>...</td><td>...</td><td>...</td><td>...</td><td>...</td></tr>\n",
       "<tr><td>2414319681</td><td>229.45398</td><td>220.4789</td><td>247.30775</td><td>23.31</td><td>0.029292999</td><td>1158.18</td><td>2416007520</td><td>591.16</td><td>2634000000.0</td><td>-345.2</td><td>2324000000.0</td><td>2414319681</td><td>19300000000000.0</td></tr>\n",
       "<tr><td>-1</td><td>245.46669</td><td>247.08466</td><td>244.78049</td><td>17.23</td><td>0.021583</td><td>-72.8</td><td>2416007595</td><td>356.85</td><td>929800000.0</td><td>-119.71</td><td>929800000.0</td><td>2416007595</td><td>929800000.0</td></tr>\n",
       "<tr><td>-1</td><td>233.34918</td><td>248.39238</td><td>237.85835</td><td>17.82</td><td>0.024705999</td><td>-114.26</td><td>2416007611</td><td>117.63</td><td>1395000000.0</td><td>-29.39</td><td>1395000000.0</td><td>2416007611</td><td>1395000000.0</td></tr>\n",
       "<tr><td>2414319784</td><td>249.28229</td><td>221.1497</td><td>237.33685</td><td>25.59</td><td>0.024705999</td><td>440.11</td><td>2416007700</td><td>485.38</td><td>3099000000.0</td><td>-331.84</td><td>1395000000.0</td><td>2414319784</td><td>14330000000000.0</td></tr>\n",
       "<tr><td>-1</td><td>232.04192</td><td>222.00246</td><td>242.11325</td><td>11.17</td><td>0.014965001</td><td>-83.5</td><td>2416007815</td><td>129.03</td><td>309900000.0</td><td>95.09</td><td>309900000.0</td><td>2416007815</td><td>309900000.0</td></tr>\n",
       "<tr><td>-1</td><td>235.5961</td><td>223.23349</td><td>247.53503</td><td>16.14</td><td>0.02031</td><td>118.85</td><td>2416007850</td><td>-147.63</td><td>774800000.0</td><td>76.4</td><td>774800000.0</td><td>2416007850</td><td>774800000.0</td></tr>\n",
       "<tr><td>-1</td><td>245.19043</td><td>223.09555</td><td>245.53694</td><td>21.39</td><td>0.028627</td><td>1.63</td><td>2416007911</td><td>-67.63</td><td>2324000000.0</td><td>-109.49</td><td>2169000000.0</td><td>2416007911</td><td>2169000000.0</td></tr>\n",
       "<tr><td>-1</td><td>223.76076</td><td>237.99644</td><td>248.99448</td><td>11.83</td><td>0.014965001</td><td>469.21</td><td>2416007927</td><td>358.23</td><td>309900000.0</td><td>-259.5</td><td>309900000.0</td><td>2416007927</td><td>309900000.0</td></tr>\n",
       "<tr><td>-1</td><td>221.7389</td><td>225.24017</td><td>248.03412</td><td>12.62</td><td>0.017129999</td><td>469.64</td><td>2416007949</td><td>340.01</td><td>464900000.0</td><td>-231.68</td><td>464900000.0</td><td>2416007949</td><td>464900000.0</td></tr>\n",
       "<tr><td>-1</td><td>225.42612</td><td>225.69214</td><td>243.03798</td><td>21.5</td><td>0.029292999</td><td>166.14</td><td>2416008057</td><td>336.96</td><td>2324000000.0</td><td>-178.74</td><td>2324000000.0</td><td>2416008057</td><td>2324000000.0</td></tr>\n",
       "</table>"
      ],
      "text/plain": [
       "<Table length=12939617>\n",
       "halo_upid    halo_y    halo_x  ... halo_hostid halo_mvir_host_halo\n",
       "  int64     float32   float32  ...    int64          float32      \n",
       "---------- --------- --------- ... ----------- -------------------\n",
       "        -1   43.1197  36.04457 ...  2404371171   162700000000000.0\n",
       "2404371171  43.78071  35.53276 ...  2404371171   162700000000000.0\n",
       "2404371171  43.79097  35.40477 ...  2404371171   162700000000000.0\n",
       "2404371171  43.65819  35.40134 ...  2404371171   162700000000000.0\n",
       "2404371171  42.74515  35.22659 ...  2404371171   162700000000000.0\n",
       "2404371171  43.34295  35.84579 ...  2404371171   162700000000000.0\n",
       "2404371171  43.06175  35.40682 ...  2404371171   162700000000000.0\n",
       "2404371171  43.18763  36.27704 ...  2404371171   162700000000000.0\n",
       "2404371171  43.62281  35.36304 ...  2404371171   162700000000000.0\n",
       "2404371171  43.22979  35.51199 ...  2404371171   162700000000000.0\n",
       "       ...       ...       ... ...         ...                 ...\n",
       "2414319681 229.45398  220.4789 ...  2414319681    19300000000000.0\n",
       "        -1 245.46669 247.08466 ...  2416007595         929800000.0\n",
       "        -1 233.34918 248.39238 ...  2416007611        1395000000.0\n",
       "2414319784 249.28229  221.1497 ...  2414319784    14330000000000.0\n",
       "        -1 232.04192 222.00246 ...  2416007815         309900000.0\n",
       "        -1  235.5961 223.23349 ...  2416007850         774800000.0\n",
       "        -1 245.19043 223.09555 ...  2416007911        2169000000.0\n",
       "        -1 223.76076 237.99644 ...  2416007927         309900000.0\n",
       "        -1  221.7389 225.24017 ...  2416007949         464900000.0\n",
       "        -1 225.42612 225.69214 ...  2416008057        2324000000.0"
      ]
     },
     "execution_count": 5,
     "metadata": {},
     "output_type": "execute_result"
    }
   ],
   "source": [
    "halo_data"
   ]
  },
  {
   "cell_type": "code",
   "execution_count": 10,
   "metadata": {},
   "outputs": [],
   "source": [
    "sim_data['model'] = PrebuiltSubhaloModelFactory('behroozi10', redshift=config['sim_z'])\n",
    "\n",
    "\n",
    "# populate mock\n",
    "# sim_data['model'].populate_mock(deepcopy(sim_data['halocat']))\n",
    "sim_data['model'].populate_mock(sim_data['halocat'])"
   ]
  },
  {
   "cell_type": "code",
   "execution_count": 11,
   "metadata": {},
   "outputs": [
    {
     "data": {
      "text/html": [
       "&lt;Table length=12939617&gt;\n",
       "<table id=\"table112128683728\" class=\"table-striped table-bordered table-condensed\">\n",
       "<thead><tr><th>halo_upid</th><th>halo_hostid</th><th>halo_mpeak</th><th>halo_x</th><th>halo_y</th><th>halo_id</th><th>halo_z</th><th>halo_vx</th><th>halo_vy</th><th>halo_vz</th><th>halo_rvir</th><th>halo_mvir</th><th>halo_mvir_host_halo</th><th>x</th><th>y</th><th>z</th><th>vx</th><th>vy</th><th>vz</th><th>galid</th><th>stellar_mass</th></tr></thead>\n",
       "<thead><tr><th>int64</th><th>int64</th><th>float32</th><th>float32</th><th>float32</th><th>int64</th><th>float32</th><th>float32</th><th>float32</th><th>float32</th><th>float32</th><th>float32</th><th>float32</th><th>float32</th><th>float32</th><th>float32</th><th>float32</th><th>float32</th><th>float32</th><th>int64</th><th>float32</th></tr></thead>\n",
       "<tr><td>-1</td><td>2404371171</td><td>162700000000000.0</td><td>36.04457</td><td>43.1197</td><td>2404371171</td><td>18.14896</td><td>21.07</td><td>64.9</td><td>-118.07</td><td>1.207201</td><td>162700000000000.0</td><td>162700000000000.0</td><td>36.04457</td><td>43.1197</td><td>18.14896</td><td>21.07</td><td>64.9</td><td>-118.07</td><td>0</td><td>137801040000.0</td></tr>\n",
       "<tr><td>2404371171</td><td>2404371171</td><td>6819000000.0</td><td>35.53276</td><td>43.78071</td><td>2404371172</td><td>18.6678</td><td>-12.44</td><td>596.8</td><td>484.04</td><td>0.037709</td><td>4959000000.0</td><td>162700000000000.0</td><td>35.53276</td><td>43.78071</td><td>18.6678</td><td>-12.44</td><td>596.8</td><td>484.04</td><td>1</td><td>592078.06</td></tr>\n",
       "<tr><td>2404371171</td><td>2404371171</td><td>5889000000.0</td><td>35.40477</td><td>43.79097</td><td>2404371173</td><td>17.89662</td><td>-949.14</td><td>215.19</td><td>-214.14</td><td>0.035187</td><td>4029000000.0</td><td>162700000000000.0</td><td>35.40477</td><td>43.79097</td><td>17.89662</td><td>-949.14</td><td>215.19</td><td>-214.14</td><td>2</td><td>436996.2</td></tr>\n",
       "<tr><td>2404371171</td><td>2404371171</td><td>5734000000.0</td><td>35.40134</td><td>43.65819</td><td>2404371174</td><td>17.56539</td><td>-217.95</td><td>167.72</td><td>-795.51</td><td>0.031128</td><td>2789000000.0</td><td>162700000000000.0</td><td>35.40134</td><td>43.65819</td><td>17.56539</td><td>-217.95</td><td>167.72</td><td>-795.51</td><td>3</td><td>70071.82</td></tr>\n",
       "<tr><td>2404371171</td><td>2404371171</td><td>3254000000.0</td><td>35.22659</td><td>42.74515</td><td>2404371175</td><td>18.61028</td><td>-593.36</td><td>-681.13</td><td>-213.05</td><td>0.029292999</td><td>2324000000.0</td><td>162700000000000.0</td><td>35.22659</td><td>42.74515</td><td>18.61028</td><td>-593.36</td><td>-681.13</td><td>-213.05</td><td>4</td><td>186992.77</td></tr>\n",
       "<tr><td>2404371171</td><td>2404371171</td><td>73760000000.0</td><td>35.84579</td><td>43.34295</td><td>2404371177</td><td>18.4178</td><td>377.35</td><td>163.26</td><td>-1119.11</td><td>0.022721</td><td>1085000000.0</td><td>162700000000000.0</td><td>35.84579</td><td>43.34295</td><td>18.4178</td><td>377.35</td><td>163.26</td><td>-1119.11</td><td>5</td><td>103285770.0</td></tr>\n",
       "<tr><td>2404371171</td><td>2404371171</td><td>1085000000.0</td><td>35.40682</td><td>43.06175</td><td>2404371178</td><td>18.02761</td><td>957.65</td><td>1072.98</td><td>-633.85</td><td>0.021583</td><td>929800000.0</td><td>162700000000000.0</td><td>35.40682</td><td>43.06175</td><td>18.02761</td><td>957.65</td><td>1072.98</td><td>-633.85</td><td>6</td><td>3966.594</td></tr>\n",
       "<tr><td>2404371171</td><td>2404371171</td><td>4959000000.0</td><td>36.27704</td><td>43.18763</td><td>2404371179</td><td>18.30016</td><td>410.62</td><td>-507.66</td><td>1374.05</td><td>0.021583</td><td>929800000.0</td><td>162700000000000.0</td><td>36.27704</td><td>43.18763</td><td>18.30016</td><td>410.62</td><td>-507.66</td><td>1374.05</td><td>7</td><td>329647.94</td></tr>\n",
       "<tr><td>2404371171</td><td>2404371171</td><td>929800000.0</td><td>35.36304</td><td>43.62281</td><td>2404371190</td><td>18.34547</td><td>-620.88</td><td>87.78</td><td>-591.06</td><td>0.018855</td><td>619900000.0</td><td>162700000000000.0</td><td>35.36304</td><td>43.62281</td><td>18.34547</td><td>-620.88</td><td>87.78</td><td>-591.06</td><td>8</td><td>1487.2104</td></tr>\n",
       "<tr><td>2404371171</td><td>2404371171</td><td>929800000.0</td><td>35.51199</td><td>43.22979</td><td>2404371193</td><td>18.20248</td><td>866.07</td><td>-546.64</td><td>-975.84</td><td>0.017129999</td><td>464900000.0</td><td>162700000000000.0</td><td>35.51199</td><td>43.22979</td><td>18.20248</td><td>866.07</td><td>-546.64</td><td>-975.84</td><td>9</td><td>4014.5454</td></tr>\n",
       "<tr><td>...</td><td>...</td><td>...</td><td>...</td><td>...</td><td>...</td><td>...</td><td>...</td><td>...</td><td>...</td><td>...</td><td>...</td><td>...</td><td>...</td><td>...</td><td>...</td><td>...</td><td>...</td><td>...</td><td>...</td><td>...</td></tr>\n",
       "<tr><td>2414319681</td><td>2414319681</td><td>2634000000.0</td><td>220.4789</td><td>229.45398</td><td>2416007520</td><td>247.30775</td><td>591.16</td><td>1158.18</td><td>-345.2</td><td>0.029292999</td><td>2324000000.0</td><td>19300000000000.0</td><td>220.4789</td><td>229.45398</td><td>247.30775</td><td>591.16</td><td>1158.18</td><td>-345.2</td><td>12939607</td><td>68088.58</td></tr>\n",
       "<tr><td>-1</td><td>2416007595</td><td>929800000.0</td><td>247.08466</td><td>245.46669</td><td>2416007595</td><td>244.78049</td><td>356.85</td><td>-72.8</td><td>-119.71</td><td>0.021583</td><td>929800000.0</td><td>929800000.0</td><td>247.08466</td><td>245.46669</td><td>244.78049</td><td>356.85</td><td>-72.8</td><td>-119.71</td><td>12939608</td><td>5416.6816</td></tr>\n",
       "<tr><td>-1</td><td>2416007611</td><td>1395000000.0</td><td>248.39238</td><td>233.34918</td><td>2416007611</td><td>237.85835</td><td>117.63</td><td>-114.26</td><td>-29.39</td><td>0.024705999</td><td>1395000000.0</td><td>1395000000.0</td><td>248.39238</td><td>233.34918</td><td>237.85835</td><td>117.63</td><td>-114.26</td><td>-29.39</td><td>12939609</td><td>4751.506</td></tr>\n",
       "<tr><td>2414319784</td><td>2414319784</td><td>3099000000.0</td><td>221.1497</td><td>249.28229</td><td>2416007700</td><td>237.33685</td><td>485.38</td><td>440.11</td><td>-331.84</td><td>0.024705999</td><td>1395000000.0</td><td>14330000000000.0</td><td>221.1497</td><td>249.28229</td><td>237.33685</td><td>485.38</td><td>440.11</td><td>-331.84</td><td>12939610</td><td>80482.95</td></tr>\n",
       "<tr><td>-1</td><td>2416007815</td><td>309900000.0</td><td>222.00246</td><td>232.04192</td><td>2416007815</td><td>242.11325</td><td>129.03</td><td>-83.5</td><td>95.09</td><td>0.014965001</td><td>309900000.0</td><td>309900000.0</td><td>222.00246</td><td>232.04192</td><td>242.11325</td><td>129.03</td><td>-83.5</td><td>95.09</td><td>12939611</td><td>258.748</td></tr>\n",
       "<tr><td>-1</td><td>2416007850</td><td>774800000.0</td><td>223.23349</td><td>235.5961</td><td>2416007850</td><td>247.53503</td><td>-147.63</td><td>118.85</td><td>76.4</td><td>0.02031</td><td>774800000.0</td><td>774800000.0</td><td>223.23349</td><td>235.5961</td><td>247.53503</td><td>-147.63</td><td>118.85</td><td>76.4</td><td>12939612</td><td>3781.9204</td></tr>\n",
       "<tr><td>-1</td><td>2416007911</td><td>2324000000.0</td><td>223.09555</td><td>245.19043</td><td>2416007911</td><td>245.53694</td><td>-67.63</td><td>1.63</td><td>-109.49</td><td>0.028627</td><td>2169000000.0</td><td>2169000000.0</td><td>223.09555</td><td>245.19043</td><td>245.53694</td><td>-67.63</td><td>1.63</td><td>-109.49</td><td>12939613</td><td>26043.662</td></tr>\n",
       "<tr><td>-1</td><td>2416007927</td><td>309900000.0</td><td>237.99644</td><td>223.76076</td><td>2416007927</td><td>248.99448</td><td>358.23</td><td>469.21</td><td>-259.5</td><td>0.014965001</td><td>309900000.0</td><td>309900000.0</td><td>237.99644</td><td>223.76076</td><td>248.99448</td><td>358.23</td><td>469.21</td><td>-259.5</td><td>12939614</td><td>210.15932</td></tr>\n",
       "<tr><td>-1</td><td>2416007949</td><td>464900000.0</td><td>225.24017</td><td>221.7389</td><td>2416007949</td><td>248.03412</td><td>340.01</td><td>469.64</td><td>-231.68</td><td>0.017129999</td><td>464900000.0</td><td>464900000.0</td><td>225.24017</td><td>221.7389</td><td>248.03412</td><td>340.01</td><td>469.64</td><td>-231.68</td><td>12939615</td><td>929.3593</td></tr>\n",
       "<tr><td>-1</td><td>2416008057</td><td>2324000000.0</td><td>225.69214</td><td>225.42612</td><td>2416008057</td><td>243.03798</td><td>336.96</td><td>166.14</td><td>-178.74</td><td>0.029292999</td><td>2324000000.0</td><td>2324000000.0</td><td>225.69214</td><td>225.42612</td><td>243.03798</td><td>336.96</td><td>166.14</td><td>-178.74</td><td>12939616</td><td>52318.676</td></tr>\n",
       "</table>"
      ],
      "text/plain": [
       "<Table length=12939617>\n",
       "halo_upid  halo_hostid     halo_mpeak    ...    vz     galid    stellar_mass \n",
       "  int64       int64         float32      ... float32   int64      float32    \n",
       "---------- ----------- ----------------- ... -------- -------- --------------\n",
       "        -1  2404371171 162700000000000.0 ...  -118.07        0 137801040000.0\n",
       "2404371171  2404371171      6819000000.0 ...   484.04        1      592078.06\n",
       "2404371171  2404371171      5889000000.0 ...  -214.14        2       436996.2\n",
       "2404371171  2404371171      5734000000.0 ...  -795.51        3       70071.82\n",
       "2404371171  2404371171      3254000000.0 ...  -213.05        4      186992.77\n",
       "2404371171  2404371171     73760000000.0 ... -1119.11        5    103285770.0\n",
       "2404371171  2404371171      1085000000.0 ...  -633.85        6       3966.594\n",
       "2404371171  2404371171      4959000000.0 ...  1374.05        7      329647.94\n",
       "2404371171  2404371171       929800000.0 ...  -591.06        8      1487.2104\n",
       "2404371171  2404371171       929800000.0 ...  -975.84        9      4014.5454\n",
       "       ...         ...               ... ...      ...      ...            ...\n",
       "2414319681  2414319681      2634000000.0 ...   -345.2 12939607       68088.58\n",
       "        -1  2416007595       929800000.0 ...  -119.71 12939608      5416.6816\n",
       "        -1  2416007611      1395000000.0 ...   -29.39 12939609       4751.506\n",
       "2414319784  2414319784      3099000000.0 ...  -331.84 12939610       80482.95\n",
       "        -1  2416007815       309900000.0 ...    95.09 12939611        258.748\n",
       "        -1  2416007850       774800000.0 ...     76.4 12939612      3781.9204\n",
       "        -1  2416007911      2324000000.0 ...  -109.49 12939613      26043.662\n",
       "        -1  2416007927       309900000.0 ...   -259.5 12939614      210.15932\n",
       "        -1  2416007949       464900000.0 ...  -231.68 12939615       929.3593\n",
       "        -1  2416008057      2324000000.0 ...  -178.74 12939616      52318.676"
      ]
     },
     "execution_count": 11,
     "metadata": {},
     "output_type": "execute_result"
    }
   ],
   "source": [
    "sim_data['model'].mock.galaxy_table"
   ]
  },
  {
   "cell_type": "code",
   "execution_count": null,
   "metadata": {},
   "outputs": [],
   "source": []
  },
  {
   "cell_type": "markdown",
   "metadata": {},
   "source": [
    "# Chris code"
   ]
  },
  {
   "cell_type": "code",
   "execution_count": 13,
   "metadata": {},
   "outputs": [],
   "source": [
    "# Given a list of halo masses, find the expected stellar mass\n",
    "# Does this by guessing stellar masses and plugging them into the inverse\n",
    "# Scipy is so sick . . .\n",
    "def f_shmr(log_halo_masses, m1, sm0, beta, delta, gamma):\n",
    "    if np.max(log_halo_masses) > 1e6:\n",
    "        raise Exception(\"You are probably not passing log halo masses!\")\n",
    "    # Function to minimize\n",
    "    def f(stellar_masses_guess):\n",
    "        return np.sum(\n",
    "                np.power(\n",
    "                    f_shmr_inverse(stellar_masses_guess, m1, sm0, beta, delta, gamma) - log_halo_masses,\n",
    "                    2,\n",
    "                )\n",
    "        )\n",
    "    # Gradient of the function to minimize\n",
    "    def f_der(stellar_masses_guess):\n",
    "        return 2 * (\n",
    "                (f_shmr_inverse(stellar_masses_guess, m1, sm0, beta, delta, gamma) - log_halo_masses) *\n",
    "                f_shmr_inverse_der(stellar_masses_guess, sm0, beta, delta, gamma)\n",
    "        )\n",
    "\n",
    "    x = scipy.optimize.minimize(\n",
    "            f,\n",
    "            log_halo_masses - 2,\n",
    "            method=\"CG\",\n",
    "            jac=f_der,\n",
    "            tol=1e-12, # roughly seems to be as far as we go without loss of precision\n",
    "    )\n",
    "    if not x.success:\n",
    "        raise Exception(\"Failure to invert {}\".format(x.message))\n",
    "    return x.x\n",
    "def f_shmr_inverse(log_stellar_masses, m1, sm0, beta, delta, gamma):\n",
    "    if np.max(log_stellar_masses) > 1e6:\n",
    "        raise Exception(\"You are probably not passing log masses!\")\n",
    "\n",
    "    stellar_masses = np.power(10, log_stellar_masses)\n",
    "\n",
    "    usm = stellar_masses / sm0 # unitless stellar mass is sm / characteristic mass\n",
    "    log_halo_mass = np.log10(m1) + (beta * np.log10(usm)) + ((np.power(usm, delta)) / (1 + np.power(usm, -gamma))) - 0.5\n",
    "    return log_halo_mass\n",
    "\n",
    "# d log10(halo_mass) / d log10(stellar_mass)\n",
    "# http://www.wolframalpha.com/input/?i=d%2Fdx+B*log10(x%2FS)+%2B+((x%2FS)%5Ed)+%2F+(1+%2B+(x%2FS)%5E-g)+-+0.5\n",
    "# https://math.stackexchange.com/questions/504997/derivative-with-respect-to-logx\n",
    "def f_shmr_inverse_der(log_stellar_masses, sm0, beta, delta, gamma):\n",
    "    if np.max(log_stellar_masses) > 1e6:\n",
    "        raise Exception(\"You are probably not passing log masses to der!\")\n",
    "\n",
    "    stellar_masses = np.power(10, log_stellar_masses)\n",
    "    usm = stellar_masses / sm0 # unitless stellar mass is sm / characteristic mass\n",
    "    denom = (usm**-gamma) + 1\n",
    "    return stellar_masses * np.log(10) * (\n",
    "        (beta / (stellar_masses * np.log(10))) +\n",
    "        ((delta * np.power(usm, delta - 1)) / (sm0 * denom)) +\n",
    "        ((gamma * np.power(usm, delta - gamma - 1)) / (sm0 * np.power(denom, 2))))\n",
    "\n",
    "\n",
    "\n",
    "\n",
    "\n",
    "\n",
    "# Given the b_params for the behroozi functional form, and the halos in the sim\n",
    "# find the SM for each halo\n",
    "def get_sm_for_sim(sim_data, b_params, s_params, x_field, sanity=False):\n",
    "    assert len(b_params) == 5 and len(s_params) == 2\n",
    "\n",
    "    log_halo_masses = np.log10(sim_data[x_field])\n",
    "    min_mvir = np.min(log_halo_masses)\n",
    "    max_mvir = np.max(log_halo_masses)\n",
    "\n",
    "    sample_halo_masses = np.linspace(min_mvir, max_mvir, num=12)\n",
    "\n",
    "    try:\n",
    "        sample_stellar_masses = f_shmr(\n",
    "            sample_halo_masses,\n",
    "            10**b_params[0],\n",
    "            10**b_params[1],\n",
    "            *b_params[2:])\n",
    "        \n",
    "    except Exception as e:\n",
    "        if e.args[0].startswith(\"Failure to invert\"):\n",
    "            return np.zeros_like(log_halo_masses)\n",
    "        raise\n",
    "\n",
    "\n",
    "    f_mvir_to_sm = scipy.interpolate.interp1d(sample_halo_masses, sample_stellar_masses)\n",
    "\n",
    "    log_stellar_masses = f_mvir_to_sm(log_halo_masses)\n",
    "    if not np.all(np.isfinite(log_stellar_masses)):\n",
    "        print(\"infinite SM\")\n",
    "        return np.zeros_like(log_stellar_masses)\n",
    "\n",
    "    # This adds some stochasticity... Ideally we would keep these as a distribution\n",
    "    # But that is much harder. So we just accept the stochasticity and that the MCMC\n",
    "    # will take longer to converge\n",
    "\n",
    "    log_sm_scatter = s_params[0] * log_halo_masses + s_params[1]\n",
    "    if not np.all(log_sm_scatter > 0):\n",
    "        print(\"negative scatter\")\n",
    "        return np.zeros_like(log_stellar_masses)\n",
    "\n",
    "    log_stellar_masses += np.random.normal(0, log_sm_scatter, size=len(log_sm_scatter))\n",
    "\n",
    "    if sanity:\n",
    "        return log_stellar_masses, sample_halo_masses, sample_stellar_masses, f_mvir_to_sm, min_mvir, max_mvir\n",
    "    else:\n",
    "        return log_stellar_masses"
   ]
  },
  {
   "cell_type": "code",
   "execution_count": 14,
   "metadata": {},
   "outputs": [],
   "source": [
    "mass_b_params = [12.52, 10.91, 0.45, 0.6, 1.83]\n",
    "# mass_s_params = [-0.06, 1.08] #chris params\n",
    "mass_s_params = [-0.2/3., 1.2]  #felipe params\n",
    "mass_x_field = \"halo_mvir\""
   ]
  },
  {
   "cell_type": "code",
   "execution_count": 15,
   "metadata": {},
   "outputs": [],
   "source": [
    "chris_stellar_masses = get_sm_for_sim(halo_data, mass_b_params, mass_s_params, mass_x_field, sanity=False)"
   ]
  },
  {
   "cell_type": "markdown",
   "metadata": {},
   "source": [
    "# HALOTOOLS "
   ]
  },
  {
   "cell_type": "code",
   "execution_count": 16,
   "metadata": {},
   "outputs": [],
   "source": [
    "from halotools.empirical_models import PrebuiltSubhaloModelFactory"
   ]
  },
  {
   "cell_type": "code",
   "execution_count": 17,
   "metadata": {},
   "outputs": [],
   "source": [
    "params = mass_s_params + mass_b_params #concatenate\n",
    "params = [0.4,0.2]+mass_b_params"
   ]
  },
  {
   "cell_type": "code",
   "execution_count": 18,
   "metadata": {},
   "outputs": [],
   "source": [
    "sim_data['model'] = PrebuiltSubhaloModelFactory('behroozi10', redshift=config['sim_z'],\n",
    "                                        scatter_abscissa=[12, 15],\n",
    "                                        scatter_ordinates=[params[0], params[1]])\n",
    "\n",
    "for i, model_param in enumerate(config['param_labels']):\n",
    "    sim_data['model'].param_dict[model_param] = params[i]\n",
    "\n",
    "# set redshift dependence to 0\n",
    "for i, model_param in enumerate(config['redshift_param_labels']):\n",
    "    sim_data['model'].param_dict[model_param] = 0\n",
    "\n",
    "# populate mock\n",
    "# sim_data['model'].populate_mock(deepcopy(sim_data['halocat']))\n",
    "sim_data['model'].populate_mock(sim_data['halocat'])\n",
    "\n",
    "mock_galaxies = sim_data['model'].mock.galaxy_table\n",
    "mock_galaxies = mock_galaxies['x', 'y', 'z', 'stellar_mass']"
   ]
  },
  {
   "cell_type": "code",
   "execution_count": 19,
   "metadata": {},
   "outputs": [],
   "source": [
    "halotools_stellar_masses = np.log10(mock_galaxies['stellar_mass'])"
   ]
  },
  {
   "cell_type": "markdown",
   "metadata": {},
   "source": [
    "# histograms "
   ]
  },
  {
   "cell_type": "code",
   "execution_count": 65,
   "metadata": {
    "scrolled": false
   },
   "outputs": [
    {
     "data": {
      "image/png": "[encoded data removed]",
      "text/plain": [
       "<Figure size 432x288 with 1 Axes>"
      ]
     },
     "metadata": {
      "needs_background": "light"
     },
     "output_type": "display_data"
    }
   ],
   "source": [
    "plt.hist(chris_stellar_masses, bins =100, alpha =0.5, label='chris')\n",
    "plt.hist(halotools_stellar_masses, bins =100, alpha =0.5, label='halotools')\n",
    "\n",
    "plt.legend()\n",
    "plt.xlabel('log stellar mass')\n",
    "\n",
    "plt.show()"
   ]
  },
  {
   "cell_type": "code",
   "execution_count": 66,
   "metadata": {},
   "outputs": [
    {
     "name": "stdout",
     "output_type": "stream",
     "text": [
      "12939617 12939617\n"
     ]
    }
   ],
   "source": [
    "print len(halotools_stellar_masses), len(chris_stellar_masses)"
   ]
  },
  {
   "cell_type": "code",
   "execution_count": 3,
   "metadata": {},
   "outputs": [],
   "source": [
    "scatter_params = np.polyfit([12,15],[0.4,0.2],1)"
   ]
  },
  {
   "cell_type": "code",
   "execution_count": 5,
   "metadata": {},
   "outputs": [
    {
     "data": {
      "text/plain": [
       "-0.06666666666666685"
      ]
     },
     "execution_count": 5,
     "metadata": {},
     "output_type": "execute_result"
    }
   ],
   "source": [
    "scatter_params[0]"
   ]
  },
  {
   "cell_type": "code",
   "execution_count": 25,
   "metadata": {},
   "outputs": [
    {
     "data": {
      "text/plain": [
       "[<matplotlib.lines.Line2D at 0x1a75cc0a90>]"
      ]
     },
     "execution_count": 25,
     "metadata": {},
     "output_type": "execute_result"
    },
    {
     "data": {
      "image/png": "[encoded data removed]",
      "text/plain": [
       "<Figure size 1440x360 with 1 Axes>"
      ]
     },
     "metadata": {
      "needs_background": "light"
     },
     "output_type": "display_data"
    }
   ],
   "source": [
    "plt.figure(figsize=[20,5])\n",
    "plt.plot(range(len(chris_stellar_masses)), chris_stellar_masses)\n",
    "plt.plot(range(len(chris_stellar_masses)), halotools_stellar_masses)\n"
   ]
  },
  {
   "cell_type": "code",
   "execution_count": 28,
   "metadata": {},
   "outputs": [
    {
     "data": {
      "text/html": [
       "&lt;Table length=12939617&gt;\n",
       "<table id=\"table4402156624\" class=\"table-striped table-bordered table-condensed\">\n",
       "<thead><tr><th>halo_x</th><th>halo_y</th><th>halo_z</th><th>stellar_mass</th></tr></thead>\n",
       "<thead><tr><th>float32</th><th>float32</th><th>float32</th><th>float64</th></tr></thead>\n",
       "<tr><td>36.04457</td><td>43.1197</td><td>18.14896</td><td>11.61379229121843</td></tr>\n",
       "<tr><td>35.53276</td><td>43.78071</td><td>18.6678</td><td>5.717803842847478</td></tr>\n",
       "<tr><td>35.40477</td><td>43.79097</td><td>17.89662</td><td>6.100653391039932</td></tr>\n",
       "<tr><td>35.40134</td><td>43.65819</td><td>17.56539</td><td>4.4279617866960255</td></tr>\n",
       "<tr><td>35.22659</td><td>42.74515</td><td>18.61028</td><td>5.54396695323049</td></tr>\n",
       "<tr><td>35.84579</td><td>43.34295</td><td>18.4178</td><td>4.025752227906292</td></tr>\n",
       "<tr><td>35.40682</td><td>43.06175</td><td>18.02761</td><td>3.260047561288997</td></tr>\n",
       "<tr><td>36.27704</td><td>43.18763</td><td>18.30016</td><td>4.504874723632895</td></tr>\n",
       "<tr><td>35.36304</td><td>43.62281</td><td>18.34547</td><td>3.515351158357194</td></tr>\n",
       "<tr><td>35.51199</td><td>43.22979</td><td>18.20248</td><td>3.5899259602581024</td></tr>\n",
       "<tr><td>...</td><td>...</td><td>...</td><td>...</td></tr>\n",
       "<tr><td>220.4789</td><td>229.45398</td><td>247.30775</td><td>4.956061529153844</td></tr>\n",
       "<tr><td>247.08466</td><td>245.46669</td><td>244.78049</td><td>4.206225750062264</td></tr>\n",
       "<tr><td>248.39238</td><td>233.34918</td><td>237.85835</td><td>5.115609862955069</td></tr>\n",
       "<tr><td>221.1497</td><td>249.28229</td><td>237.33685</td><td>4.292928035855744</td></tr>\n",
       "<tr><td>222.00246</td><td>232.04192</td><td>242.11325</td><td>1.4931926202148145</td></tr>\n",
       "<tr><td>223.23349</td><td>235.5961</td><td>247.53503</td><td>3.9541739548157184</td></tr>\n",
       "<tr><td>223.09555</td><td>245.19043</td><td>245.53694</td><td>4.896231695697621</td></tr>\n",
       "<tr><td>237.99644</td><td>223.76076</td><td>248.99448</td><td>3.5784713757056794</td></tr>\n",
       "<tr><td>225.24017</td><td>221.7389</td><td>248.03412</td><td>3.9634131163756776</td></tr>\n",
       "<tr><td>225.69214</td><td>225.42612</td><td>243.03798</td><td>5.5466297886799785</td></tr>\n",
       "</table>"
      ],
      "text/plain": [
       "<Table length=12939617>\n",
       "  halo_x    halo_y    halo_z     stellar_mass   \n",
       " float32   float32   float32       float64      \n",
       "--------- --------- --------- ------------------\n",
       " 36.04457   43.1197  18.14896  11.61379229121843\n",
       " 35.53276  43.78071   18.6678  5.717803842847478\n",
       " 35.40477  43.79097  17.89662  6.100653391039932\n",
       " 35.40134  43.65819  17.56539 4.4279617866960255\n",
       " 35.22659  42.74515  18.61028   5.54396695323049\n",
       " 35.84579  43.34295   18.4178  4.025752227906292\n",
       " 35.40682  43.06175  18.02761  3.260047561288997\n",
       " 36.27704  43.18763  18.30016  4.504874723632895\n",
       " 35.36304  43.62281  18.34547  3.515351158357194\n",
       " 35.51199  43.22979  18.20248 3.5899259602581024\n",
       "      ...       ...       ...                ...\n",
       " 220.4789 229.45398 247.30775  4.956061529153844\n",
       "247.08466 245.46669 244.78049  4.206225750062264\n",
       "248.39238 233.34918 237.85835  5.115609862955069\n",
       " 221.1497 249.28229 237.33685  4.292928035855744\n",
       "222.00246 232.04192 242.11325 1.4931926202148145\n",
       "223.23349  235.5961 247.53503 3.9541739548157184\n",
       "223.09555 245.19043 245.53694  4.896231695697621\n",
       "237.99644 223.76076 248.99448 3.5784713757056794\n",
       "225.24017  221.7389 248.03412 3.9634131163756776\n",
       "225.69214 225.42612 243.03798 5.5466297886799785"
      ]
     },
     "execution_count": 28,
     "metadata": {},
     "output_type": "execute_result"
    }
   ],
   "source": [
    "mock_galaxies = sim_data['halocat'].halo_table['halo_x', 'halo_y', 'halo_z']\n",
    "mock_galaxies['stellar_mass'] = chris_stellar_masses\n",
    "mock_galaxies"
   ]
  },
  {
   "cell_type": "code",
   "execution_count": 30,
   "metadata": {},
   "outputs": [
    {
     "data": {
      "text/plain": [
       "array([250., 250., 250.])"
      ]
     },
     "execution_count": 30,
     "metadata": {},
     "output_type": "execute_result"
    }
   ],
   "source": [
    "sim_data['model'].mock.Lbox"
   ]
  },
  {
   "cell_type": "code",
   "execution_count": null,
   "metadata": {},
   "outputs": [],
   "source": []
  }
 ],
 "metadata": {
  "anaconda-cloud": {},
  "kernelspec": {
   "display_name": "Python 2",
   "language": "python",
   "name": "python2"
  },
  "language_info": {
   "codemirror_mode": {
    "name": "ipython",
    "version": 2
   },
   "file_extension": ".py",
   "mimetype": "text/x-python",
   "name": "python",
   "nbconvert_exporter": "python",
   "pygments_lexer": "ipython2",
   "version": "2.7.15"
  }
 },
 "nbformat": 4,
 "nbformat_minor": 2
}
