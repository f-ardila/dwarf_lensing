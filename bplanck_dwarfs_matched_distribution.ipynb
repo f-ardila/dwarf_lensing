{
 "cells": [
  {
   "cell_type": "markdown",
   "metadata": {},
   "source": [
    "# Comparing samples with matched distributions of stellar mass"
   ]
  },
  {
   "cell_type": "markdown",
   "metadata": {},
   "source": [
    "In this notebook we use the subsamples of bplanck galaxies with mass distributions matched to COSMOS to measure lensing"
   ]
  },
  {
   "cell_type": "markdown",
   "metadata": {},
   "source": [
    "- most of the cells at the beginning are the same as in `dwarf_lensing.ipynb` to load halotools and measure lensing\n",
    "- [Skip to matched distribution section](#matched_distribution)"
   ]
  },
  {
   "cell_type": "code",
   "execution_count": 2,
   "metadata": {
    "nbpresent": {
     "id": "44e7cfa7-01bc-4658-a222-d45fb06bfcef"
    }
   },
   "outputs": [],
   "source": [
    "import numpy as np\n",
    "import matplotlib.pyplot as plt\n",
    "from astropy.io import ascii, fits\n",
    "import matplotlib.pyplot as plt\n",
    "\n",
    "import halotools\n",
    "from halotools.mock_observables import total_mass_enclosed_per_cylinder\n"
   ]
  },
  {
   "cell_type": "markdown",
   "metadata": {},
   "source": [
    "## Read in from cache "
   ]
  },
  {
   "cell_type": "code",
   "execution_count": 5,
   "metadata": {
    "nbpresent": {
     "id": "07d1f257-2540-4075-9436-34162e9363bd"
    }
   },
   "outputs": [
    {
     "name": "stdout",
     "output_type": "stream",
     "text": [
      "('bolplanck', 'rockstar', 'halotools_v0p4', '0.4966', '/Users/fardila/.astropy/cache/halotools/halo_catalogs/bolplanck/rockstar/hlist_0.66818.list.halotools_v0p4.hdf5')\n",
      "('bolshoi', 'rockstar', 'halotools_v0p4', '-0.0003', '/Users/fardila/.astropy/cache/halotools/halo_catalogs/bolshoi/rockstar/hlist_1.00035.list.halotools_v0p4.hdf5')\n",
      "('bolshoi-planck', 'rockstar', 'bplanck_dwarfs', '0.2786', '/Users/fardila/Documents/GitHub/dwarf_lensing/Data/bplanck/hlist_0.78209.hdf5')\n",
      "0.2786\n",
      "bplanck_dwarfs\n"
     ]
    }
   ],
   "source": [
    "#The halo catalog is now stored in cache and can be loaded into memory at any time\n",
    "from halotools.sim_manager import HaloTableCache, CachedHaloCatalog\n",
    "cache = HaloTableCache()\n",
    "\n",
    "#list cache entries\n",
    "for entry in cache.log: \n",
    "    print(entry) \n",
    "    \n",
    "#read in halocat    \n",
    "halocat = CachedHaloCatalog(simname = simname, halo_finder = halo_finder, \n",
    "                            version_name = version_name, redshift = z_sim, ptcl_version_name=ptcl_version_name) # doctest: +SKIP\n",
    "\n",
    "print(halocat.redshift) # doctest: +SKIP\n",
    "print(halocat.ptcl_version_name) # doctest: +SKIP\n",
    "\n"
   ]
  },
  {
   "cell_type": "markdown",
   "metadata": {},
   "source": [
    "To delete an entry from the log, you can either use the `remove_entry_from_cache_log` method of the HaloTableCache class, or equivalently, you can manually delete line #\"+str(linenum)+\"from the log file. [source](https://halotools.readthedocs.io/en/latest/_modules/halotools/sim_manager/rockstar_hlist_reader.html)\n",
    "The log file is stored in the following location:"
   ]
  },
  {
   "cell_type": "code",
   "execution_count": 12,
   "metadata": {},
   "outputs": [
    {
     "data": {
      "text/plain": [
       "u'/Users/fardila/.astropy/cache/halotools/halo_table_cache_log.txt'"
      ]
     },
     "execution_count": 12,
     "metadata": {},
     "output_type": "execute_result"
    }
   ],
   "source": [
    "cache.cache_log_fname"
   ]
  },
  {
   "cell_type": "markdown",
   "metadata": {
    "nbpresent": {
     "id": "63935b64-ac11-4535-a15b-6d894793648f"
    }
   },
   "source": [
    "## abundance match with variable scatter"
   ]
  },
  {
   "cell_type": "code",
   "execution_count": 80,
   "metadata": {
    "nbpresent": {
     "id": "6889e38d-df80-4b55-96ff-acefe642bf7b"
    }
   },
   "outputs": [
    {
     "name": "stdout",
     "output_type": "stream",
     "text": [
      "halo_upid  halo_hostid     halo_mpeak    ...    vz    galid  stellar_mass\n",
      "---------- ----------- ----------------- ... -------- ----- -------------\n",
      "        -1  2404371171 162700000000000.0 ...  -118.07     0 57583608000.0\n",
      "2404371171  2404371171      6819000000.0 ...   484.04     1     30324.178\n",
      "2404371171  2404371171      5889000000.0 ...  -214.14     2      765049.4\n",
      "2404371171  2404371171      5734000000.0 ...  -795.51     3     75578.555\n",
      "2404371171  2404371171      3254000000.0 ...  -213.05     4     7263.4336\n",
      "2404371171  2404371171     73760000000.0 ... -1119.11     5    65690684.0\n",
      "2404371171  2404371171      1085000000.0 ...  -633.85     6      13534.91\n",
      "2404371171  2404371171      4959000000.0 ...  1374.05     7     493738.28\n",
      "2404371171  2404371171       929800000.0 ...  -591.06     8     22774.309\n"
     ]
    }
   ],
   "source": [
    "from halotools.empirical_models import PrebuiltSubhaloModelFactory\n",
    "model = PrebuiltSubhaloModelFactory('behroozi10', redshift=z_sim, \n",
    "                                    scatter_abscissa=[12, 15], scatter_ordinates=[0.4, 0.2])\n",
    "model.populate_mock(halocat)\n",
    "print(model.mock.galaxy_table[0:9])"
   ]
  },
  {
   "cell_type": "code",
   "execution_count": 10,
   "metadata": {
    "nbpresent": {
     "id": "6f8937aa-7027-4780-b042-58264ddc2a6a"
    },
    "slideshow": {
     "slide_type": "skip"
    }
   },
   "outputs": [
    {
     "data": {
      "image/png": "[encoded data removed]",
      "text/plain": [
       "<Figure size 432x288 with 1 Axes>"
      ]
     },
     "metadata": {},
     "output_type": "display_data"
    }
   ],
   "source": [
    "plt.hist(np.log10(model.mock.galaxy_table['stellar_mass']))\n",
    "plt.xlabel('log(M_star)')\n",
    "plt.show()"
   ]
  },
  {
   "cell_type": "code",
   "execution_count": 11,
   "metadata": {
    "nbpresent": {
     "id": "5bafffd6-74e4-475c-a886-e21d85e735ff"
    }
   },
   "outputs": [
    {
     "data": {
      "text/plain": [
       "{u'scatter_model_param1': 0.4,\n",
       " u'scatter_model_param2': 0.2,\n",
       " u'smhm_beta_0': 0.43,\n",
       " u'smhm_beta_a': 0.18,\n",
       " u'smhm_delta_0': 0.56,\n",
       " u'smhm_delta_a': 0.18,\n",
       " u'smhm_gamma_0': 1.54,\n",
       " u'smhm_gamma_a': 2.52,\n",
       " u'smhm_m0_0': 10.72,\n",
       " u'smhm_m0_a': 0.59,\n",
       " u'smhm_m1_0': 12.35,\n",
       " u'smhm_m1_a': 0.3}"
      ]
     },
     "execution_count": 11,
     "metadata": {},
     "output_type": "execute_result"
    }
   ],
   "source": [
    "model.param_dict\n",
    "#model._haloprop_list"
   ]
  },
  {
   "cell_type": "code",
   "execution_count": 81,
   "metadata": {
    "nbpresent": {
     "id": "f7a7f8ba-a4ce-45b6-804b-e2c6177ae9fe"
    }
   },
   "outputs": [],
   "source": [
    "#calculate smf\n",
    "#Bolshoi volume was 250h^(-1)Mpc on each side https://www.cosmosim.org/cms/simulations/bolshoip/\n",
    "\n",
    "M     = model.mock.galaxy_table['stellar_mass']         #Read stellar masses\n",
    "logM  = np.log10(M)                     #Take logarithm\n",
    "nbins = 100                             #Number of bins to divide data into\n",
    "V     = (250/0.7)**3                    #Survey volume in Mpc3\n",
    "Phi,edg = np.histogram(logM,bins=nbins) #Unnormalized histogram and bin edges\n",
    "dM    = edg[1] - edg[0]                 #Bin size\n",
    "centers   = edg[0:-1] + dM/2.           #Mass axis\n",
    "Phi   = Phi / float(V) / dM             #Normalize to volume and bin size\n",
    "logPhi= np.log10(Phi)\n"
   ]
  },
  {
   "cell_type": "code",
   "execution_count": 13,
   "metadata": {
    "nbpresent": {
     "id": "9730eeb5-1f05-4a0c-8162-3e64c5950a17"
    }
   },
   "outputs": [
    {
     "data": {
      "image/png": "[encoded data removed]",
      "text/plain": [
       "<Figure size 432x288 with 1 Axes>"
      ]
     },
     "metadata": {},
     "output_type": "display_data"
    }
   ],
   "source": [
    "plt.plot(centers,logPhi, c='r', label='Bolshoi-Planck halos')\n",
    "plt.xlabel('log(M_star)')\n",
    "plt.ylabel('log(Phi)')\n",
    "plt.legend()\n",
    "plt.show()"
   ]
  },
  {
   "cell_type": "markdown",
   "metadata": {
    "collapsed": true,
    "nbpresent": {
     "id": "7d2e6546-1e17-4f2e-a81b-a36f8dc0ab48"
    }
   },
   "source": [
    "# Compute the lensing"
   ]
  },
  {
   "cell_type": "markdown",
   "metadata": {
    "nbpresent": {
     "id": "c128efa6-7a7e-4a90-a2ea-94146e0f8e04"
    }
   },
   "source": [
    "* Read in the DM particles, x, y,z (manually)\n",
    "* Precompute the lensing\n",
    "* Then compute the lensing for the model above (plot the model Delta Sigma verus R)\n",
    "* Then compare the lensing with the data"
   ]
  },
  {
   "cell_type": "markdown",
   "metadata": {},
   "source": [
    "catalog from this paper: [Laigle et al. 2016](http://adsabs.harvard.edu/abs/2016ApJS..224...24L)"
   ]
  },
  {
   "cell_type": "markdown",
   "metadata": {
    "nbpresent": {
     "id": "dfbdbdba-7ad8-4a43-af6b-24da550f1983"
    }
   },
   "source": [
    "## read in DM particle positions"
   ]
  },
  {
   "cell_type": "code",
   "execution_count": 69,
   "metadata": {
    "nbpresent": {
     "id": "c13b5d8c-4a79-4d19-8491-57e4d8f82184"
    }
   },
   "outputs": [],
   "source": [
    "from astropy.table import Table\n",
    "\n",
    "ptcl_table = Table.read('Data/bplanck/bplanck_particles_100m_a0.78209.hdf5', path='data')\n",
    "\n",
    "px = ptcl_table['x']\n",
    "py = ptcl_table['y']\n",
    "pz = ptcl_table['z']\n",
    "particles = np.vstack((px, py, pz)).T"
   ]
  },
  {
   "cell_type": "markdown",
   "metadata": {
    "nbpresent": {
     "id": "83979098-d2f7-4a2f-8896-a6a21e098204"
    }
   },
   "source": [
    "## read in galaxy positions"
   ]
  },
  {
   "cell_type": "code",
   "execution_count": 82,
   "metadata": {
    "nbpresent": {
     "id": "7fad7577-58cd-48d0-bc6f-9dfa19054d9c"
    }
   },
   "outputs": [],
   "source": [
    "x = model.mock.galaxy_table['x']\n",
    "y = model.mock.galaxy_table['y']\n",
    "z = model.mock.galaxy_table['z']\n",
    "galaxies = np.vstack((x, y, z)).T"
   ]
  },
  {
   "cell_type": "code",
   "execution_count": 83,
   "metadata": {
    "nbpresent": {
     "id": "c765192a-d0f9-4421-a668-4573b004604b"
    }
   },
   "outputs": [
    {
     "name": "stdout",
     "output_type": "stream",
     "text": [
      "12939617\n",
      "99993334\n"
     ]
    }
   ],
   "source": [
    "print len(galaxies)\n",
    "print len(particles)"
   ]
  },
  {
   "cell_type": "markdown",
   "metadata": {
    "nbpresent": {
     "id": "31f51d00-6fa8-4f64-b553-b26485483dc2"
    }
   },
   "source": [
    "### Make cut in mass"
   ]
  },
  {
   "cell_type": "code",
   "execution_count": 18,
   "metadata": {
    "nbpresent": {
     "id": "92985c22-8468-494d-a0e1-081cb186c123"
    }
   },
   "outputs": [
    {
     "data": {
      "image/png": "[encoded data removed]",
      "text/plain": [
       "<Figure size 432x288 with 1 Axes>"
      ]
     },
     "metadata": {},
     "output_type": "display_data"
    }
   ],
   "source": [
    "plt.hist(np.log10(model.mock.galaxy_table['stellar_mass']))\n",
    "plt.show()"
   ]
  },
  {
   "cell_type": "code",
   "execution_count": 84,
   "metadata": {
    "nbpresent": {
     "id": "bfd97a00-86a7-41f5-9b09-b703787a988d"
    }
   },
   "outputs": [],
   "source": [
    "galaxies_table=model.mock.galaxy_table[np.log10(model.mock.galaxy_table['stellar_mass'])>10]"
   ]
  },
  {
   "cell_type": "code",
   "execution_count": 20,
   "metadata": {
    "nbpresent": {
     "id": "9f6c6933-5d34-45e6-9382-9ddf9b899b75"
    }
   },
   "outputs": [
    {
     "data": {
      "text/plain": [
       "170298"
      ]
     },
     "execution_count": 20,
     "metadata": {},
     "output_type": "execute_result"
    }
   ],
   "source": [
    "len(galaxies_table)"
   ]
  },
  {
   "cell_type": "markdown",
   "metadata": {
    "nbpresent": {
     "id": "30d41576-870b-400e-9008-46ee0f43a1cc"
    }
   },
   "source": [
    "### read in again with mass cut"
   ]
  },
  {
   "cell_type": "code",
   "execution_count": 85,
   "metadata": {
    "nbpresent": {
     "id": "7f76d5e6-46c4-4043-82cc-0ea6c15fd4e0"
    }
   },
   "outputs": [],
   "source": [
    "x = galaxies_table['x']\n",
    "y = galaxies_table['y']\n",
    "z = galaxies_table['z']\n",
    "galaxies = np.vstack((x, y, z)).T"
   ]
  },
  {
   "cell_type": "markdown",
   "metadata": {
    "nbpresent": {
     "id": "b9bcf547-01f6-4149-a35b-6037d478bd3c"
    }
   },
   "source": [
    "# precompute lensing\n"
   ]
  },
  {
   "cell_type": "markdown",
   "metadata": {
    "nbpresent": {
     "id": "ac11c11c-b367-4e6f-9bb6-3171580507b8"
    }
   },
   "source": [
    "### downsample"
   ]
  },
  {
   "cell_type": "code",
   "execution_count": 86,
   "metadata": {
    "nbpresent": {
     "id": "0bc1d434-f2b0-4edf-b1eb-b5a1f7079b5a"
    }
   },
   "outputs": [],
   "source": [
    "from halotools.utils import randomly_downsample_data\n",
    "num_ptcls_to_use = int(1e4)\n",
    "particles = randomly_downsample_data(particles, num_ptcls_to_use)\n",
    "particle_masses = np.zeros(num_ptcls_to_use) + halocat.particle_mass\n",
    "\n",
    "#need to account for the fact that you are not using the entire snapshot of particles by providing the downsampling_factor argument:\n",
    "halocat.num_ptcl_per_dim=2048 #for bolshoi-planck : https://github.com/astropy/halotools/blob/master/halotools/sim_manager/supported_sims.py\n",
    "total_num_ptcl_in_snapshot = halocat.num_ptcl_per_dim**3\n",
    "downsampling_factor = total_num_ptcl_in_snapshot/float(len(particles))\n",
    "\n",
    "#same bins as data\n",
    "rp_bins = np.logspace(-2, 0, 9)\n",
    "# range = [0.01,1.0] #Correlation range\n",
    "# nbins = 8 #Number of bins\n",
    "\n",
    "period = model.mock.Lbox    \n",
    "    "
   ]
  },
  {
   "cell_type": "markdown",
   "metadata": {
    "nbpresent": {
     "id": "deb653c9-b74b-430f-b4a9-35d88b817206"
    }
   },
   "source": [
    "### calculate the mass enclosed by the cylinders around each galaxy"
   ]
  },
  {
   "cell_type": "code",
   "execution_count": 87,
   "metadata": {
    "nbpresent": {
     "id": "37504c89-4082-4cec-9693-dbe41a81f6d9"
    }
   },
   "outputs": [],
   "source": [
    "mass_encl = total_mass_enclosed_per_cylinder(galaxies, particles, particle_masses, downsampling_factor, rp_bins, period)\n",
    "\n",
    "#create mask for centrals\n",
    "# cenmask = model.mock.galaxy_table['gal_type'] == 'centrals'\n",
    "# cens = galaxies[cenmask]\n",
    "# mass_encl_cens = mass_encl[cenmask, :]\n"
   ]
  },
  {
   "cell_type": "code",
   "execution_count": 88,
   "metadata": {
    "nbpresent": {
     "id": "b1c76dcd-db19-4d7d-bcbd-659ed2f5ab65"
    }
   },
   "outputs": [],
   "source": [
    "#cosmology\n",
    "from astropy.cosmology import LambdaCDM\n",
    "H0=67.8\n",
    "Om0=0.307\n",
    "Ode0=0.693\n",
    "\n",
    "halocat.cosmology = LambdaCDM(H0, Om0, Ode0)"
   ]
  },
  {
   "cell_type": "code",
   "execution_count": 89,
   "metadata": {},
   "outputs": [
    {
     "name": "stdout",
     "output_type": "stream",
     "text": [
      "0.678\n"
     ]
    }
   ],
   "source": [
    "h_sim = halocat.cosmology.H(0).value/100.\n",
    "print h_sim"
   ]
  },
  {
   "cell_type": "markdown",
   "metadata": {
    "nbpresent": {
     "id": "b452c823-b82a-4fac-80f1-bec693e62cb0"
    }
   },
   "source": [
    "### delta sigma"
   ]
  },
  {
   "cell_type": "code",
   "execution_count": 90,
   "metadata": {
    "nbpresent": {
     "id": "ad580bb5-43be-4095-bfc1-e5e1934f7bb1"
    }
   },
   "outputs": [],
   "source": [
    "from halotools.mock_observables import delta_sigma_from_precomputed_pairs\n",
    "rp, ds = delta_sigma_from_precomputed_pairs(galaxies, mass_encl, rp_bins, period, cosmology=halocat.cosmology)\n",
    "ds = ds/1e12 #there seems to be a discrepancy in units pc^2 --> Mpc^2"
   ]
  },
  {
   "cell_type": "markdown",
   "metadata": {
    "nbpresent": {
     "id": "8f612c75-70dc-485f-b01c-455df8d7fbd5"
    }
   },
   "source": [
    "## plot"
   ]
  },
  {
   "cell_type": "code",
   "execution_count": 26,
   "metadata": {
    "nbpresent": {
     "id": "782a1e33-6f54-4d8a-bf85-b53bc5c60ff9"
    }
   },
   "outputs": [
    {
     "data": {
      "image/png": "[encoded data removed]",
      "text/plain": [
       "<Figure size 576x432 with 1 Axes>"
      ]
     },
     "metadata": {},
     "output_type": "display_data"
    }
   ],
   "source": [
    "fig, ax = plt.subplots(1, 1, figsize=(8, 6))\n",
    "\n",
    "__=plt.loglog()\n",
    "\n",
    "__=ax.plot(rp, ds, label=r'Bol-Planck: $M_{\\ast} > 10^{10}M_{\\odot}$')\n",
    "# __=ax.plot(rp, result_mstar105_satellite_in_pc, label=r'Satellites: $M_{\\ast} \\approx 10^{10.5}M_{\\odot}$')\n",
    "# __=ax.plot(rp, result_mstar105_in_pc, label=r'All galaxies: $M_{\\ast} \\approx 10^{10.5}M_{\\odot}$')\n",
    "# __=ax.plot(rp, result_mstar105_central_in_pc, label=r'Centrals: $M_{\\ast} \\approx 10^{10.5}M_{\\odot}$')\n",
    "\n",
    "__=ax.set_xlim(xmin = 0.1, xmax = 10)\n",
    "# __=ax.set_ylim(ymin = 0.5, ymax = 200)\n",
    "\n",
    "__=ax.set_xlabel(r'$R_{\\rm p} $  $\\rm{[Mpc / h]}$', fontsize=16)\n",
    "__=ax.set_ylabel(r'$\\Delta\\Sigma(R_{\\rm p})$  $[h M_{\\odot} / {\\rm pc}^2]$', fontsize=16)\n",
    "__=ax.legend(loc='best', fontsize=13)\n",
    "__=plt.xticks(fontsize=15); plt.yticks(fontsize=15)\n",
    "\n",
    "\n",
    "plt.show()"
   ]
  },
  {
   "cell_type": "markdown",
   "metadata": {
    "collapsed": true,
    "nbpresent": {
     "id": "20bbfc89-b4b4-4767-a136-e426e9af0cd2"
    }
   },
   "source": [
    "## compare with data"
   ]
  },
  {
   "cell_type": "markdown",
   "metadata": {
    "nbpresent": {
     "id": "93dda242-9b5e-450e-841d-19f38f164359"
    }
   },
   "source": [
    "Will get distribution of masses from data (COSMOS dwarf galaxies) and match that distribution in simulation galaxies, then use that catalog to calculate lensing signal. Then use MCMC to match lensing signal to measured lensing signal of dwarf galaxies."
   ]
  },
  {
   "cell_type": "markdown",
   "metadata": {
    "nbpresent": {
     "id": "4f7b477e-d181-421d-ba39-da486bc5e4ae"
    }
   },
   "source": [
    "Laigle2015 Cosmolgy: H0 = 67.8, Omega_M = 0.307, Omega_L = 0.693."
   ]
  },
  {
   "cell_type": "code",
   "execution_count": 4,
   "metadata": {
    "nbpresent": {
     "id": "fae68d29-2658-447d-91cf-863fd4cd0973"
    }
   },
   "outputs": [],
   "source": [
    "#lensing signal \n",
    "lensing_signal_file = '/Users/fardila/Documents/GitHub/dwarf_lensing/Data/cosmos/dwarf_all_lens_laigle2015_nozp2.out'\n",
    "dwarf_sample_file = '/Users/fardila/Documents/GitHub/dwarf_lensing/Data/cosmos/dwarf_sample_for_paper.fits'"
   ]
  },
  {
   "cell_type": "code",
   "execution_count": 5,
   "metadata": {
    "nbpresent": {
     "id": "ea4d1428-412b-4755-80d6-fa67eae0c991"
    }
   },
   "outputs": [
    {
     "name": "stdout",
     "output_type": "stream",
     "text": [
      "  R(Mpc)  SigR(Msun/pc^2) err(weights) ... Nsources    <R>        e2    \n",
      "--------- --------------- ------------ ... -------- --------- ----------\n",
      "0.0133352      58.8677431   17.3327507 ...     2176 0.0142079 -5.3672735\n",
      "0.0237137      11.8954158    9.6261485 ...     7082 0.0250451 13.2385548\n",
      "0.0421697       5.6647874    5.4522923 ...    22133 0.0446207  3.5197639\n",
      "0.0749894       3.2644803    3.0599847 ...    70223 0.0791256  1.1381985\n",
      "0.1333521       3.9288803    1.7389203 ...   217526 0.1406552 -2.5727109\n",
      "0.2371374       3.5901829    0.9840321 ...   679967 0.2502264  1.6006856\n",
      "0.4216965       1.4727592    0.5573089 ...  2120184 0.4446665 -0.0681996\n",
      "0.7498942       2.5547892    0.3172553 ...  6543536 0.7906795 -0.2700844\n"
     ]
    }
   ],
   "source": [
    "cosmos_lensing_signal = ascii.read(lensing_signal_file)\n",
    "print cosmos_lensing_signal"
   ]
  },
  {
   "cell_type": "code",
   "execution_count": 29,
   "metadata": {},
   "outputs": [
    {
     "data": {
      "text/plain": [
       "['R(Mpc)',\n",
       " 'SigR(Msun/pc^2)',\n",
       " 'err(weights)',\n",
       " 'err(resampling)',\n",
       " 'Nsources',\n",
       " '<R>',\n",
       " 'e2']"
      ]
     },
     "execution_count": 29,
     "metadata": {},
     "output_type": "execute_result"
    }
   ],
   "source": [
    "cosmos_lensing_signal.colnames"
   ]
  },
  {
   "cell_type": "code",
   "execution_count": 30,
   "metadata": {
    "nbpresent": {
     "id": "74094daf-da1e-45eb-a21e-1c30684b9deb"
    }
   },
   "outputs": [
    {
     "data": {
      "image/png": "[encoded data removed]",
      "text/plain": [
       "<Figure size 576x432 with 1 Axes>"
      ]
     },
     "metadata": {},
     "output_type": "display_data"
    }
   ],
   "source": [
    "fig, ax = plt.subplots(1, 1, figsize=(8, 6))\n",
    "\n",
    "__=plt.loglog()\n",
    "\n",
    "__=ax.plot(rp, ds, label=r'Bol-Planck: $M_{\\ast} > 10^{10}M_{\\odot}$')\n",
    "ax.fill_between(rp, ds,ds, alpha=0.5)\n",
    "# __=ax.plot(rp, result_mstar105_satellite_in_pc, label=r'Satellites: $M_{\\ast} \\approx 10^{10.5}M_{\\odot}$')\n",
    "# __=ax.plot(rp, result_mstar105_in_pc, label=r'All galaxies: $M_{\\ast} \\approx 10^{10.5}M_{\\odot}$')\n",
    "# __=ax.plot(rp, result_mstar105_central_in_pc, label=r'Centrals: $M_{\\ast} \\approx 10^{10.5}M_{\\odot}$')\n",
    "\n",
    "ax.plot(cosmos_lensing_signal['R(Mpc)'], cosmos_lensing_signal['SigR(Msun/pc^2)'], label=r'Laigle2015')\n",
    "ax.fill_between(cosmos_lensing_signal['R(Mpc)'], cosmos_lensing_signal['SigR(Msun/pc^2)']+cosmos_lensing_signal['err(weights)'],\n",
    "                cosmos_lensing_signal['SigR(Msun/pc^2)']-cosmos_lensing_signal['err(weights)'], alpha=0.5)\n",
    "\n",
    "__=ax.set_xlim(xmin = 0.1, xmax = 10)\n",
    "# __=ax.set_ylim(ymin = 0.5, ymax = 200)\n",
    "\n",
    "__=ax.set_xlabel(r'$R_{\\rm p} $  $\\rm{[Mpc / h]}$', fontsize=16)\n",
    "__=ax.set_ylabel(r'$\\Delta\\Sigma(R_{\\rm p})$  $[h M_{\\odot} / {\\rm pc}^2]$', fontsize=16)\n",
    "__=ax.legend(loc='best', fontsize=13)\n",
    "__=plt.xticks(fontsize=15); plt.yticks(fontsize=15)\n",
    "\n",
    "\n",
    "plt.show()"
   ]
  },
  {
   "cell_type": "code",
   "execution_count": 33,
   "metadata": {
    "nbpresent": {
     "id": "31bf0025-6833-4f80-adb4-2118590febc6"
    }
   },
   "outputs": [
    {
     "data": {
      "image/png": "[encoded data removed]",
      "text/plain": [
       "<Figure size 432x288 with 1 Axes>"
      ]
     },
     "metadata": {},
     "output_type": "display_data"
    }
   ],
   "source": [
    "plt.hist(dwarf_masses)\n",
    "plt.show()"
   ]
  },
  {
   "cell_type": "code",
   "execution_count": 34,
   "metadata": {
    "nbpresent": {
     "id": "2bcd70f6-4a93-4552-baae-4e83bb549ef1"
    }
   },
   "outputs": [
    {
     "data": {
      "image/png": "[encoded data removed]",
      "text/plain": [
       "<Figure size 432x288 with 1 Axes>"
      ]
     },
     "metadata": {},
     "output_type": "display_data"
    }
   ],
   "source": [
    "plt.hist(np.log10(model.mock.galaxy_table['stellar_mass']))\n",
    "plt.show()"
   ]
  },
  {
   "cell_type": "markdown",
   "metadata": {
    "collapsed": true,
    "nbpresent": {
     "id": "c439bb26-4727-4842-8444-0f277123cc9c"
    }
   },
   "source": [
    "## Create sample with same distribution of $M_*$ as dwarf sample <a id='matched_distribution'></a>"
   ]
  },
  {
   "cell_type": "code",
   "execution_count": 35,
   "metadata": {
    "nbpresent": {
     "id": "7d245c51-02da-4b89-a99a-30520391e2ed"
    }
   },
   "outputs": [
    {
     "name": "stdout",
     "output_type": "stream",
     "text": [
      "6876\n",
      "7.73324 8.99998\n"
     ]
    }
   ],
   "source": [
    "print len(dwarf_masses)\n",
    "print min(dwarf_masses), max(dwarf_masses)"
   ]
  },
  {
   "cell_type": "code",
   "execution_count": 36,
   "metadata": {
    "nbpresent": {
     "id": "0cb30008-65df-4467-abee-c4eb85603367"
    }
   },
   "outputs": [
    {
     "name": "stdout",
     "output_type": "stream",
     "text": [
      "1190936\n"
     ]
    },
    {
     "data": {
      "image/png": "[encoded data removed]",
      "text/plain": [
       "<Figure size 432x288 with 1 Axes>"
      ]
     },
     "metadata": {},
     "output_type": "display_data"
    }
   ],
   "source": [
    "#galaxy table limited to mass range of dwarfs\n",
    "mock_galaxies = model.mock.galaxy_table\n",
    "mock_galaxies = mock_galaxies['galid', 'x', 'y', 'z', 'stellar_mass']\n",
    "mock_galaxies = mock_galaxies[(np.log10(mock_galaxies['stellar_mass'])>=min(dwarf_masses)) & (np.log10(mock_galaxies['stellar_mass'])<9.0)]\n",
    "\n",
    "print len(mock_galaxies)\n",
    "plt.hist(np.log10(mock_galaxies['stellar_mass']))\n",
    "plt.show()"
   ]
  },
  {
   "cell_type": "markdown",
   "metadata": {},
   "source": [
    "### done in separate script "
   ]
  },
  {
   "cell_type": "code",
   "execution_count": 63,
   "metadata": {},
   "outputs": [],
   "source": [
    "#read in dwarf catalog\n",
    "dwarf_galaxies_50 = np.load('/Users/fardila/Documents/GitHub/dwarf_lensing/bplanck_dwarfs_50.npy')\n",
    "dwarf_galaxies_30 = np.load('/Users/fardila/Documents/GitHub/dwarf_lensing/bplanck_dwarfs_30.npy')\n",
    "dwarf_galaxies_10 = np.load('/Users/fardila/Documents/GitHub/dwarf_lensing/bplanck_dwarfs_10.npy')\n",
    "dwarf_galaxies_5 = np.load('/Users/fardila/Documents/GitHub/dwarf_lensing/bplanck_dwarfs_5.npy')\n",
    "dwarf_galaxies_1 = np.load('/Users/fardila/Documents/GitHub/dwarf_lensing/bplanck_dwarfs_1.npy')"
   ]
  },
  {
   "cell_type": "code",
   "execution_count": 64,
   "metadata": {},
   "outputs": [],
   "source": [
    "RP=[]\n",
    "DS=[]"
   ]
  },
  {
   "cell_type": "code",
   "execution_count": 96,
   "metadata": {},
   "outputs": [
    {
     "data": {
      "text/plain": [
       "array([0.04415   , 0.05193279, 0.06577278, 0.09038413, 0.13415   ,\n",
       "       0.21197794, 0.35037777, 0.59649133, 1.03415   ])"
      ]
     },
     "execution_count": 96,
     "metadata": {},
     "output_type": "execute_result"
    }
   ],
   "source": [
    "rp_bins+0.03415"
   ]
  },
  {
   "cell_type": "code",
   "execution_count": 67,
   "metadata": {},
   "outputs": [
    {
     "name": "stdout",
     "output_type": "stream",
     "text": [
      "34380\n"
     ]
    },
    {
     "ename": "NameError",
     "evalue": "name 'particles' is not defined",
     "output_type": "error",
     "traceback": [
      "\u001b[0;31m---------------------------------------------------------------------------\u001b[0m",
      "\u001b[0;31mNameError\u001b[0m                                 Traceback (most recent call last)",
      "\u001b[0;32m<ipython-input-67-408bdd55d6c2>\u001b[0m in \u001b[0;36m<module>\u001b[0;34m()\u001b[0m\n\u001b[1;32m      7\u001b[0m     \u001b[0mgalaxies\u001b[0m \u001b[0;34m=\u001b[0m \u001b[0mnp\u001b[0m\u001b[0;34m.\u001b[0m\u001b[0mvstack\u001b[0m\u001b[0;34m(\u001b[0m\u001b[0;34m(\u001b[0m\u001b[0mx\u001b[0m\u001b[0;34m,\u001b[0m \u001b[0my\u001b[0m\u001b[0;34m,\u001b[0m \u001b[0mz\u001b[0m\u001b[0;34m)\u001b[0m\u001b[0;34m)\u001b[0m\u001b[0;34m.\u001b[0m\u001b[0mT\u001b[0m\u001b[0;34m\u001b[0m\u001b[0m\n\u001b[1;32m      8\u001b[0m \u001b[0;34m\u001b[0m\u001b[0m\n\u001b[0;32m----> 9\u001b[0;31m     \u001b[0mmass_encl\u001b[0m \u001b[0;34m=\u001b[0m \u001b[0mtotal_mass_enclosed_per_cylinder\u001b[0m\u001b[0;34m(\u001b[0m\u001b[0mgalaxies\u001b[0m\u001b[0;34m,\u001b[0m \u001b[0mparticles\u001b[0m\u001b[0;34m,\u001b[0m \u001b[0mparticle_masses\u001b[0m\u001b[0;34m,\u001b[0m \u001b[0mdownsampling_factor\u001b[0m\u001b[0;34m,\u001b[0m \u001b[0mrp_bins\u001b[0m\u001b[0;34m+\u001b[0m\u001b[0;36m0.03415\u001b[0m\u001b[0;34m,\u001b[0m \u001b[0mperiod\u001b[0m\u001b[0;34m)\u001b[0m\u001b[0;34m\u001b[0m\u001b[0m\n\u001b[0m\u001b[1;32m     10\u001b[0m \u001b[0;34m\u001b[0m\u001b[0m\n\u001b[1;32m     11\u001b[0m     \u001b[0mrp\u001b[0m\u001b[0;34m,\u001b[0m \u001b[0mds\u001b[0m \u001b[0;34m=\u001b[0m \u001b[0mdelta_sigma_from_precomputed_pairs\u001b[0m\u001b[0;34m(\u001b[0m\u001b[0mgalaxies\u001b[0m\u001b[0;34m,\u001b[0m \u001b[0mmass_encl\u001b[0m\u001b[0;34m,\u001b[0m \u001b[0mrp_bins\u001b[0m\u001b[0;34m,\u001b[0m \u001b[0mperiod\u001b[0m\u001b[0;34m,\u001b[0m \u001b[0mcosmology\u001b[0m\u001b[0;34m=\u001b[0m\u001b[0mhalocat\u001b[0m\u001b[0;34m.\u001b[0m\u001b[0mcosmology\u001b[0m\u001b[0;34m)\u001b[0m\u001b[0;34m\u001b[0m\u001b[0m\n",
      "\u001b[0;31mNameError\u001b[0m: name 'particles' is not defined"
     ]
    }
   ],
   "source": [
    "for dwarf_galaxies in [dwarf_galaxies_5, dwarf_galaxies_10, dwarf_galaxies_30, dwarf_galaxies_50]:\n",
    "    print len(dwarf_galaxies)\n",
    "    \n",
    "    x = [gal[1] for gal in dwarf_galaxies]\n",
    "    y = [gal[2] for gal in dwarf_galaxies]\n",
    "    z = [gal[3] for gal in dwarf_galaxies]\n",
    "    galaxies = np.vstack((x, y, z)).T\n",
    "    \n",
    "    mass_encl = total_mass_enclosed_per_cylinder(galaxies, particles, particle_masses, downsampling_factor, rp_bins+0.03415, period)\n",
    "\n",
    "    rp, ds = delta_sigma_from_precomputed_pairs(galaxies, mass_encl, rp_bins, period, cosmology=halocat.cosmology)\n",
    "    ds = ds/1e12 #there seems to be a discrepancy in units pc^2 --> Mpc^2\n",
    "    \n",
    "    RP.append(rp)\n",
    "    DS.append(ds)"
   ]
  },
  {
   "cell_type": "code",
   "execution_count": 149,
   "metadata": {},
   "outputs": [
    {
     "data": {
      "text/plain": [
       "array([0, 1, 4])"
      ]
     },
     "execution_count": 149,
     "metadata": {},
     "output_type": "execute_result"
    }
   ],
   "source": [
    "np.arange(3)**2"
   ]
  },
  {
   "cell_type": "code",
   "execution_count": 7,
   "metadata": {},
   "outputs": [],
   "source": [
    "def annular_area_weighted_midpoints(rp_bins):\n",
    "    r\"\"\" Calculate the radius that bisects the areas a set of circles.\n",
    "\n",
    "    Parameters\n",
    "    ----------\n",
    "    rp_bins : array_like\n",
    "        Array of shape (num_circles, ) defining the input circles\n",
    "\n",
    "    Returns\n",
    "    -------\n",
    "    rp_mids : array_like\n",
    "        Array of shape (num_circles-1, ) defining the radii of annuli\n",
    "        that subtend equal areas.\n",
    "\n",
    "    Examples\n",
    "    ---------\n",
    "    >>> r_mids = annular_area_weighted_midpoints(np.linspace(0.1, 5, 10))\n",
    "    \"\"\"\n",
    "    return np.sqrt(0.5*(rp_bins[:-1]**2 + rp_bins[1:]**2))\n"
   ]
  },
  {
   "cell_type": "markdown",
   "metadata": {},
   "source": [
    "not possible to calculate the reverse because of gained entropy"
   ]
  },
  {
   "cell_type": "code",
   "execution_count": 109,
   "metadata": {},
   "outputs": [
    {
     "data": {
      "text/plain": [
       "array([1.09570584, 1.10653195, 1.12580324, 1.160131  , 1.22134159,\n",
       "       1.33063598, 1.52606162, 1.87578624])"
      ]
     },
     "execution_count": 109,
     "metadata": {},
     "output_type": "execute_result"
    }
   ],
   "source": [
    "annular_area_weighted_midpoints(rp_bins+(10**0.03415))"
   ]
  },
  {
   "cell_type": "code",
   "execution_count": 108,
   "metadata": {},
   "outputs": [
    {
     "data": {
      "text/plain": [
       "array([0.01442615, 0.02565373, 0.0456195 , 0.08112422, 0.14426153,\n",
       "       0.2565373 , 0.45619501, 0.81124219])"
      ]
     },
     "execution_count": 108,
     "metadata": {},
     "output_type": "execute_result"
    }
   ],
   "source": [
    "annular_area_weighted_midpoints(rp_bins)"
   ]
  },
  {
   "cell_type": "code",
   "execution_count": 79,
   "metadata": {
    "scrolled": true
   },
   "outputs": [
    {
     "data": {
      "text/plain": [
       "array([0.01      , 0.01778279, 0.03162278, 0.05623413, 0.1       ,\n",
       "       0.17782794, 0.31622777, 0.56234133, 1.        ])"
      ]
     },
     "execution_count": 79,
     "metadata": {},
     "output_type": "execute_result"
    }
   ],
   "source": [
    "rp_bins"
   ]
  },
  {
   "cell_type": "code",
   "execution_count": 98,
   "metadata": {
    "scrolled": true
   },
   "outputs": [
    {
     "data": {
      "text/plain": [
       "[array([0.01442615, 0.02565373, 0.0456195 , 0.08112422, 0.14426153,\n",
       "        0.2565373 , 0.45619501, 0.81124219]),\n",
       " array([0.01442615, 0.02565373, 0.0456195 , 0.08112422, 0.14426153,\n",
       "        0.2565373 , 0.45619501, 0.81124219]),\n",
       " array([0.01442615, 0.02565373, 0.0456195 , 0.08112422, 0.14426153,\n",
       "        0.2565373 , 0.45619501, 0.81124219]),\n",
       " array([0.01442615, 0.02565373, 0.0456195 , 0.08112422, 0.14426153,\n",
       "        0.2565373 , 0.45619501, 0.81124219])]"
      ]
     },
     "execution_count": 98,
     "metadata": {},
     "output_type": "execute_result"
    }
   ],
   "source": [
    "RP"
   ]
  },
  {
   "cell_type": "code",
   "execution_count": 74,
   "metadata": {},
   "outputs": [
    {
     "data": {
      "text/html": [
       "&lt;Column name=&apos;R(Mpc)&apos; dtype=&apos;float64&apos; length=8&gt;\n",
       "<table>\n",
       "<tr><td>0.0133352</td></tr>\n",
       "<tr><td>0.0237137</td></tr>\n",
       "<tr><td>0.0421697</td></tr>\n",
       "<tr><td>0.0749894</td></tr>\n",
       "<tr><td>0.1333521</td></tr>\n",
       "<tr><td>0.2371374</td></tr>\n",
       "<tr><td>0.4216965</td></tr>\n",
       "<tr><td>0.7498942</td></tr>\n",
       "</table>"
      ],
      "text/plain": [
       "<Column name='R(Mpc)' dtype='float64' length=8>\n",
       "0.0133352\n",
       "0.0237137\n",
       "0.0421697\n",
       "0.0749894\n",
       "0.1333521\n",
       "0.2371374\n",
       "0.4216965\n",
       "0.7498942"
      ]
     },
     "execution_count": 74,
     "metadata": {},
     "output_type": "execute_result"
    }
   ],
   "source": [
    "cosmos_lensing_signal['R(Mpc)']"
   ]
  },
  {
   "cell_type": "code",
   "execution_count": 82,
   "metadata": {},
   "outputs": [
    {
     "data": {
      "text/html": [
       "&lt;Column name=&apos;R(Mpc)&apos; dtype=&apos;float64&apos; length=8&gt;\n",
       "<table>\n",
       "<tr><td>-2.9621940608101105</td></tr>\n",
       "<tr><td>-2.7121914665488647</td></tr>\n",
       "<tr><td>-2.4622060133879935</td></tr>\n",
       "<tr><td>-2.212198280205067</td></tr>\n",
       "<tr><td>-1.9621980417018086</td></tr>\n",
       "<tr><td>-1.7122004210262984</td></tr>\n",
       "<tr><td>-1.462199718946781</td></tr>\n",
       "<tr><td>-1.2121996960421895</td></tr>\n",
       "</table>"
      ],
      "text/plain": [
       "<Column name='R(Mpc)' dtype='float64' length=8>\n",
       "-2.9621940608101105\n",
       "-2.7121914665488647\n",
       "-2.4622060133879935\n",
       " -2.212198280205067\n",
       "-1.9621980417018086\n",
       "-1.7122004210262984\n",
       " -1.462199718946781\n",
       "-1.2121996960421895"
      ]
     },
     "execution_count": 82,
     "metadata": {},
     "output_type": "execute_result"
    }
   ],
   "source": [
    "np.log10(rp - cosmos_lensing_signal['R(Mpc)'])"
   ]
  },
  {
   "cell_type": "code",
   "execution_count": 86,
   "metadata": {
    "scrolled": true
   },
   "outputs": [
    {
     "name": "stdout",
     "output_type": "stream",
     "text": [
      "0.25\n",
      "0.2500000000000002\n",
      "0.24999999999999978\n",
      "0.2500000000000001\n",
      "0.25\n",
      "0.24999999999999994\n",
      "0.25\n"
     ]
    }
   ],
   "source": [
    "for i in range(len(rp)-1):\n",
    "    print np.log10(rp[i+1]) - np.log10(rp[i])"
   ]
  },
  {
   "cell_type": "code",
   "execution_count": 87,
   "metadata": {},
   "outputs": [
    {
     "name": "stdout",
     "output_type": "stream",
     "text": [
      "0.2499997877627953\n",
      "0.25000119006307386\n",
      "0.24999936736102835\n",
      "0.24999998048824723\n",
      "0.2500001946500353\n",
      "0.24999994256373265\n",
      "0.2499999981262017\n"
     ]
    }
   ],
   "source": [
    "for i in range(len(cosmos_lensing_signal['R(Mpc)']) -1):\n",
    "    print np.log10(cosmos_lensing_signal['R(Mpc)'][i+1]) - np.log10(cosmos_lensing_signal['R(Mpc)'][i])"
   ]
  },
  {
   "cell_type": "code",
   "execution_count": 90,
   "metadata": {},
   "outputs": [
    {
     "name": "stdout",
     "output_type": "stream",
     "text": [
      "        R(Mpc)       \n",
      "---------------------\n",
      " -0.03415099262097887\n",
      " -0.03415120485818357\n",
      " -0.03415001479510993\n",
      " -0.03415064743408136\n",
      " -0.03415066694583424\n",
      " -0.03415047229579893\n",
      "-0.034150529732066226\n",
      "-0.034150531605864565\n",
      "mean:  -0.03415063253598971\n"
     ]
    }
   ],
   "source": [
    "print np.log10(cosmos_lensing_signal['R(Mpc)']) - np.log10(rp)\n",
    "print 'mean: ', np.mean(np.log10(cosmos_lensing_signal['R(Mpc)']) - np.log10(rp))"
   ]
  },
  {
   "cell_type": "code",
   "execution_count": 54,
   "metadata": {},
   "outputs": [
    {
     "data": {
      "image/png": "[encoded data removed]",
      "text/plain": [
       "<Figure size 576x432 with 1 Axes>"
      ]
     },
     "metadata": {},
     "output_type": "display_data"
    }
   ],
   "source": [
    "fig, ax = plt.subplots(1, 1, figsize=(8, 6))\n",
    "\n",
    "plt.loglog()\n",
    "\n",
    "for rp, ds, n in zip(RP,DS, [5,10,30,50]):\n",
    "    ax.plot(rp, ds, label=r'Bol-Planck: ' +str(n)+ 'x '+str(len(dwarf_masses))+' galaxies', linestyle='--', zorder=3)\n",
    "    ax.fill_between(rp, ds,ds, alpha=0.5)\n",
    "# __=ax.plot(rp, result_mstar105_satellite_in_pc, label=r'Satellites: $M_{\\ast} \\approx 10^{10.5}M_{\\odot}$')\n",
    "# __=ax.plot(rp, result_mstar105_in_pc, label=r'All galaxies: $M_{\\ast} \\approx 10^{10.5}M_{\\odot}$')\n",
    "# __=ax.plot(rp, result_mstar105_central_in_pc, label=r'Centrals: $M_{\\ast} \\approx 10^{10.5}M_{\\odot}$')\n",
    "\n",
    "ax.errorbar(cosmos_lensing_signal['R(Mpc)'], cosmos_lensing_signal['SigR(Msun/pc^2)'], yerr=cosmos_lensing_signal['err(weights)'],\n",
    "            label=r'Laigle2015: ' +str(len(dwarf_masses))+ ' galaxies', linewidth=3, zorder=1)\n",
    "# ax.fill_between(cosmos_lensing_signal['R(Mpc)'], cosmos_lensing_signal['SigR(Msun/pc^2)']+cosmos_lensing_signal['err(weights)'],\n",
    "#                 cosmos_lensing_signal['SigR(Msun/pc^2)']-cosmos_lensing_signal['err(weights)'], alpha=0.5)\n",
    "\n",
    "__=ax.set_xlim(xmin = 0.01, xmax = 1)\n",
    "# __=ax.set_ylim(ymin = 0.5, ymax = 200)\n",
    "\n",
    "__=ax.set_xlabel(r'$R_{\\rm p} $  $\\rm{[Mpc / h]}$', fontsize=16)\n",
    "__=ax.set_ylabel(r'$\\Delta\\Sigma(R_{\\rm p})$  $[h M_{\\odot} / {\\rm pc}^2]$', fontsize=16)\n",
    "__=ax.legend(loc='best', fontsize=13)\n",
    "__=plt.xticks(fontsize=15); plt.yticks(fontsize=15)\n",
    "\n",
    "plt.title('Matched Mass distribution')\n",
    "plt.show()"
   ]
  },
  {
   "cell_type": "code",
   "execution_count": 91,
   "metadata": {},
   "outputs": [],
   "source": [
    "dwarf_galaxies = np.load('/Users/fardila/Documents/GitHub/dwarf_lensing/bplanck_dwarfs_50.npy')"
   ]
  },
  {
   "cell_type": "code",
   "execution_count": 102,
   "metadata": {},
   "outputs": [],
   "source": [
    "array = reverse_annular_area_weighted_midpoints(cosmos_lensing_signal['R(Mpc)'], 0.01, 1.0)"
   ]
  },
  {
   "cell_type": "code",
   "execution_count": 99,
   "metadata": {},
   "outputs": [],
   "source": [
    "x = [gal[1] for gal in dwarf_galaxies]\n",
    "y = [gal[2] for gal in dwarf_galaxies]\n",
    "z = [gal[3] for gal in dwarf_galaxies]\n",
    "galaxies = np.vstack((x, y, z)).T\n",
    "\n",
    "mass_encl = total_mass_enclosed_per_cylinder(galaxies, particles, particle_masses, downsampling_factor,\n",
    "                                             array, period)\n",
    "\n",
    "rp, ds = delta_sigma_from_precomputed_pairs(galaxies, mass_encl, array, period, cosmology=halocat.cosmology)\n",
    "ds = ds/1e12 #there seems to be a discrepancy in units pc^2 --> Mpc^2\n"
   ]
  },
  {
   "cell_type": "code",
   "execution_count": 100,
   "metadata": {},
   "outputs": [
    {
     "data": {
      "image/png": "[encoded data removed]",
      "text/plain": [
       "<Figure size 576x432 with 1 Axes>"
      ]
     },
     "metadata": {
      "needs_background": "light"
     },
     "output_type": "display_data"
    }
   ],
   "source": [
    "fig, ax = plt.subplots(1, 1, figsize=(8, 6))\n",
    "\n",
    "plt.loglog()\n",
    "\n",
    "\n",
    "ax.plot(rp, ds, label=r'Bol-Planck: ', linestyle='--', zorder=3, marker='o')\n",
    "ax.fill_between(rp, ds,ds, alpha=0.5)\n",
    "# __=ax.plot(rp, result_mstar105_satellite_in_pc, label=r'Satellites: $M_{\\ast} \\approx 10^{10.5}M_{\\odot}$')\n",
    "# __=ax.plot(rp, result_mstar105_in_pc, label=r'All galaxies: $M_{\\ast} \\approx 10^{10.5}M_{\\odot}$')\n",
    "# __=ax.plot(rp, result_mstar105_central_in_pc, label=r'Centrals: $M_{\\ast} \\approx 10^{10.5}M_{\\odot}$')\n",
    "\n",
    "ax.errorbar(cosmos_lensing_signal['R(Mpc)'], cosmos_lensing_signal['SigR(Msun/pc^2)'],\n",
    "            yerr=cosmos_lensing_signal['err(weights)'], marker='o', label=r'Laigle2015: ', linewidth=3, zorder=1)\n",
    "# ax.fill_between(cosmos_lensing_signal['R(Mpc)'], cosmos_lensing_signal['SigR(Msun/pc^2)']+cosmos_lensing_signal['err(weights)'],\n",
    "#                 cosmos_lensing_signal['SigR(Msun/pc^2)']-cosmos_lensing_signal['err(weights)'], alpha=0.5)\n",
    "\n",
    "__=ax.set_xlim(xmin = 0.01, xmax = 1)\n",
    "# __=ax.set_ylim(ymin = 0.5, ymax = 200)\n",
    "\n",
    "__=ax.set_xlabel(r'$R_{\\rm p} $  $\\rm{[Mpc / h]}$', fontsize=16)\n",
    "__=ax.set_ylabel(r'$\\Delta\\Sigma(R_{\\rm p})$  $[h M_{\\odot} / {\\rm pc}^2]$', fontsize=16)\n",
    "__=ax.legend(loc='best', fontsize=13)\n",
    "__=plt.xticks(fontsize=15); plt.yticks(fontsize=15)\n",
    "\n",
    "plt.title('Matched Mass distribution')\n",
    "plt.show()"
   ]
  },
  {
   "cell_type": "markdown",
   "metadata": {},
   "source": [
    "## histogram"
   ]
  },
  {
   "cell_type": "code",
   "execution_count": 61,
   "metadata": {},
   "outputs": [
    {
     "data": {
      "image/png": "[encoded data removed]",
      "text/plain": [
       "<Figure size 432x288 with 1 Axes>"
      ]
     },
     "metadata": {},
     "output_type": "display_data"
    }
   ],
   "source": [
    "\n",
    "plt.hist(dwarf_masses, bins=50, histtype='step', normed=True, linewidth=2, label='COSMOS dwarfs')\n",
    "for dwarf_galaxies in [dwarf_galaxies_5, dwarf_galaxies_10, dwarf_galaxies_30, dwarf_galaxies_50]:\n",
    "    mock_masses = [np.log10(d[-1]) for d in dwarf_galaxies]\n",
    "    plt.hist(mock_masses, bins=50, histtype='step', normed=True, label=r'Bol-Planck: ' +str(len(dwarf_galaxies))+ ' galaxies')\n",
    "    \n",
    "plt.xlabel('Mass')\n",
    "plt.legend(loc='upper left')\n",
    "plt.show()"
   ]
  },
  {
   "cell_type": "markdown",
   "metadata": {},
   "source": [
    "# file for Alexie"
   ]
  },
  {
   "cell_type": "code",
   "execution_count": 118,
   "metadata": {},
   "outputs": [],
   "source": [
    "rp_bins = np.logspace(-2, 1.3, 20)"
   ]
  },
  {
   "cell_type": "code",
   "execution_count": 119,
   "metadata": {},
   "outputs": [
    {
     "name": "stdout",
     "output_type": "stream",
     "text": [
      "343800\n"
     ]
    }
   ],
   "source": [
    "dwarf_galaxies = dwarf_galaxies_50\n",
    "print len(dwarf_galaxies)\n",
    "\n",
    "x = [gal[1] for gal in dwarf_galaxies]\n",
    "y = [gal[2] for gal in dwarf_galaxies]\n",
    "z = [gal[3] for gal in dwarf_galaxies]\n",
    "galaxies = np.vstack((x, y, z)).T\n",
    "\n",
    "mass_encl = total_mass_enclosed_per_cylinder(galaxies, particles, particle_masses, downsampling_factor, rp_bins, period)\n",
    "\n",
    "rp, ds = delta_sigma_from_precomputed_pairs(galaxies, mass_encl, rp_bins, period, cosmology=halocat.cosmology)\n",
    "ds = ds/1e12 #there seems to be a discrepancy in units pc^2 --> Mpc^2"
   ]
  },
  {
   "cell_type": "code",
   "execution_count": 120,
   "metadata": {},
   "outputs": [
    {
     "data": {
      "image/png": "[encoded data removed]",
      "text/plain": [
       "<Figure size 576x432 with 1 Axes>"
      ]
     },
     "metadata": {},
     "output_type": "display_data"
    }
   ],
   "source": [
    "fig, ax = plt.subplots(1, 1, figsize=(8, 6))\n",
    "\n",
    "plt.loglog()\n",
    "\n",
    "ax.plot(rp, ds, label=r'Bol-Planck: ' +str(n)+ 'x '+str(len(dwarf_masses))+' galaxies', linestyle='--', zorder=3)\n",
    "# ax.fill_between(rp, ds,ds, alpha=0.5)\n",
    "\n",
    "ax.errorbar(cosmos_lensing_signal['R(Mpc)'], cosmos_lensing_signal['SigR(Msun/pc^2)'], yerr=cosmos_lensing_signal['err(weights)'],\n",
    "            label=r'Laigle2015: ' +str(len(dwarf_masses))+ ' galaxies', linewidth=3, zorder=1)\n",
    "# ax.fill_between(cosmos_lensing_signal['R(Mpc)'], cosmos_lensing_signal['SigR(Msun/pc^2)']+cosmos_lensing_signal['err(weights)'],\n",
    "#                 cosmos_lensing_signal['SigR(Msun/pc^2)']-cosmos_lensing_signal['err(weights)'], alpha=0.5)\n",
    "\n",
    "# __=ax.set_xlim(xmin = 0.01, xmax = 1)\n",
    "# __=ax.set_ylim(ymin = 0.5, ymax = 200)\n",
    "\n",
    "__=ax.set_xlabel(r'$R_{\\rm p} $  $\\rm{[Mpc / h]}$', fontsize=16)\n",
    "__=ax.set_ylabel(r'$\\Delta\\Sigma(R_{\\rm p})$  $[h M_{\\odot} / {\\rm pc}^2]$', fontsize=16)\n",
    "__=ax.legend(loc='best', fontsize=13)\n",
    "__=plt.xticks(fontsize=15); plt.yticks(fontsize=15)\n",
    "\n",
    "plt.title('Matched Mass distribution')\n",
    "plt.show()"
   ]
  },
  {
   "cell_type": "code",
   "execution_count": 124,
   "metadata": {},
   "outputs": [],
   "source": [
    "from astropy.table import Table, Column\n",
    "data = Table([rp, ds], names=['r', 'DS'])\n",
    "ascii.write(data, 'BolPlanck_r_DS_50.txt')"
   ]
  },
  {
   "cell_type": "markdown",
   "metadata": {},
   "source": [
    "a) Take my bins and do : my_bin * (1+z)*h and use that as an input for halo tools. Use the redshift of the mock.\n",
    "\n",
    "b) when you get the result from halo tools, convert back to my units\n",
    "\n",
    "c) Also need to convert delta sigma to the same units.\n",
    "ds_phys_real_h = ds_comov_h_inverse * (1+REDSHIFT)^2*h*1e-12;"
   ]
  },
  {
   "cell_type": "markdown",
   "metadata": {},
   "source": [
    "# convert bins "
   ]
  },
  {
   "cell_type": "code",
   "execution_count": 155,
   "metadata": {},
   "outputs": [
    {
     "name": "stdout",
     "output_type": "stream",
     "text": [
      "[0.01       0.01778279 0.03162278 0.05623413 0.1        0.17782794\n",
      " 0.31622777 0.56234133 1.        ]\n",
      "[0.01885841 0.03353552 0.05963552 0.10604862 0.18858407 0.33535517\n",
      " 0.59635519 1.06048616 1.88584071]\n"
     ]
    }
   ],
   "source": [
    "rp_bins_physical_no_h = np.logspace(-2, 0, 9)\n",
    "rp_bins_comoving_h = np.logspace(-2, 0, 9)*(1+z_sim)/h_sim\n",
    "print rp_bins_physical_no_h\n",
    "print rp_bins_comoving_h"
   ]
  },
  {
   "cell_type": "code",
   "execution_count": 165,
   "metadata": {},
   "outputs": [
    {
     "name": "stdout",
     "output_type": "stream",
     "text": [
      "[0.00924378 0.01643801 0.02923138 0.05198157 0.09243775 0.16438015\n",
      " 0.29231383 0.51981567 0.9243775 ]\n"
     ]
    }
   ],
   "source": [
    "arr = 10**(np.log10(rp_bins_physical_no_h ) - 0.03415063253598971)\n",
    "print arr"
   ]
  },
  {
   "cell_type": "code",
   "execution_count": 170,
   "metadata": {},
   "outputs": [
    {
     "name": "stdout",
     "output_type": "stream",
     "text": [
      "0.924377503325\n",
      "1.08180910548\n"
     ]
    }
   ],
   "source": [
    "print 10**(-0.03415063253598971)\n",
    "print 10**(0.03415063253598971)"
   ]
  },
  {
   "cell_type": "code",
   "execution_count": 174,
   "metadata": {},
   "outputs": [
    {
     "data": {
      "text/plain": [
       "1.2786"
      ]
     },
     "execution_count": 174,
     "metadata": {},
     "output_type": "execute_result"
    }
   ],
   "source": [
    "(1+z_sim)#/h_sim"
   ]
  },
  {
   "cell_type": "code",
   "execution_count": 166,
   "metadata": {},
   "outputs": [
    {
     "name": "stdout",
     "output_type": "stream",
     "text": [
      "[0.01333521 0.02371373 0.04216964 0.0749894  0.13335211 0.23713731\n",
      " 0.4216964  0.74989403]\n",
      "[0.01442615 0.02565373 0.0456195  0.08112422 0.14426153 0.2565373\n",
      " 0.45619501 0.81124219]\n",
      "  R(Mpc) \n",
      "---------\n",
      "0.0133352\n",
      "0.0237137\n",
      "0.0421697\n",
      "0.0749894\n",
      "0.1333521\n",
      "0.2371374\n",
      "0.4216965\n",
      "0.7498942\n"
     ]
    }
   ],
   "source": [
    "print annular_area_weighted_midpoints(arr)\n",
    "print (annular_area_weighted_midpoints(rp_bins_comoving_h)/(1+z_sim))*h_sim\n",
    "print cosmos_lensing_signal['R(Mpc)']"
   ]
  },
  {
   "cell_type": "code",
   "execution_count": 175,
   "metadata": {},
   "outputs": [
    {
     "data": {
      "text/html": [
       "&lt;Table length=8&gt;\n",
       "<table id=\"table4447269200\" class=\"table-striped table-bordered table-condensed\">\n",
       "<thead><tr><th>R(Mpc)</th><th>SigR(Msun/pc^2)</th><th>err(weights)</th><th>err(resampling)</th><th>Nsources</th><th>&lt;R&gt;</th><th>e2</th></tr></thead>\n",
       "<thead><tr><th>float64</th><th>float64</th><th>float64</th><th>float64</th><th>int64</th><th>float64</th><th>float64</th></tr></thead>\n",
       "<tr><td>0.0133352</td><td>58.8677431</td><td>17.3327507</td><td>21.7752764</td><td>2176</td><td>0.0142079</td><td>-5.3672735</td></tr>\n",
       "<tr><td>0.0237137</td><td>11.8954158</td><td>9.6261485</td><td>14.8534154</td><td>7082</td><td>0.0250451</td><td>13.2385548</td></tr>\n",
       "<tr><td>0.0421697</td><td>5.6647874</td><td>5.4522923</td><td>12.2597098</td><td>22133</td><td>0.0446207</td><td>3.5197639</td></tr>\n",
       "<tr><td>0.0749894</td><td>3.2644803</td><td>3.0599847</td><td>5.3533424</td><td>70223</td><td>0.0791256</td><td>1.1381985</td></tr>\n",
       "<tr><td>0.1333521</td><td>3.9288803</td><td>1.7389203</td><td>2.2541496</td><td>217526</td><td>0.1406552</td><td>-2.5727109</td></tr>\n",
       "<tr><td>0.2371374</td><td>3.5901829</td><td>0.9840321</td><td>1.5130009</td><td>679967</td><td>0.2502264</td><td>1.6006856</td></tr>\n",
       "<tr><td>0.4216965</td><td>1.4727592</td><td>0.5573089</td><td>1.1298721</td><td>2120184</td><td>0.4446665</td><td>-0.0681996</td></tr>\n",
       "<tr><td>0.7498942</td><td>2.5547892</td><td>0.3172553</td><td>0.8907857</td><td>6543536</td><td>0.7906795</td><td>-0.2700844</td></tr>\n",
       "</table>"
      ],
      "text/plain": [
       "<Table length=8>\n",
       "  R(Mpc)  SigR(Msun/pc^2) err(weights) ... Nsources    <R>        e2    \n",
       " float64      float64       float64    ...  int64    float64   float64  \n",
       "--------- --------------- ------------ ... -------- --------- ----------\n",
       "0.0133352      58.8677431   17.3327507 ...     2176 0.0142079 -5.3672735\n",
       "0.0237137      11.8954158    9.6261485 ...     7082 0.0250451 13.2385548\n",
       "0.0421697       5.6647874    5.4522923 ...    22133 0.0446207  3.5197639\n",
       "0.0749894       3.2644803    3.0599847 ...    70223 0.0791256  1.1381985\n",
       "0.1333521       3.9288803    1.7389203 ...   217526 0.1406552 -2.5727109\n",
       "0.2371374       3.5901829    0.9840321 ...   679967 0.2502264  1.6006856\n",
       "0.4216965       1.4727592    0.5573089 ...  2120184 0.4446665 -0.0681996\n",
       "0.7498942       2.5547892    0.3172553 ...  6543536 0.7906795 -0.2700844"
      ]
     },
     "execution_count": 175,
     "metadata": {},
     "output_type": "execute_result"
    }
   ],
   "source": [
    "cosmos_lensing_signal\n"
   ]
  },
  {
   "cell_type": "markdown",
   "metadata": {},
   "source": [
    "9/21/18:\n",
    "Can't figure out the bins with h or z, but if I simply subtract 0.034 in log space it works out."
   ]
  },
  {
   "cell_type": "code",
   "execution_count": null,
   "metadata": {},
   "outputs": [],
   "source": []
  },
  {
   "cell_type": "markdown",
   "metadata": {},
   "source": [
    "### reverse engineer "
   ]
  },
  {
   "cell_type": "code",
   "execution_count": null,
   "metadata": {},
   "outputs": [],
   "source": [
    "np.sqrt(0.5*(rp_bins[:-1]**2 + rp_bins[1:]**2))"
   ]
  },
  {
   "cell_type": "code",
   "execution_count": 49,
   "metadata": {},
   "outputs": [],
   "source": [
    "def reverse_annular_area_weighted_midpoints(bins, initial, final):\n",
    "    array = [initial]\n",
    "    new_entry = initial\n",
    "    \n",
    "    for b in bins:\n",
    "        new_entry = np.sqrt(2*(b**2) - (new_entry**2))\n",
    "        array.append(new_entry)\n",
    "        \n",
    "    array.append(final)\n",
    "    \n",
    "    return np.array(array)[:-1]"
   ]
  },
  {
   "cell_type": "code",
   "execution_count": 61,
   "metadata": {
    "scrolled": true
   },
   "outputs": [
    {
     "name": "stdout",
     "output_type": "stream",
     "text": [
      "[0.01       0.01598922 0.02947921 0.05184152 0.09251636 0.1643359\n",
      " 0.29233885 0.51980176 0.92438561]\n",
      "[-2.         -1.79617275 -1.53048411 -1.28532227 -1.03378146 -0.78426755\n",
      " -0.53411346 -0.28416225 -0.03414683]\n"
     ]
    }
   ],
   "source": [
    "array = reverse_annular_area_weighted_midpoints(cosmos_lensing_signal['R(Mpc)'], 0.01, 1.0)\n",
    "print array\n",
    "print np.log10(array)"
   ]
  },
  {
   "cell_type": "markdown",
   "metadata": {},
   "source": [
    "from [Kobayashi et al. 2015](http://adsabs.harvard.edu/abs/2015MNRAS.449.2128K) `radial binning scheme is arbitrary – we opt to make 451 bins with logarithmically equal width from 0.013 to 419 kpc` "
   ]
  },
  {
   "cell_type": "code",
   "execution_count": 58,
   "metadata": {},
   "outputs": [
    {
     "data": {
      "text/plain": [
       "array([1.30000000e-02, 1.33033719e-02, 1.36138233e-02, 1.39315196e-02,\n",
       "       1.42566297e-02, 1.45893267e-02, 1.49297876e-02, 1.52781935e-02,\n",
       "       1.56347300e-02, 1.59995868e-02, 1.63729579e-02, 1.67550421e-02,\n",
       "       1.71460428e-02, 1.75461680e-02, 1.79556306e-02, 1.83746486e-02,\n",
       "       1.88034448e-02, 1.92422477e-02, 1.96912905e-02, 2.01508123e-02,\n",
       "       2.06210577e-02, 2.11022769e-02, 2.15947259e-02, 2.20986669e-02,\n",
       "       2.26143680e-02, 2.31421036e-02, 2.36821547e-02, 2.42348085e-02,\n",
       "       2.48003592e-02, 2.53791078e-02, 2.59713623e-02, 2.65774378e-02,\n",
       "       2.71976568e-02, 2.78323494e-02, 2.84818534e-02, 2.91465145e-02,\n",
       "       2.98266863e-02, 3.05227307e-02, 3.12350183e-02, 3.19639280e-02,\n",
       "       3.27098478e-02, 3.34731746e-02, 3.42543146e-02, 3.50536835e-02,\n",
       "       3.58717067e-02, 3.67088196e-02, 3.75654676e-02, 3.84421065e-02,\n",
       "       3.93392030e-02, 4.02572344e-02, 4.11966893e-02, 4.21580675e-02,\n",
       "       4.31418808e-02, 4.41486526e-02, 4.51789187e-02, 4.62332275e-02,\n",
       "       4.73121399e-02, 4.84162301e-02, 4.95460857e-02, 5.07023080e-02,\n",
       "       5.18855122e-02, 5.30963280e-02, 5.43353998e-02, 5.56033869e-02,\n",
       "       5.69009642e-02, 5.82288221e-02, 5.95876673e-02, 6.09782229e-02,\n",
       "       6.24012289e-02, 6.38574426e-02, 6.53476390e-02, 6.68726110e-02,\n",
       "       6.84331702e-02, 7.00301471e-02, 7.16643916e-02, 7.33367732e-02,\n",
       "       7.50481821e-02, 7.67995289e-02, 7.85917456e-02, 8.04257861e-02,\n",
       "       8.23026263e-02, 8.42232650e-02, 8.61887242e-02, 8.82000500e-02,\n",
       "       9.02583128e-02, 9.23646077e-02, 9.45200558e-02, 9.67258041e-02,\n",
       "       9.89830263e-02, 1.01292924e-01, 1.03656726e-01, 1.06075690e-01,\n",
       "       1.08551104e-01, 1.11084285e-01, 1.13676581e-01, 1.16329372e-01,\n",
       "       1.19044069e-01, 1.21822117e-01, 1.24664994e-01, 1.27574214e-01,\n",
       "       1.30551324e-01, 1.33597908e-01, 1.36715589e-01, 1.39906025e-01,\n",
       "       1.43170914e-01, 1.46511993e-01, 1.49931040e-01, 1.53429876e-01,\n",
       "       1.57010361e-01, 1.60674402e-01, 1.64423948e-01, 1.68260994e-01,\n",
       "       1.72187583e-01, 1.76205804e-01, 1.80317795e-01, 1.84525745e-01,\n",
       "       1.88831893e-01, 1.93238531e-01, 1.97748003e-01, 2.02362709e-01,\n",
       "       2.07085106e-01, 2.11917706e-01, 2.16863081e-01, 2.21923862e-01,\n",
       "       2.27102744e-01, 2.32402481e-01, 2.37825895e-01, 2.43375871e-01,\n",
       "       2.49055363e-01, 2.54867394e-01, 2.60815055e-01, 2.66901513e-01,\n",
       "       2.73130007e-01, 2.79503850e-01, 2.86026436e-01, 2.92701234e-01,\n",
       "       2.99531798e-01, 3.06521761e-01, 3.13674844e-01, 3.20994854e-01,\n",
       "       3.28485686e-01, 3.36151326e-01, 3.43995854e-01, 3.52023444e-01,\n",
       "       3.60238368e-01, 3.68644999e-01, 3.77247808e-01, 3.86051376e-01,\n",
       "       3.95060386e-01, 4.04279633e-01, 4.13714024e-01, 4.23368578e-01,\n",
       "       4.33248433e-01, 4.43358848e-01, 4.53705203e-01, 4.64293003e-01,\n",
       "       4.75127883e-01, 4.86215610e-01, 4.97562082e-01, 5.09173340e-01,\n",
       "       5.21055561e-01, 5.33215069e-01, 5.45658335e-01, 5.58391981e-01,\n",
       "       5.71422783e-01, 5.84757676e-01, 5.98403756e-01, 6.12368285e-01,\n",
       "       6.26658694e-01, 6.41282589e-01, 6.56247751e-01, 6.71562144e-01,\n",
       "       6.87233919e-01, 7.03271415e-01, 7.19683167e-01, 7.36477909e-01,\n",
       "       7.53664577e-01, 7.71252319e-01, 7.89250493e-01, 8.07668679e-01,\n",
       "       8.26516676e-01, 8.45804516e-01, 8.65542463e-01, 8.85741021e-01,\n",
       "       9.06410938e-01, 9.27563214e-01, 9.49209107e-01, 9.71360134e-01,\n",
       "       9.94028084e-01, 1.01722502e+00, 1.04096329e+00, 1.06525552e+00,\n",
       "       1.09011464e+00, 1.11555388e+00, 1.14158678e+00, 1.16822719e+00,\n",
       "       1.19548929e+00, 1.22338758e+00, 1.25193692e+00, 1.28115249e+00,\n",
       "       1.31104985e+00, 1.34164490e+00, 1.37295393e+00, 1.40499359e+00,\n",
       "       1.43778094e+00, 1.47133343e+00, 1.50566891e+00, 1.54080564e+00,\n",
       "       1.57676235e+00, 1.61355814e+00, 1.65121262e+00, 1.68974581e+00,\n",
       "       1.72917822e+00, 1.76953084e+00, 1.81082514e+00, 1.85308310e+00,\n",
       "       1.89632720e+00, 1.94058046e+00, 1.98586642e+00, 2.03220919e+00,\n",
       "       2.07963344e+00, 2.12816438e+00, 2.17782786e+00, 2.22865030e+00,\n",
       "       2.28065875e+00, 2.33388089e+00, 2.38834503e+00, 2.44408016e+00,\n",
       "       2.50111595e+00, 2.55948274e+00, 2.61921159e+00, 2.68033430e+00,\n",
       "       2.74288338e+00, 2.80689212e+00, 2.87239460e+00, 2.93942565e+00,\n",
       "       3.00802097e+00, 3.07821705e+00, 3.15005124e+00, 3.22356178e+00,\n",
       "       3.29878778e+00, 3.37576927e+00, 3.45454723e+00, 3.53516358e+00,\n",
       "       3.61766121e+00, 3.70208404e+00, 3.78847698e+00, 3.87688601e+00,\n",
       "       3.96735818e+00, 4.05994163e+00, 4.15468564e+00, 4.25164063e+00,\n",
       "       4.35085819e+00, 4.45239111e+00, 4.55629344e+00, 4.66262047e+00,\n",
       "       4.77142877e+00, 4.88277626e+00, 4.99672218e+00, 5.11332719e+00,\n",
       "       5.23265332e+00, 5.35476408e+00, 5.47972445e+00, 5.60760094e+00,\n",
       "       5.73846159e+00, 5.87237604e+00, 6.00941557e+00, 6.14965308e+00,\n",
       "       6.29316323e+00, 6.44002236e+00, 6.59030865e+00, 6.74410206e+00,\n",
       "       6.90148444e+00, 7.06253954e+00, 7.22735308e+00, 7.39601275e+00,\n",
       "       7.56860831e+00, 7.74523162e+00, 7.92597666e+00, 8.11093961e+00,\n",
       "       8.30021892e+00, 8.49391531e+00, 8.69213186e+00, 8.89497405e+00,\n",
       "       9.10254982e+00, 9.31496964e+00, 9.53234655e+00, 9.75479624e+00,\n",
       "       9.98243708e+00, 1.02153902e+01, 1.04537796e+01, 1.06977321e+01,\n",
       "       1.09473776e+01, 1.12028489e+01, 1.14642819e+01, 1.17318158e+01,\n",
       "       1.20055930e+01, 1.22857591e+01, 1.25724632e+01, 1.28658580e+01,\n",
       "       1.31660995e+01, 1.34733475e+01, 1.37877656e+01, 1.41095210e+01,\n",
       "       1.44387850e+01, 1.47757328e+01, 1.51205437e+01, 1.54734012e+01,\n",
       "       1.58344932e+01, 1.62040116e+01, 1.65821533e+01, 1.69691194e+01,\n",
       "       1.73651158e+01, 1.77703533e+01, 1.81850476e+01, 1.86094193e+01,\n",
       "       1.90436943e+01, 1.94881036e+01, 1.99428838e+01, 2.04082769e+01,\n",
       "       2.08845306e+01, 2.13718982e+01, 2.18706392e+01, 2.23810190e+01,\n",
       "       2.29033091e+01, 2.34377876e+01, 2.39847388e+01, 2.45444539e+01,\n",
       "       2.51172306e+01, 2.57033738e+01, 2.63031954e+01, 2.69170146e+01,\n",
       "       2.75451581e+01, 2.81879601e+01, 2.88457628e+01, 2.95189161e+01,\n",
       "       3.02077784e+01, 3.09127161e+01, 3.16341045e+01, 3.23723274e+01,\n",
       "       3.31277777e+01, 3.39008574e+01, 3.46919780e+01, 3.55015603e+01,\n",
       "       3.63300354e+01, 3.71778439e+01, 3.80454372e+01, 3.89332769e+01,\n",
       "       3.98418355e+01, 4.07715964e+01, 4.17230546e+01, 4.26967163e+01,\n",
       "       4.36930996e+01, 4.47127348e+01, 4.57561646e+01, 4.68239441e+01,\n",
       "       4.79166416e+01, 4.90348387e+01, 5.01791303e+01, 5.13501255e+01,\n",
       "       5.25484474e+01, 5.37747337e+01, 5.50296369e+01, 5.63138250e+01,\n",
       "       5.76279812e+01, 5.89728050e+01, 6.03490120e+01, 6.17573346e+01,\n",
       "       6.31985222e+01, 6.46733418e+01, 6.61825782e+01, 6.77270346e+01,\n",
       "       6.93075329e+01, 7.09249142e+01, 7.25800392e+01, 7.42737887e+01,\n",
       "       7.60070640e+01, 7.77807876e+01, 7.95959033e+01, 8.14533771e+01,\n",
       "       8.33541974e+01, 8.52993759e+01, 8.72899476e+01, 8.93269719e+01,\n",
       "       9.14115328e+01, 9.35447396e+01, 9.57277276e+01, 9.79616585e+01,\n",
       "       1.00247721e+02, 1.02587132e+02, 1.04981136e+02, 1.07431007e+02,\n",
       "       1.09938049e+02, 1.12503596e+02, 1.15129014e+02, 1.17815699e+02,\n",
       "       1.20565081e+02, 1.23378624e+02, 1.26257824e+02, 1.29204215e+02,\n",
       "       1.32219363e+02, 1.35304873e+02, 1.38462388e+02, 1.41693588e+02,\n",
       "       1.45000192e+02, 1.48383960e+02, 1.51846692e+02, 1.55390232e+02,\n",
       "       1.59016465e+02, 1.62727320e+02, 1.66524774e+02, 1.70410846e+02,\n",
       "       1.74387604e+02, 1.78457165e+02, 1.82621695e+02, 1.86883409e+02,\n",
       "       1.91244576e+02, 1.95707517e+02, 2.00274606e+02, 2.04948274e+02,\n",
       "       2.09731008e+02, 2.14625354e+02, 2.19633915e+02, 2.24759358e+02,\n",
       "       2.30004409e+02, 2.35371861e+02, 2.40864569e+02, 2.46485457e+02,\n",
       "       2.52237515e+02, 2.58123805e+02, 2.64147459e+02, 2.70311683e+02,\n",
       "       2.76619757e+02, 2.83075039e+02, 2.89680962e+02, 2.96441044e+02,\n",
       "       3.03358881e+02, 3.10438154e+02, 3.17682632e+02, 3.25096168e+02,\n",
       "       3.32682710e+02, 3.40446293e+02, 3.48391049e+02, 3.56521207e+02,\n",
       "       3.64841092e+02, 3.73355133e+02, 3.82067860e+02, 3.90983910e+02,\n",
       "       4.00108027e+02, 4.09445068e+02, 4.19000000e+02])"
      ]
     },
     "execution_count": 58,
     "metadata": {},
     "output_type": "execute_result"
    }
   ],
   "source": [
    "np.logspace(np.log10(0.013), np.log10(419), 451)"
   ]
  },
  {
   "cell_type": "code",
   "execution_count": 43,
   "metadata": {},
   "outputs": [
    {
     "data": {
      "text/html": [
       "&lt;Column name=&apos;R(Mpc)&apos; dtype=&apos;float64&apos; length=8&gt;\n",
       "<table>\n",
       "<tr><td>0.0133352</td></tr>\n",
       "<tr><td>0.0237137</td></tr>\n",
       "<tr><td>0.0421697</td></tr>\n",
       "<tr><td>0.0749894</td></tr>\n",
       "<tr><td>0.1333521</td></tr>\n",
       "<tr><td>0.2371374</td></tr>\n",
       "<tr><td>0.4216965</td></tr>\n",
       "<tr><td>0.7498942</td></tr>\n",
       "</table>"
      ],
      "text/plain": [
       "<Column name='R(Mpc)' dtype='float64' length=8>\n",
       "0.0133352\n",
       "0.0237137\n",
       "0.0421697\n",
       "0.0749894\n",
       "0.1333521\n",
       "0.2371374\n",
       "0.4216965\n",
       "0.7498942"
      ]
     },
     "execution_count": 43,
     "metadata": {},
     "output_type": "execute_result"
    }
   ],
   "source": [
    "cosmos_lensing_signal['R(Mpc)']"
   ]
  },
  {
   "cell_type": "code",
   "execution_count": 62,
   "metadata": {},
   "outputs": [
    {
     "name": "stdout",
     "output_type": "stream",
     "text": [
      "-0.20382724574749655\n",
      "-0.26568864387886393\n",
      "-0.24516183561661964\n",
      "-0.2515408166597415\n",
      "-0.2495139062966465\n",
      "-0.2501540901615742\n",
      "-0.24995120862974346\n",
      "-0.25001542790500525\n"
     ]
    },
    {
     "ename": "IndexError",
     "evalue": "index 9 is out of bounds for axis 0 with size 9",
     "output_type": "error",
     "traceback": [
      "\u001b[0;31m---------------------------------------------------------------------------\u001b[0m",
      "\u001b[0;31mIndexError\u001b[0m                                Traceback (most recent call last)",
      "\u001b[0;32m<ipython-input-62-ed59f43a1a7e>\u001b[0m in \u001b[0;36m<module>\u001b[0;34m()\u001b[0m\n\u001b[1;32m      1\u001b[0m \u001b[0;32mfor\u001b[0m \u001b[0mi\u001b[0m\u001b[0;34m,\u001b[0m \u001b[0ma\u001b[0m \u001b[0;32min\u001b[0m \u001b[0menumerate\u001b[0m\u001b[0;34m(\u001b[0m\u001b[0mnp\u001b[0m\u001b[0;34m.\u001b[0m\u001b[0mlog10\u001b[0m\u001b[0;34m(\u001b[0m\u001b[0marray\u001b[0m\u001b[0;34m)\u001b[0m\u001b[0;34m)\u001b[0m\u001b[0;34m:\u001b[0m\u001b[0;34m\u001b[0m\u001b[0m\n\u001b[0;32m----> 2\u001b[0;31m     \u001b[0;32mprint\u001b[0m \u001b[0ma\u001b[0m \u001b[0;34m-\u001b[0m \u001b[0mnp\u001b[0m\u001b[0;34m.\u001b[0m\u001b[0mlog10\u001b[0m\u001b[0;34m(\u001b[0m\u001b[0marray\u001b[0m\u001b[0;34m[\u001b[0m\u001b[0mi\u001b[0m\u001b[0;34m+\u001b[0m\u001b[0;36m1\u001b[0m\u001b[0;34m]\u001b[0m\u001b[0;34m)\u001b[0m\u001b[0;34m\u001b[0m\u001b[0m\n\u001b[0m",
      "\u001b[0;31mIndexError\u001b[0m: index 9 is out of bounds for axis 0 with size 9"
     ]
    }
   ],
   "source": [
    "for i, a in enumerate(np.log10(array)):\n",
    "    print a - np.log10(array[i+1])"
   ]
  },
  {
   "cell_type": "code",
   "execution_count": 32,
   "metadata": {},
   "outputs": [
    {
     "data": {
      "text/plain": [
       "array([0.0133352, 0.0237137, 0.0421697, 0.0749894, 0.1333521, 0.2371374,\n",
       "       0.4216965, 0.7498942])"
      ]
     },
     "execution_count": 32,
     "metadata": {},
     "output_type": "execute_result"
    }
   ],
   "source": [
    "annular_area_weighted_midpoints(array)"
   ]
  },
  {
   "cell_type": "code",
   "execution_count": 12,
   "metadata": {},
   "outputs": [
    {
     "data": {
      "text/html": [
       "&lt;Column name=&apos;R(Mpc)&apos; dtype=&apos;float64&apos; length=8&gt;\n",
       "<table>\n",
       "<tr><td>0.0133352</td></tr>\n",
       "<tr><td>0.0237137</td></tr>\n",
       "<tr><td>0.0421697</td></tr>\n",
       "<tr><td>0.0749894</td></tr>\n",
       "<tr><td>0.1333521</td></tr>\n",
       "<tr><td>0.2371374</td></tr>\n",
       "<tr><td>0.4216965</td></tr>\n",
       "<tr><td>0.7498942</td></tr>\n",
       "</table>"
      ],
      "text/plain": [
       "<Column name='R(Mpc)' dtype='float64' length=8>\n",
       "0.0133352\n",
       "0.0237137\n",
       "0.0421697\n",
       "0.0749894\n",
       "0.1333521\n",
       "0.2371374\n",
       "0.4216965\n",
       "0.7498942"
      ]
     },
     "execution_count": 12,
     "metadata": {},
     "output_type": "execute_result"
    }
   ],
   "source": [
    "cosmos_lensing_signal['R(Mpc)']"
   ]
  },
  {
   "cell_type": "code",
   "execution_count": null,
   "metadata": {},
   "outputs": [],
   "source": []
  }
 ],
 "metadata": {
  "anaconda-cloud": {},
  "kernelspec": {
   "display_name": "Python 2",
   "language": "python",
   "name": "python2"
  },
  "language_info": {
   "codemirror_mode": {
    "name": "ipython",
    "version": 2
   },
   "file_extension": ".py",
   "mimetype": "text/x-python",
   "name": "python",
   "nbconvert_exporter": "python",
   "pygments_lexer": "ipython2",
   "version": "2.7.15"
  },
  "nbpresent": {
   "slides": {
    "01ef6e82-8f25-47ed-a3db-591d9437b0a9": {
     "id": "01ef6e82-8f25-47ed-a3db-591d9437b0a9",
     "prev": "f88b0979-5f78-48de-bd7a-3ac570a80015",
     "regions": {
      "b694c7ee-9be9-4b4c-8367-cf3f4e8f67f2": {
       "attrs": {
        "height": 0.8,
        "width": 0.8,
        "x": 0.1,
        "y": 0.1
       },
       "content": {
        "cell": "ea4d1428-412b-4755-80d6-fa67eae0c991",
        "part": "whole"
       },
       "id": "b694c7ee-9be9-4b4c-8367-cf3f4e8f67f2"
      }
     }
    },
    "02f24a08-57b5-4aa3-97f9-90fc63b18cf4": {
     "id": "02f24a08-57b5-4aa3-97f9-90fc63b18cf4",
     "prev": "8cd4d961-585a-49c2-89ec-da14eb1e1bdb",
     "regions": {
      "c33c41e4-f171-4432-bc38-86685b271220": {
       "attrs": {
        "height": 0.8,
        "width": 0.8,
        "x": 0.1,
        "y": 0.1
       },
       "content": {
        "cell": "0bc1d434-f2b0-4edf-b1eb-b5a1f7079b5a",
        "part": "whole"
       },
       "id": "c33c41e4-f171-4432-bc38-86685b271220"
      }
     }
    },
    "056bc643-8eaf-4ff2-898b-3873f2daaf31": {
     "id": "056bc643-8eaf-4ff2-898b-3873f2daaf31",
     "prev": "ee6ad32d-afd2-4a17-bc0d-25d2ac157470",
     "regions": {
      "bf8a76ff-aab4-45ba-b210-b178533cae85": {
       "attrs": {
        "height": 0.8,
        "width": 0.8,
        "x": 0.1,
        "y": 0.1
       },
       "content": {
        "cell": "4affb703-93de-47bd-9453-8f9c2c205c40",
        "part": "whole"
       },
       "id": "bf8a76ff-aab4-45ba-b210-b178533cae85"
      }
     }
    },
    "0b30d499-3ab9-403b-ac4d-66c01f796882": {
     "id": "0b30d499-3ab9-403b-ac4d-66c01f796882",
     "prev": "056bc643-8eaf-4ff2-898b-3873f2daaf31",
     "regions": {
      "a903093d-665e-4775-87e4-29ec8a8ba49d": {
       "attrs": {
        "height": 0.8,
        "width": 0.8,
        "x": 0.1,
        "y": 0.1
       },
       "content": {
        "cell": "01b15129-e3b8-49f0-9fd8-ab2cfeda8364",
        "part": "whole"
       },
       "id": "a903093d-665e-4775-87e4-29ec8a8ba49d"
      }
     }
    },
    "17911ac0-dd4d-40cf-9238-776ae480daa9": {
     "id": "17911ac0-dd4d-40cf-9238-776ae480daa9",
     "prev": "cc10cb41-a1b1-401c-9153-47fb951386d4",
     "regions": {
      "65aed126-6a80-46e2-8453-c097f4b33e04": {
       "attrs": {
        "height": 0.8,
        "width": 0.8,
        "x": 0.1,
        "y": 0.1
       },
       "content": {
        "cell": "0cb30008-65df-4467-abee-c4eb85603367",
        "part": "whole"
       },
       "id": "65aed126-6a80-46e2-8453-c097f4b33e04"
      }
     }
    },
    "17c7d956-1a9c-4486-945e-bf4b15e24ce7": {
     "id": "17c7d956-1a9c-4486-945e-bf4b15e24ce7",
     "prev": "3681dd96-6b00-4e0c-bf89-c9ad053c99a1",
     "regions": {
      "73eead12-74fa-4006-a636-0e021c5dbc61": {
       "attrs": {
        "height": 0.8,
        "width": 0.8,
        "x": 0.1,
        "y": 0.1
       },
       "content": {
        "cell": "e31be248-7b05-460a-bf05-12613cd1c65f",
        "part": "whole"
       },
       "id": "73eead12-74fa-4006-a636-0e021c5dbc61"
      }
     }
    },
    "18349ebc-4d2b-445b-8617-9fb77cb10f4a": {
     "id": "18349ebc-4d2b-445b-8617-9fb77cb10f4a",
     "prev": "6e6bda26-078e-443c-b249-e506afcc8b92",
     "regions": {
      "e1eede51-15bc-49dd-a3ba-2d018c2c17fa": {
       "attrs": {
        "height": 0.8,
        "width": 0.8,
        "x": 0.1,
        "y": 0.1
       },
       "content": {
        "cell": "943875a7-b82b-4b37-987b-3fc77c7ae332",
        "part": "whole"
       },
       "id": "e1eede51-15bc-49dd-a3ba-2d018c2c17fa"
      }
     }
    },
    "19da61f7-c865-44ba-92ee-1031465a9032": {
     "id": "19da61f7-c865-44ba-92ee-1031465a9032",
     "prev": "ca881eec-cc63-4ab1-8571-610eb8787ce7",
     "regions": {
      "59a86983-cfbf-492f-a8b5-2b8d02f021ee": {
       "attrs": {
        "height": 0.8,
        "width": 0.8,
        "x": 0.1,
        "y": 0.1
       },
       "content": {
        "cell": "417dd06f-ab79-458b-bd22-5e8e375707d0",
        "part": "whole"
       },
       "id": "59a86983-cfbf-492f-a8b5-2b8d02f021ee"
      }
     }
    },
    "1a8d891f-12ba-4bd1-86c0-bd6b8839e40a": {
     "id": "1a8d891f-12ba-4bd1-86c0-bd6b8839e40a",
     "prev": "dac64c6a-88e2-4f00-b266-eeccac279ac4",
     "regions": {
      "340960a1-4e02-4bf4-bd50-b21a706e61fa": {
       "attrs": {
        "height": 0.8,
        "width": 0.8,
        "x": 0.1,
        "y": 0.1
       },
       "content": {
        "cell": "63935b64-ac11-4535-a15b-6d894793648f",
        "part": "whole"
       },
       "id": "340960a1-4e02-4bf4-bd50-b21a706e61fa"
      }
     }
    },
    "1bb34625-de55-4eef-b720-4fd0314f1362": {
     "id": "1bb34625-de55-4eef-b720-4fd0314f1362",
     "prev": "17911ac0-dd4d-40cf-9238-776ae480daa9",
     "regions": {
      "020404b3-f0fb-4404-a7e9-f6e987e5bc88": {
       "attrs": {
        "height": 0.8,
        "width": 0.8,
        "x": 0.1,
        "y": 0.1
       },
       "content": {
        "cell": "e72c1dd2-6d0a-4621-86de-18cb9d17a963",
        "part": "whole"
       },
       "id": "020404b3-f0fb-4404-a7e9-f6e987e5bc88"
      }
     }
    },
    "1bb6f61a-1c3a-4551-81d7-d520cfb51584": {
     "id": "1bb6f61a-1c3a-4551-81d7-d520cfb51584",
     "prev": "be912d93-e164-4cd1-b83c-245f9e55b2a7",
     "regions": {
      "8f6fd99a-8ed6-44f3-9ca2-d8f39e13cd66": {
       "attrs": {
        "height": 0.8,
        "width": 0.8,
        "x": 0.1,
        "y": 0.1
       },
       "content": {
        "cell": "8f612c75-70dc-485f-b01c-455df8d7fbd5",
        "part": "whole"
       },
       "id": "8f6fd99a-8ed6-44f3-9ca2-d8f39e13cd66"
      }
     }
    },
    "1c76ea19-a77e-4d72-a2c5-75f980fd2e51": {
     "id": "1c76ea19-a77e-4d72-a2c5-75f980fd2e51",
     "prev": "36158350-a852-4326-af83-e11917e834b1",
     "regions": {
      "a9de96e2-94f9-4b30-82dd-a935ca883738": {
       "attrs": {
        "height": 0.8,
        "width": 0.8,
        "x": 0.1,
        "y": 0.1
       },
       "content": {
        "cell": "5bafffd6-74e4-475c-a886-e21d85e735ff",
        "part": "whole"
       },
       "id": "a9de96e2-94f9-4b30-82dd-a935ca883738"
      }
     }
    },
    "2aefa571-3f59-4131-b3e0-7ca1886031a0": {
     "id": "2aefa571-3f59-4131-b3e0-7ca1886031a0",
     "prev": "6f9666d9-b0be-40d4-9891-532077d76225",
     "regions": {
      "32896c7d-3fef-4066-9b3a-bdf1ec584400": {
       "attrs": {
        "height": 0.8,
        "width": 0.8,
        "x": 0.1,
        "y": 0.1
       },
       "content": {
        "cell": "9730eeb5-1f05-4a0c-8162-3e64c5950a17",
        "part": "whole"
       },
       "id": "32896c7d-3fef-4066-9b3a-bdf1ec584400"
      }
     }
    },
    "36158350-a852-4326-af83-e11917e834b1": {
     "id": "36158350-a852-4326-af83-e11917e834b1",
     "prev": "731807f7-85ec-43e9-8c44-3fc8ce7b54f0",
     "regions": {
      "d45d1dc9-871e-467d-8476-e0bef969e634": {
       "attrs": {
        "height": 0.8,
        "width": 0.8,
        "x": 0.1,
        "y": 0.1
       },
       "content": {
        "cell": "6f8937aa-7027-4780-b042-58264ddc2a6a",
        "part": "whole"
       },
       "id": "d45d1dc9-871e-467d-8476-e0bef969e634"
      }
     }
    },
    "366d5fbb-8b55-41bc-83b1-1471ce38c181": {
     "id": "366d5fbb-8b55-41bc-83b1-1471ce38c181",
     "prev": "afa7411c-ed6f-4d1a-82b8-43082362ed5e",
     "regions": {
      "36ce1499-f72c-4d0b-b273-1cc69f6cc0e1": {
       "attrs": {
        "height": 0.8,
        "width": 0.8,
        "x": 0.1,
        "y": 0.1
       },
       "content": {
        "cell": "83979098-d2f7-4a2f-8896-a6a21e098204",
        "part": "whole"
       },
       "id": "36ce1499-f72c-4d0b-b273-1cc69f6cc0e1"
      }
     }
    },
    "3681dd96-6b00-4e0c-bf89-c9ad053c99a1": {
     "id": "3681dd96-6b00-4e0c-bf89-c9ad053c99a1",
     "prev": "0b30d499-3ab9-403b-ac4d-66c01f796882",
     "regions": {
      "016c4fa7-384d-4594-bce2-ca43bbf38236": {
       "attrs": {
        "height": 0.8,
        "width": 0.8,
        "x": 0.1,
        "y": 0.1
       },
       "content": {
        "cell": "e920f102-908e-40b4-a475-7d8a300ca040",
        "part": "whole"
       },
       "id": "016c4fa7-384d-4594-bce2-ca43bbf38236"
      }
     }
    },
    "36e2764a-12d1-48eb-9b73-776c3227a729": {
     "id": "36e2764a-12d1-48eb-9b73-776c3227a729",
     "prev": "02f24a08-57b5-4aa3-97f9-90fc63b18cf4",
     "regions": {
      "05dc172d-0fe1-4329-992b-bf85329c1480": {
       "attrs": {
        "height": 0.8,
        "width": 0.8,
        "x": 0.1,
        "y": 0.1
       },
       "content": {
        "cell": "deb653c9-b74b-430f-b4a9-35d88b817206",
        "part": "whole"
       },
       "id": "05dc172d-0fe1-4329-992b-bf85329c1480"
      }
     }
    },
    "48378a1d-ff8a-4b41-8502-7afd992368bf": {
     "id": "48378a1d-ff8a-4b41-8502-7afd992368bf",
     "prev": "f50258dd-34b6-4cf4-81e1-aa8871a315e1",
     "regions": {
      "d5978ee3-e20d-465d-b90c-16c894f6edeb": {
       "attrs": {
        "height": 0.8,
        "width": 0.8,
        "x": 0.1,
        "y": 0.1
       },
       "content": {
        "cell": "5fc98d93-4be8-4945-9986-9f54ddf5b209",
        "part": "whole"
       },
       "id": "d5978ee3-e20d-465d-b90c-16c894f6edeb"
      }
     }
    },
    "4a991f09-7769-4cdc-aea0-c0c180af90a8": {
     "id": "4a991f09-7769-4cdc-aea0-c0c180af90a8",
     "prev": "eb2b12f6-3dee-4c7c-aa18-73fe13f9dc94",
     "regions": {
      "719d18bd-6e09-4b0f-bc61-0c685508d71b": {
       "attrs": {
        "height": 0.8,
        "width": 0.8,
        "x": 0.1,
        "y": 0.1
       },
       "content": {
        "cell": "44e7cfa7-01bc-4658-a222-d45fb06bfcef",
        "part": "whole"
       },
       "id": "719d18bd-6e09-4b0f-bc61-0c685508d71b"
      }
     }
    },
    "4d8faaee-66a2-4acc-9c57-36bd9dcbbd7e": {
     "id": "4d8faaee-66a2-4acc-9c57-36bd9dcbbd7e",
     "prev": "54573520-2e7d-43fe-b989-faac58e8f150",
     "regions": {
      "180ff214-dcf4-4d8a-83de-5c0f2c3dccad": {
       "attrs": {
        "height": 0.8,
        "width": 0.8,
        "x": 0.1,
        "y": 0.1
       },
       "content": {
        "cell": "6b3657c7-0916-472c-8102-85a1961d2b66",
        "part": "whole"
       },
       "id": "180ff214-dcf4-4d8a-83de-5c0f2c3dccad"
      }
     }
    },
    "4f961b19-b5c1-448f-aafc-9959bd44cba7": {
     "id": "4f961b19-b5c1-448f-aafc-9959bd44cba7",
     "prev": "6b5f7061-d644-4d6c-a76d-bd6ed2b72a61",
     "regions": {
      "d06b8a05-24e0-4bb5-896c-6ffa28024abe": {
       "attrs": {
        "height": 0.8,
        "width": 0.8,
        "x": 0.1,
        "y": 0.1
       },
       "content": {
        "cell": "93dda242-9b5e-450e-841d-19f38f164359",
        "part": "whole"
       },
       "id": "d06b8a05-24e0-4bb5-896c-6ffa28024abe"
      }
     }
    },
    "54573520-2e7d-43fe-b989-faac58e8f150": {
     "id": "54573520-2e7d-43fe-b989-faac58e8f150",
     "prev": "18349ebc-4d2b-445b-8617-9fb77cb10f4a",
     "regions": {
      "d89c3347-2d3b-4048-a2dd-e6d50e072658": {
       "attrs": {
        "height": 0.8,
        "width": 0.8,
        "x": 0.1,
        "y": 0.1
       },
       "content": {
        "cell": "db9c5656-45aa-4067-9be6-4a83603a181e",
        "part": "whole"
       },
       "id": "d89c3347-2d3b-4048-a2dd-e6d50e072658"
      }
     }
    },
    "5597bfd0-bf12-4628-a5b9-7c3cacf0f5f8": {
     "id": "5597bfd0-bf12-4628-a5b9-7c3cacf0f5f8",
     "prev": "4f961b19-b5c1-448f-aafc-9959bd44cba7",
     "regions": {
      "92f86e02-dbed-4d8b-9e1a-4ba6566da8a3": {
       "attrs": {
        "height": 0.8,
        "width": 0.8,
        "x": 0.1,
        "y": 0.1
       },
       "content": {
        "cell": "4f7b477e-d181-421d-ba39-da486bc5e4ae",
        "part": "whole"
       },
       "id": "92f86e02-dbed-4d8b-9e1a-4ba6566da8a3"
      }
     }
    },
    "61cba4b5-f653-4e96-a799-26b2951b2353": {
     "id": "61cba4b5-f653-4e96-a799-26b2951b2353",
     "prev": "952b1b39-682a-4b0a-8c5b-f3b880cb22f6",
     "regions": {
      "e8ad351e-a865-42b4-bd6a-650550687057": {
       "attrs": {
        "height": 0.8,
        "width": 0.8,
        "x": 0.1,
        "y": 0.1
       },
       "content": {
        "cell": "127df191-eb86-4da3-9151-911104c41088",
        "part": "whole"
       },
       "id": "e8ad351e-a865-42b4-bd6a-650550687057"
      }
     }
    },
    "63ea998e-189f-4074-a449-fee63012612d": {
     "id": "63ea998e-189f-4074-a449-fee63012612d",
     "prev": "8fab6269-2eb1-4fd7-aca3-cadc645cbda7",
     "regions": {
      "e82e6595-af15-4cfd-8850-7be7def3a0b4": {
       "attrs": {
        "height": 0.8,
        "width": 0.8,
        "x": 0.1,
        "y": 0.1
       },
       "content": {
        "cell": "31bf0025-6833-4f80-adb4-2118590febc6",
        "part": "whole"
       },
       "id": "e82e6595-af15-4cfd-8850-7be7def3a0b4"
      }
     }
    },
    "69ad7f31-11db-48ec-b3e8-b52f01c025f1": {
     "id": "69ad7f31-11db-48ec-b3e8-b52f01c025f1",
     "prev": "82af357d-ef43-46f5-87d8-7ba7582ae2f7",
     "regions": {
      "ed884ba8-d53d-4370-9314-fd204a1e9962": {
       "attrs": {
        "height": 0.8,
        "width": 0.8,
        "x": 0.1,
        "y": 0.1
       },
       "content": {
        "cell": "c439bb26-4727-4842-8444-0f277123cc9c",
        "part": "whole"
       },
       "id": "ed884ba8-d53d-4370-9314-fd204a1e9962"
      }
     }
    },
    "6aae1421-2876-45f8-abf2-8dc4fd2f1161": {
     "id": "6aae1421-2876-45f8-abf2-8dc4fd2f1161",
     "prev": "cc1d2d5e-32b0-41b4-b205-4bd3482c0659",
     "regions": {
      "78810d65-5f54-471c-9535-79d5f2819195": {
       "attrs": {
        "height": 0.8,
        "width": 0.8,
        "x": 0.1,
        "y": 0.1
       },
       "content": {
        "cell": "31f51d00-6fa8-4f64-b553-b26485483dc2",
        "part": "whole"
       },
       "id": "78810d65-5f54-471c-9535-79d5f2819195"
      }
     }
    },
    "6b5f7061-d644-4d6c-a76d-bd6ed2b72a61": {
     "id": "6b5f7061-d644-4d6c-a76d-bd6ed2b72a61",
     "prev": "c6375186-21fd-4aec-b55c-35021e347223",
     "regions": {
      "95ead2d9-4b48-4609-8328-7a00a3403ef7": {
       "attrs": {
        "height": 0.8,
        "width": 0.8,
        "x": 0.1,
        "y": 0.1
       },
       "content": {
        "cell": "20bbfc89-b4b4-4767-a136-e426e9af0cd2",
        "part": "whole"
       },
       "id": "95ead2d9-4b48-4609-8328-7a00a3403ef7"
      }
     }
    },
    "6e6bda26-078e-443c-b249-e506afcc8b92": {
     "id": "6e6bda26-078e-443c-b249-e506afcc8b92",
     "prev": "f6c86fc7-bd80-4faa-9a51-cbf55892636f",
     "regions": {
      "d53ffe26-db2e-4b26-b824-f1597126af3e": {
       "attrs": {
        "height": 0.8,
        "width": 0.8,
        "x": 0.1,
        "y": 0.1
       },
       "content": {
        "cell": "fe2d1e7b-eafe-488b-ac58-010393297085",
        "part": "whole"
       },
       "id": "d53ffe26-db2e-4b26-b824-f1597126af3e"
      }
     }
    },
    "6f9666d9-b0be-40d4-9891-532077d76225": {
     "id": "6f9666d9-b0be-40d4-9891-532077d76225",
     "prev": "1c76ea19-a77e-4d72-a2c5-75f980fd2e51",
     "regions": {
      "954df2cc-5b98-4a34-a1ba-61a8eee0b538": {
       "attrs": {
        "height": 0.8,
        "width": 0.8,
        "x": 0.1,
        "y": 0.1
       },
       "content": {
        "cell": "f7a7f8ba-a4ce-45b6-804b-e2c6177ae9fe",
        "part": "whole"
       },
       "id": "954df2cc-5b98-4a34-a1ba-61a8eee0b538"
      }
     }
    },
    "7101c664-b2b2-4a03-965c-1a73050eb601": {
     "id": "7101c664-b2b2-4a03-965c-1a73050eb601",
     "prev": "aa4f2970-4695-4aad-9738-e28c6ebc8345",
     "regions": {
      "55e463e9-c5b4-4c28-8dcd-fd53ced1a0b7": {
       "attrs": {
        "height": 0.8,
        "width": 0.8,
        "x": 0.1,
        "y": 0.1
       },
       "content": {
        "cell": "11240699-b115-4a3f-b5dd-1b91a4fbcd4b",
        "part": "whole"
       },
       "id": "55e463e9-c5b4-4c28-8dcd-fd53ced1a0b7"
      }
     }
    },
    "731807f7-85ec-43e9-8c44-3fc8ce7b54f0": {
     "id": "731807f7-85ec-43e9-8c44-3fc8ce7b54f0",
     "prev": "1a8d891f-12ba-4bd1-86c0-bd6b8839e40a",
     "regions": {
      "88183962-2d0e-4b92-9dec-8a300efe9c15": {
       "attrs": {
        "height": 0.8,
        "width": 0.8,
        "x": 0.1,
        "y": 0.1
       },
       "content": {
        "cell": "6889e38d-df80-4b55-96ff-acefe642bf7b",
        "part": "whole"
       },
       "id": "88183962-2d0e-4b92-9dec-8a300efe9c15"
      }
     }
    },
    "7516e60f-6ea1-419b-a167-7dfb4bb925e4": {
     "id": "7516e60f-6ea1-419b-a167-7dfb4bb925e4",
     "prev": "7eb8cb8f-0991-425d-84e7-839074a4372a",
     "regions": {
      "62cc99cb-9f2d-4952-bdc5-c277f82f5708": {
       "attrs": {
        "height": 0.8,
        "width": 0.8,
        "x": 0.1,
        "y": 0.1
       },
       "content": {
        "cell": "bfd97a00-86a7-41f5-9b09-b703787a988d",
        "part": "whole"
       },
       "id": "62cc99cb-9f2d-4952-bdc5-c277f82f5708"
      }
     }
    },
    "7eb8cb8f-0991-425d-84e7-839074a4372a": {
     "id": "7eb8cb8f-0991-425d-84e7-839074a4372a",
     "prev": "6aae1421-2876-45f8-abf2-8dc4fd2f1161",
     "regions": {
      "4ea1bdd9-ca41-4ab8-abf4-a1449f099a7f": {
       "attrs": {
        "height": 0.8,
        "width": 0.8,
        "x": 0.1,
        "y": 0.1
       },
       "content": {
        "cell": "92985c22-8468-494d-a0e1-081cb186c123",
        "part": "whole"
       },
       "id": "4ea1bdd9-ca41-4ab8-abf4-a1449f099a7f"
      }
     }
    },
    "82af357d-ef43-46f5-87d8-7ba7582ae2f7": {
     "id": "82af357d-ef43-46f5-87d8-7ba7582ae2f7",
     "prev": "63ea998e-189f-4074-a449-fee63012612d",
     "regions": {
      "e82abe21-68fe-44ba-b8da-54ae35bf1907": {
       "attrs": {
        "height": 0.8,
        "width": 0.8,
        "x": 0.1,
        "y": 0.1
       },
       "content": {
        "cell": "2bcd70f6-4a93-4552-baae-4e83bb549ef1",
        "part": "whole"
       },
       "id": "e82abe21-68fe-44ba-b8da-54ae35bf1907"
      }
     }
    },
    "877b9ff8-782d-4fe0-b4d6-f6f24283bfa6": {
     "id": "877b9ff8-782d-4fe0-b4d6-f6f24283bfa6",
     "prev": "8adc5aaa-2ab6-43b7-8f3e-a8a4479ab30b",
     "regions": {
      "89a54ed6-0c41-4422-8f9b-22295c186a8a": {
       "attrs": {
        "height": 0.8,
        "width": 0.8,
        "x": 0.1,
        "y": 0.1
       },
       "content": {
        "cell": "71229784-7268-4477-bea8-31713fe2a0e1",
        "part": "whole"
       },
       "id": "89a54ed6-0c41-4422-8f9b-22295c186a8a"
      }
     }
    },
    "8adc5aaa-2ab6-43b7-8f3e-a8a4479ab30b": {
     "id": "8adc5aaa-2ab6-43b7-8f3e-a8a4479ab30b",
     "prev": "dc1f9545-98c0-4214-a9c4-9bec39e2319b",
     "regions": {
      "d53ea39c-8f36-434e-b5b5-cc1c1091c177": {
       "attrs": {
        "height": 0.8,
        "width": 0.8,
        "x": 0.1,
        "y": 0.1
       },
       "content": {
        "cell": "dfbdbdba-7ad8-4a43-af6b-24da550f1983",
        "part": "whole"
       },
       "id": "d53ea39c-8f36-434e-b5b5-cc1c1091c177"
      }
     }
    },
    "8cd4d961-585a-49c2-89ec-da14eb1e1bdb": {
     "id": "8cd4d961-585a-49c2-89ec-da14eb1e1bdb",
     "prev": "d03d8e56-e740-462e-bd8f-f8175b12cf6a",
     "regions": {
      "e0048fbc-0321-434c-a640-cd93ccd45cf8": {
       "attrs": {
        "height": 0.8,
        "width": 0.8,
        "x": 0.1,
        "y": 0.1
       },
       "content": {
        "cell": "ac11c11c-b367-4e6f-9bb6-3171580507b8",
        "part": "whole"
       },
       "id": "e0048fbc-0321-434c-a640-cd93ccd45cf8"
      }
     }
    },
    "8e6b353e-ed9c-499d-a769-25d81c2042c1": {
     "id": "8e6b353e-ed9c-499d-a769-25d81c2042c1",
     "prev": "e4dcb91f-6e94-4901-9153-53e74e210cbe",
     "regions": {
      "a471bce7-4136-4c0c-8d7c-5b6cce76fed5": {
       "attrs": {
        "height": 0.8,
        "width": 0.8,
        "x": 0.1,
        "y": 0.1
       },
       "content": {
        "cell": "b1c76dcd-db19-4d7d-bcbd-659ed2f5ab65",
        "part": "whole"
       },
       "id": "a471bce7-4136-4c0c-8d7c-5b6cce76fed5"
      }
     }
    },
    "8fab6269-2eb1-4fd7-aca3-cadc645cbda7": {
     "id": "8fab6269-2eb1-4fd7-aca3-cadc645cbda7",
     "prev": "be8b9d7c-f9ec-4e99-8ba8-25888a7216dc",
     "regions": {
      "808305d2-6038-4b0d-8440-5a555dbc4fc2": {
       "attrs": {
        "height": 0.8,
        "width": 0.8,
        "x": 0.1,
        "y": 0.1
       },
       "content": {
        "cell": "0fd9ca77-abd5-4c5f-9f18-df9ccc9f3cff",
        "part": "whole"
       },
       "id": "808305d2-6038-4b0d-8440-5a555dbc4fc2"
      }
     }
    },
    "952b1b39-682a-4b0a-8c5b-f3b880cb22f6": {
     "id": "952b1b39-682a-4b0a-8c5b-f3b880cb22f6",
     "prev": "1bb34625-de55-4eef-b720-4fd0314f1362",
     "regions": {
      "d4b9041e-9619-4008-9fbd-88ae09193b6e": {
       "attrs": {
        "height": 0.8,
        "width": 0.8,
        "x": 0.1,
        "y": 0.1
       },
       "content": {
        "cell": "07c22b96-4b61-48d4-aa76-a3db29b1b40d",
        "part": "whole"
       },
       "id": "d4b9041e-9619-4008-9fbd-88ae09193b6e"
      }
     }
    },
    "95af4932-3343-4fcf-829b-f5bad35f7b8b": {
     "id": "95af4932-3343-4fcf-829b-f5bad35f7b8b",
     "prev": "f7a6b555-bc82-42d3-8c6a-2d551ca1aefb",
     "regions": {
      "735fd501-c07e-42d2-853c-11ae153b7425": {
       "attrs": {
        "height": 0.8,
        "width": 0.8,
        "x": 0.1,
        "y": 0.1
       },
       "content": {
        "cell": "30d41576-870b-400e-9008-46ee0f43a1cc",
        "part": "whole"
       },
       "id": "735fd501-c07e-42d2-853c-11ae153b7425"
      }
     }
    },
    "aa4f2970-4695-4aad-9738-e28c6ebc8345": {
     "id": "aa4f2970-4695-4aad-9738-e28c6ebc8345",
     "prev": "4d8faaee-66a2-4acc-9c57-36bd9dcbbd7e",
     "regions": {
      "dd5b8f87-2eee-4592-be1e-eca16ca59b87": {
       "attrs": {
        "height": 0.8,
        "width": 0.8,
        "x": 0.1,
        "y": 0.1
       },
       "content": {
        "cell": "8fe8606c-10e9-48b5-9f89-ef8b45a2ac46",
        "part": "whole"
       },
       "id": "dd5b8f87-2eee-4592-be1e-eca16ca59b87"
      }
     }
    },
    "afa7411c-ed6f-4d1a-82b8-43082362ed5e": {
     "id": "afa7411c-ed6f-4d1a-82b8-43082362ed5e",
     "prev": "877b9ff8-782d-4fe0-b4d6-f6f24283bfa6",
     "regions": {
      "b038c10e-c448-4c85-bb99-2436d2ddbc92": {
       "attrs": {
        "height": 0.8,
        "width": 0.8,
        "x": 0.1,
        "y": 0.1
       },
       "content": {
        "cell": "c13b5d8c-4a79-4d19-8491-57e4d8f82184",
        "part": "whole"
       },
       "id": "b038c10e-c448-4c85-bb99-2436d2ddbc92"
      }
     }
    },
    "b42d4ed1-5390-4d4e-906b-1e755d54046e": {
     "id": "b42d4ed1-5390-4d4e-906b-1e755d54046e",
     "prev": "48378a1d-ff8a-4b41-8502-7afd992368bf",
     "regions": {
      "ef2dc719-b05f-4a1d-9f5d-499f671d0fbb": {
       "attrs": {
        "height": 0.8,
        "width": 0.8,
        "x": 0.1,
        "y": 0.1
       },
       "content": {
        "cell": "714c8d7c-6855-4dbc-ae4c-0743777d8ebe",
        "part": "whole"
       },
       "id": "ef2dc719-b05f-4a1d-9f5d-499f671d0fbb"
      }
     }
    },
    "be8b9d7c-f9ec-4e99-8ba8-25888a7216dc": {
     "id": "be8b9d7c-f9ec-4e99-8ba8-25888a7216dc",
     "prev": "01ef6e82-8f25-47ed-a3db-591d9437b0a9",
     "regions": {
      "5f4587e3-03db-4829-9fd0-c081fc763a9f": {
       "attrs": {
        "height": 0.8,
        "width": 0.8,
        "x": 0.1,
        "y": 0.1
       },
       "content": {
        "cell": "74094daf-da1e-45eb-a21e-1c30684b9deb",
        "part": "whole"
       },
       "id": "5f4587e3-03db-4829-9fd0-c081fc763a9f"
      }
     }
    },
    "be912d93-e164-4cd1-b83c-245f9e55b2a7": {
     "id": "be912d93-e164-4cd1-b83c-245f9e55b2a7",
     "prev": "cd339bc2-6b4b-4ae0-a0b8-922945a78762",
     "regions": {
      "410e61a4-cc69-4733-ba10-54d553a0ac2f": {
       "attrs": {
        "height": 0.8,
        "width": 0.8,
        "x": 0.1,
        "y": 0.1
       },
       "content": {
        "cell": "ad580bb5-43be-4095-bfc1-e5e1934f7bb1",
        "part": "whole"
       },
       "id": "410e61a4-cc69-4733-ba10-54d553a0ac2f"
      }
     }
    },
    "c00a4f93-623b-47ce-b553-a662de45d91a": {
     "id": "c00a4f93-623b-47ce-b553-a662de45d91a",
     "prev": "19da61f7-c865-44ba-92ee-1031465a9032",
     "regions": {
      "b07441f9-190f-43c1-8e50-7071a7dbe639": {
       "attrs": {
        "height": 0.8,
        "width": 0.8,
        "x": 0.1,
        "y": 0.1
       },
       "content": {
        "cell": "7d2e6546-1e17-4f2e-a81b-a36f8dc0ab48",
        "part": "whole"
       },
       "id": "b07441f9-190f-43c1-8e50-7071a7dbe639"
      }
     }
    },
    "c1be4538-9490-4ad4-922a-b2c2bb0b305c": {
     "id": "c1be4538-9490-4ad4-922a-b2c2bb0b305c",
     "prev": "366d5fbb-8b55-41bc-83b1-1471ce38c181",
     "regions": {
      "af07ed43-cb89-4675-bf15-2b8d19118716": {
       "attrs": {
        "height": 0.8,
        "width": 0.8,
        "x": 0.1,
        "y": 0.1
       },
       "content": {
        "cell": "7fad7577-58cd-48d0-bc6f-9dfa19054d9c",
        "part": "whole"
       },
       "id": "af07ed43-cb89-4675-bf15-2b8d19118716"
      }
     }
    },
    "c6375186-21fd-4aec-b55c-35021e347223": {
     "id": "c6375186-21fd-4aec-b55c-35021e347223",
     "prev": "1bb6f61a-1c3a-4551-81d7-d520cfb51584",
     "regions": {
      "ed5d2163-3c29-411d-b901-275619781389": {
       "attrs": {
        "height": 0.8,
        "width": 0.8,
        "x": 0.1,
        "y": 0.1
       },
       "content": {
        "cell": "782a1e33-6f54-4d8a-bf85-b53bc5c60ff9",
        "part": "whole"
       },
       "id": "ed5d2163-3c29-411d-b901-275619781389"
      }
     }
    },
    "ca881eec-cc63-4ab1-8571-610eb8787ce7": {
     "id": "ca881eec-cc63-4ab1-8571-610eb8787ce7",
     "prev": "f6a5c69f-717a-4d2e-88fa-fe594a695b06",
     "regions": {
      "2a199030-7bdb-4d63-8ebd-3d115837641a": {
       "attrs": {
        "height": 0.8,
        "width": 0.8,
        "x": 0.1,
        "y": 0.1
       },
       "content": {
        "cell": "ac7a17f1-f707-4dde-8112-00a2d45587ad",
        "part": "whole"
       },
       "id": "2a199030-7bdb-4d63-8ebd-3d115837641a"
      }
     }
    },
    "cc10cb41-a1b1-401c-9153-47fb951386d4": {
     "id": "cc10cb41-a1b1-401c-9153-47fb951386d4",
     "prev": "69ad7f31-11db-48ec-b3e8-b52f01c025f1",
     "regions": {
      "b38ed5ea-c1b9-4b9e-8772-9138b36da001": {
       "attrs": {
        "height": 0.8,
        "width": 0.8,
        "x": 0.1,
        "y": 0.1
       },
       "content": {
        "cell": "7d245c51-02da-4b89-a99a-30520391e2ed",
        "part": "whole"
       },
       "id": "b38ed5ea-c1b9-4b9e-8772-9138b36da001"
      }
     }
    },
    "cc1d2d5e-32b0-41b4-b205-4bd3482c0659": {
     "id": "cc1d2d5e-32b0-41b4-b205-4bd3482c0659",
     "prev": "c1be4538-9490-4ad4-922a-b2c2bb0b305c",
     "regions": {
      "036c10f9-874b-4cb0-9adf-28721ac253ea": {
       "attrs": {
        "height": 0.8,
        "width": 0.8,
        "x": 0.1,
        "y": 0.1
       },
       "content": {
        "cell": "c765192a-d0f9-4421-a668-4573b004604b",
        "part": "whole"
       },
       "id": "036c10f9-874b-4cb0-9adf-28721ac253ea"
      }
     }
    },
    "cd339bc2-6b4b-4ae0-a0b8-922945a78762": {
     "id": "cd339bc2-6b4b-4ae0-a0b8-922945a78762",
     "prev": "8e6b353e-ed9c-499d-a769-25d81c2042c1",
     "regions": {
      "55edb0e7-fd91-4ad4-bd52-6e881fb84069": {
       "attrs": {
        "height": 0.8,
        "width": 0.8,
        "x": 0.1,
        "y": 0.1
       },
       "content": {
        "cell": "b452c823-b82a-4fac-80f1-bec693e62cb0",
        "part": "whole"
       },
       "id": "55edb0e7-fd91-4ad4-bd52-6e881fb84069"
      }
     }
    },
    "d03d8e56-e740-462e-bd8f-f8175b12cf6a": {
     "id": "d03d8e56-e740-462e-bd8f-f8175b12cf6a",
     "prev": "e0c6dccd-a98a-4a26-b637-de0ddbff5cf9",
     "regions": {
      "c952ad4c-2b6d-4017-b34c-74fa756d3f7a": {
       "attrs": {
        "height": 0.8,
        "width": 0.8,
        "x": 0.1,
        "y": 0.1
       },
       "content": {
        "cell": "b9bcf547-01f6-4149-a35b-6037d478bd3c",
        "part": "whole"
       },
       "id": "c952ad4c-2b6d-4017-b34c-74fa756d3f7a"
      }
     }
    },
    "dac64c6a-88e2-4f00-b266-eeccac279ac4": {
     "id": "dac64c6a-88e2-4f00-b266-eeccac279ac4",
     "prev": "7101c664-b2b2-4a03-965c-1a73050eb601",
     "regions": {
      "0c0a2849-1a03-4c2b-886c-d3dbe6be4739": {
       "attrs": {
        "height": 0.8,
        "width": 0.8,
        "x": 0.1,
        "y": 0.1
       },
       "content": {
        "cell": "07d1f257-2540-4075-9436-34162e9363bd",
        "part": "whole"
       },
       "id": "0c0a2849-1a03-4c2b-886c-d3dbe6be4739"
      }
     }
    },
    "dc1f9545-98c0-4214-a9c4-9bec39e2319b": {
     "id": "dc1f9545-98c0-4214-a9c4-9bec39e2319b",
     "prev": "c00a4f93-623b-47ce-b553-a662de45d91a",
     "regions": {
      "95eeb696-343e-4866-acb5-84a52a4883d2": {
       "attrs": {
        "height": 0.8,
        "width": 0.8,
        "x": 0.1,
        "y": 0.1
       },
       "content": {
        "cell": "c128efa6-7a7e-4a90-a2ea-94146e0f8e04",
        "part": "whole"
       },
       "id": "95eeb696-343e-4866-acb5-84a52a4883d2"
      }
     }
    },
    "e0c6dccd-a98a-4a26-b637-de0ddbff5cf9": {
     "id": "e0c6dccd-a98a-4a26-b637-de0ddbff5cf9",
     "prev": "95af4932-3343-4fcf-829b-f5bad35f7b8b",
     "regions": {
      "e3cc95ed-ef83-4b71-854e-6d1b35138bfa": {
       "attrs": {
        "height": 0.8,
        "width": 0.8,
        "x": 0.1,
        "y": 0.1
       },
       "content": {
        "cell": "7f76d5e6-46c4-4043-82cc-0ea6c15fd4e0",
        "part": "whole"
       },
       "id": "e3cc95ed-ef83-4b71-854e-6d1b35138bfa"
      }
     }
    },
    "e4dcb91f-6e94-4901-9153-53e74e210cbe": {
     "id": "e4dcb91f-6e94-4901-9153-53e74e210cbe",
     "prev": "36e2764a-12d1-48eb-9b73-776c3227a729",
     "regions": {
      "1ffadef6-ed3f-4776-b793-53a3291cceb1": {
       "attrs": {
        "height": 0.8,
        "width": 0.8,
        "x": 0.1,
        "y": 0.1
       },
       "content": {
        "cell": "37504c89-4082-4cec-9693-dbe41a81f6d9",
        "part": "whole"
       },
       "id": "1ffadef6-ed3f-4776-b793-53a3291cceb1"
      }
     }
    },
    "eb2b12f6-3dee-4c7c-aa18-73fe13f9dc94": {
     "id": "eb2b12f6-3dee-4c7c-aa18-73fe13f9dc94",
     "prev": null,
     "regions": {
      "11e7eb2c-2c91-422a-96e6-02a8e5a6c294": {
       "attrs": {
        "height": 0.8,
        "width": 0.8,
        "x": 0.1,
        "y": 0.1
       },
       "content": {
        "cell": "74427125-3561-4468-9b43-57e6e362a1ed",
        "part": "whole"
       },
       "id": "11e7eb2c-2c91-422a-96e6-02a8e5a6c294"
      }
     }
    },
    "ee6ad32d-afd2-4a17-bc0d-25d2ac157470": {
     "id": "ee6ad32d-afd2-4a17-bc0d-25d2ac157470",
     "prev": "f8c6a184-2632-4437-bc22-d31c2fe6c07e",
     "regions": {
      "f7a6a8f8-99da-4f16-9314-94c00f1aa846": {
       "attrs": {
        "height": 0.8,
        "width": 0.8,
        "x": 0.1,
        "y": 0.1
       },
       "content": {
        "cell": "1ff0ff9b-838a-40f8-8ef9-e04615a5f96e",
        "part": "whole"
       },
       "id": "f7a6a8f8-99da-4f16-9314-94c00f1aa846"
      }
     }
    },
    "f50258dd-34b6-4cf4-81e1-aa8871a315e1": {
     "id": "f50258dd-34b6-4cf4-81e1-aa8871a315e1",
     "prev": "61cba4b5-f653-4e96-a799-26b2951b2353",
     "regions": {
      "6e8f3096-b880-4828-98ac-4634e64a3aeb": {
       "attrs": {
        "height": 0.8,
        "width": 0.8,
        "x": 0.1,
        "y": 0.1
       },
       "content": {
        "cell": "9d07b42d-9712-44d7-bab7-b51161b6e3a2",
        "part": "whole"
       },
       "id": "6e8f3096-b880-4828-98ac-4634e64a3aeb"
      }
     }
    },
    "f6a5c69f-717a-4d2e-88fa-fe594a695b06": {
     "id": "f6a5c69f-717a-4d2e-88fa-fe594a695b06",
     "prev": "2aefa571-3f59-4131-b3e0-7ca1886031a0",
     "regions": {
      "37d32a1c-1190-44a6-9ae0-cec0153f01f6": {
       "attrs": {
        "height": 0.8,
        "width": 0.8,
        "x": 0.1,
        "y": 0.1
       },
       "content": {
        "cell": "ac374ff5-6ef8-45b8-9542-e95029cc5c32",
        "part": "whole"
       },
       "id": "37d32a1c-1190-44a6-9ae0-cec0153f01f6"
      }
     }
    },
    "f6c86fc7-bd80-4faa-9a51-cbf55892636f": {
     "id": "f6c86fc7-bd80-4faa-9a51-cbf55892636f",
     "prev": "17c7d956-1a9c-4486-945e-bf4b15e24ce7",
     "regions": {
      "fa9233b5-c8cc-4647-b71d-bb4de48799f5": {
       "attrs": {
        "height": 0.8,
        "width": 0.8,
        "x": 0.1,
        "y": 0.1
       },
       "content": {
        "cell": "556242f3-f7d1-442b-a0f7-4d0a7a25c5fb",
        "part": "whole"
       },
       "id": "fa9233b5-c8cc-4647-b71d-bb4de48799f5"
      }
     }
    },
    "f7a6b555-bc82-42d3-8c6a-2d551ca1aefb": {
     "id": "f7a6b555-bc82-42d3-8c6a-2d551ca1aefb",
     "prev": "7516e60f-6ea1-419b-a167-7dfb4bb925e4",
     "regions": {
      "6f27d61b-3de0-48ee-80f8-23fd95b1d8ff": {
       "attrs": {
        "height": 0.8,
        "width": 0.8,
        "x": 0.1,
        "y": 0.1
       },
       "content": {
        "cell": "9f6c6933-5d34-45e6-9382-9ddf9b899b75",
        "part": "whole"
       },
       "id": "6f27d61b-3de0-48ee-80f8-23fd95b1d8ff"
      }
     }
    },
    "f88b0979-5f78-48de-bd7a-3ac570a80015": {
     "id": "f88b0979-5f78-48de-bd7a-3ac570a80015",
     "prev": "5597bfd0-bf12-4628-a5b9-7c3cacf0f5f8",
     "regions": {
      "7e7afebd-01b1-47ad-8fe9-3866cf71777c": {
       "attrs": {
        "height": 0.8,
        "width": 0.8,
        "x": 0.1,
        "y": 0.1
       },
       "content": {
        "cell": "fae68d29-2658-447d-91cf-863fd4cd0973",
        "part": "whole"
       },
       "id": "7e7afebd-01b1-47ad-8fe9-3866cf71777c"
      }
     }
    },
    "f8c6a184-2632-4437-bc22-d31c2fe6c07e": {
     "id": "f8c6a184-2632-4437-bc22-d31c2fe6c07e",
     "prev": "4a991f09-7769-4cdc-aea0-c0c180af90a8",
     "regions": {
      "6a343f93-88dc-4b4f-8aa8-787b14227efa": {
       "attrs": {
        "height": 0.8,
        "width": 0.8,
        "x": 0.1,
        "y": 0.1
       },
       "content": {
        "cell": "11ef578a-58e8-409b-8ec1-7accce76d831",
        "part": "whole"
       },
       "id": "6a343f93-88dc-4b4f-8aa8-787b14227efa"
      }
     }
    }
   },
   "themes": {
    "default": "b413747d-de10-4f55-974f-9dccb50d8260",
    "theme": {
     "b413747d-de10-4f55-974f-9dccb50d8260": {
      "backgrounds": {
       "dc7afa04-bf90-40b1-82a5-726e3cff5267": {
        "background-color": "31af15d2-7e15-44c5-ab5e-e04b16a89eff",
        "id": "dc7afa04-bf90-40b1-82a5-726e3cff5267"
       }
      },
      "id": "b413747d-de10-4f55-974f-9dccb50d8260",
      "palette": {
       "19cc588f-0593-49c9-9f4b-e4d7cc113b1c": {
        "id": "19cc588f-0593-49c9-9f4b-e4d7cc113b1c",
        "rgb": [
         252,
         252,
         252
        ]
       },
       "31af15d2-7e15-44c5-ab5e-e04b16a89eff": {
        "id": "31af15d2-7e15-44c5-ab5e-e04b16a89eff",
        "rgb": [
         68,
         68,
         68
        ]
       },
       "50f92c45-a630-455b-aec3-788680ec7410": {
        "id": "50f92c45-a630-455b-aec3-788680ec7410",
        "rgb": [
         197,
         226,
         245
        ]
       },
       "c5cc3653-2ee1-402a-aba2-7caae1da4f6c": {
        "id": "c5cc3653-2ee1-402a-aba2-7caae1da4f6c",
        "rgb": [
         43,
         126,
         184
        ]
       },
       "efa7f048-9acb-414c-8b04-a26811511a21": {
        "id": "efa7f048-9acb-414c-8b04-a26811511a21",
        "rgb": [
         25.118061674008803,
         73.60176211453744,
         107.4819383259912
        ]
       }
      },
      "rules": {
       "a": {
        "color": "19cc588f-0593-49c9-9f4b-e4d7cc113b1c"
       },
       "blockquote": {
        "color": "50f92c45-a630-455b-aec3-788680ec7410",
        "font-size": 3
       },
       "code": {
        "font-family": "Anonymous Pro"
       },
       "h1": {
        "color": "19cc588f-0593-49c9-9f4b-e4d7cc113b1c",
        "font-family": "Merriweather",
        "font-size": 8
       },
       "h2": {
        "color": "19cc588f-0593-49c9-9f4b-e4d7cc113b1c",
        "font-family": "Merriweather",
        "font-size": 6
       },
       "h3": {
        "color": "50f92c45-a630-455b-aec3-788680ec7410",
        "font-family": "Lato",
        "font-size": 5.5
       },
       "h4": {
        "color": "c5cc3653-2ee1-402a-aba2-7caae1da4f6c",
        "font-family": "Lato",
        "font-size": 5
       },
       "h5": {
        "font-family": "Lato"
       },
       "h6": {
        "font-family": "Lato"
       },
       "h7": {
        "font-family": "Lato"
       },
       "li": {
        "color": "50f92c45-a630-455b-aec3-788680ec7410",
        "font-size": 3.25
       },
       "pre": {
        "font-family": "Anonymous Pro",
        "font-size": 4
       }
      },
      "text-base": {
       "color": "19cc588f-0593-49c9-9f4b-e4d7cc113b1c",
       "font-family": "Lato",
       "font-size": 4
      }
     }
    }
   }
  }
 },
 "nbformat": 4,
 "nbformat_minor": 2
}
