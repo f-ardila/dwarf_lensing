{
 "cells": [
  {
   "cell_type": "code",
   "execution_count": 2,
   "metadata": {
    "collapsed": true
   },
   "outputs": [],
   "source": [
    "import numpy as np\n",
    "import matplotlib.pyplot as plt\n",
    "from astropy.io import ascii\n",
    "\n",
    "import halotools\n"
   ]
  },
  {
   "cell_type": "markdown",
   "metadata": {},
   "source": [
    "# COSMOS SMF"
   ]
  },
  {
   "cell_type": "code",
   "execution_count": 70,
   "metadata": {},
   "outputs": [
    {
     "name": "stdout",
     "output_type": "stream",
     "text": [
      "  log_m       log_phi    log_phi_inf log_phi_sup\n",
      "---------- ------------- ----------- -----------\n",
      " 7.0000001    -1.1292782  -1.3514325  -0.7515293\n",
      " 7.1000001    -1.1671982  -1.3809368  -0.8106275\n",
      " 7.2000001    -1.2051121  -1.4104278  -0.8696547\n",
      " 7.3000001    -1.2430185  -1.4399032  -0.9285961\n",
      " 7.4000001    -1.2809157    -1.46936  -0.9874342\n",
      " 7.5000001    -1.3188015   -1.498795  -1.0461478\n",
      " 7.6000001    -1.3566734  -1.5282043  -1.1047115\n",
      " 7.7000001    -1.3945281  -1.5575832  -1.1630952\n",
      " 7.8000001    -1.4323617  -1.5869266  -1.2212625\n",
      " 7.9000001    -1.4701694  -1.6162284  -1.2791703\n",
      "       ...           ...         ...         ...\n",
      "12.0000002    -8.8633021 -11.1221092  -7.4248918\n",
      "12.1000002   -10.6793757 -13.6207341   -8.784317\n",
      "12.2000002   -12.9787947 -16.7857124 -10.5021909\n",
      "12.3000002   -15.8870082 -20.7897598 -12.6717689\n",
      "12.4000002   -19.5618931 -25.8502724 -15.4103988\n",
      "12.5000002   -24.2021596 -32.2409033 -18.8657631\n",
      "12.6000002   -30.0579318  -40.306137 -23.2237385\n",
      "12.7000002   -37.4440667 -50.4796348 -28.7182899\n",
      "12.8000002   -46.7569207     -1002.0 -35.6439261\n",
      "12.9000002 -1002.9000244     -1002.0 -44.3713808\n",
      "13.0000002 -1002.9000244     -1002.0     -1002.0\n",
      "Length = 61 rows\n",
      " col1     col2     col3         col4     \n",
      "------ --------- -------- ---------------\n",
      "  8.69 -1.795269 0.044618 0.0497327089537\n",
      " 8.881 -1.813557 0.044704 0.0498393101707\n",
      " 9.068 -1.874723 0.046336  0.051876741278\n",
      " 9.256 -1.958161 0.046792 0.0524492958058\n",
      " 9.445 -2.061353 0.047542 0.0533933038532\n",
      " 9.634 -2.126115 0.049893 0.0563773971976\n",
      " 9.823 -2.131432 0.049941 0.0564393451049\n",
      "10.015 -2.230629 0.054055 0.0617528595934\n",
      "10.204 -2.340158 0.055322 0.0634126112321\n",
      "10.387 -2.378104 0.055831 0.0640826866174\n",
      "10.573 -2.411573  0.05903 0.0683351560191\n",
      "10.771 -2.506986 0.060538 0.0703651491466\n",
      "10.957 -2.766977 0.066425  0.078451794196\n",
      "11.144 -3.106363  0.08771  0.110026133765\n",
      " 11.31 -3.417612 0.104779   0.13837861617\n",
      "11.517 -4.040862 0.169698  0.282396420075\n",
      " 11.65 -4.739832 0.304098           999.0\n"
     ]
    }
   ],
   "source": [
    "#first quick&dirty SMF in COSMOS at z~0.2\n",
    "cosmos_SMF_fit_file='Data/mf_mass2b_fl5b_tot_VmaxFit2D0.dat'\n",
    "cosmos_SMF_points_file='Data/mf_mass2b_fl5b_tot_Vmax0.dat'\n",
    "cosmos_SMF_fit_table=ascii.read(cosmos_SMF_fit_file)\n",
    "cosmos_SMF_points_table=ascii.read(cosmos_SMF_points_file)\n",
    "print(cosmos_SMF_fit_table)\n",
    "print(cosmos_SMF_points_table)"
   ]
  },
  {
   "cell_type": "code",
   "execution_count": 87,
   "metadata": {},
   "outputs": [
    {
     "data": {
      "image/png": "[encoded data removed]",
      "text/plain": [
       "<matplotlib.figure.Figure at 0x116702320>"
      ]
     },
     "metadata": {},
     "output_type": "display_data"
    }
   ],
   "source": [
    "plt.plot(cosmos_SMF_fit_table['log_m'], cosmos_SMF_fit_table['log_phi'], label='COSMOS z~0.2 fit')\n",
    "plt.fill_between(cosmos_SMF_fit_table['log_m'], cosmos_SMF_fit_table['log_phi_inf'], \n",
    "                 cosmos_SMF_fit_table['log_phi_sup'], alpha=0.5)\n",
    "plt.errorbar(cosmos_SMF_points_table['col1'], cosmos_SMF_points_table['col2'], \n",
    "             yerr=[cosmos_SMF_points_table['col3'],cosmos_SMF_points_table['col4']], fmt='o', elinewidth=3,\n",
    "            markersize=5, c='#1f77b4', label='COSMOS z~0.2 points')\n",
    "\n",
    "plt.xlabel('log(M)')\n",
    "plt.ylabel('log(Phi)')\n",
    "plt.xlim([8,12.5])\n",
    "plt.ylim([-10,0])\n",
    "plt.legend()\n",
    "plt.show()"
   ]
  },
  {
   "cell_type": "markdown",
   "metadata": {},
   "source": [
    "# Halotools catalogs"
   ]
  },
  {
   "cell_type": "code",
   "execution_count": 12,
   "metadata": {},
   "outputs": [
    {
     "name": "stdout",
     "output_type": "stream",
     "text": [
      "('bolplanck', 'rockstar', 'halotools_v0p4', '0.4966', '/Users/fardila/.astropy/cache/halotools/halo_catalogs/bolplanck/rockstar/hlist_0.66818.list.halotools_v0p4.hdf5')\n",
      "('bolshoi', 'rockstar', 'halotools_v0p4', '-0.0003', '/Users/fardila/.astropy/cache/halotools/halo_catalogs/bolshoi/rockstar/hlist_1.00035.list.halotools_v0p4.hdf5')\n"
     ]
    }
   ],
   "source": [
    "from halotools.sim_manager import HaloTableCache\n",
    "cache = HaloTableCache()\n",
    "for entry in cache.log: print(entry) "
   ]
  },
  {
   "cell_type": "code",
   "execution_count": 19,
   "metadata": {},
   "outputs": [
    {
     "name": "stdout",
     "output_type": "stream",
     "text": [
      "\n",
      "...Processing ASCII data of file: \n",
      "/Users/fardila/Documents/GitHub/dwarf_lensing/Data/hlist_0.78209.list\n",
      " \n",
      "Total number of rows in detected data = 12939617\n",
      "Number of rows in detected header = 62 \n",
      "\n",
      "... working on chunk 0 of 18\n",
      "... working on chunk 1 of 18\n",
      "... working on chunk 2 of 18\n",
      "... working on chunk 3 of 18\n",
      "... working on chunk 4 of 18\n",
      "... working on chunk 5 of 18\n",
      "... working on chunk 6 of 18\n",
      "... working on chunk 7 of 18\n",
      "... working on chunk 8 of 18\n",
      "... working on chunk 9 of 18\n",
      "... working on chunk 10 of 18\n",
      "... working on chunk 11 of 18\n",
      "... working on chunk 12 of 18\n",
      "... working on chunk 13 of 18\n",
      "... working on chunk 14 of 18\n",
      "... working on chunk 15 of 18\n",
      "... working on chunk 16 of 18\n",
      "... working on chunk 17 of 18\n",
      "Total runtime to read in ASCII = 1.8 minutes\n",
      "\n",
      "\u0007\n"
     ]
    }
   ],
   "source": [
    "from halotools.sim_manager import TabularAsciiReader\n",
    "#halotools catalogs\n",
    "\n",
    "halo_cat_file='Data/hlist_0.78209.list'\n",
    "#scale(0) id(1) desc_scale(2) desc_id(3) num_prog(4) pid(5) upid(6) desc_pid(7) phantom(8) sam_mvir(9) mvir(10)\n",
    "#rvir(11) rs(12) vrms(13) mmp?(14) scale_of_last_MM(15) vmax(16) x(17) y(18) z(19) vx(20) vy(21) vz(22) Jx(23) Jy(24) \n",
    "#Jz(25) Spin(26) Breadth_first_ID(27) Depth_first_ID(28) Tree_root_ID(29) Orig_halo_ID(30) Snap_num(31) \n",
    "#Next_coprogenitor_depthfirst_ID(32) Last_progenitor_depthfirst_ID(33) Last_mainleaf_depthfirst_ID(34) Tidal_Force(35)\n",
    "#Tidal_ID(36) Rs_Klypin(37) Mvir_all(38) M200b(39) M200c(40) M500c(41) M2500c(42) Xoff(43) Voff(44) Spin_Bullock(45) \n",
    "#b_to_a(46) c_to_a(47) A[x](48) A[y](49) A[z](50) b_to_a(500c)(51) c_to_a(500c)(52) A[x](500c)(53) A[y](500c)(54) \n",
    "#A[z](500c)(55) T/|U|(56) M_pe_Behroozi(57) M_pe_Diemer(58) Macc(59) Mpeak(60) Vacc(61) Vpeak(62) Halfmass_Scale(63) \n",
    "#Acc_Rate_Inst(64) Acc_Rate_100Myr(65) Acc_Rate_1*Tdyn(66) Acc_Rate_2*Tdyn(67) Acc_Rate_Mpeak(68) Mpeak_Scale(69) \n",
    "#Acc_Scale(70) First_Acc_Scale(71) First_Acc_Mvir(72) First_Acc_Vmax(73) Vmax@Mpeak(74) Tidal_Force_Tdyn(75) \n",
    "#Log_(Vmax/Vmax_Tdyn)(76)\n",
    "\n",
    "particle_catalog_file='Data/bplanck_particles_100m_a0.78209'\n",
    "#7 columns\n",
    "\n",
    "cols = {'upid': (5, 'i8')}\n",
    "reader = TabularAsciiReader(halo_cat_file, cols) \n",
    "arr = reader.read_ascii() "
   ]
  },
  {
   "cell_type": "code",
   "execution_count": 21,
   "metadata": {},
   "outputs": [
    {
     "name": "stdout",
     "output_type": "stream",
     "text": [
      "[(        -1,) (2404371171,) (2404371171,) ..., (        -1,) (        -1,)\n",
      " (        -1,)]\n",
      "<halotools.sim_manager.tabular_ascii_reader.TabularAsciiReader object at 0x11155a7b8>\n"
     ]
    }
   ],
   "source": [
    "print(arr)\n",
    "print(reader)"
   ]
  },
  {
   "cell_type": "markdown",
   "metadata": {},
   "source": [
    "# not sure how to create a catalog object with files, so will use default cached catalogs for now"
   ]
  },
  {
   "cell_type": "code",
   "execution_count": 25,
   "metadata": {
    "collapsed": true
   },
   "outputs": [],
   "source": [
    "#not sure how to create a catalog object with files\n",
    "\n",
    "from halotools.sim_manager import CachedHaloCatalog\n",
    "halocat = CachedHaloCatalog()"
   ]
  },
  {
   "cell_type": "code",
   "execution_count": 41,
   "metadata": {},
   "outputs": [
    {
     "name": "stdout",
     "output_type": "stream",
     "text": [
      "halo_vy halo_upid halo_vx halo_vz ...   vy      vz   galid stellar_mass\n",
      "------- --------- ------- ------- ... ------ ------- ----- ------------\n",
      " -34.49        -1   48.16  -82.51 ... -34.49  -82.51     0  5.19966e+10\n",
      " 264.96        -1  -14.21 -132.11 ... 264.96 -132.11     1  1.04496e+11\n",
      " 104.38        -1   -4.75  -61.29 ... 104.38  -61.29     2  5.22208e+10\n",
      "  78.85        -1 -271.94  423.44 ...  78.85  423.44     3  1.27773e+11\n",
      " 238.52        -1  317.08  179.34 ... 238.52  179.34     4  1.29183e+11\n",
      " 186.67        -1   -57.3 -187.27 ... 186.67 -187.27     5  3.31246e+10\n",
      " -77.55        -1 -306.38 -386.58 ... -77.55 -386.58     6   1.2336e+11\n",
      " 179.51        -1 -233.79   64.62 ... 179.51   64.62     7  1.45908e+11\n",
      " 239.24        -1  -31.82 -397.53 ... 239.24 -397.53     8  1.36745e+11\n"
     ]
    }
   ],
   "source": [
    "from halotools.empirical_models import PrebuiltSubhaloModelFactory\n",
    "model = PrebuiltSubhaloModelFactory('behroozi10', redshift=0.0)\n",
    "model.populate_mock(halocat)\n",
    "print(model.mock.galaxy_table[0:9])"
   ]
  },
  {
   "cell_type": "code",
   "execution_count": 55,
   "metadata": {
    "collapsed": true
   },
   "outputs": [],
   "source": [
    "#calculate smf\n",
    "#Bolshoi volume was 250h^(-1)Mpc on each side http://iopscience.iop.org/article/10.1088/0004-637X/740/2/102/pdf\n",
    "\n",
    "M     = model.mock.galaxy_table['stellar_mass']         #Read stellar masses\n",
    "logM  = np.log10(M)                     #Take logarithm\n",
    "nbins = 100                             #Number of bins to divide data into\n",
    "V     = (250/0.7)**3                    #Survey volume in Mpc3\n",
    "Phi,edg = np.histogram(logM,bins=nbins) #Unnormalized histogram and bin edges\n",
    "dM    = edg[1] - edg[0]                 #Bin size\n",
    "centers   = edg[0:-1] + dM/2.           #Mass axis\n",
    "Phi   = Phi / float(V) / dM             #Normalize to volume and bin size\n",
    "logPhi= np.log10(Phi)\n"
   ]
  },
  {
   "cell_type": "code",
   "execution_count": 90,
   "metadata": {},
   "outputs": [
    {
     "data": {
      "image/png": "[encoded data removed]",
      "text/plain": [
       "<matplotlib.figure.Figure at 0x1a2767e128>"
      ]
     },
     "metadata": {},
     "output_type": "display_data"
    }
   ],
   "source": [
    "plt.plot(centers,logPhi, c='r', label='halotools Bolshoi')\n",
    "plt.xlabel('log(M)')\n",
    "plt.ylabel('log(Phi)')\n",
    "plt.legend()\n",
    "plt.show()"
   ]
  },
  {
   "cell_type": "markdown",
   "metadata": {},
   "source": [
    "# plot both"
   ]
  },
  {
   "cell_type": "code",
   "execution_count": 89,
   "metadata": {},
   "outputs": [
    {
     "data": {
      "image/png": "[encoded data removed]",
      "text/plain": [
       "<matplotlib.figure.Figure at 0x111f0c080>"
      ]
     },
     "metadata": {},
     "output_type": "display_data"
    }
   ],
   "source": [
    "plt.plot(centers,logPhi, c='r', label='halotools Bolshoi')\n",
    "plt.plot(cosmos_SMF_fit_table['log_m'], cosmos_SMF_fit_table['log_phi'], label='COSMOS z~0.2 fit')\n",
    "plt.fill_between(cosmos_SMF_fit_table['log_m'], cosmos_SMF_fit_table['log_phi_inf'], \n",
    "                 cosmos_SMF_fit_table['log_phi_sup'], alpha=0.5)\n",
    "plt.errorbar(cosmos_SMF_points_table['col1'], cosmos_SMF_points_table['col2'], \n",
    "             yerr=[cosmos_SMF_points_table['col3'],cosmos_SMF_points_table['col4']], fmt='o', elinewidth=3,\n",
    "            markersize=5, c='#1f77b4', label='COSMOS z~0.2 points')\n",
    "\n",
    "plt.xlabel('log(M)')\n",
    "plt.ylabel('log(Phi)')\n",
    "plt.xlim([8,12.5])\n",
    "plt.ylim([-10,0])\n",
    "plt.legend()\n",
    "plt.show()"
   ]
  },
  {
   "cell_type": "code",
   "execution_count": null,
   "metadata": {
    "collapsed": true
   },
   "outputs": [],
   "source": []
  }
 ],
 "metadata": {
  "kernelspec": {
   "display_name": "Python [conda env:halotools_env]",
   "language": "python",
   "name": "conda-env-halotools_env-py"
  },
  "language_info": {
   "codemirror_mode": {
    "name": "ipython",
    "version": 3
   },
   "file_extension": ".py",
   "mimetype": "text/x-python",
   "name": "python",
   "nbconvert_exporter": "python",
   "pygments_lexer": "ipython3",
   "version": "3.6.3"
  }
 },
 "nbformat": 4,
 "nbformat_minor": 2
}
