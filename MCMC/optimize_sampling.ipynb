{
 "cells": [
  {
   "cell_type": "code",
   "execution_count": 2,
   "metadata": {},
   "outputs": [
    {
     "name": "stdout",
     "output_type": "stream",
     "text": [
      "The line_profiler extension is already loaded. To reload it, use:\n",
      "  %reload_ext line_profiler\n"
     ]
    }
   ],
   "source": [
    "%load_ext line_profiler\n",
    "import numpy as np\n",
    "import pandas as pd\n",
    "from astropy.io import ascii, fits\n",
    "from scipy.stats import anderson_ksamp, ks_2samp\n",
    "from halotools.sim_manager import HaloTableCache, CachedHaloCatalog\n",
    "from halotools.empirical_models import PrebuiltSubhaloModelFactory\n",
    "import random\n",
    "import time"
   ]
  },
  {
   "cell_type": "code",
   "execution_count": 3,
   "metadata": {},
   "outputs": [
    {
     "name": "stdout",
     "output_type": "stream",
     "text": [
      "1 loops\n"
     ]
    }
   ],
   "source": [
    "#number of times to sample COSMOS dwarf catalog\n",
    "n_loops = 1\n",
    "\n",
    "print n_loops, 'loops'"
   ]
  },
  {
   "cell_type": "code",
   "execution_count": 4,
   "metadata": {},
   "outputs": [
    {
     "name": "stdout",
     "output_type": "stream",
     "text": [
      "0.2786\n",
      "bplanck_dwarfs\n"
     ]
    }
   ],
   "source": [
    "#Bol-Planck model\n",
    "simname = 'bolshoi-planck'\n",
    "halo_finder = 'rockstar'\n",
    "version_name = 'bplanck_dwarfs'\n",
    "ptcl_version_name='bplanck_dwarfs_downsampled2'\n",
    "ptcl_version_name='bplanck_dwarfs'\n",
    "\n",
    "redshift = 0.278625 #(1/0.78209)-1 ; a=0.78209\n",
    "Lbox, particle_mass = 250, 1.5e8\n",
    "\n",
    "#read in halocat\n",
    "cache = HaloTableCache()\n",
    "halocat = CachedHaloCatalog(simname = simname, halo_finder = halo_finder,\n",
    "                            version_name = version_name, redshift = redshift, ptcl_version_name=ptcl_version_name) # doctest: +SKIP\n",
    "\n",
    "print(halocat.redshift) # doctest: +SKIP\n",
    "print(halocat.ptcl_version_name) # doctest: +SKIP\n",
    "\n",
    "\n",
    "model = PrebuiltSubhaloModelFactory('behroozi10', redshift=redshift,\n",
    "                                    scatter_abscissa=[12, 15], scatter_ordinates=[0.4, 0.2])\n",
    "model.populate_mock(halocat)"
   ]
  },
  {
   "cell_type": "code",
   "execution_count": 5,
   "metadata": {},
   "outputs": [],
   "source": [
    "#COSMOS data\n",
    "dwarf_sample_file = '/Users/fardila/Documents/GitHub/dwarf_lensing/Data/cosmos/dwarf_sample_for_paper.fits'\n",
    "\n",
    "dwarf_sample_data  = fits.open(dwarf_sample_file)[1].data\n",
    "dwarf_masses = dwarf_sample_data['mass_med']"
   ]
  },
  {
   "cell_type": "code",
   "execution_count": 6,
   "metadata": {},
   "outputs": [
    {
     "data": {
      "text/plain": [
       "7.73324"
      ]
     },
     "execution_count": 6,
     "metadata": {},
     "output_type": "execute_result"
    }
   ],
   "source": [
    "min(dwarf_masses)"
   ]
  },
  {
   "cell_type": "code",
   "execution_count": 7,
   "metadata": {},
   "outputs": [
    {
     "data": {
      "text/plain": [
       "8.99998"
      ]
     },
     "execution_count": 7,
     "metadata": {},
     "output_type": "execute_result"
    }
   ],
   "source": [
    "max(dwarf_masses)"
   ]
  },
  {
   "cell_type": "code",
   "execution_count": 8,
   "metadata": {},
   "outputs": [],
   "source": [
    "#galaxy table limited to mass range of dwarfs\n",
    "mock_galaxies = model.mock.galaxy_table\n",
    "mock_galaxies = mock_galaxies['galid', 'x', 'y', 'z', 'stellar_mass']\n",
    "mock_galaxies = mock_galaxies[(np.log10(mock_galaxies['stellar_mass'])>=min(dwarf_masses)) & \\\n",
    "                              (np.log10(mock_galaxies['stellar_mass'])<9.0)]\n",
    "#reduce size of table in half\n",
    "mock_galaxies = mock_galaxies[random.sample(np.arange(len(mock_galaxies)),500000)]"
   ]
  },
  {
   "cell_type": "code",
   "execution_count": 24,
   "metadata": {},
   "outputs": [],
   "source": [
    "def find_nearest_rows_pandas(pd_array,value, n):\n",
    "    nearest_rows = np.abs(np.log10(pd_array['stellar_mass']) - value).sort_values()[:n]\n",
    "\n",
    "    return pd_array.loc[nearest_rows.index]\n",
    "\n",
    "def create_dwarf_catalog_with_matched_mass_distribution(dwarf_masses, mock_galaxies, n_loops = 1):\n",
    "    \n",
    "    subsample=[]\n",
    "    # n_loops: number of times to sample COSMOS catalog\n",
    "    \n",
    "    mock_galaxies_pd = pd.DataFrame(mock_galaxies.as_array())\n",
    "   \n",
    "    for dwarf in dwarf_masses[:500]:   \n",
    "\n",
    "        #reduce search space\n",
    "        gal_masses=np.log10(mock_galaxies_pd['stellar_mass'])\n",
    "        mock_galaxies_reduced = mock_galaxies_pd[(gal_masses<dwarf+0.001) & \\\n",
    "                              (gal_masses>dwarf-0.001)]\n",
    "\n",
    "\n",
    "        #find index of mock galaxy with mass closes to dwarf\n",
    "        matched_galaxies = find_nearest_rows_pandas(mock_galaxies_reduced,dwarf, n=n_loops)\n",
    "\n",
    "        # append to subsample\n",
    "        subsample += [matched_galaxies]\n",
    "\n",
    "        #do not replace in array of mock galaxy masses\n",
    "#         mock_galaxies_pd.drop(matched_galaxies.index)\n",
    "        \n",
    "        mock_galaxies_pd['stellar_mass'].loc[matched_galaxies.index] = 0\n",
    "    \n",
    "#         exclusion_mask = mock_galaxies_pd.index.isin(matched_galaxies.index)\n",
    "#         mock_galaxies_pd = mock_galaxies_pd[~exclusion_mask]\n",
    "\n",
    "    return pd.concat(subsample), mock_galaxies_pd"
   ]
  },
  {
   "cell_type": "code",
   "execution_count": 10,
   "metadata": {
    "scrolled": true
   },
   "outputs": [],
   "source": [
    "# %lprun -f create_dwarf_catalog_with_matched_mass_distribution2 create_dwarf_catalog_with_matched_mass_distribution2(dwarf_masses, mock_galaxies, n_loops = 50)\n"
   ]
  },
  {
   "cell_type": "code",
   "execution_count": 25,
   "metadata": {},
   "outputs": [],
   "source": [
    "subsample, mock_galaxies_pd = create_dwarf_catalog_with_matched_mass_distribution(dwarf_masses, mock_galaxies, n_loops = 50)\n"
   ]
  },
  {
   "cell_type": "code",
   "execution_count": 26,
   "metadata": {},
   "outputs": [
    {
     "name": "stdout",
     "output_type": "stream",
     "text": [
      "subsample: 25000\n",
      "total mock galaxies: 500000\n",
      "remaining mock galaxies: 475000\n",
      "Ks_2sampResult(statistic=0.0040000000000000036, pvalue=0.9999999999999993)\n"
     ]
    }
   ],
   "source": [
    "print 'subsample: ' + str(len(subsample))\n",
    "print 'total mock galaxies: ' + str(len(mock_galaxies))\n",
    "print 'remaining mock galaxies: ' + str(len(mock_galaxies_pd[mock_galaxies_pd['stellar_mass']>0]))\n",
    "\n",
    "#check that they are indistinguishable\n",
    "#anderson_ksamp([subsample,dwarf_masses])\n",
    "print ks_2samp(np.log10(subsample['stellar_mass']),dwarf_masses[:500])"
   ]
  },
  {
   "cell_type": "code",
   "execution_count": 33,
   "metadata": {},
   "outputs": [
    {
     "data": {
      "image/png": "[encoded data removed]",
      "text/plain": [
       "<Figure size 432x288 with 1 Axes>"
      ]
     },
     "metadata": {
      "needs_background": "light"
     },
     "output_type": "display_data"
    }
   ],
   "source": [
    "import matplotlib.pyplot as plt\n",
    "plt.hist([dwarf_masses[:500],np.log10(subsample['stellar_mass'])], bins =50, normed=True, histtype = 'step')\n",
    "plt.show()"
   ]
  },
  {
   "cell_type": "code",
   "execution_count": 34,
   "metadata": {},
   "outputs": [
    {
     "name": "stdout",
     "output_type": "stream",
     "text": [
      "[NbConvertApp] Converting notebook optimize_sampling.ipynb to script\n",
      "[NbConvertApp] Writing 4194 bytes to optimize_sampling.py\n"
     ]
    }
   ],
   "source": [
    "#convert to script\n",
    "!jupyter nbconvert --to script optimize_sampling.ipynb"
   ]
  },
  {
   "cell_type": "code",
   "execution_count": null,
   "metadata": {},
   "outputs": [],
   "source": []
  }
 ],
 "metadata": {
  "kernelspec": {
   "display_name": "Python [conda env:dwarf_lensing]",
   "language": "python",
   "name": "conda-env-dwarf_lensing-py"
  },
  "language_info": {
   "codemirror_mode": {
    "name": "ipython",
    "version": 2
   },
   "file_extension": ".py",
   "mimetype": "text/x-python",
   "name": "python",
   "nbconvert_exporter": "python",
   "pygments_lexer": "ipython2",
   "version": "2.7.15"
  }
 },
 "nbformat": 4,
 "nbformat_minor": 2
}
