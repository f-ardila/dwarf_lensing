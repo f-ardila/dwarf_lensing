{
 "cells": [
  {
   "cell_type": "code",
   "execution_count": 13,
   "metadata": {},
   "outputs": [],
   "source": [
    "%load_ext line_profiler\n",
    "import numpy as np\n",
    "import pandas as pd\n",
    "from astropy.io import ascii, fits\n",
    "from scipy.stats import anderson_ksamp, ks_2samp\n",
    "from halotools.sim_manager import HaloTableCache, CachedHaloCatalog\n",
    "from halotools.empirical_models import PrebuiltSubhaloModelFactory\n",
    "import random\n",
    "import time"
   ]
  },
  {
   "cell_type": "code",
   "execution_count": 14,
   "metadata": {},
   "outputs": [
    {
     "name": "stdout",
     "output_type": "stream",
     "text": [
      "1 loops\n"
     ]
    }
   ],
   "source": [
    "#number of times to sample COSMOS dwarf catalog\n",
    "n_loops = 1\n",
    "\n",
    "print n_loops, 'loops'"
   ]
  },
  {
   "cell_type": "code",
   "execution_count": 15,
   "metadata": {},
   "outputs": [
    {
     "name": "stdout",
     "output_type": "stream",
     "text": [
      "0.2786\n",
      "bplanck_dwarfs\n"
     ]
    }
   ],
   "source": [
    "#Bol-Planck model\n",
    "simname = 'bolshoi-planck'\n",
    "halo_finder = 'rockstar'\n",
    "version_name = 'bplanck_dwarfs'\n",
    "ptcl_version_name='bplanck_dwarfs_downsampled2'\n",
    "ptcl_version_name='bplanck_dwarfs'\n",
    "\n",
    "redshift = 0.278625 #(1/0.78209)-1 ; a=0.78209\n",
    "Lbox, particle_mass = 250, 1.5e8\n",
    "\n",
    "#read in halocat\n",
    "cache = HaloTableCache()\n",
    "halocat = CachedHaloCatalog(simname = simname, halo_finder = halo_finder,\n",
    "                            version_name = version_name, redshift = redshift, ptcl_version_name=ptcl_version_name) # doctest: +SKIP\n",
    "\n",
    "print(halocat.redshift) # doctest: +SKIP\n",
    "print(halocat.ptcl_version_name) # doctest: +SKIP\n",
    "\n",
    "\n",
    "model = PrebuiltSubhaloModelFactory('behroozi10', redshift=redshift,\n",
    "                                    scatter_abscissa=[12, 15], scatter_ordinates=[0.4, 0.2])\n",
    "model.populate_mock(halocat)"
   ]
  },
  {
   "cell_type": "code",
   "execution_count": 16,
   "metadata": {},
   "outputs": [],
   "source": [
    "#COSMOS data\n",
    "dwarf_sample_file = '/Users/fardila/Documents/GitHub/dwarf_lensing/Data/cosmos/dwarf_sample_for_paper.fits'\n",
    "\n",
    "dwarf_sample_data  = fits.open(dwarf_sample_file)[1].data\n",
    "dwarf_masses = dwarf_sample_data['mass_med']"
   ]
  },
  {
   "cell_type": "code",
   "execution_count": 17,
   "metadata": {},
   "outputs": [
    {
     "data": {
      "text/plain": [
       "7.73324"
      ]
     },
     "execution_count": 17,
     "metadata": {},
     "output_type": "execute_result"
    }
   ],
   "source": [
    "min(dwarf_masses)"
   ]
  },
  {
   "cell_type": "code",
   "execution_count": 18,
   "metadata": {},
   "outputs": [
    {
     "data": {
      "text/plain": [
       "8.99998"
      ]
     },
     "execution_count": 18,
     "metadata": {},
     "output_type": "execute_result"
    }
   ],
   "source": [
    "max(dwarf_masses)"
   ]
  },
  {
   "cell_type": "code",
   "execution_count": 121,
   "metadata": {},
   "outputs": [],
   "source": [
    "#galaxy table limited to mass range of dwarfs\n",
    "mock_galaxies = model.mock.galaxy_table\n",
    "mock_galaxies = mock_galaxies['x', 'y', 'z', 'stellar_mass']\n",
    "mock_galaxies = np.array(mock_galaxies[(np.log10(mock_galaxies['stellar_mass'])>=min(dwarf_masses)) & \\\n",
    "                              (np.log10(mock_galaxies['stellar_mass'])<9.0)])\n",
    "#reduce size of table in half\n",
    "half_mock_galaxies = np.random.choice(mock_galaxies,500000)"
   ]
  },
  {
   "cell_type": "code",
   "execution_count": 114,
   "metadata": {},
   "outputs": [
    {
     "name": "stdout",
     "output_type": "stream",
     "text": [
      "1 loop, best of 3: 264 ms per loop\n"
     ]
    }
   ],
   "source": [
    "%timeit half_mock_galaxies.sort(order='stellar_mass')"
   ]
  },
  {
   "cell_type": "code",
   "execution_count": 117,
   "metadata": {},
   "outputs": [
    {
     "name": "stdout",
     "output_type": "stream",
     "text": [
      "1 loop, best of 3: 260 ms per loop\n"
     ]
    }
   ],
   "source": [
    "%timeit mock_galaxies[:500000].sort('stellar_mass')"
   ]
  },
  {
   "cell_type": "code",
   "execution_count": 122,
   "metadata": {},
   "outputs": [],
   "source": [
    "def find_nearest_new_indices_sorted(index, n, existing_indices, length):\n",
    "    \"\"\"\n",
    "    index: index of closest value\n",
    "    n: number of closest\n",
    "    existing_indices: indices that already exist to avoid repeats\n",
    "\n",
    "    return:\n",
    "    indices of n nearest rows\n",
    "    \"\"\"\n",
    "    \n",
    "    #indices of nearest rows\n",
    "    nearest_rows=[]\n",
    "    \n",
    "    #append index\n",
    "    i=0\n",
    "    if index not in existing_indices:\n",
    "            nearest_rows.append(index)\n",
    "    \n",
    "    #append next nearest indices\n",
    "    while len(nearest_rows) < n:\n",
    "        \n",
    "        if index + i not in existing_indices and index + i not in nearest_rows and index + i<length:\n",
    "            nearest_rows.append(index + i)\n",
    "       \n",
    "        if len(nearest_rows) < n and index - i not in existing_indices and index - i not in nearest_rows and index - i>0:\n",
    "            nearest_rows.append(index - i)\n",
    "         \n",
    "        i += 1\n",
    "    \n",
    "    return nearest_rows\n",
    "\n",
    "def create_dwarf_catalog_with_matched_mass_distribution(dwarf_masses, mock_galaxies, n_nearest):\n",
    "    \"\"\"\n",
    "    dwarf_masses: masses of COSMOS dwarfs\n",
    "    mock_galaxies: array of mock galaxies from halotools\n",
    "    n_nearest: number of nearest mock galaxies to use (i.e. number of times to\n",
    "               sample full COSMOS dwarf catalog)\n",
    "\n",
    "    return:\n",
    "    array of the sample of mock dwarfs with an identical distribution\n",
    "    of masses as COSMOS\n",
    "    \"\"\"\n",
    "    \n",
    "    #set for speeding up finding location\n",
    "    subsample_indices=set()\n",
    "    \n",
    "    #sort first to speed up future calculations\n",
    "    mock_galaxies.sort(order = 'stellar_mass')  \n",
    "    \n",
    "    #indices of nearest mock mass for each dwarf mass\n",
    "    indices = np.searchsorted(mock_galaxies['stellar_mass'], 10**dwarf_masses)\n",
    "    \n",
    "    #add additional nearest\n",
    "    for index in indices:   \n",
    "\n",
    "        matched_indices = find_nearest_new_indices_sorted(index, n_loops, subsample_indices, len(mock_galaxies))\n",
    "\n",
    "        subsample_indices.update(matched_indices)\n",
    "\n",
    "        \n",
    "    subsample = mock_galaxies[list(subsample_indices)]\n",
    "\n",
    "\n",
    "    return subsample"
   ]
  },
  {
   "cell_type": "code",
   "execution_count": 93,
   "metadata": {
    "scrolled": true
   },
   "outputs": [],
   "source": [
    "subsample = create_dwarf_catalog_with_matched_mass_distribution(dwarf_masses, mock_galaxies, n_loops = 50)\n"
   ]
  },
  {
   "cell_type": "code",
   "execution_count": 101,
   "metadata": {
    "scrolled": true
   },
   "outputs": [],
   "source": [
    "%lprun -f find_nearest_new_indices_sorted create_dwarf_catalog_with_matched_mass_distribution(dwarf_masses, mock_galaxies, n_loops = 50)\n"
   ]
  },
  {
   "cell_type": "code",
   "execution_count": null,
   "metadata": {},
   "outputs": [],
   "source": [
    "%lprun -f create_dwarf_catalog_with_matched_mass_distribution create_dwarf_catalog_with_matched_mass_distribution(dwarf_masses, mock_galaxies, n_loops = 50)\n"
   ]
  },
  {
   "cell_type": "code",
   "execution_count": 95,
   "metadata": {},
   "outputs": [
    {
     "name": "stdout",
     "output_type": "stream",
     "text": [
      "subsample: 343800\n",
      "total mock galaxies: 1192318\n",
      "Ks_2sampResult(statistic=0.0019371727748690448, pvalue=1.0)\n"
     ]
    }
   ],
   "source": [
    "print 'subsample: ' + str(len(subsample))\n",
    "print 'total mock galaxies: ' + str(len(mock_galaxies))\n",
    "# print 'remaining mock galaxies: ' + str(len(mock_galaxies_pd[mock_galaxies_pd['stellar_mass']>0]))\n",
    "\n",
    "#check that they are indistinguishable\n",
    "#anderson_ksamp([subsample,dwarf_masses])\n",
    "print ks_2samp(np.log10(subsample['stellar_mass']),dwarf_masses)"
   ]
  },
  {
   "cell_type": "code",
   "execution_count": 97,
   "metadata": {},
   "outputs": [
    {
     "data": {
      "image/png": "[encoded data removed]",
      "text/plain": [
       "<Figure size 432x288 with 1 Axes>"
      ]
     },
     "metadata": {
      "needs_background": "light"
     },
     "output_type": "display_data"
    }
   ],
   "source": [
    "import matplotlib.pyplot as plt\n",
    "plt.hist([dwarf_masses,np.log10(subsample['stellar_mass'])], bins =50, normed=True, histtype = 'step')\n",
    "plt.show()"
   ]
  },
  {
   "cell_type": "code",
   "execution_count": 34,
   "metadata": {},
   "outputs": [
    {
     "name": "stdout",
     "output_type": "stream",
     "text": [
      "[NbConvertApp] Converting notebook optimize_sampling.ipynb to script\n",
      "[NbConvertApp] Writing 4194 bytes to optimize_sampling.py\n"
     ]
    }
   ],
   "source": [
    "#convert to script\n",
    "!jupyter nbconvert --to script optimize_sampling.ipynb"
   ]
  },
  {
   "cell_type": "markdown",
   "metadata": {},
   "source": [
    "## Final notes: Length of mock catalog affect speed and number of loops possible in a few secs. Steep cost for reduced catalog size past a certain number of loops."
   ]
  },
  {
   "cell_type": "code",
   "execution_count": 125,
   "metadata": {},
   "outputs": [
    {
     "name": "stdout",
     "output_type": "stream",
     "text": [
      "1 loop, best of 3: 1.45 s per loop\n"
     ]
    }
   ],
   "source": [
    "%timeit create_dwarf_catalog_with_matched_mass_distribution(dwarf_masses, mock_galaxies, n_loops = 30)"
   ]
  },
  {
   "cell_type": "code",
   "execution_count": 130,
   "metadata": {},
   "outputs": [
    {
     "name": "stdout",
     "output_type": "stream",
     "text": [
      "1 loop, best of 3: 1.64 s per loop\n"
     ]
    }
   ],
   "source": [
    "%timeit create_dwarf_catalog_with_matched_mass_distribution(dwarf_masses, mock_galaxies, n_loops = 35)"
   ]
  },
  {
   "cell_type": "code",
   "execution_count": 127,
   "metadata": {},
   "outputs": [
    {
     "name": "stdout",
     "output_type": "stream",
     "text": [
      "1 loop, best of 3: 1.09 s per loop\n"
     ]
    }
   ],
   "source": [
    "%timeit create_dwarf_catalog_with_matched_mass_distribution(dwarf_masses, half_mock_galaxies, n_loops = 30)"
   ]
  },
  {
   "cell_type": "code",
   "execution_count": 129,
   "metadata": {},
   "outputs": [
    {
     "name": "stdout",
     "output_type": "stream",
     "text": [
      "1 loop, best of 3: 1.95 s per loop\n"
     ]
    }
   ],
   "source": [
    "%timeit create_dwarf_catalog_with_matched_mass_distribution(dwarf_masses, half_mock_galaxies, n_loops = 35)"
   ]
  },
  {
   "cell_type": "code",
   "execution_count": null,
   "metadata": {},
   "outputs": [],
   "source": []
  }
 ],
 "metadata": {
  "kernelspec": {
   "display_name": "Python [conda env:dwarf_lensing]",
   "language": "python",
   "name": "conda-env-dwarf_lensing-py"
  },
  "language_info": {
   "codemirror_mode": {
    "name": "ipython",
    "version": 2
   },
   "file_extension": ".py",
   "mimetype": "text/x-python",
   "name": "python",
   "nbconvert_exporter": "python",
   "pygments_lexer": "ipython2",
   "version": "2.7.15"
  }
 },
 "nbformat": 4,
 "nbformat_minor": 2
}
