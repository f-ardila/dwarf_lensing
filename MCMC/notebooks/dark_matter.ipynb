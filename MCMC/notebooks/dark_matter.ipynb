{
 "cells": [
  {
   "cell_type": "code",
   "execution_count": 1,
   "metadata": {},
   "outputs": [],
   "source": [
    "%reload_ext autoreload\n",
    "%autoreload 2"
   ]
  },
  {
   "cell_type": "code",
   "execution_count": 2,
   "metadata": {},
   "outputs": [
    {
     "name": "stdout",
     "output_type": "stream",
     "text": [
      "3.0rc2\n"
     ]
    }
   ],
   "source": [
    "import corner\n",
    "import numpy as np\n",
    "import matplotlib.pyplot as plt\n",
    "\n",
    "import sys \n",
    "sys.path.append('..')\n",
    "from functions import *\n",
    "# from colormaps import new_colors\n",
    "cmap = plt.get_cmap('tab10')\n",
    "new_colors = cmap(range(10))"
   ]
  },
  {
   "cell_type": "code",
   "execution_count": 4,
   "metadata": {},
   "outputs": [
    {
     "name": "stdout",
     "output_type": "stream",
     "text": [
      "5SHMR+scatter (Vmax@Mpeak)\n"
     ]
    }
   ],
   "source": [
    "run='Vmax_4'\n",
    "\n",
    "config = parse_config('/Users/fardila/Documents/GitHub/dwarf_lensing/MCMC/config/mcmc_config_{0}.yaml'.format(str(run)))\n",
    "config, cosmos_data, sim_data = initial_model(config)"
   ]
  },
  {
   "cell_type": "code",
   "execution_count": 3,
   "metadata": {},
   "outputs": [],
   "source": [
    "best_params = [ 0.53903687,  0.11330591,  2.72161542, 11.01133551,  0.11815845,  0.70730249,  0.28967114]"
   ]
  },
  {
   "cell_type": "markdown",
   "metadata": {},
   "source": [
    "2x10^8 Msun\n",
    "- send me a catalog of these objects with : M*, Mhalo, Mpeak, vMax@mpeak"
   ]
  },
  {
   "cell_type": "code",
   "execution_count": 5,
   "metadata": {},
   "outputs": [],
   "source": [
    "stellar_masses = get_chris_stellar_masses(best_params, config, sim_data)"
   ]
  },
  {
   "cell_type": "code",
   "execution_count": 24,
   "metadata": {},
   "outputs": [],
   "source": [
    "halo_data = sim_data['halocat'].halo_table"
   ]
  },
  {
   "cell_type": "code",
   "execution_count": 25,
   "metadata": {},
   "outputs": [],
   "source": [
    "# halo_data = halo_data['halo_mvir','halo_mpeak','halo_Vmax@Mpeak']\n",
    "halo_data['M_*'] = stellar_masses"
   ]
  },
  {
   "cell_type": "code",
   "execution_count": 26,
   "metadata": {},
   "outputs": [],
   "source": [
    "dwarf_mass = np.log10(2e8)\n",
    "dwarf_halos = halo_data[(halo_data['M_*']>dwarf_mass-0.01) & (halo_data['M_*']<dwarf_mass+0.01)]"
   ]
  },
  {
   "cell_type": "code",
   "execution_count": 27,
   "metadata": {},
   "outputs": [
    {
     "data": {
      "text/html": [
       "&lt;Table length=24872&gt;\n",
       "<table id=\"table112155189840\" class=\"table-striped table-bordered table-condensed\">\n",
       "<thead><tr><th>halo_upid</th><th>halo_y</th><th>halo_x</th><th>halo_z</th><th>halo_Vmax@Mpeak</th><th>halo_rvir</th><th>halo_vy</th><th>halo_id</th><th>halo_vx</th><th>halo_mpeak</th><th>halo_vz</th><th>halo_mvir</th><th>halo_hostid</th><th>halo_mvir_host_halo</th><th>M_*</th></tr></thead>\n",
       "<thead><tr><th>int64</th><th>float32</th><th>float32</th><th>float32</th><th>float64</th><th>float32</th><th>float32</th><th>int64</th><th>float32</th><th>float32</th><th>float32</th><th>float32</th><th>int64</th><th>float32</th><th>float64</th></tr></thead>\n",
       "<tr><td>2402706118</td><td>36.25934</td><td>13.52523</td><td>35.00034</td><td>62.26</td><td>0.032241</td><td>75.52</td><td>2402706263</td><td>-236.68</td><td>8678000000.0</td><td>-239.47</td><td>3099000000.0</td><td>2402706118</td><td>77050000000000.0</td><td>8.294855460500223</td></tr>\n",
       "<tr><td>2402706118</td><td>37.4116</td><td>13.4498</td><td>35.19417</td><td>84.75</td><td>0.056388002</td><td>-321.09</td><td>2402706295</td><td>-383.74</td><td>43700000000.0</td><td>-427.27</td><td>16580000000.0</td><td>2402706118</td><td>77050000000000.0</td><td>8.298513528762323</td></tr>\n",
       "<tr><td>2402692728</td><td>34.25197</td><td>7.90566</td><td>33.83302</td><td>84.04</td><td>0.036492</td><td>-123.25</td><td>2402692722</td><td>261.81</td><td>41070000000.0</td><td>-466.18</td><td>4494000000.0</td><td>2402692728</td><td>754400000000.0</td><td>8.29193202552078</td></tr>\n",
       "<tr><td>2402681412</td><td>44.99104</td><td>20.4583</td><td>11.42659</td><td>70.32</td><td>0.035632998</td><td>130.99</td><td>2402681492</td><td>-83.71</td><td>15810000000.0</td><td>443.29</td><td>4184000000.0</td><td>2402681412</td><td>33660000000000.0</td><td>8.303168309649607</td></tr>\n",
       "<tr><td>2402482522</td><td>10.35958</td><td>9.66273</td><td>20.82119</td><td>70.97</td><td>0.035187</td><td>195.35</td><td>2402482541</td><td>-361.45</td><td>20770000000.0</td><td>-486.53</td><td>4029000000.0</td><td>2402482522</td><td>10430000000000.0</td><td>8.303324484638754</td></tr>\n",
       "<tr><td>2404159412</td><td>25.09214</td><td>46.80882</td><td>14.44215</td><td>82.35</td><td>0.029930001</td><td>-159.48</td><td>2404159442</td><td>-258.4</td><td>53000000000.0</td><td>-306.14</td><td>2480000000.0</td><td>2404159412</td><td>8352000000000.0</td><td>8.299980956611824</td></tr>\n",
       "<tr><td>2404171088</td><td>24.56999</td><td>34.10798</td><td>37.88708</td><td>97.62</td><td>0.034261003</td><td>-83.53</td><td>2404171108</td><td>-246.28</td><td>64780000000.0</td><td>-111.19</td><td>3719000000.0</td><td>2404171088</td><td>7403000000000.0</td><td>8.291266923652445</td></tr>\n",
       "<tr><td>2402696899</td><td>37.63858</td><td>2.43797</td><td>21.67661</td><td>77.48</td><td>0.045977</td><td>-27.61</td><td>2402696906</td><td>-213.75</td><td>39360000000.0</td><td>-3.56</td><td>8988000000.0</td><td>2402696899</td><td>2113000000000.0</td><td>8.30424195189296</td></tr>\n",
       "<tr><td>2402496043</td><td>13.98936</td><td>6.56939</td><td>47.24768</td><td>54.81</td><td>0.035632998</td><td>90.5</td><td>2402496055</td><td>-421.98</td><td>18290000000.0</td><td>-255.59</td><td>4184000000.0</td><td>2402496043</td><td>2916000000000.0</td><td>8.30779908668289</td></tr>\n",
       "<tr><td>2402493525</td><td>20.95022</td><td>0.70497</td><td>45.47536</td><td>83.44</td><td>0.035187</td><td>-23.28</td><td>2402493528</td><td>-24.41</td><td>46340000000.0</td><td>-274.64</td><td>4029000000.0</td><td>2402493525</td><td>2834000000000.0</td><td>8.308668937127791</td></tr>\n",
       "<tr><td>...</td><td>...</td><td>...</td><td>...</td><td>...</td><td>...</td><td>...</td><td>...</td><td>...</td><td>...</td><td>...</td><td>...</td><td>...</td><td>...</td><td>...</td></tr>\n",
       "<tr><td>2415983426</td><td>244.50961</td><td>249.12727</td><td>229.88304</td><td>48.47</td><td>0.042247</td><td>-529.49</td><td>2415983416</td><td>504.31</td><td>9453000000.0</td><td>-2.91</td><td>6973000000.0</td><td>2415983426</td><td>2915000000000.0</td><td>8.295229778942375</td></tr>\n",
       "<tr><td>2415971550</td><td>219.66771</td><td>242.03043</td><td>223.02292</td><td>64.22</td><td>0.036492</td><td>1099.06</td><td>2415969850</td><td>68.3</td><td>21230000000.0</td><td>-376.37</td><td>4494000000.0</td><td>2415971550</td><td>129800000000000.0</td><td>8.294009311023501</td></tr>\n",
       "<tr><td>2415995493</td><td>230.20248</td><td>223.20805</td><td>242.12688</td><td>92.33</td><td>0.039931998</td><td>180.08</td><td>2415995451</td><td>297.26</td><td>53000000000.0</td><td>143.66</td><td>5889000000.0</td><td>2415995493</td><td>11890000000000.0</td><td>8.293222661441295</td></tr>\n",
       "<tr><td>-1</td><td>222.62064</td><td>245.53203</td><td>223.1733</td><td>58.06</td><td>0.042247</td><td>-590.92</td><td>2415973317</td><td>-265.93</td><td>8833000000.0</td><td>-470.12</td><td>6973000000.0</td><td>2415973317</td><td>6973000000.0</td><td>8.293070485751189</td></tr>\n",
       "<tr><td>2415994417</td><td>222.31189</td><td>229.3851</td><td>236.87717</td><td>68.39</td><td>0.034261003</td><td>251.74</td><td>2415994295</td><td>965.34</td><td>8678000000.0</td><td>188.95</td><td>3719000000.0</td><td>2415994417</td><td>59610000000000.0</td><td>8.308446733884416</td></tr>\n",
       "<tr><td>2415742970</td><td>200.82219</td><td>245.12955</td><td>199.92006</td><td>50.75</td><td>0.041286997</td><td>-56.01</td><td>2415743004</td><td>319.04</td><td>10850000000.0</td><td>441.54</td><td>6509000000.0</td><td>2415742970</td><td>14080000000000.0</td><td>8.294262729083952</td></tr>\n",
       "<tr><td>2415943973</td><td>225.54822</td><td>247.31303</td><td>204.34819</td><td>69.98</td><td>0.046756</td><td>-34.22</td><td>2415943424</td><td>439.51</td><td>28360000000.0</td><td>113.31</td><td>9453000000.0</td><td>2415943973</td><td>73180000000000.0</td><td>8.300513154734277</td></tr>\n",
       "<tr><td>2415994417</td><td>221.70276</td><td>229.23907</td><td>236.5415</td><td>57.07</td><td>0.040957</td><td>-564.02</td><td>2415994314</td><td>-273.64</td><td>20460000000.0</td><td>-101.59</td><td>6354000000.0</td><td>2415994417</td><td>59610000000000.0</td><td>8.2930411313211</td></tr>\n",
       "<tr><td>2414295732</td><td>238.7551</td><td>221.54155</td><td>201.14276</td><td>57.85</td><td>0.036492</td><td>447.08</td><td>2414295674</td><td>-360.21</td><td>9918000000.0</td><td>518.55</td><td>4494000000.0</td><td>2414295732</td><td>6085000000000.0</td><td>8.29333983210918</td></tr>\n",
       "<tr><td>2414304859</td><td>238.31384</td><td>220.99327</td><td>207.16403</td><td>52.0</td><td>0.038852002</td><td>468.75</td><td>2414304833</td><td>-451.79</td><td>8213000000.0</td><td>-84.97</td><td>5424000000.0</td><td>2414304859</td><td>8195000000000.0</td><td>8.298376016195968</td></tr>\n",
       "</table>"
      ],
      "text/plain": [
       "<Table length=24872>\n",
       "halo_upid    halo_y    halo_x  ... halo_mvir_host_halo        M_*       \n",
       "  int64     float32   float32  ...       float32            float64     \n",
       "---------- --------- --------- ... ------------------- -----------------\n",
       "2402706118  36.25934  13.52523 ...    77050000000000.0 8.294855460500223\n",
       "2402706118   37.4116   13.4498 ...    77050000000000.0 8.298513528762323\n",
       "2402692728  34.25197   7.90566 ...      754400000000.0  8.29193202552078\n",
       "2402681412  44.99104   20.4583 ...    33660000000000.0 8.303168309649607\n",
       "2402482522  10.35958   9.66273 ...    10430000000000.0 8.303324484638754\n",
       "2404159412  25.09214  46.80882 ...     8352000000000.0 8.299980956611824\n",
       "2404171088  24.56999  34.10798 ...     7403000000000.0 8.291266923652445\n",
       "2402696899  37.63858   2.43797 ...     2113000000000.0  8.30424195189296\n",
       "2402496043  13.98936   6.56939 ...     2916000000000.0  8.30779908668289\n",
       "2402493525  20.95022   0.70497 ...     2834000000000.0 8.308668937127791\n",
       "       ...       ...       ... ...                 ...               ...\n",
       "2415983426 244.50961 249.12727 ...     2915000000000.0 8.295229778942375\n",
       "2415971550 219.66771 242.03043 ...   129800000000000.0 8.294009311023501\n",
       "2415995493 230.20248 223.20805 ...    11890000000000.0 8.293222661441295\n",
       "        -1 222.62064 245.53203 ...        6973000000.0 8.293070485751189\n",
       "2415994417 222.31189  229.3851 ...    59610000000000.0 8.308446733884416\n",
       "2415742970 200.82219 245.12955 ...    14080000000000.0 8.294262729083952\n",
       "2415943973 225.54822 247.31303 ...    73180000000000.0 8.300513154734277\n",
       "2415994417 221.70276 229.23907 ...    59610000000000.0   8.2930411313211\n",
       "2414295732  238.7551 221.54155 ...     6085000000000.0  8.29333983210918\n",
       "2414304859 238.31384 220.99327 ...     8195000000000.0 8.298376016195968"
      ]
     },
     "execution_count": 27,
     "metadata": {},
     "output_type": "execute_result"
    }
   ],
   "source": [
    "dwarf_halos"
   ]
  },
  {
   "cell_type": "code",
   "execution_count": 39,
   "metadata": {},
   "outputs": [
    {
     "data": {
      "text/plain": [
       "['halo_upid',\n",
       " 'halo_y',\n",
       " 'halo_x',\n",
       " 'halo_z',\n",
       " 'halo_Vmax@Mpeak',\n",
       " 'halo_rvir',\n",
       " 'halo_vy',\n",
       " 'halo_id',\n",
       " 'halo_vx',\n",
       " 'halo_mpeak',\n",
       " 'halo_vz',\n",
       " 'halo_mvir',\n",
       " 'halo_hostid',\n",
       " 'halo_mvir_host_halo',\n",
       " 'M_*']"
      ]
     },
     "execution_count": 39,
     "metadata": {},
     "output_type": "execute_result"
    }
   ],
   "source": [
    "dwarf_halos.keys()"
   ]
  },
  {
   "cell_type": "code",
   "execution_count": 23,
   "metadata": {},
   "outputs": [
    {
     "data": {
      "image/png": "[encoded data removed]",
      "text/plain": [
       "<Figure size 432x288 with 1 Axes>"
      ]
     },
     "metadata": {
      "needs_background": "light"
     },
     "output_type": "display_data"
    }
   ],
   "source": [
    "plt.hist(np.log10(dwarf_halos['halo_mvir']), bins=70)\n",
    "plt.xlim\n",
    "plt.show()"
   ]
  },
  {
   "cell_type": "code",
   "execution_count": 30,
   "metadata": {},
   "outputs": [],
   "source": [
    "from astropy.io.ascii import write"
   ]
  },
  {
   "cell_type": "code",
   "execution_count": 35,
   "metadata": {},
   "outputs": [],
   "source": [
    "dwarf_halos.write('/Users/fardila/Documents/GitHub/dwarf_lensing/mock_dwarfs/best_fit_mock_catalog.hdf5',\n",
    "                  path ='catalog', overwrite=True )\n",
    "\n"
   ]
  },
  {
   "cell_type": "code",
   "execution_count": 36,
   "metadata": {},
   "outputs": [],
   "source": [
    "dwarf_halos_reduced = dwarf_halos['halo_mvir','halo_mpeak','halo_Vmax@Mpeak','M_*']\n",
    "dwarf_halos_reduced.write('/Users/fardila/Documents/GitHub/dwarf_lensing/mock_dwarfs/best_fit_mock_catalog_short.hdf5',\n",
    "                  path ='catalog', overwrite=True )"
   ]
  },
  {
   "cell_type": "code",
   "execution_count": null,
   "metadata": {},
   "outputs": [],
   "source": []
  }
 ],
 "metadata": {
  "anaconda-cloud": {},
  "kernelspec": {
   "display_name": "Python 2",
   "language": "python",
   "name": "python2"
  },
  "language_info": {
   "codemirror_mode": {
    "name": "ipython",
    "version": 2
   },
   "file_extension": ".py",
   "mimetype": "text/x-python",
   "name": "python",
   "nbconvert_exporter": "python",
   "pygments_lexer": "ipython2",
   "version": "2.7.15"
  }
 },
 "nbformat": 4,
 "nbformat_minor": 2
}
