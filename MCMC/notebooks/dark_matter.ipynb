{
 "cells": [
  {
   "cell_type": "code",
   "execution_count": 1,
   "metadata": {},
   "outputs": [],
   "source": [
    "%reload_ext autoreload\n",
    "%autoreload 2"
   ]
  },
  {
   "cell_type": "code",
   "execution_count": 2,
   "metadata": {},
   "outputs": [
    {
     "name": "stdout",
     "output_type": "stream",
     "text": [
      "3.0rc1\n"
     ]
    }
   ],
   "source": [
    "import corner\n",
    "import numpy as np\n",
    "import matplotlib.pyplot as plt\n",
    "from scipy.stats import binned_statistic\n",
    "import math\n",
    "\n",
    "import sys \n",
    "sys.path.append('..')\n",
    "from functions import *\n",
    "# from colormaps import new_colors\n",
    "cmap = plt.get_cmap('tab10')\n",
    "new_colors = cmap(range(10))"
   ]
  },
  {
   "cell_type": "code",
   "execution_count": 3,
   "metadata": {},
   "outputs": [],
   "source": [
    "def weighted_avg_and_std(values, weights):\n",
    "    import math\n",
    "    \"\"\"\n",
    "    Return the weighted average and standard deviation.\n",
    "\n",
    "    values, weights -- Numpy ndarrays with the same shape.\n",
    "    \"\"\"\n",
    "    average = np.average(values, weights=weights)\n",
    "    # Fast and numerically precise:\n",
    "    variance = np.average((values-average)**2, weights=weights)\n",
    "    return (average, math.sqrt(variance))\n",
    "\n",
    "def plot_sigma_slope(run):\n",
    "    \n",
    "    file_name = '/Users/fardila/Documents/GitHub/dwarf_lensing/MCMC/outfiles/cosmos_bplanck_run_{0}.hdf5'.format(str(run))\n",
    "    reader = emcee.backends.HDFBackend(file_name)\n",
    "    \n",
    "#     tau = reader.get_autocorr_time()\n",
    "#     burnin = int(2*np.max(tau))\n",
    "#     thin = int(0.5*np.min(tau))\n",
    "\n",
    "\n",
    "    burnin = 4000\n",
    "    thin = 1\n",
    "\n",
    "\n",
    "    chains = reader.get_chain()\n",
    "    log_prob = reader.get_log_prob()\n",
    "    \n",
    "    print(\"burn-in: {0}\".format(burnin))\n",
    "    print(\"thin: {0}\".format(thin))\n",
    "    print('{0} walkers'.format(chains.shape[1]))\n",
    "    print('{0} iterations per walker so far ({1} total)'.format(chains.shape[0],\n",
    "                                                                chains.shape[0]*chains.shape[1]))\n",
    "    \n",
    "    chains = reader.get_chain(discard=burnin, flat=True, thin=thin)\n",
    "    log_prob = reader.get_log_prob(discard=burnin, flat=True, thin=thin)\n",
    "    print('{0} iterations being used total'.format(chains.shape[0]))\n",
    "\n",
    "    #only first 2 params\n",
    "    sigma_2, sigma_3 =  chains.T[:2]\n",
    "\n",
    "    #flatten walker chains together\n",
    "    sigma_2_flat, sigma_3_flat = sigma_2.T.flatten(), sigma_3.T.flatten()\n",
    "\n",
    "    #get means and sigmas\n",
    "    mean_sigma2, std_sigma2 = weighted_avg_and_std(sigma_2_flat, np.exp(log_prob))\n",
    "    mean_sigma3, std_sigma3 = weighted_avg_and_std(sigma_3_flat, np.exp(log_prob))\n",
    "\n",
    "    #plot\n",
    "    fig, axes=plt.subplots(1,2, figsize=[15,6])\n",
    "    \n",
    "    #left subplot: Vmax@Mpeak\n",
    "    axes[0].errorbar([2,3], [mean_sigma2, mean_sigma3],yerr=[std_sigma2, std_sigma3],\n",
    "            c=plt.get_cmap('tab20')(0), linewidth=3, linestyle='--', marker='o', label = 'model')\n",
    "    axes[0].fill_between([2,3], [mean_sigma2+std_sigma2, mean_sigma3+std_sigma3],\n",
    "                     [mean_sigma2-std_sigma2,  mean_sigma3-std_sigma3],\n",
    "                     color=plt.get_cmap('tab20')(0), alpha=0.3)\n",
    "\n",
    "    axes[0].set_xlabel(r'$\\log(V_{max}@M_{peak}$)', fontsize=25)\n",
    "    axes[0].set_ylabel(r'$\\sigma_{M_* | V_{max}@M_{peak}}$', fontsize=25)\n",
    "    axes[0].legend()\n",
    "    \n",
    "    #right subplot: mvir\n",
    "    axes[1].scatter(bin_centers, binned_scatter, marker='+', color=plt.get_cmap('tab20')(0),\n",
    "                 label = 'model', linewidth=3)\n",
    "#     axes[1].errorbar([10,13], [mean_sigma2, mean_sigma3],yerr=[std_sigma2, std_sigma3],\n",
    "#             c=plt.get_cmap('tab20')(0), linewidth=3, linestyle='--', marker='o', label = 'model')\n",
    "#     axes[1].fill_between([10,13], [mean_sigma2+std_sigma2, mean_sigma3+std_sigma3],\n",
    "#                      [mean_sigma2-std_sigma2,  mean_sigma3-std_sigma3],\n",
    "#                      color=plt.get_cmap('tab20')(0), alpha=0.3)\n",
    "    \n",
    "    GK = lambda Mhalo, M1: 0.2 - (0.26*(Mhalo-M1))\n",
    "    Munshi = lambda Mhalo: GK(Mhalo,9.7) if Mhalo<9.7 else 0.1\n",
    "    Wasserman = lambda Mhalo: GK(Mhalo,11.5) if Mhalo<11.5 else 0.2\n",
    "    x = np.array([10,11.5, 13])\n",
    "    axes[1].plot(x, [Munshi(xi)for xi in x], c=plt.get_cmap('tab20')(2), linewidth=3, linestyle='--', marker='o',\n",
    "                 label = 'Munshi+2017')\n",
    "    axes[1].plot(x, [Wasserman(xi) for xi in x], c=plt.get_cmap('tab20')(4), linewidth=3, linestyle='--', marker='o',\n",
    "                 label = 'Wasserman+2018')\n",
    "    \n",
    "\n",
    "    axes[1].set_xlabel(r'$\\log(M_{vir}$)', fontsize=25)\n",
    "    axes[1].set_ylabel(r'$\\sigma_{M_* | M_{vir}}$', fontsize=25)\n",
    "    axes[1].legend()\n",
    "\n",
    "    plt.show()"
   ]
  },
  {
   "cell_type": "code",
   "execution_count": 4,
   "metadata": {},
   "outputs": [
    {
     "name": "stdout",
     "output_type": "stream",
     "text": [
      "5SHMR+scatter (Vmax@Mpeak)\n"
     ]
    }
   ],
   "source": [
    "run='Vmax_4'\n",
    "\n",
    "config = parse_config('/Users/fardila/Documents/GitHub/dwarf_lensing/MCMC/config/mcmc_config_{0}.yaml'.format(str(run)))\n",
    "config, cosmos_data, sim_data = initial_model(config)"
   ]
  },
  {
   "cell_type": "code",
   "execution_count": 5,
   "metadata": {},
   "outputs": [],
   "source": [
    "best_params = [ 0.53903687,  0.11330591,  2.72161542, 11.01133551,  0.11815845,  0.70730249,  0.28967114]"
   ]
  },
  {
   "cell_type": "code",
   "execution_count": 6,
   "metadata": {},
   "outputs": [],
   "source": [
    "stellar_masses = get_chris_stellar_masses(best_params, config, sim_data)\n",
    "halo_data = sim_data['halocat'].halo_table\n",
    "halo_data['M_*'] = 10**stellar_masses"
   ]
  },
  {
   "cell_type": "markdown",
   "metadata": {},
   "source": [
    "## plot sigma function"
   ]
  },
  {
   "cell_type": "code",
   "execution_count": 7,
   "metadata": {},
   "outputs": [
    {
     "name": "stderr",
     "output_type": "stream",
     "text": [
      "/Users/fardila/anaconda/envs/dwarf_lensing/lib/python2.7/site-packages/scipy/stats/_binned_statistic.py:607: FutureWarning: Using a non-tuple sequence for multidimensional indexing is deprecated; use `arr[tuple(seq)]` instead of `arr[seq]`. In the future this will be interpreted as an array index, `arr[np.array(seq)]`, which will result either in an error or a different result.\n",
      "  result = result[core]\n"
     ]
    }
   ],
   "source": [
    "n_bins=20\n",
    "bins=np.linspace(10,13,n_bins)\n",
    "dx = bins[1]-bins[0]\n",
    "bin_centers = bins[:-1]+dx/2.\n",
    "\n",
    "halo_data_10_13 = halo_data[(halo_data['halo_mvir']>1e9) & (halo_data['halo_mvir']<1e14)]\n",
    "binned_scatter, _, _ = binned_statistic(np.log10(halo_data_10_13['halo_mvir']),np.log10(halo_data_10_13['M_*']), \n",
    "                                  bins=bins, statistic=lambda x: np.std(x))"
   ]
  },
  {
   "cell_type": "code",
   "execution_count": 136,
   "metadata": {},
   "outputs": [
    {
     "data": {
      "text/plain": [
       "array([0.90936983, 0.87827043, 0.83855767, 0.80110256, 0.76807016,\n",
       "       0.72539045, 0.67897231, 0.63056283, 0.58090089, 0.53918965,\n",
       "       0.50341457, 0.46570288, 0.44433129, 0.41468271, 0.39469153,\n",
       "       0.37250117, 0.34866831, 0.32334291, 0.30624798])"
      ]
     },
     "execution_count": 136,
     "metadata": {},
     "output_type": "execute_result"
    }
   ],
   "source": [
    "binned_scatter"
   ]
  },
  {
   "cell_type": "code",
   "execution_count": 25,
   "metadata": {},
   "outputs": [
    {
     "name": "stdout",
     "output_type": "stream",
     "text": [
      "burn-in: 4000\n",
      "thin: 1\n",
      "15 walkers\n",
      "10000 iterations per walker so far (150000 total)\n",
      "90000 iterations being used total\n"
     ]
    },
    {
     "data": {
      "image/png": "[encoded data removed]",
      "text/plain": [
       "<Figure size 1080x432 with 2 Axes>"
      ]
     },
     "metadata": {
      "needs_background": "light"
     },
     "output_type": "display_data"
    }
   ],
   "source": [
    "run='Vmax_4'\n",
    "plot_sigma_slope(run)"
   ]
  },
  {
   "cell_type": "markdown",
   "metadata": {},
   "source": [
    "## make catalog of all galaxies for alexie"
   ]
  },
  {
   "cell_type": "code",
   "execution_count": 8,
   "metadata": {},
   "outputs": [],
   "source": [
    "halo_data_reduced = halo_data['M_*','halo_mpeak','halo_mvir','halo_Vmax@Mpeak', 'halo_pid']\n",
    "halo_data_reduced.write('/Users/fardila/Documents/GitHub/dwarf_lensing/mock_dwarfs/best_fit_mock_full_catalog.ascii',\n",
    "                  format ='ascii', overwrite=True, comment='#'  )\n",
    "\n"
   ]
  },
  {
   "cell_type": "markdown",
   "metadata": {},
   "source": [
    "## making catalog of low mass galaxies with best fit params"
   ]
  },
  {
   "cell_type": "markdown",
   "metadata": {},
   "source": [
    "stellar masses around 2x10^8 Msun\n",
    "\n",
    "send Alexie a catalog of these objects with : M*, Mhalo, Mpeak, vMax@mpeak"
   ]
  },
  {
   "cell_type": "code",
   "execution_count": 56,
   "metadata": {},
   "outputs": [],
   "source": [
    "dwarf_mass = np.log10(2e8)\n",
    "dwarf_halos = halo_data[(np.log10(halo_data['M_*'])>dwarf_mass-0.01) & (np.log10(halo_data['M_*'])<dwarf_mass+0.01)]"
   ]
  },
  {
   "cell_type": "code",
   "execution_count": 57,
   "metadata": {},
   "outputs": [
    {
     "data": {
      "text/html": [
       "&lt;Table length=25219&gt;\n",
       "<table id=\"table112014012944\" class=\"table-striped table-bordered table-condensed\">\n",
       "<thead><tr><th>halo_upid</th><th>halo_y</th><th>halo_x</th><th>halo_z</th><th>halo_Vmax@Mpeak</th><th>halo_rvir</th><th>halo_vy</th><th>halo_id</th><th>halo_vx</th><th>halo_mpeak</th><th>halo_vz</th><th>halo_mvir</th><th>halo_hostid</th><th>halo_mvir_host_halo</th><th>M_*</th></tr></thead>\n",
       "<thead><tr><th>int64</th><th>float32</th><th>float32</th><th>float32</th><th>float64</th><th>float32</th><th>float32</th><th>int64</th><th>float32</th><th>float32</th><th>float32</th><th>float32</th><th>int64</th><th>float32</th><th>float64</th></tr></thead>\n",
       "<tr><td>2404371171</td><td>42.46758</td><td>36.31219</td><td>18.73313</td><td>92.82</td><td>0.041286997</td><td>-400.74</td><td>2404371659</td><td>-20.93</td><td>48970000000.0</td><td>191.32</td><td>6509000000.0</td><td>2404371171</td><td>162700000000000.0</td><td>8.295252853172773</td></tr>\n",
       "<tr><td>2402455808</td><td>13.49677</td><td>21.82855</td><td>10.31479</td><td>78.57</td><td>0.038479</td><td>-18.81</td><td>2402456076</td><td>-663.6</td><td>23560000000.0</td><td>436.6</td><td>5269000000.0</td><td>2402455808</td><td>119200000000000.0</td><td>8.294212778657263</td></tr>\n",
       "<tr><td>2402481157</td><td>25.03206</td><td>15.76387</td><td>24.31598</td><td>79.38</td><td>0.040279</td><td>-110.16</td><td>2402481322</td><td>-925.65</td><td>35950000000.0</td><td>262.85</td><td>6044000000.0</td><td>2402481157</td><td>70480000000000.0</td><td>8.302581457767442</td></tr>\n",
       "<tr><td>2402481668</td><td>27.64672</td><td>4.03123</td><td>22.59529</td><td>55.95</td><td>0.036905997</td><td>222.71</td><td>2402481740</td><td>-199.82</td><td>12240000000.0</td><td>-58.91</td><td>4649000000.0</td><td>2402481668</td><td>32670000000000.0</td><td>8.3017348973843</td></tr>\n",
       "<tr><td>2402471181</td><td>18.30066</td><td>13.31102</td><td>14.08953</td><td>67.53</td><td>0.032241</td><td>127.7</td><td>2402471202</td><td>240.34</td><td>14260000000.0</td><td>52.68</td><td>3099000000.0</td><td>2402471181</td><td>18270000000000.0</td><td>8.304020621077418</td></tr>\n",
       "<tr><td>2404384064</td><td>44.71968</td><td>42.50826</td><td>39.70943</td><td>85.19</td><td>0.035867</td><td>570.7</td><td>2404384080</td><td>623.94</td><td>44320000000.0</td><td>-148.11</td><td>4261000000.0</td><td>2404384064</td><td>17710000000000.0</td><td>8.29769067012952</td></tr>\n",
       "<tr><td>2402670473</td><td>34.99328</td><td>26.66337</td><td>4.76281</td><td>80.44</td><td>0.035187</td><td>-243.27</td><td>2402670496</td><td>298.8</td><td>27430000000.0</td><td>519.89</td><td>4029000000.0</td><td>2402670473</td><td>10860000000000.0</td><td>8.309039854993358</td></tr>\n",
       "<tr><td>2402671391</td><td>41.33159</td><td>16.63626</td><td>7.10704</td><td>91.08</td><td>0.028627</td><td>-159.88</td><td>2402671392</td><td>-206.59</td><td>49740000000.0</td><td>26.57</td><td>2169000000.0</td><td>2402671391</td><td>5755000000000.0</td><td>8.308160428092185</td></tr>\n",
       "<tr><td>2402458695</td><td>17.76208</td><td>31.16812</td><td>9.05085</td><td>67.65</td><td>0.047757</td><td>20.07</td><td>2402458701</td><td>-317.17</td><td>35020000000.0</td><td>-241.6</td><td>10070000000.0</td><td>2402458695</td><td>4523000000000.0</td><td>8.296480496114857</td></tr>\n",
       "<tr><td>2402458736</td><td>2.59516</td><td>29.99868</td><td>10.12215</td><td>74.03</td><td>0.036905997</td><td>423.4</td><td>2402458739</td><td>-367.29</td><td>37350000000.0</td><td>-250.35</td><td>4649000000.0</td><td>2402458736</td><td>4682000000000.0</td><td>8.301124104042318</td></tr>\n",
       "<tr><td>...</td><td>...</td><td>...</td><td>...</td><td>...</td><td>...</td><td>...</td><td>...</td><td>...</td><td>...</td><td>...</td><td>...</td><td>...</td><td>...</td><td>...</td></tr>\n",
       "<tr><td>2415974754</td><td>222.15636</td><td>226.71</td><td>222.75626</td><td>65.37</td><td>0.046499</td><td>284.57</td><td>2415974756</td><td>448.33</td><td>12090000000.0</td><td>-51.38</td><td>9298000000.0</td><td>2415974754</td><td>133400000000.0</td><td>8.294156561252827</td></tr>\n",
       "<tr><td>-1</td><td>200.72032</td><td>237.38051</td><td>219.43742</td><td>63.45</td><td>0.039219003</td><td>264.97</td><td>2415768790</td><td>302.5</td><td>11160000000.0</td><td>-111.81</td><td>5579000000.0</td><td>2415768790</td><td>5579000000.0</td><td>8.297914986139588</td></tr>\n",
       "<tr><td>2415979506</td><td>230.80536</td><td>235.08685</td><td>219.90446</td><td>57.91</td><td>0.035632998</td><td>-1450.94</td><td>2415978867</td><td>-69.91</td><td>13640000000.0</td><td>506.41</td><td>4184000000.0</td><td>2415979506</td><td>120900000000000.0</td><td>8.299328036249667</td></tr>\n",
       "<tr><td>2415783007</td><td>205.91998</td><td>229.26881</td><td>235.14613</td><td>66.38</td><td>0.055131</td><td>324.11</td><td>2415783006</td><td>391.16</td><td>22010000000.0</td><td>-499.77</td><td>15500000000.0</td><td>2415783007</td><td>276500000000.0</td><td>8.303311199952473</td></tr>\n",
       "<tr><td>2415943973</td><td>224.69418</td><td>247.73418</td><td>205.18134</td><td>63.79</td><td>0.039579</td><td>192.34</td><td>2415943772</td><td>-117.28</td><td>17360000000.0</td><td>-321.54</td><td>5734000000.0</td><td>2415943973</td><td>73180000000000.0</td><td>8.302037630786241</td></tr>\n",
       "<tr><td>2415960747</td><td>221.74974</td><td>245.78328</td><td>217.0647</td><td>77.0</td><td>0.035187</td><td>71.86</td><td>2415960784</td><td>22.34</td><td>30060000000.0</td><td>167.08</td><td>4029000000.0</td><td>2415960747</td><td>11460000000000.0</td><td>8.309925292002365</td></tr>\n",
       "<tr><td>-1</td><td>202.66388</td><td>201.91286</td><td>229.74532</td><td>11.48</td><td>0.014965001</td><td>222.17</td><td>2414107614</td><td>251.96</td><td>309900000.0</td><td>-139.31</td><td>309900000.0</td><td>2414107614</td><td>309900000.0</td><td>8.310296952894475</td></tr>\n",
       "<tr><td>2415779409</td><td>206.82014</td><td>244.48909</td><td>237.02402</td><td>57.92</td><td>0.042247</td><td>-169.96</td><td>2415779043</td><td>-224.73</td><td>26190000000.0</td><td>-604.28</td><td>6973000000.0</td><td>2415779409</td><td>82500000000000.0</td><td>8.299674656850446</td></tr>\n",
       "<tr><td>-1</td><td>204.58965</td><td>204.30086</td><td>232.96718</td><td>80.09</td><td>0.034261003</td><td>-2.39</td><td>2414095038</td><td>-37.43</td><td>30370000000.0</td><td>-350.22</td><td>3719000000.0</td><td>2414095038</td><td>3719000000.0</td><td>8.304748678515601</td></tr>\n",
       "<tr><td>2415767247</td><td>207.80762</td><td>244.9207</td><td>219.47665</td><td>57.41</td><td>0.037312</td><td>749.19</td><td>2415767242</td><td>494.8</td><td>8058000000.0</td><td>-349.83</td><td>4804000000.0</td><td>2415767247</td><td>29910000000000.0</td><td>8.306241635343463</td></tr>\n",
       "</table>"
      ],
      "text/plain": [
       "<Table length=25219>\n",
       "halo_upid    halo_y    halo_x  ... halo_mvir_host_halo        M_*       \n",
       "  int64     float32   float32  ...       float32            float64     \n",
       "---------- --------- --------- ... ------------------- -----------------\n",
       "2404371171  42.46758  36.31219 ...   162700000000000.0 8.295252853172773\n",
       "2402455808  13.49677  21.82855 ...   119200000000000.0 8.294212778657263\n",
       "2402481157  25.03206  15.76387 ...    70480000000000.0 8.302581457767442\n",
       "2402481668  27.64672   4.03123 ...    32670000000000.0   8.3017348973843\n",
       "2402471181  18.30066  13.31102 ...    18270000000000.0 8.304020621077418\n",
       "2404384064  44.71968  42.50826 ...    17710000000000.0  8.29769067012952\n",
       "2402670473  34.99328  26.66337 ...    10860000000000.0 8.309039854993358\n",
       "2402671391  41.33159  16.63626 ...     5755000000000.0 8.308160428092185\n",
       "2402458695  17.76208  31.16812 ...     4523000000000.0 8.296480496114857\n",
       "2402458736   2.59516  29.99868 ...     4682000000000.0 8.301124104042318\n",
       "       ...       ...       ... ...                 ...               ...\n",
       "2415974754 222.15636    226.71 ...      133400000000.0 8.294156561252827\n",
       "        -1 200.72032 237.38051 ...        5579000000.0 8.297914986139588\n",
       "2415979506 230.80536 235.08685 ...   120900000000000.0 8.299328036249667\n",
       "2415783007 205.91998 229.26881 ...      276500000000.0 8.303311199952473\n",
       "2415943973 224.69418 247.73418 ...    73180000000000.0 8.302037630786241\n",
       "2415960747 221.74974 245.78328 ...    11460000000000.0 8.309925292002365\n",
       "        -1 202.66388 201.91286 ...         309900000.0 8.310296952894475\n",
       "2415779409 206.82014 244.48909 ...    82500000000000.0 8.299674656850446\n",
       "        -1 204.58965 204.30086 ...        3719000000.0 8.304748678515601\n",
       "2415767247 207.80762  244.9207 ...    29910000000000.0 8.306241635343463"
      ]
     },
     "execution_count": 57,
     "metadata": {},
     "output_type": "execute_result"
    }
   ],
   "source": [
    "dwarf_halos"
   ]
  },
  {
   "cell_type": "code",
   "execution_count": 39,
   "metadata": {},
   "outputs": [
    {
     "data": {
      "text/plain": [
       "['halo_upid',\n",
       " 'halo_y',\n",
       " 'halo_x',\n",
       " 'halo_z',\n",
       " 'halo_Vmax@Mpeak',\n",
       " 'halo_rvir',\n",
       " 'halo_vy',\n",
       " 'halo_id',\n",
       " 'halo_vx',\n",
       " 'halo_mpeak',\n",
       " 'halo_vz',\n",
       " 'halo_mvir',\n",
       " 'halo_hostid',\n",
       " 'halo_mvir_host_halo',\n",
       " 'M_*']"
      ]
     },
     "execution_count": 39,
     "metadata": {},
     "output_type": "execute_result"
    }
   ],
   "source": [
    "dwarf_halos.keys()"
   ]
  },
  {
   "cell_type": "code",
   "execution_count": 23,
   "metadata": {},
   "outputs": [
    {
     "data": {
      "image/png": "[encoded data removed]",
      "text/plain": [
       "<Figure size 432x288 with 1 Axes>"
      ]
     },
     "metadata": {
      "needs_background": "light"
     },
     "output_type": "display_data"
    }
   ],
   "source": [
    "plt.hist(np.log10(dwarf_halos['halo_mvir']), bins=70)\n",
    "plt.xlim\n",
    "plt.show()"
   ]
  },
  {
   "cell_type": "code",
   "execution_count": 35,
   "metadata": {},
   "outputs": [],
   "source": [
    "dwarf_halos.write('/Users/fardila/Documents/GitHub/dwarf_lensing/mock_dwarfs/best_fit_mock_catalog.hdf5',\n",
    "                  path ='catalog', overwrite=True )\n",
    "\n"
   ]
  },
  {
   "cell_type": "code",
   "execution_count": 59,
   "metadata": {},
   "outputs": [],
   "source": [
    "dwarf_halos_reduced = dwarf_halos['halo_mvir','halo_mpeak','halo_Vmax@Mpeak','M_*']\n",
    "dwarf_halos_reduced.write('/Users/fardila/Documents/GitHub/dwarf_lensing/mock_dwarfs/best_fit_mock_catalog_short.ascii',\n",
    "                  format ='ascii', overwrite=True, comment='#' )\n",
    "\n"
   ]
  },
  {
   "cell_type": "code",
   "execution_count": 8,
   "metadata": {},
   "outputs": [],
   "source": [
    "def make_catalog_given_params(params, run, config = None, cosmos_data = None, sim_data = None, \n",
    "                              reduced=False, write=False):\n",
    "\n",
    "    if not config:\n",
    "        config = parse_config('/Users/fardila/Documents/GitHub/dwarf_lensing/MCMC/config/mcmc_config_{0}.yaml'.format(str(run)))\n",
    "        config, cosmos_data, sim_data = initial_model(config)\n",
    "\n",
    "    halo_data = sim_data['halocat'].halo_table\n",
    "    \n",
    "    stellar_masses = get_chris_stellar_masses(params, config, sim_data)\n",
    "    halo_data['M_*'] = 10**stellar_masses\n",
    "    \n",
    "    if reduced:\n",
    "        halo_data = halo_data['M_*','halo_mpeak','halo_mvir','halo_Vmax@Mpeak', 'halo_upid']\n",
    "    \n",
    "    if write:\n",
    "        halo_data.write('/Users/fardila/Documents/GitHub/dwarf_lensing/mock_dwarfs/best_fit_mock_{0}.ascii'.format(run),\n",
    "                  format ='ascii', overwrite=True, comment='#')\n",
    "    \n",
    "    return halo_data\n"
   ]
  },
  {
   "cell_type": "code",
   "execution_count": 15,
   "metadata": {},
   "outputs": [],
   "source": [
    "best_params_no_orphans = [ 0.48418425,  0.11010146,  2.72603396, 11.03541275,  0.11999312,  0.90875961, -0.01469141]\n",
    "best_params_orphans = [ 0.31778976,  0.16864865,  2.76285812, 11.15042856,  0.12689323,  0.96288237, -0.03033116]\n"
   ]
  },
  {
   "cell_type": "code",
   "execution_count": 16,
   "metadata": {},
   "outputs": [
    {
     "name": "stdout",
     "output_type": "stream",
     "text": [
      "5SHMR+scatter (Vmax@Mpeak)\n",
      "['halo_upid', 'halo_y', 'halo_x', 'halo_z', 'halo_Vmax@Mpeak', 'halo_rvir', 'halo_vy', 'halo_id', 'halo_vx', 'halo_mpeak', 'halo_vz', 'halo_mvir', 'halo_hostid', 'halo_mvir_host_halo']\n"
     ]
    }
   ],
   "source": [
    "make_catalog_given_params(best_params_no_orphans, 'Vmax_5')"
   ]
  },
  {
   "cell_type": "code",
   "execution_count": 18,
   "metadata": {},
   "outputs": [
    {
     "name": "stdout",
     "output_type": "stream",
     "text": [
      "5SHMR+scatter (Vmax@Mpeak)\n"
     ]
    }
   ],
   "source": [
    "make_catalog_given_params(best_params_orphans, 'UM_1')"
   ]
  },
  {
   "cell_type": "markdown",
   "metadata": {},
   "source": [
    "## make distributions of M_halo"
   ]
  },
  {
   "cell_type": "code",
   "execution_count": 10,
   "metadata": {},
   "outputs": [
    {
     "name": "stdout",
     "output_type": "stream",
     "text": [
      "5SHMR+scatter (Vmax@Mpeak)\n",
      "burn-in: 1\n",
      "thin: 1\n",
      "161415 iterations being used total\n"
     ]
    }
   ],
   "source": [
    "burnin = 1\n",
    "thin = 1\n",
    "\n",
    "run = 'UM_1'\n",
    "config = parse_config('/Users/fardila/Documents/GitHub/dwarf_lensing/MCMC/config/mcmc_config_{0}.yaml'.format(str(run)))\n",
    "config, cosmos_data, sim_data = initial_model(config)\n",
    "\n",
    "\n",
    "file_name = '/Users/fardila/Documents/GitHub/dwarf_lensing/MCMC/outfiles/UM_cosmos_bplanck_run_{0}.hdf5'.format(str(run))\n",
    "reader = emcee.backends.HDFBackend(file_name)\n",
    "\n",
    "samples = reader.get_chain(discard=burnin, flat=True, thin=thin)\n",
    "log_prob = reader.get_log_prob(discard=burnin, flat=True, thin=thin)\n",
    "\n",
    "print(\"burn-in: {0}\".format(burnin))\n",
    "print(\"thin: {0}\".format(thin))\n",
    "\n",
    "print('{0} iterations being used total'.format(samples.shape[0]))"
   ]
  },
  {
   "cell_type": "code",
   "execution_count": 64,
   "metadata": {},
   "outputs": [
    {
     "data": {
      "text/plain": [
       "158955"
      ]
     },
     "execution_count": 64,
     "metadata": {},
     "output_type": "execute_result"
    }
   ],
   "source": [
    "len(samples)"
   ]
  },
  {
   "cell_type": "code",
   "execution_count": 6,
   "metadata": {},
   "outputs": [],
   "source": [
    "outfile = '/Users/fardila/Documents/GitHub/dwarf_lensing/MCMC/notebooks/Mpeak_distributions/Mpeak_distribution.npz'"
   ]
  },
  {
   "cell_type": "code",
   "execution_count": null,
   "metadata": {
    "scrolled": false
   },
   "outputs": [
    {
     "name": "stdout",
     "output_type": "stream",
     "text": [
      "Sample:  0\n",
      "Sample:  100\n",
      "Sample:  200\n",
      "Sample:  300\n"
     ]
    }
   ],
   "source": [
    "mpeak_bins=np.arange(9.5,12.3,0.05)\n",
    "array_bin_values_8 = []\n",
    "array_bin_values_9 = []\n",
    "\n",
    "for i, sample in enumerate(samples[-5000:]):\n",
    "\n",
    "        \n",
    "    catalog = make_catalog_given_params(sample, run,\n",
    "                                        config = config, cosmos_data = cosmos_data, sim_data = sim_data,\n",
    "                                        write=False)\n",
    "    catalog = catalog[(np.log10(catalog['M_*'])>7.8) & (np.log10(catalog['M_*'])<9.2)]\n",
    "\n",
    "\n",
    "    m_star8_catalog = catalog[(np.log10(catalog['M_*'])>7.9) & (np.log10(catalog['M_*'])<8.1)]\n",
    "    m_star9_catalog = catalog[(np.log10(catalog['M_*'])>8.9) & (np.log10(catalog['M_*'])<9.1)]\n",
    "\n",
    "    bin_values_8, _ = np.histogram(np.log10(m_star8_catalog['halo_mpeak']), bins=mpeak_bins, density = True)\n",
    "    bin_values_9, _ = np.histogram(np.log10(m_star9_catalog['halo_mpeak']), bins=mpeak_bins, density = True)\n",
    "\n",
    "    array_bin_values_8.append(bin_values_8)\n",
    "    array_bin_values_9.append(bin_values_9)\n",
    "    \n",
    "        \n",
    "    if i%100 == 0 :\n",
    "        print 'Sample: ', i\n",
    "        \n",
    "        np.savez(outfile, mpeak_bins=mpeak_bins, \n",
    "                          array_bin_values_8=array_bin_values_8,\n",
    "                          array_bin_values_9=array_bin_values_9 )\n",
    "\n",
    "array_bin_values_8 = np.array(array_bin_values_8)\n",
    "array_bin_values_9 =  np.array(array_bin_values_9)"
   ]
  },
  {
   "cell_type": "code",
   "execution_count": 47,
   "metadata": {},
   "outputs": [],
   "source": [
    "arr = np.load(outfile)\n",
    "array_bin_values_8 = arr['array_bin_values_8']\n",
    "array_bin_values_9 = arr['array_bin_values_9']\n",
    "mpeak_bins = arr['mpeak_bins']"
   ]
  },
  {
   "cell_type": "code",
   "execution_count": 48,
   "metadata": {},
   "outputs": [
    {
     "name": "stdout",
     "output_type": "stream",
     "text": [
      "1300\n"
     ]
    }
   ],
   "source": [
    "n=len(array_bin_values_9)\n",
    "print(n)"
   ]
  },
  {
   "cell_type": "code",
   "execution_count": 49,
   "metadata": {
    "scrolled": false
   },
   "outputs": [],
   "source": [
    "weighted_means_8 = np.array([weighted_avg_and_std(array_bin_values_8[:,bin], np.exp(log_prob[-5000:-5000+n]))[0] for bin in range(len(mpeak_bins)-1)])\n",
    "weighted_stds_8 = np.array([weighted_avg_and_std(array_bin_values_8[:,bin], np.exp(log_prob[-5000:-5000+n]))[1] for bin in range(len(mpeak_bins)-1)])\n",
    "\n",
    "weighted_means_9 = np.array([weighted_avg_and_std(array_bin_values_9[:,bin], np.exp(log_prob[-5000:-5000+n]))[0] for bin in range(len(mpeak_bins)-1)])\n",
    "weighted_stds_9 = np.array([weighted_avg_and_std(array_bin_values_9[:,bin], np.exp(log_prob[-5000:-5000+n]))[1] for bin in range(len(mpeak_bins)-1)])\n",
    "\n"
   ]
  },
  {
   "cell_type": "code",
   "execution_count": 50,
   "metadata": {},
   "outputs": [
    {
     "data": {
      "text/plain": [
       "<matplotlib.legend.Legend at 0x1a1a9d5210>"
      ]
     },
     "execution_count": 50,
     "metadata": {},
     "output_type": "execute_result"
    },
    {
     "data": {
      "image/png": "[encoded data removed]",
      "text/plain": [
       "<Figure size 432x288 with 1 Axes>"
      ]
     },
     "metadata": {
      "needs_background": "light"
     },
     "output_type": "display_data"
    }
   ],
   "source": [
    "mpeak_bins_centers = mpeak_bins[:-1]+((mpeak_bins[1]-mpeak_bins[0])/2.)\n",
    "# plt.errorbar(mpeak_bins_centers, weighted_means_8, yerr=weighted_stds_8 )\n",
    "# plt.errorbar(mpeak_bins_centers, weighted_means_9, yerr=weighted_stds_9 )\n",
    "\n",
    "plt.plot(mpeak_bins_centers, weighted_means_8, label='log(M*) = 8+-0.1')\n",
    "plt.plot(mpeak_bins_centers, weighted_means_9, label='log(M*) = 9+-0.1')\n",
    "\n",
    "plt.fill_between(mpeak_bins_centers, weighted_means_8+weighted_stds_8, weighted_means_8-weighted_stds_8, alpha=0.3)\n",
    "plt.fill_between(mpeak_bins_centers, weighted_means_9+weighted_stds_9, weighted_means_9-weighted_stds_9, alpha=0.3)\n",
    "\n",
    "plt.xlabel('M_peak')\n",
    "plt.legend()"
   ]
  },
  {
   "cell_type": "code",
   "execution_count": 51,
   "metadata": {},
   "outputs": [],
   "source": [
    "np.savetxt('/Users/fardila/Documents/GitHub/dwarf_lensing/MCMC/notebooks/M_peak_distributions/M_peak_distributions.txt',\n",
    "           np.c_[mpeak_bins_centers,weighted_means_8, weighted_stds_8, weighted_means_9, weighted_stds_9 ],\n",
    "           header = 'Mpeak_bin(M_sun) mean_M*8 std_M*8 mean_M*9 std_M*9')"
   ]
  },
  {
   "cell_type": "code",
   "execution_count": 36,
   "metadata": {},
   "outputs": [
    {
     "data": {
      "text/plain": [
       "[<matplotlib.lines.Line2D at 0x1a1a3032d0>]"
      ]
     },
     "execution_count": 36,
     "metadata": {},
     "output_type": "execute_result"
    },
    {
     "data": {
      "image/png": "[encoded data removed]",
      "text/plain": [
       "<Figure size 432x288 with 1 Axes>"
      ]
     },
     "metadata": {
      "needs_background": "light"
     },
     "output_type": "display_data"
    }
   ],
   "source": [
    "plt.plot(mpeak_bins_centers,weighted_stds_9)"
   ]
  },
  {
   "cell_type": "code",
   "execution_count": 14,
   "metadata": {},
   "outputs": [
    {
     "data": {
      "text/plain": [
       "<matplotlib.legend.Legend at 0x1a19c89550>"
      ]
     },
     "execution_count": 14,
     "metadata": {},
     "output_type": "execute_result"
    },
    {
     "data": {
      "image/png": "[encoded data removed]",
      "text/plain": [
       "<Figure size 432x288 with 1 Axes>"
      ]
     },
     "metadata": {
      "needs_background": "light"
     },
     "output_type": "display_data"
    }
   ],
   "source": [
    "mpeak_bins_centers = mpeak_bins[:-1]+((mpeak_bins[1]-mpeak_bins[0])/2.)\n",
    "# plt.errorbar(mpeak_bins_centers, weighted_means_8, yerr=weighted_stds_8 )\n",
    "# plt.errorbar(mpeak_bins_centers, weighted_means_9, yerr=weighted_stds_9 )\n",
    "\n",
    "plt.plot(mpeak_bins_centers, weighted_means_8, label='log(M*) = 8+-0.1')\n",
    "plt.plot(mpeak_bins_centers, weighted_means_9, label='log(M*) = 9+-0.1')\n",
    "\n",
    "plt.fill_between(mpeak_bins_centers, weighted_means_8+weighted_stds_8, weighted_means_8-weighted_stds_8, alpha=0.3)\n",
    "plt.fill_between(mpeak_bins_centers, weighted_means_9+weighted_stds_9, weighted_means_9-weighted_stds_9, alpha=0.3)\n",
    "\n",
    "plt.xlabel('M_peak')\n",
    "plt.legend()"
   ]
  },
  {
   "cell_type": "code",
   "execution_count": 36,
   "metadata": {
    "scrolled": true
   },
   "outputs": [
    {
     "data": {
      "text/plain": [
       "(array([0.00000000e+00, 0.00000000e+00, 1.39200156e-04, 4.87200546e-04,\n",
       "        1.60080179e-03, 4.55880511e-03, 1.16928131e-02, 2.56476287e-02,\n",
       "        5.63064631e-02, 1.03878116e-01, 1.91121814e-01, 3.35785576e-01,\n",
       "        5.34632999e-01, 7.92744888e-01, 1.06272359e+00, 1.27709183e+00,\n",
       "        1.37996075e+00, 1.31679867e+00, 1.10069043e+00, 8.09692507e-01,\n",
       "        4.99519759e-01, 2.71823104e-01, 1.32831749e-01, 5.64804633e-02,\n",
       "        2.21328248e-02, 8.03880900e-03, 2.54040285e-03, 1.07880121e-03]),\n",
       " array([ 9.5,  9.6,  9.7,  9.8,  9.9, 10. , 10.1, 10.2, 10.3, 10.4, 10.5,\n",
       "        10.6, 10.7, 10.8, 10.9, 11. , 11.1, 11.2, 11.3, 11.4, 11.5, 11.6,\n",
       "        11.7, 11.8, 11.9, 12. , 12.1, 12.2, 12.3]),\n",
       " <a list of 28 Patch objects>)"
      ]
     },
     "execution_count": 36,
     "metadata": {},
     "output_type": "execute_result"
    },
    {
     "data": {
      "image/png": "[encoded data removed]",
      "text/plain": [
       "<Figure size 432x288 with 1 Axes>"
      ]
     },
     "metadata": {
      "needs_background": "light"
     },
     "output_type": "display_data"
    }
   ],
   "source": [
    "plt.hist(np.log10(m_star8_catalog['halo_mpeak']), bins=mpeak_bins, density = True)\n",
    "plt.hist(np.log10(m_star9_catalog['halo_mpeak']), bins=mpeak_bins, density = True)"
   ]
  },
  {
   "cell_type": "markdown",
   "metadata": {},
   "source": [
    "## Mpeak distribution for Asher "
   ]
  },
  {
   "cell_type": "code",
   "execution_count": 42,
   "metadata": {},
   "outputs": [],
   "source": [
    "best_UM_params = [ 0.31778976, 0.16864865, 2.76285812, 11.15042856,  0.12689323,  0.96288237, -0.03033116]\n",
    "UM_catalog = make_catalog_given_params(sample, run,\n",
    "                                        config = config, cosmos_data = cosmos_data, sim_data = sim_data,\n",
    "                                        write=False)"
   ]
  },
  {
   "cell_type": "code",
   "execution_count": 44,
   "metadata": {},
   "outputs": [],
   "source": [
    "run='UM_1'\n",
    "UM_catalog.write('/Users/fardila/Documents/GitHub/dwarf_lensing/mock_dwarfs/best_fit_mock_{0}.ascii'.format(run),\n",
    "                  format ='ascii', overwrite=True, comment='#')"
   ]
  },
  {
   "cell_type": "markdown",
   "metadata": {},
   "source": [
    "## mean radius and mass "
   ]
  },
  {
   "cell_type": "code",
   "execution_count": 4,
   "metadata": {},
   "outputs": [],
   "source": [
    "from astropy.io import ascii\n",
    "from colossus.halo import mass_adv\n",
    "from colossus.cosmology import cosmology\n",
    "\n",
    "cosmo = cosmology.setCosmology('planck18')"
   ]
  },
  {
   "cell_type": "code",
   "execution_count": 5,
   "metadata": {},
   "outputs": [
    {
     "data": {
      "text/plain": [
       "0.6766"
      ]
     },
     "execution_count": 5,
     "metadata": {},
     "output_type": "execute_result"
    }
   ],
   "source": [
    "cosmo.h"
   ]
  },
  {
   "cell_type": "code",
   "execution_count": 6,
   "metadata": {},
   "outputs": [
    {
     "data": {
      "text/html": [
       "&lt;Table length=12939617&gt;\n",
       "<table id=\"table112187019216\" class=\"table-striped table-bordered table-condensed\">\n",
       "<thead><tr><th>M_*</th><th>halo_mpeak</th><th>halo_mvir</th><th>halo_Vmax@Mpeak</th><th>halo_pid</th></tr></thead>\n",
       "<thead><tr><th>float64</th><th>float64</th><th>float64</th><th>float64</th><th>int64</th></tr></thead>\n",
       "<tr><td>137375224669.13655</td><td>162700004950016.0</td><td>162700004950016.0</td><td>999.86</td><td>-1</td></tr>\n",
       "<tr><td>688006.5676522122</td><td>6818999808.0</td><td>4959000064.0</td><td>40.06</td><td>2404371171</td></tr>\n",
       "<tr><td>61047.49465174735</td><td>5888999936.0</td><td>4028999936.0</td><td>35.48</td><td>2404371171</td></tr>\n",
       "<tr><td>1474534.6551185967</td><td>5734000128.0</td><td>2788999936.0</td><td>39.84</td><td>2404371171</td></tr>\n",
       "<tr><td>18459.94762999465</td><td>3254000128.0</td><td>2324000000.0</td><td>30.83</td><td>2404371171</td></tr>\n",
       "<tr><td>900276537.1958504</td><td>73759997952.0</td><td>1084999936.0</td><td>119.86</td><td>2404371171</td></tr>\n",
       "<tr><td>171248.25917812609</td><td>1084999936.0</td><td>929800000.0</td><td>19.03</td><td>2404371171</td></tr>\n",
       "<tr><td>574828.4373561951</td><td>4959000064.0</td><td>929800000.0</td><td>43.93</td><td>2404371171</td></tr>\n",
       "<tr><td>509648.9647360801</td><td>929800000.0</td><td>619900032.0</td><td>17.54</td><td>2404371171</td></tr>\n",
       "<tr><td>33572.253631872336</td><td>929800000.0</td><td>464900000.0</td><td>16.56</td><td>2404371171</td></tr>\n",
       "<tr><td>...</td><td>...</td><td>...</td><td>...</td><td>...</td></tr>\n",
       "<tr><td>18185.516876320806</td><td>2633999872.0</td><td>2324000000.0</td><td>23.31</td><td>2414319681</td></tr>\n",
       "<tr><td>10139.546646282251</td><td>929800000.0</td><td>929800000.0</td><td>17.23</td><td>-1</td></tr>\n",
       "<tr><td>229996.21136504476</td><td>1395000064.0</td><td>1395000064.0</td><td>17.82</td><td>-1</td></tr>\n",
       "<tr><td>59092.88275975309</td><td>3099000064.0</td><td>1395000064.0</td><td>25.59</td><td>2414319840</td></tr>\n",
       "<tr><td>2313.3229084970635</td><td>309900000.0</td><td>309900000.0</td><td>11.17</td><td>-1</td></tr>\n",
       "<tr><td>23184.05298847202</td><td>774800000.0</td><td>774800000.0</td><td>16.14</td><td>-1</td></tr>\n",
       "<tr><td>91201.01650266381</td><td>2324000000.0</td><td>2168999936.0</td><td>21.39</td><td>-1</td></tr>\n",
       "<tr><td>164838.01385646628</td><td>309900000.0</td><td>309900000.0</td><td>11.83</td><td>-1</td></tr>\n",
       "<tr><td>1184039.8670004122</td><td>464900000.0</td><td>464900000.0</td><td>12.62</td><td>-1</td></tr>\n",
       "<tr><td>144846.17916635846</td><td>2324000000.0</td><td>2324000000.0</td><td>21.5</td><td>-1</td></tr>\n",
       "</table>"
      ],
      "text/plain": [
       "<Table length=12939617>\n",
       "       M_*             halo_mpeak    ... halo_Vmax@Mpeak  halo_pid \n",
       "     float64            float64      ...     float64       int64   \n",
       "------------------ ----------------- ... --------------- ----------\n",
       "137375224669.13655 162700004950016.0 ...          999.86         -1\n",
       " 688006.5676522122      6818999808.0 ...           40.06 2404371171\n",
       " 61047.49465174735      5888999936.0 ...           35.48 2404371171\n",
       "1474534.6551185967      5734000128.0 ...           39.84 2404371171\n",
       " 18459.94762999465      3254000128.0 ...           30.83 2404371171\n",
       " 900276537.1958504     73759997952.0 ...          119.86 2404371171\n",
       "171248.25917812609      1084999936.0 ...           19.03 2404371171\n",
       " 574828.4373561951      4959000064.0 ...           43.93 2404371171\n",
       " 509648.9647360801       929800000.0 ...           17.54 2404371171\n",
       "33572.253631872336       929800000.0 ...           16.56 2404371171\n",
       "               ...               ... ...             ...        ...\n",
       "18185.516876320806      2633999872.0 ...           23.31 2414319681\n",
       "10139.546646282251       929800000.0 ...           17.23         -1\n",
       "229996.21136504476      1395000064.0 ...           17.82         -1\n",
       " 59092.88275975309      3099000064.0 ...           25.59 2414319840\n",
       "2313.3229084970635       309900000.0 ...           11.17         -1\n",
       " 23184.05298847202       774800000.0 ...           16.14         -1\n",
       " 91201.01650266381      2324000000.0 ...           21.39         -1\n",
       "164838.01385646628       309900000.0 ...           11.83         -1\n",
       "1184039.8670004122       464900000.0 ...           12.62         -1\n",
       "144846.17916635846      2324000000.0 ...            21.5         -1"
      ]
     },
     "execution_count": 6,
     "metadata": {},
     "output_type": "execute_result"
    }
   ],
   "source": [
    "mock = '/Users/fardila/Documents/GitHub/dwarf_lensing/mock_dwarfs/best_fit_mock_full_catalog.ascii'\n",
    "ascii.read(mock)"
   ]
  },
  {
   "cell_type": "code",
   "execution_count": 9,
   "metadata": {},
   "outputs": [
    {
     "name": "stdout",
     "output_type": "stream",
     "text": [
      "5SHMR+scatter (Vmax@Mpeak)\n"
     ]
    }
   ],
   "source": [
    "run='UM_1'\n",
    "best_UM_params = [ 0.31778976, 0.16864865, 2.76285812, 11.15042856,  0.12689323,  0.96288237, -0.03033116]\n",
    "UM_catalog = make_catalog_given_params(best_UM_params, run,\n",
    "                                        write=False)"
   ]
  },
  {
   "cell_type": "code",
   "execution_count": 10,
   "metadata": {},
   "outputs": [],
   "source": [
    "catalog = UM_catalog[(np.log10(UM_catalog['M_*'])>7.8) & (np.log10(UM_catalog['M_*'])<9.2)]\n",
    "\n",
    "\n",
    "m_star8_catalog = catalog[(np.log10(catalog['M_*'])>7.9) & (np.log10(catalog['M_*'])<8.1)]\n",
    "m_star8p5_catalog = catalog[(np.log10(catalog['M_*'])>8.4) & (np.log10(catalog['M_*'])<8.6)]\n",
    "m_star9_catalog = catalog[(np.log10(catalog['M_*'])>8.9) & (np.log10(catalog['M_*'])<9.1)]"
   ]
  },
  {
   "cell_type": "code",
   "execution_count": 8,
   "metadata": {},
   "outputs": [
    {
     "data": {
      "text/plain": [
       "['halo_upid',\n",
       " 'halo_y',\n",
       " 'halo_x',\n",
       " 'halo_z',\n",
       " 'halo_Vmax@Mpeak',\n",
       " 'halo_rvir',\n",
       " 'halo_vy',\n",
       " 'halo_id',\n",
       " 'halo_vx',\n",
       " 'halo_mpeak',\n",
       " 'halo_vz',\n",
       " 'halo_mvir',\n",
       " 'halo_hostid',\n",
       " 'halo_mvir_host_halo',\n",
       " 'M_*']"
      ]
     },
     "execution_count": 8,
     "metadata": {},
     "output_type": "execute_result"
    }
   ],
   "source": [
    "catalog.keys()"
   ]
  },
  {
   "cell_type": "code",
   "execution_count": 11,
   "metadata": {},
   "outputs": [],
   "source": [
    "a = 0.78209\n",
    "h = 0.678\n",
    "z = 0.278625"
   ]
  },
  {
   "cell_type": "code",
   "execution_count": 38,
   "metadata": {},
   "outputs": [
    {
     "name": "stdout",
     "output_type": "stream",
     "text": [
      "mean M_vir: 10.5476484299 (M8), 10.8946743011 (M9)\n"
     ]
    }
   ],
   "source": [
    "print('mean M_vir: {0} (M8), {1} (M9)'.format(np.mean(np.log10(m_star8_catalog['halo_mvir'])),\n",
    "                                              np.mean(np.log10(m_star9_catalog['halo_mvir']))))"
   ]
  },
  {
   "cell_type": "code",
   "execution_count": 39,
   "metadata": {},
   "outputs": [
    {
     "name": "stdout",
     "output_type": "stream",
     "text": [
      "mean M_peak: 10.7222795486 (M8), 11.1591911316 (M9)\n"
     ]
    }
   ],
   "source": [
    "print('mean M_peak: {0} (M8), {1} (M9)'.format(np.mean(np.log10(m_star8_catalog['halo_mpeak'])),\n",
    "                                              np.mean(np.log10(m_star9_catalog['halo_mpeak']))))"
   ]
  },
  {
   "cell_type": "code",
   "execution_count": 36,
   "metadata": {},
   "outputs": [
    {
     "name": "stdout",
     "output_type": "stream",
     "text": [
      "mean R_vir: 0.0766932666302 (M8), 0.102970555425 (M9)\n"
     ]
    }
   ],
   "source": [
    "print('mean R_vir: {0} (M8), {1} (M9)'.format(np.mean(m_star8_catalog['halo_rvir']*a/h),\n",
    "                                              np.mean(m_star9_catalog['halo_rvir']*a/h)))"
   ]
  },
  {
   "cell_type": "markdown",
   "metadata": {},
   "source": [
    "Originally:\n",
    "\n",
    "Mvir: Halo mass (Msun).\n",
    "\n",
    "Rvir: Halo radius (kpc/h comoving)."
   ]
  },
  {
   "cell_type": "markdown",
   "metadata": {},
   "source": [
    "### convert to R200 "
   ]
  },
  {
   "cell_type": "code",
   "execution_count": 12,
   "metadata": {},
   "outputs": [],
   "source": [
    "#use thinner slices so it doesn't take too long\n",
    "m_star8_catalog = catalog[(np.log10(catalog['M_*'])>7.99) & (np.log10(catalog['M_*'])<8.01)]\n",
    "m_star8p5_catalog = catalog[(np.log10(catalog['M_*'])>8.49) & (np.log10(catalog['M_*'])<8.51)]\n",
    "m_star9_catalog = catalog[(np.log10(catalog['M_*'])>8.99) & (np.log10(catalog['M_*'])<9.01)]"
   ]
  },
  {
   "cell_type": "markdown",
   "metadata": {},
   "source": [
    "M needs to be in Msun/h for colossus"
   ]
  },
  {
   "cell_type": "code",
   "execution_count": 22,
   "metadata": {},
   "outputs": [],
   "source": [
    "M200m_8, R200m_8, c200m_8 = mass_adv.changeMassDefinitionCModel(m_star8_catalog['halo_mvir']*h, z, 'vir', '200m')"
   ]
  },
  {
   "cell_type": "code",
   "execution_count": 23,
   "metadata": {},
   "outputs": [],
   "source": [
    "M200m_9, R200m_9, c200m_9 = mass_adv.changeMassDefinitionCModel(m_star9_catalog['halo_mvir']*h, z, 'vir', '200m')"
   ]
  },
  {
   "cell_type": "code",
   "execution_count": 24,
   "metadata": {
    "scrolled": true
   },
   "outputs": [],
   "source": [
    "M200m_8p5, R200m_8p5, c200m_8p5 = mass_adv.changeMassDefinitionCModel(m_star8p5_catalog['halo_mvir']*h, z, 'vir', '200m')\n",
    "\n"
   ]
  },
  {
   "cell_type": "code",
   "execution_count": 27,
   "metadata": {},
   "outputs": [
    {
     "data": {
      "image/png": "[encoded data removed]",
      "text/plain": [
       "<Figure size 432x288 with 1 Axes>"
      ]
     },
     "metadata": {
      "needs_background": "light"
     },
     "output_type": "display_data"
    }
   ],
   "source": [
    "plt.hist(R200m_8/h, bins=70, label='M*~8', alpha=0.5)\n",
    "plt.hist(R200m_8p5/h, bins=70, label='M*~8.5', alpha=0.5)\n",
    "plt.hist(R200m_9/h, bins=70, label='M*~9', alpha=0.5)\n",
    "plt.xlabel('R200m (physical kpc)')\n",
    "plt.legend()\n",
    "plt.show()"
   ]
  },
  {
   "cell_type": "markdown",
   "metadata": {},
   "source": [
    "R200 in physical (kpc/h)"
   ]
  },
  {
   "cell_type": "code",
   "execution_count": 42,
   "metadata": {},
   "outputs": [
    {
     "name": "stdout",
     "output_type": "stream",
     "text": [
      "mean R_200: 84.5461465058 (M8), 113.442980876 (M9)\n"
     ]
    }
   ],
   "source": [
    "print('mean R_200: {0} (M8), {1} (M9)'.format(np.mean(R200m_8/h),\n",
    "                                              np.mean(R200m_9/h)))"
   ]
  },
  {
   "cell_type": "code",
   "execution_count": 43,
   "metadata": {},
   "outputs": [
    {
     "name": "stdout",
     "output_type": "stream",
     "text": [
      "mean R_vir: 0.0766416192055 (M8), 0.102765128016 (M9)\n"
     ]
    }
   ],
   "source": [
    "print('mean R_vir: {0} (M8), {1} (M9)'.format(np.mean(m_star8_catalog['halo_rvir']*a/h),\n",
    "                                              np.mean(m_star9_catalog['halo_rvir']*a/h)))"
   ]
  },
  {
   "cell_type": "code",
   "execution_count": 49,
   "metadata": {},
   "outputs": [
    {
     "name": "stdout",
     "output_type": "stream",
     "text": [
      "mean M_200m: 10.9073448563 (M8), 11.2521900318 (M9)\n"
     ]
    }
   ],
   "source": [
    "print('mean M_200m: {0} (M8), {1} (M9)'.format(np.mean(np.log10(M200m_8/h)),\n",
    "                                              np.mean(np.log10(M200m_9/h))))"
   ]
  },
  {
   "cell_type": "code",
   "execution_count": null,
   "metadata": {},
   "outputs": [],
   "source": []
  }
 ],
 "metadata": {
  "anaconda-cloud": {},
  "kernelspec": {
   "display_name": "Python 2",
   "language": "python",
   "name": "python2"
  },
  "language_info": {
   "codemirror_mode": {
    "name": "ipython",
    "version": 2
   },
   "file_extension": ".py",
   "mimetype": "text/x-python",
   "name": "python",
   "nbconvert_exporter": "python",
   "pygments_lexer": "ipython2",
   "version": "2.7.15"
  }
 },
 "nbformat": 4,
 "nbformat_minor": 2
}
