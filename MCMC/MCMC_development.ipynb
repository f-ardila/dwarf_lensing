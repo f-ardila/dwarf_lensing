{
 "cells": [
  {
   "cell_type": "markdown",
   "metadata": {},
   "source": [
    "modified from Song's `hsc_um2` repo"
   ]
  },
  {
   "cell_type": "code",
   "execution_count": 1,
   "metadata": {},
   "outputs": [],
   "source": [
    "%load_ext line_profiler"
   ]
  },
  {
   "cell_type": "code",
   "execution_count": 2,
   "metadata": {},
   "outputs": [
    {
     "name": "stdout",
     "output_type": "stream",
     "text": [
      "3.0rc1\n"
     ]
    }
   ],
   "source": [
    "from functions import *"
   ]
  },
  {
   "cell_type": "code",
   "execution_count": 3,
   "metadata": {},
   "outputs": [
    {
     "name": "stdout",
     "output_type": "stream",
     "text": [
      "scatter_only\n"
     ]
    }
   ],
   "source": [
    "config_initial = parse_config('/Users/fardila/Documents/GitHub/dwarf_lensing/MCMC/mcmc_test_config.yaml')\n",
    "config, cosmos_data, sim_data = initial_model(config_initial)"
   ]
  },
  {
   "cell_type": "code",
   "execution_count": 7,
   "metadata": {},
   "outputs": [],
   "source": [
    "%lprun -f load_sim_data initial_model(config_initial)"
   ]
  },
  {
   "cell_type": "code",
   "execution_count": 4,
   "metadata": {},
   "outputs": [
    {
     "name": "stdout",
     "output_type": "stream",
     "text": [
      "1 thread(s)\n",
      "# Phase: Burn-in ...\n",
      "[0.3679625 0.0026291]\n",
      "emcee: Exception while calling your likelihood function:\n",
      "  params: [0.3679625 0.0026291]\n",
      "  args: [{'sim_halo_cat_file': 'hlist_0.78209.list', 'cosmos_h0': 0.7, 'sim_lbox': 250.0, u'sim_volume': 50133836.97031939, 'param_ini': [0.4, 0.2], 'sim_h0': 0.678, 'frac_objects_with_specz': 0.167685, 'mcmc_stretch_a': 2.0, 'mcmc_out_dir': '/Users/fardila/Documents/GitHub/dwarf_lensing/MCMC/outfiles/', 'mcmc_moves_burnin': 'stretch', 'param_upp': [1.0, 1.0], 'mcmc_nwalkers_burnin': 2, 'mean_mass': 8.52695, 'sim_particle_mass': '1.5e8', 'cosmos_catalog_reference': 'Laigle+2016', 'mcmc_wl_only': False, u'cosmos_cosmo': FlatLambdaCDM(H0=70 km / (Mpc s), Om0=0.3, Tcmb0=0 K, Neff=3.04, m_nu=None, Ob0=None), 'mcmc_nsamples': 2, 'sim_name': 'bolshoi-planck', 'cosmos_SMF_points_file': 'cosmos2015_dic2017_smf_z01-04_Vmax0_with_header.dat', 'cosmos_SMF_fit_file': 'cosmos2015_dic2017_smf_z01-04_STY0.dat', 'cosmos_dir': '/Users/fardila/Documents/GitHub/dwarf_lensing/Data/cosmos/', 'cosmos_dwarf_file': 'dwarf_sample_for_paper.fits', 'sim_columns_to_keep_dict': \"{'halo_id': (1, 'i8'), 'halo_upid': (6, 'i8'), 'halo_mvir': (10, 'f4'), 'halo_x': (17, 'f4'), 'halo_y': (18, 'f4'), 'halo_z': (19, 'f4'), 'halo_vx': (20, 'f4'), 'halo_vy': (21, 'f4'), 'halo_vz': (22, 'f4'), 'halo_rvir': (11, 'f4'), 'halo_mpeak': (60, 'f4')}\\n\", 'n_objects_with_specz': 1153, 'mcmc_wl_weight': 1.0, 'param_sig': [0.1, 0.1], 'mean_z': 0.301442, 'sim_z': 0.278625, 'sim_output_fname': 'hlist_0.78209.hdf5', 'cosmos_omega_m': 0.3, 'mcmc_ndims': 2, u'mcmc_run_file': u'/Users/fardila/Documents/GitHub/dwarf_lensing/MCMC/outfiles/cosmos_bplanck_run.npz', 'mcmc_prefix': 'cosmos_bplanck', 'mcmc_smf_only': False, 'mcmc_nthreads': 1, u'sim_cosmo': FlatLambdaCDM(H0=67.8 km / (Mpc s), Om0=0.307, Tcmb0=0 K, Neff=3.04, m_nu=None, Ob0=None), u'mcmc_labels': [u'$a$', u'$b$'], 'sim_particle_file': 'bplanck_particles_100m_a0.78209.hdf5', 'sim_version_name': 'bplanck_dwarfs', 'sim_dir': '/Users/fardila/Documents/GitHub/dwarf_lensing/Data/bplanck/', 'cosmos_wl_file': 'dwarf_all_lens_laigle2015_nozp2.out', 'param_low': [0.0, 0.0], 'sim_halo_finder': 'rockstar', 'sim_particles_per_dimension': 2048, 'sim_omega_m': 0.307, 'mcmc_nwalkers': 2, 'n_dwarfs': 6876, 'mcmc_moves': 'stretch', 'mcmc_live_dangerously': True, u'mcmc_burnin_file': u'/Users/fardila/Documents/GitHub/dwarf_lensing/MCMC/outfiles/cosmos_bplanck_burnin.npz', 'model_type': 'scatter_only', 'sim_ptcl_version_name': 'bplanck_dwarfs', 'mcmc_nburnin': 2, 'sim_wl_bins': '0.01 0.01598922 0.02947921 0.05184152 0.09251636 0.1643359 0.29233885 0.51980176 0.92438561\\n'}, {u'cosmos_SMF_fit_table': <Table length=300>\n",
      "  log_m      log_phi   log_phi_inf log_phi_sup\n",
      " float64     float64     float64     float64  \n",
      "---------- ----------- ----------- -----------\n",
      "       0.0   0.9907256   1.0965684   0.8843038\n",
      "       0.1   0.9593335   1.0640014   0.8540923\n",
      "       0.2   0.9279413   1.0314345   0.8238808\n",
      "       0.3   0.8965492   0.9988675   0.7936693\n",
      "       0.4    0.865157   0.9663005   0.7634578\n",
      "       0.5   0.8337649   0.9337335   0.7332463\n",
      "       0.6   0.8023727   0.9011666   0.7030348\n",
      "       0.7   0.7709806   0.8685996   0.6728233\n",
      "       0.8   0.7395884   0.8360326   0.6426118\n",
      "       0.9   0.7081963   0.8034657   0.6124003\n",
      "       ...         ...         ...         ...\n",
      "29.0000004 999.9000244 999.9000244 999.9000244\n",
      "29.1000004 999.9000244 999.9000244 999.9000244\n",
      "29.2000004 999.9000244 999.9000244 999.9000244\n",
      "29.3000004 999.9000244 999.9000244 999.9000244\n",
      "29.4000004 999.9000244 999.9000244 999.9000244\n",
      "29.5000004 999.9000244 999.9000244 999.9000244\n",
      "29.6000004 999.9000244 999.9000244 999.9000244\n",
      "29.7000004 999.9000244 999.9000244 999.9000244\n",
      "29.8000004 999.9000244 999.9000244 999.9000244\n",
      "29.9000004 999.9000244 999.9000244 999.9000244, u'cosmos_wl_r': <Column name='R(Mpc)' dtype='float64' length=8>\n",
      "0.0133352\n",
      "0.0237137\n",
      "0.0421697\n",
      "0.0749894\n",
      "0.1333521\n",
      "0.2371374\n",
      "0.4216965\n",
      "0.7498942, u'cosmos_wl_ds': <Column name='SigR(Msun/pc^2)' dtype='float64' length=8>\n",
      "58.8677431\n",
      "11.8954158\n",
      " 5.6647874\n",
      " 3.2644803\n",
      " 3.9288803\n",
      " 3.5901829\n",
      " 1.4727592\n",
      " 2.5547892, u'cosmos_wl_table': <Table length=8>\n",
      "  R(Mpc)  SigR(Msun/pc^2) err(weights) ... Nsources    <R>        e2    \n",
      " float64      float64       float64    ...  int64    float64   float64  \n",
      "--------- --------------- ------------ ... -------- --------- ----------\n",
      "0.0133352      58.8677431   17.3327507 ...     2176 0.0142079 -5.3672735\n",
      "0.0237137      11.8954158    9.6261485 ...     7082 0.0250451 13.2385548\n",
      "0.0421697       5.6647874    5.4522923 ...    22133 0.0446207  3.5197639\n",
      "0.0749894       3.2644803    3.0599847 ...    70223 0.0791256  1.1381985\n",
      "0.1333521       3.9288803    1.7389203 ...   217526 0.1406552 -2.5727109\n",
      "0.2371374       3.5901829    0.9840321 ...   679967 0.2502264  1.6006856\n",
      "0.4216965       1.4727592    0.5573089 ...  2120184 0.4446665 -0.0681996\n",
      "0.7498942       2.5547892    0.3172553 ...  6543536 0.7906795 -0.2700844, u'cosmos_SMF_points_table': <Table length=15>\n",
      "  logM     Phi      Phi_err+   Phi_err- \n",
      "float64  float64    float64    float64  \n",
      "------- ---------- --------- -----------\n",
      "  8.334 -1.6260894   0.01047   0.0107287\n",
      "  8.592 -1.7085151 0.0104339   0.0106908\n",
      "  8.863 -1.7767709 0.0112801    0.011581\n",
      "  9.126 -1.8952282  0.012866   0.0132589\n",
      "  9.393 -1.9646414 0.0135998   0.0140395\n",
      "  9.668 -2.0910648 0.0156967   0.0162854\n",
      "  9.928 -2.1836141 0.0174311     0.01816\n",
      " 10.198 -2.2144673 0.0180502    0.018833\n",
      " 10.467 -2.3840312 0.0218597   0.0230185\n",
      "  10.72 -2.5224617 0.0254747   0.0270626\n",
      " 10.979 -2.7758803 0.0339489   0.0368295\n",
      " 11.251 -3.2776016 0.0585549   0.0676986\n",
      " 11.486 -3.9974896 0.1249429   0.1760996\n",
      " 11.676 -4.9394857   0.30103 999.9000244\n",
      " 12.026 -4.8689435   0.30103 999.9000244, u'cosmos_dwarf_masses': array([8.34463, 8.54234, 8.05947, ..., 8.85605, 8.72705, 8.40026],\n",
      "      dtype=float32)}, {u'particles': array([[161.877487,  10.045286, 148.90863 ],\n",
      "       [  4.460495, 214.233765, 225.989899],\n",
      "       [125.843521,  25.4226  , 217.207001],\n",
      "       ...,\n",
      "       [ 11.751339, 124.152214, 160.715714],\n",
      "       [198.68663 ,  60.131691, 162.302429],\n",
      "       [112.651039, 190.894714, 226.133438]]), u'halocat': <halotools.sim_manager.cached_halo_catalog.CachedHaloCatalog object at 0x1a22e9bf90>, u'model': <halotools.empirical_models.factories.prebuilt_model_factory.PrebuiltSubhaloModelFactory object at 0x11ec089d0>, u'downsampling_factor': 858993.4592, u'particle_masses': array([1.5e+08, 1.5e+08, 1.5e+08, ..., 1.5e+08, 1.5e+08, 1.5e+08])}]\n",
      "  kwargs: {}\n",
      "  exception:\n"
     ]
    },
    {
     "name": "stderr",
     "output_type": "stream",
     "text": [
      "Traceback (most recent call last):\n",
      "  File \"/Users/fardila/anaconda/envs/dwarf_lensing/lib/python2.7/site-packages/emcee/ensemble.py\", line 488, in __call__\n",
      "    return self.f(x, *self.args, **self.kwargs)\n",
      "  File \"functions.py\", line 445, in ln_prob_global\n",
      "    print(lp + ln_like(param_tuple, config, cosmos_data, sim_data))\n",
      "  File \"functions.py\", line 416, in ln_like\n",
      "    sim_smf_mass_bins, sim_smf_log_phi, sim_wl_r, sim_wl_ds = predict_model(parameters, config, obs_data, sim_data)\n",
      "  File \"functions.py\", line 259, in predict_model\n",
      "    for i, model_param in enumerate(config['mcmc_param_labels']):\n",
      "KeyError: u'mcmc_param_labels'\n"
     ]
    },
    {
     "ename": "KeyError",
     "evalue": "u'mcmc_param_labels'",
     "output_type": "error",
     "traceback": [
      "\u001b[0;31m---------------------------------------------------------------------------\u001b[0m",
      "\u001b[0;31mKeyError\u001b[0m                                  Traceback (most recent call last)",
      "\u001b[0;32m<ipython-input-4-b9193f03baad>\u001b[0m in \u001b[0;36m<module>\u001b[0;34m()\u001b[0m\n\u001b[1;32m      1\u001b[0m \u001b[0;32mfrom\u001b[0m \u001b[0mfunctions\u001b[0m \u001b[0;32mimport\u001b[0m \u001b[0;34m*\u001b[0m\u001b[0;34m\u001b[0m\u001b[0m\n\u001b[0;32m----> 2\u001b[0;31m \u001b[0memcee_fit\u001b[0m\u001b[0;34m(\u001b[0m\u001b[0mconfig\u001b[0m\u001b[0;34m,\u001b[0m \u001b[0mcosmos_data\u001b[0m\u001b[0;34m,\u001b[0m \u001b[0msim_data\u001b[0m\u001b[0;34m)\u001b[0m\u001b[0;34m\u001b[0m\u001b[0m\n\u001b[0m",
      "\u001b[0;32m/Users/fardila/Documents/GitHub/dwarf_lensing/MCMC/functions.py\u001b[0m in \u001b[0;36memcee_fit\u001b[0;34m(config, cosmos_data, sim_data, verbose)\u001b[0m\n\u001b[1;32m    614\u001b[0m         \u001b[0;31m# Burn-in\u001b[0m\u001b[0;34m\u001b[0m\u001b[0;34m\u001b[0m\u001b[0m\n\u001b[1;32m    615\u001b[0m         mcmc_burnin_pos, mcmc_burnin_lnp, mcmc_burnin_state = mcmc_burnin(\n\u001b[0;32m--> 616\u001b[0;31m             burnin_sampler, mcmc_ini_position, config, verbose=True)\n\u001b[0m\u001b[1;32m    617\u001b[0m \u001b[0;34m\u001b[0m\u001b[0m\n\u001b[1;32m    618\u001b[0m         \u001b[0;31m# Estimate the Kernel density distributions of final burn-in positions\u001b[0m\u001b[0;34m\u001b[0m\u001b[0;34m\u001b[0m\u001b[0m\n",
      "\u001b[0;32m/Users/fardila/Documents/GitHub/dwarf_lensing/MCMC/functions.py\u001b[0m in \u001b[0;36mmcmc_burnin\u001b[0;34m(mcmc_sampler, mcmc_position, config, verbose)\u001b[0m\n\u001b[1;32m    482\u001b[0m     mcmc_burnin_result = mcmc_sampler.run_mcmc(\n\u001b[1;32m    483\u001b[0m         \u001b[0mmcmc_position\u001b[0m\u001b[0;34m,\u001b[0m \u001b[0mconfig\u001b[0m\u001b[0;34m[\u001b[0m\u001b[0;34m'mcmc_nburnin'\u001b[0m\u001b[0;34m]\u001b[0m\u001b[0;34m,\u001b[0m\u001b[0;34m\u001b[0m\u001b[0m\n\u001b[0;32m--> 484\u001b[0;31m         progress=True)\n\u001b[0m\u001b[1;32m    485\u001b[0m \u001b[0;34m\u001b[0m\u001b[0m\n\u001b[1;32m    486\u001b[0m     mcmc_save_results(mcmc_burnin_result, mcmc_sampler,\n",
      "\u001b[0;32m/Users/fardila/anaconda/envs/dwarf_lensing/lib/python2.7/site-packages/emcee/ensemble.pyc\u001b[0m in \u001b[0;36mrun_mcmc\u001b[0;34m(self, initial_state, nsteps, **kwargs)\u001b[0m\n\u001b[1;32m    333\u001b[0m \u001b[0;34m\u001b[0m\u001b[0m\n\u001b[1;32m    334\u001b[0m         \u001b[0mresults\u001b[0m \u001b[0;34m=\u001b[0m \u001b[0mNone\u001b[0m\u001b[0;34m\u001b[0m\u001b[0m\n\u001b[0;32m--> 335\u001b[0;31m         \u001b[0;32mfor\u001b[0m \u001b[0mresults\u001b[0m \u001b[0;32min\u001b[0m \u001b[0mself\u001b[0m\u001b[0;34m.\u001b[0m\u001b[0msample\u001b[0m\u001b[0;34m(\u001b[0m\u001b[0minitial_state\u001b[0m\u001b[0;34m,\u001b[0m \u001b[0miterations\u001b[0m\u001b[0;34m=\u001b[0m\u001b[0mnsteps\u001b[0m\u001b[0;34m,\u001b[0m \u001b[0;34m**\u001b[0m\u001b[0mkwargs\u001b[0m\u001b[0;34m)\u001b[0m\u001b[0;34m:\u001b[0m\u001b[0;34m\u001b[0m\u001b[0m\n\u001b[0m\u001b[1;32m    336\u001b[0m             \u001b[0;32mpass\u001b[0m\u001b[0;34m\u001b[0m\u001b[0m\n\u001b[1;32m    337\u001b[0m \u001b[0;34m\u001b[0m\u001b[0m\n",
      "\u001b[0;32m/Users/fardila/anaconda/envs/dwarf_lensing/lib/python2.7/site-packages/emcee/ensemble.pyc\u001b[0m in \u001b[0;36msample\u001b[0;34m(self, initial_state, log_prob0, rstate0, blobs0, iterations, tune, thin_by, thin, store, progress)\u001b[0m\n\u001b[1;32m    235\u001b[0m             \u001b[0mstate\u001b[0m\u001b[0;34m.\u001b[0m\u001b[0mblobs\u001b[0m \u001b[0;34m=\u001b[0m \u001b[0mblobs0\u001b[0m\u001b[0;34m\u001b[0m\u001b[0m\n\u001b[1;32m    236\u001b[0m         \u001b[0;32mif\u001b[0m \u001b[0mstate\u001b[0m\u001b[0;34m.\u001b[0m\u001b[0mlog_prob\u001b[0m \u001b[0;32mis\u001b[0m \u001b[0mNone\u001b[0m\u001b[0;34m:\u001b[0m\u001b[0;34m\u001b[0m\u001b[0m\n\u001b[0;32m--> 237\u001b[0;31m             \u001b[0mstate\u001b[0m\u001b[0;34m.\u001b[0m\u001b[0mlog_prob\u001b[0m\u001b[0;34m,\u001b[0m \u001b[0mstate\u001b[0m\u001b[0;34m.\u001b[0m\u001b[0mblobs\u001b[0m \u001b[0;34m=\u001b[0m \u001b[0mself\u001b[0m\u001b[0;34m.\u001b[0m\u001b[0mcompute_log_prob\u001b[0m\u001b[0;34m(\u001b[0m\u001b[0mstate\u001b[0m\u001b[0;34m.\u001b[0m\u001b[0mcoords\u001b[0m\u001b[0;34m)\u001b[0m\u001b[0;34m\u001b[0m\u001b[0m\n\u001b[0m\u001b[1;32m    238\u001b[0m         \u001b[0;32mif\u001b[0m \u001b[0mnp\u001b[0m\u001b[0;34m.\u001b[0m\u001b[0mshape\u001b[0m\u001b[0;34m(\u001b[0m\u001b[0mstate\u001b[0m\u001b[0;34m.\u001b[0m\u001b[0mlog_prob\u001b[0m\u001b[0;34m)\u001b[0m \u001b[0;34m!=\u001b[0m \u001b[0;34m(\u001b[0m\u001b[0mself\u001b[0m\u001b[0;34m.\u001b[0m\u001b[0mnwalkers\u001b[0m\u001b[0;34m,\u001b[0m \u001b[0;34m)\u001b[0m\u001b[0;34m:\u001b[0m\u001b[0;34m\u001b[0m\u001b[0m\n\u001b[1;32m    239\u001b[0m             \u001b[0;32mraise\u001b[0m \u001b[0mValueError\u001b[0m\u001b[0;34m(\u001b[0m\u001b[0;34m\"incompatible input dimensions\"\u001b[0m\u001b[0;34m)\u001b[0m\u001b[0;34m\u001b[0m\u001b[0m\n",
      "\u001b[0;32m/Users/fardila/anaconda/envs/dwarf_lensing/lib/python2.7/site-packages/emcee/ensemble.pyc\u001b[0m in \u001b[0;36mcompute_log_prob\u001b[0;34m(self, coords)\u001b[0m\n\u001b[1;32m    376\u001b[0m                 \u001b[0mmap_func\u001b[0m \u001b[0;34m=\u001b[0m \u001b[0mmap\u001b[0m\u001b[0;34m\u001b[0m\u001b[0m\n\u001b[1;32m    377\u001b[0m             results = list(map_func(self.log_prob_fn,\n\u001b[0;32m--> 378\u001b[0;31m                                     (p[i] for i in range(len(p)))))\n\u001b[0m\u001b[1;32m    379\u001b[0m \u001b[0;34m\u001b[0m\u001b[0m\n\u001b[1;32m    380\u001b[0m         \u001b[0;32mtry\u001b[0m\u001b[0;34m:\u001b[0m\u001b[0;34m\u001b[0m\u001b[0m\n",
      "\u001b[0;32m/Users/fardila/anaconda/envs/dwarf_lensing/lib/python2.7/site-packages/emcee/ensemble.pyc\u001b[0m in \u001b[0;36m__call__\u001b[0;34m(self, x)\u001b[0m\n\u001b[1;32m    486\u001b[0m     \u001b[0;32mdef\u001b[0m \u001b[0m__call__\u001b[0m\u001b[0;34m(\u001b[0m\u001b[0mself\u001b[0m\u001b[0;34m,\u001b[0m \u001b[0mx\u001b[0m\u001b[0;34m)\u001b[0m\u001b[0;34m:\u001b[0m\u001b[0;34m\u001b[0m\u001b[0m\n\u001b[1;32m    487\u001b[0m         \u001b[0;32mtry\u001b[0m\u001b[0;34m:\u001b[0m\u001b[0;34m\u001b[0m\u001b[0m\n\u001b[0;32m--> 488\u001b[0;31m             \u001b[0;32mreturn\u001b[0m \u001b[0mself\u001b[0m\u001b[0;34m.\u001b[0m\u001b[0mf\u001b[0m\u001b[0;34m(\u001b[0m\u001b[0mx\u001b[0m\u001b[0;34m,\u001b[0m \u001b[0;34m*\u001b[0m\u001b[0mself\u001b[0m\u001b[0;34m.\u001b[0m\u001b[0margs\u001b[0m\u001b[0;34m,\u001b[0m \u001b[0;34m**\u001b[0m\u001b[0mself\u001b[0m\u001b[0;34m.\u001b[0m\u001b[0mkwargs\u001b[0m\u001b[0;34m)\u001b[0m\u001b[0;34m\u001b[0m\u001b[0m\n\u001b[0m\u001b[1;32m    489\u001b[0m         \u001b[0;32mexcept\u001b[0m\u001b[0;34m:\u001b[0m  \u001b[0;31m# pragma: no cover\u001b[0m\u001b[0;34m\u001b[0m\u001b[0m\n\u001b[1;32m    490\u001b[0m             \u001b[0;32mimport\u001b[0m \u001b[0mtraceback\u001b[0m\u001b[0;34m\u001b[0m\u001b[0m\n",
      "\u001b[0;32m/Users/fardila/Documents/GitHub/dwarf_lensing/MCMC/functions.py\u001b[0m in \u001b[0;36mln_prob_global\u001b[0;34m(param_tuple, config, cosmos_data, sim_data)\u001b[0m\n\u001b[1;32m    443\u001b[0m         \u001b[0;32mreturn\u001b[0m \u001b[0;34m-\u001b[0m\u001b[0mnp\u001b[0m\u001b[0;34m.\u001b[0m\u001b[0minf\u001b[0m\u001b[0;34m\u001b[0m\u001b[0m\n\u001b[1;32m    444\u001b[0m \u001b[0;34m\u001b[0m\u001b[0m\n\u001b[0;32m--> 445\u001b[0;31m     \u001b[0;32mprint\u001b[0m\u001b[0;34m(\u001b[0m\u001b[0mlp\u001b[0m \u001b[0;34m+\u001b[0m \u001b[0mln_like\u001b[0m\u001b[0;34m(\u001b[0m\u001b[0mparam_tuple\u001b[0m\u001b[0;34m,\u001b[0m \u001b[0mconfig\u001b[0m\u001b[0;34m,\u001b[0m \u001b[0mcosmos_data\u001b[0m\u001b[0;34m,\u001b[0m \u001b[0msim_data\u001b[0m\u001b[0;34m)\u001b[0m\u001b[0;34m)\u001b[0m\u001b[0;34m\u001b[0m\u001b[0m\n\u001b[0m\u001b[1;32m    446\u001b[0m     \u001b[0;32mreturn\u001b[0m \u001b[0mlp\u001b[0m \u001b[0;34m+\u001b[0m \u001b[0mln_like\u001b[0m\u001b[0;34m(\u001b[0m\u001b[0mparam_tuple\u001b[0m\u001b[0;34m,\u001b[0m \u001b[0mconfig\u001b[0m\u001b[0;34m,\u001b[0m \u001b[0mcosmos_data\u001b[0m\u001b[0;34m,\u001b[0m \u001b[0msim_data\u001b[0m\u001b[0;34m)\u001b[0m\u001b[0;34m\u001b[0m\u001b[0m\n\u001b[1;32m    447\u001b[0m \u001b[0;34m\u001b[0m\u001b[0m\n",
      "\u001b[0;32m/Users/fardila/Documents/GitHub/dwarf_lensing/MCMC/functions.py\u001b[0m in \u001b[0;36mln_like\u001b[0;34m(param_tuple, config, obs_data, sim_data, chi2, sep_return)\u001b[0m\n\u001b[1;32m    414\u001b[0m \u001b[0;34m\u001b[0m\u001b[0m\n\u001b[1;32m    415\u001b[0m     \u001b[0;31m# Generate the model predictions\u001b[0m\u001b[0;34m\u001b[0m\u001b[0;34m\u001b[0m\u001b[0m\n\u001b[0;32m--> 416\u001b[0;31m     \u001b[0msim_smf_mass_bins\u001b[0m\u001b[0;34m,\u001b[0m \u001b[0msim_smf_log_phi\u001b[0m\u001b[0;34m,\u001b[0m \u001b[0msim_wl_r\u001b[0m\u001b[0;34m,\u001b[0m \u001b[0msim_wl_ds\u001b[0m \u001b[0;34m=\u001b[0m \u001b[0mpredict_model\u001b[0m\u001b[0;34m(\u001b[0m\u001b[0mparameters\u001b[0m\u001b[0;34m,\u001b[0m \u001b[0mconfig\u001b[0m\u001b[0;34m,\u001b[0m \u001b[0mobs_data\u001b[0m\u001b[0;34m,\u001b[0m \u001b[0msim_data\u001b[0m\u001b[0;34m)\u001b[0m\u001b[0;34m\u001b[0m\u001b[0m\n\u001b[0m\u001b[1;32m    417\u001b[0m \u001b[0;34m\u001b[0m\u001b[0m\n\u001b[1;32m    418\u001b[0m     \u001b[0;31m# Likelihood for SMFs.\u001b[0m\u001b[0;34m\u001b[0m\u001b[0;34m\u001b[0m\u001b[0m\n",
      "\u001b[0;32m/Users/fardila/Documents/GitHub/dwarf_lensing/MCMC/functions.py\u001b[0m in \u001b[0;36mpredict_model\u001b[0;34m(param, config, obs_data, sim_data, constant_bin, return_all, show_smf, show_dsigma)\u001b[0m\n\u001b[1;32m    257\u001b[0m                                         scatter_ordinates=[param[0], param[1]])\n\u001b[1;32m    258\u001b[0m \u001b[0;34m\u001b[0m\u001b[0m\n\u001b[0;32m--> 259\u001b[0;31m         \u001b[0;32mfor\u001b[0m \u001b[0mi\u001b[0m\u001b[0;34m,\u001b[0m \u001b[0mmodel_param\u001b[0m \u001b[0;32min\u001b[0m \u001b[0menumerate\u001b[0m\u001b[0;34m(\u001b[0m\u001b[0mconfig\u001b[0m\u001b[0;34m[\u001b[0m\u001b[0;34m'mcmc_param_labels'\u001b[0m\u001b[0;34m]\u001b[0m\u001b[0;34m)\u001b[0m\u001b[0;34m:\u001b[0m\u001b[0;34m\u001b[0m\u001b[0m\n\u001b[0m\u001b[1;32m    260\u001b[0m             \u001b[0msim_data\u001b[0m\u001b[0;34m[\u001b[0m\u001b[0;34m'model'\u001b[0m\u001b[0;34m]\u001b[0m\u001b[0;34m.\u001b[0m\u001b[0mparam_dict\u001b[0m\u001b[0;34m[\u001b[0m\u001b[0mmodel_param\u001b[0m\u001b[0;34m]\u001b[0m \u001b[0;34m=\u001b[0m \u001b[0mparam\u001b[0m\u001b[0;34m[\u001b[0m\u001b[0mi\u001b[0m\u001b[0;34m]\u001b[0m\u001b[0;34m\u001b[0m\u001b[0m\n\u001b[1;32m    261\u001b[0m \u001b[0;34m\u001b[0m\u001b[0m\n",
      "\u001b[0;31mKeyError\u001b[0m: u'mcmc_param_labels'"
     ]
    }
   ],
   "source": [
    "from functions import *\n",
    "emcee_fit(config, cosmos_data, sim_data)"
   ]
  },
  {
   "cell_type": "code",
   "execution_count": 4,
   "metadata": {},
   "outputs": [
    {
     "data": {
      "text/plain": [
       "{u'downsampling_factor': 858993.4592,\n",
       " u'halocat': <halotools.sim_manager.cached_halo_catalog.CachedHaloCatalog at 0x1a1d47cf10>,\n",
       " u'model': <halotools.empirical_models.factories.prebuilt_model_factory.PrebuiltSubhaloModelFactory at 0x1a1d4add50>,\n",
       " u'particle_masses': array([1.5e+08, 1.5e+08, 1.5e+08, ..., 1.5e+08, 1.5e+08, 1.5e+08]),\n",
       " u'particles': array([[212.273712,  70.137283,   3.241931],\n",
       "        [ 22.451422,  22.550858,  89.338615],\n",
       "        [ 71.713318,   6.107939,  12.4443  ],\n",
       "        ...,\n",
       "        [236.645508, 231.471512, 122.201599],\n",
       "        [  0.294188, 137.733963,  19.76507 ],\n",
       "        [180.497055,  17.276197, 126.099632]])}"
      ]
     },
     "execution_count": 4,
     "metadata": {},
     "output_type": "execute_result"
    }
   ],
   "source": [
    "sim_data"
   ]
  },
  {
   "cell_type": "code",
   "execution_count": 6,
   "metadata": {},
   "outputs": [],
   "source": [
    "mock_galaxies = sim_data['model'].mock.galaxy_table\n",
    "mock_galaxies = mock_galaxies['x', 'y', 'z', 'stellar_mass']\n",
    "mock_galaxies = np.array(mock_galaxies[(np.log10(mock_galaxies['stellar_mass'])>=min(cosmos_data['cosmos_dwarf_masses'])) & \\\n",
    "                              (np.log10(mock_galaxies['stellar_mass'])<9.0)])\n",
    "# half_mock_galaxies = np.random.choice(mock_galaxies,500000)"
   ]
  },
  {
   "cell_type": "code",
   "execution_count": 12,
   "metadata": {},
   "outputs": [
    {
     "ename": "KeyboardInterrupt",
     "evalue": "",
     "output_type": "error",
     "traceback": [
      "\u001b[0;31m---------------------------------------------------------------------------\u001b[0m",
      "\u001b[0;31mKeyboardInterrupt\u001b[0m                         Traceback (most recent call last)",
      "\u001b[0;32m<ipython-input-12-b20875096b38>\u001b[0m in \u001b[0;36m<module>\u001b[0;34m()\u001b[0m\n\u001b[1;32m      1\u001b[0m galaxies_table= create_dwarf_catalog_with_matched_mass_distribution(cosmos_data['cosmos_dwarf_masses'],\n\u001b[1;32m      2\u001b[0m                                                                 \u001b[0mmock_galaxies\u001b[0m\u001b[0;34m,\u001b[0m\u001b[0;34m\u001b[0m\u001b[0m\n\u001b[0;32m----> 3\u001b[0;31m                                                                 n_nearest = 50)\n\u001b[0m",
      "\u001b[0;32m/Users/fardila/Documents/GitHub/dwarf_lensing/MCMC/functions.py\u001b[0m in \u001b[0;36mcreate_dwarf_catalog_with_matched_mass_distribution\u001b[0;34m(dwarf_masses, mock_galaxies, n_nearest)\u001b[0m\n\u001b[1;32m    695\u001b[0m     \u001b[0;31m# indices of nearest mock mass for each dwarf mass\u001b[0m\u001b[0;34m\u001b[0m\u001b[0;34m\u001b[0m\u001b[0m\n\u001b[1;32m    696\u001b[0m     \u001b[0mindices\u001b[0m \u001b[0;34m=\u001b[0m \u001b[0mnp\u001b[0m\u001b[0;34m.\u001b[0m\u001b[0msearchsorted\u001b[0m\u001b[0;34m(\u001b[0m\u001b[0mmock_galaxies\u001b[0m\u001b[0;34m[\u001b[0m\u001b[0;34m'stellar_mass'\u001b[0m\u001b[0;34m]\u001b[0m\u001b[0;34m,\u001b[0m \u001b[0;36m10\u001b[0m\u001b[0;34m**\u001b[0m\u001b[0mdwarf_masses\u001b[0m\u001b[0;34m)\u001b[0m\u001b[0;34m\u001b[0m\u001b[0m\n\u001b[0;32m--> 697\u001b[0;31m \u001b[0;34m\u001b[0m\u001b[0m\n\u001b[0m\u001b[1;32m    698\u001b[0m     \u001b[0;31m#add additional nearest\u001b[0m\u001b[0;34m\u001b[0m\u001b[0;34m\u001b[0m\u001b[0m\n\u001b[1;32m    699\u001b[0m     \u001b[0;32mfor\u001b[0m \u001b[0mindex\u001b[0m \u001b[0;32min\u001b[0m \u001b[0mindices\u001b[0m\u001b[0;34m:\u001b[0m\u001b[0;34m\u001b[0m\u001b[0m\n",
      "\u001b[0;32m/Users/fardila/Documents/GitHub/dwarf_lensing/MCMC/functions.py\u001b[0m in \u001b[0;36mfind_nearest_new_indices_sorted\u001b[0;34m(index, n, existing_indices, length)\u001b[0m\n\u001b[1;32m    661\u001b[0m     \u001b[0;31m#append next nearest indices\u001b[0m\u001b[0;34m\u001b[0m\u001b[0;34m\u001b[0m\u001b[0m\n\u001b[1;32m    662\u001b[0m     \u001b[0;32mwhile\u001b[0m \u001b[0mlen\u001b[0m\u001b[0;34m(\u001b[0m\u001b[0mnearest_rows\u001b[0m\u001b[0;34m)\u001b[0m \u001b[0;34m<\u001b[0m \u001b[0mn\u001b[0m\u001b[0;34m:\u001b[0m\u001b[0;34m\u001b[0m\u001b[0m\n\u001b[0;32m--> 663\u001b[0;31m \u001b[0;34m\u001b[0m\u001b[0m\n\u001b[0m\u001b[1;32m    664\u001b[0m         \u001b[0;32mif\u001b[0m \u001b[0mindex\u001b[0m \u001b[0;34m+\u001b[0m \u001b[0mi\u001b[0m \u001b[0;32mnot\u001b[0m \u001b[0;32min\u001b[0m \u001b[0mexisting_indices\u001b[0m \u001b[0;32mand\u001b[0m \u001b[0mindex\u001b[0m \u001b[0;34m+\u001b[0m \u001b[0mi\u001b[0m \u001b[0;32mnot\u001b[0m \u001b[0;32min\u001b[0m \u001b[0mnearest_rows\u001b[0m \u001b[0;32mand\u001b[0m \u001b[0mindex\u001b[0m \u001b[0;34m+\u001b[0m \u001b[0mi\u001b[0m\u001b[0;34m<\u001b[0m\u001b[0mlength\u001b[0m\u001b[0;34m:\u001b[0m\u001b[0;34m\u001b[0m\u001b[0m\n\u001b[1;32m    665\u001b[0m             \u001b[0mnearest_rows\u001b[0m\u001b[0;34m.\u001b[0m\u001b[0mappend\u001b[0m\u001b[0;34m(\u001b[0m\u001b[0mindex\u001b[0m \u001b[0;34m+\u001b[0m \u001b[0mi\u001b[0m\u001b[0;34m)\u001b[0m\u001b[0;34m\u001b[0m\u001b[0m\n",
      "\u001b[0;31mKeyboardInterrupt\u001b[0m: "
     ]
    }
   ],
   "source": [
    "galaxies_table= create_dwarf_catalog_with_matched_mass_distribution(cosmos_data['cosmos_dwarf_masses'],\n",
    "                                                                mock_galaxies,\n",
    "                                                                n_nearest = 50)"
   ]
  },
  {
   "cell_type": "code",
   "execution_count": null,
   "metadata": {},
   "outputs": [],
   "source": []
  },
  {
   "cell_type": "code",
   "execution_count": null,
   "metadata": {},
   "outputs": [],
   "source": []
  },
  {
   "cell_type": "code",
   "execution_count": null,
   "metadata": {},
   "outputs": [],
   "source": [
    "import time\n",
    "\n",
    "time1 = time.time()\n",
    "\n",
    "run_time = time.time() - time1\n",
    "print('Total time: {0} seconds; {1} minutes; {2} hours'.format(run_time, run_time/60., run_time/3600. ))\n"
   ]
  }
 ],
 "metadata": {
  "kernelspec": {
   "display_name": "Python [conda env:dwarf_lensing]",
   "language": "python",
   "name": "conda-env-dwarf_lensing-py"
  },
  "language_info": {
   "codemirror_mode": {
    "name": "ipython",
    "version": 2
   },
   "file_extension": ".py",
   "mimetype": "text/x-python",
   "name": "python",
   "nbconvert_exporter": "python",
   "pygments_lexer": "ipython2",
   "version": "2.7.15"
  }
 },
 "nbformat": 4,
 "nbformat_minor": 2
}
