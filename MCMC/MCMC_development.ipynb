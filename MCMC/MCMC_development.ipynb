{
 "cells": [
  {
   "cell_type": "markdown",
   "metadata": {},
   "source": [
    "modified from Song's `hsc_um2` repo"
   ]
  },
  {
   "cell_type": "code",
   "execution_count": 1,
   "metadata": {},
   "outputs": [
    {
     "name": "stdout",
     "output_type": "stream",
     "text": [
      "3.0rc1\n"
     ]
    }
   ],
   "source": [
    "%load_ext line_profiler\n",
    "from __future__ import division, print_function, unicode_literals\n",
    "\n",
    "import time\n",
    "import argparse\n",
    "import os\n",
    "import numpy as np\n",
    "import matplotlib.pyplot as plt\n",
    "from copy import deepcopy\n",
    "\n",
    "import emcee\n",
    "print(emcee.__version__) #need version 3 (pip install emcee==3.0rc1)\n",
    "import yaml\n",
    "\n",
    "from scipy.stats import gaussian_kde\n",
    "\n",
    "from astropy.table import Table, Column\n",
    "from astropy.io import ascii, fits\n",
    "from astropy.cosmology import FlatLambdaCDM\n",
    "\n",
    "from halotools.sim_manager import TabularAsciiReader, HaloTableCache, CachedHaloCatalog\n",
    "from halotools.sim_manager.rockstar_hlist_reader import RockstarHlistReader\n",
    "from halotools.empirical_models import PrebuiltSubhaloModelFactory\n",
    "from halotools.mock_observables import delta_sigma_from_precomputed_pairs, total_mass_enclosed_per_cylinder\n",
    "from halotools.utils import randomly_downsample_data"
   ]
  },
  {
   "cell_type": "markdown",
   "metadata": {},
   "source": [
    "## parse config file "
   ]
  },
  {
   "cell_type": "code",
   "execution_count": 21,
   "metadata": {},
   "outputs": [
    {
     "name": "stdout",
     "output_type": "stream",
     "text": [
      "{'sim_halo_cat_file': 'hlist_0.78209.list', 'cosmos_h0': 0.7, 'sim_lbox': 250.0, 'param_ini': [0.4, 0.2], 'sim_h0': 0.678, 'frac_objects_with_specz': 0.167685, 'mcmc_out_dir': '/Users/fardila/Documents/GitHub/dwarf_lensing/MCMC/outfiles/', 'mcmc_moves_burnin': 'walk', 'param_upp': [1.0, 1.0], 'mcmc_nwalkers_burnin': 4, 'mean_mass': 8.52695, 'sim_particle_mass': '1.5e8', 'cosmos_SMF_points_file': 'cosmos2015_dic2017_smf_z01-04_Vmax0_with_header.dat', 'mcmc_wl_only': False, 'cosmos_catalog_reference': 'Laigle+2016', 'sim_name': 'bolshoi-planck', 'cosmos_SMF_fit_file': 'cosmos2015_dic2017_smf_z01-04_STY0.dat', 'cosmos_dir': '/Users/fardila/Documents/GitHub/dwarf_lensing/Data/cosmos/', 'sim_z': 0.278625, 'sim_columns_to_keep_dict': \"{'halo_id': (1, 'i8'), 'halo_upid': (6, 'i8'), 'halo_mvir': (10, 'f4'), 'halo_x': (17, 'f4'), 'halo_y': (18, 'f4'), 'halo_z': (19, 'f4'), 'halo_vx': (20, 'f4'), 'halo_vy': (21, 'f4'), 'halo_vz': (22, 'f4'), 'halo_rvir': (11, 'f4'), 'halo_mpeak': (60, 'f4')}\\n\", 'n_objects_with_specz': 1153, 'mcmc_nsamples': 5, 'mcmc_wl_weight': 1.0, 'param_sig': [0.1, 0.1], 'mean_z': 0.301442, 'sim_output_fname': 'hlist_0.78209.hdf5', 'cosmos_omega_m': 0.3, 'mcmc_ndims': 2, 'mcmc_prefix': 'cosmos_bplanck', 'mcmc_smf_only': False, 'mcmc_nthreads': 1, 'sim_particle_file': 'bplanck_particles_100m_a0.78209.hdf5', 'sim_version_name': 'bplanck_dwarfs', 'sim_dir': '/Users/fardila/Documents/GitHub/dwarf_lensing/Data/bplanck/', 'cosmos_wl_file': 'dwarf_all_lens_laigle2015_nozp2.out', 'param_low': [0.0, 0.0], 'sim_halo_finder': 'rockstar', 'sim_particles_per_dimension': 2048, 'sim_omega_m': 0.307, 'mcmc_nwalkers': 4, 'n_dwarfs': 6876, 'mcmc_moves': 'walk', 'model_type': 'scatter_only', 'sim_ptcl_version_name': 'bplanck_dwarfs', 'mcmc_nburnin': 5, 'sim_wl_bins': '0.01 0.01598922 0.02947921 0.05184152 0.09251636 0.1643359 0.29233885 0.51980176 0.92438561\\n'}\n"
     ]
    }
   ],
   "source": [
    "def parse_config(config_file):\n",
    "    \"\"\"Prepare configurations.\n",
    "    Read configuration parameters from an input .yaml file.\n",
    "    \"\"\"\n",
    "    cfg = yaml.load(open(config_file))\n",
    "\n",
    "    return cfg\n",
    "config_initial = parse_config('/Users/fardila/Documents/GitHub/dwarf_lensing/MCMC/mcmc_default_config.yaml')\n",
    "print(config_initial)"
   ]
  },
  {
   "cell_type": "markdown",
   "metadata": {},
   "source": [
    "## define global variables for config and data files"
   ]
  },
  {
   "cell_type": "code",
   "execution_count": 3,
   "metadata": {},
   "outputs": [],
   "source": [
    "def load_observed_data(cfg, verbose=True):\n",
    "    \"\"\"Load the observed data.\"\"\"\n",
    "\n",
    "    #SMF\n",
    "    cosmos_SMF_fit_table = ascii.read(os.path.join(cfg['cosmos_dir'],\n",
    "                                       cfg['cosmos_SMF_fit_file']))\n",
    "    cosmos_SMF_points_table = ascii.read(os.path.join(cfg['cosmos_dir'],\n",
    "                                       cfg['cosmos_SMF_points_file']))     \n",
    "\n",
    "    #weak lensing\n",
    "    cosmos_lensing_table = ascii.read(os.path.join(cfg['cosmos_dir'], cfg['cosmos_wl_file']))\n",
    "    \n",
    "    cosmos_wl_r = cosmos_lensing_table['R(Mpc)']\n",
    "    cosmos_wl_ds = cosmos_lensing_table['SigR(Msun/pc^2)']\n",
    "    \n",
    "    #cosmology\n",
    "    cfg['cosmos_cosmo'] = FlatLambdaCDM(H0=cfg['cosmos_h0'] * 100,\n",
    "                                     Om0=cfg['cosmos_omega_m'])\n",
    "    \n",
    "#     obs_volume = ((cfg['obs_cosmo'].comoving_volume(obs_zmax) -\n",
    "#                    cfg['obs_cosmo'].comoving_volume(obs_zmin)) *\n",
    "#                   (cfg['obs_area'] / 41254.0)).value\n",
    "#     cfg['obs_volume'] = obs_volume\n",
    "\n",
    "    return {'cosmos_wl_r': cosmos_wl_r, 'cosmos_wl_ds': cosmos_wl_ds, 'cosmos_wl_table': cosmos_lensing_table,\n",
    "            'cosmos_SMF_fit_table': cosmos_SMF_fit_table, 'cosmos_SMF_points_table': cosmos_SMF_points_table}, cfg\n",
    "\n",
    "def load_sim_data(cfg):\n",
    "    \"\"\"Load the UniverseMachine data.\"\"\"\n",
    "    \n",
    "    \n",
    "    #read in halocat    \n",
    "    halocat = CachedHaloCatalog(simname = cfg['sim_name'], halo_finder = cfg['sim_halo_finder'], \n",
    "                            version_name = cfg['sim_version_name'], redshift = cfg['sim_z'],\n",
    "                                ptcl_version_name=cfg['sim_ptcl_version_name']) # doctest: +SKIP\n",
    "\n",
    "    #read in particle table\n",
    "    ptcl_table = Table.read(os.path.join(cfg['sim_dir'], cfg['sim_particle_file']), path='data')\n",
    "    px = ptcl_table['x']\n",
    "    py = ptcl_table['y']\n",
    "    pz = ptcl_table['z']\n",
    "    particles = np.vstack((px, py, pz)).T\n",
    "    ptcl_table = 0\n",
    "    \n",
    "    #downsample \n",
    "    num_ptcls_to_use = int(1e4)\n",
    "    particles = randomly_downsample_data(particles, num_ptcls_to_use)\n",
    "    particle_masses = np.zeros(num_ptcls_to_use) + halocat.particle_mass\n",
    "    downsampling_factor = (cfg['sim_particles_per_dimension']**3)/float(len(particles))\n",
    "    \n",
    "    #other parameters\n",
    "    cfg['sim_cosmo'] = FlatLambdaCDM(H0=cfg['sim_h0'] * 100.0,\n",
    "                                    Om0=cfg['sim_omega_m'])\n",
    "\n",
    "    cfg['sim_volume'] = np.power(cfg['sim_lbox'] / cfg['sim_h0'], 3)\n",
    "#     if verbose:\n",
    "#         print(\"# The volume of the UniverseMachine mock is %15.2f Mpc^3\" %\n",
    "#               cfg['um_volume'])\n",
    "        \n",
    "#     return {'um_mock': um_mock_use[mask_mass],\n",
    "#             'um_mass_encl': um_mass_encl[mask_mass, :],\n",
    "#             'mask_central': mask_central[mask_mass]}\n",
    "\n",
    "    return {'halocat' : halocat, 'particles' : particles,\n",
    "            'particle_masses' : particle_masses, 'downsampling_factor' : downsampling_factor}, cfg"
   ]
  },
  {
   "cell_type": "code",
   "execution_count": 4,
   "metadata": {},
   "outputs": [],
   "source": [
    "def setup_model(cfg, verbose=True):\n",
    "    \"\"\"Configure MCMC run and plots.\"\"\"\n",
    "    \n",
    "    if cfg['model_type'] == 'scatter_only':\n",
    "        # Number of parameters\n",
    "        cfg['mcmc_ndims'] = 2\n",
    "        cfg['mcmc_labels'] = [r'$a$',\n",
    "                              r'$b$']\n",
    "\n",
    "    cfg['mcmc_burnin_file'] = os.path.join(\n",
    "        cfg['mcmc_out_dir'], cfg['mcmc_prefix'] + '_burnin.npz')\n",
    "    cfg['mcmc_run_file'] = os.path.join(\n",
    "        cfg['mcmc_out_dir'], cfg['mcmc_prefix'] + '_run.npz')\n",
    "\n",
    "\n",
    "    return cfg\n"
   ]
  },
  {
   "cell_type": "code",
   "execution_count": 23,
   "metadata": {},
   "outputs": [],
   "source": [
    "def initial_model(config, verbose=True):\n",
    "    \"\"\"Initialize the A.S.A.P model.\"\"\"\n",
    "    # Configuration for COSMOS data\n",
    "    data_obs, config_obs = load_observed_data(config, verbose=verbose)\n",
    "\n",
    "    # Configuration for simulation data.\n",
    "    data_sim, config_obs_sim = load_sim_data(config_obs)\n",
    "\n",
    "    #setup model\n",
    "    config_all = setup_model(config_obs_sim, verbose=verbose)\n",
    "\n",
    "    return config_all, data_obs, data_sim\n",
    "\n",
    "global config, cosmos_data, sim_data\n",
    "\n",
    "# Load the data\n",
    "config, cosmos_data, sim_data = initial_model(config_initial)"
   ]
  },
  {
   "cell_type": "markdown",
   "metadata": {},
   "source": [
    "## setup model"
   ]
  },
  {
   "cell_type": "code",
   "execution_count": 6,
   "metadata": {},
   "outputs": [],
   "source": [
    "def compute_SMF(model, config, nbins=100):\n",
    "    \n",
    "    #Read stellar masses\n",
    "    M = model.mock.galaxy_table['stellar_mass'] \n",
    "    \n",
    "    #Take logarithm\n",
    "    logM = np.log10(M)                     \n",
    "\n",
    "    #Survey volume in Mpc3\n",
    "    L=config['sim_lbox']\n",
    "    h0=config['sim_h0']\n",
    "    V = (L/h0)**3                    \n",
    "    \n",
    "    #Unnormalized histogram and bin edges\n",
    "    Phi,edg = np.histogram(logM,bins=nbins) \n",
    "    \n",
    "    #Bin size\n",
    "    dM    = edg[1] - edg[0]                 \n",
    "    bin_centers   = edg[0:-1] + dM/2.\n",
    "    \n",
    "    #Normalize to volume and bin size\n",
    "    Phi   = Phi / float(V) / dM             \n",
    "    logPhi= np.log10(Phi)\n",
    "    \n",
    "    return bin_centers, logPhi\n",
    "\n",
    "def compute_deltaSigma(model, config):\n",
    "    \n",
    "    #select subsample of dwarfs from galaxy catalog\n",
    "    galaxies_table=model.mock.galaxy_table[np.log10(model.mock.galaxy_table['stellar_mass'])>11]\n",
    "    \n",
    "    #read in galaxy positions\n",
    "    x = galaxies_table['x']\n",
    "    y = galaxies_table['y']\n",
    "    z = galaxies_table['z']\n",
    "    galaxies = np.vstack((x, y, z)).T\n",
    "    \n",
    "    #mass enclosed by cylinders around each galaxy\n",
    "    period=model.mock.Lbox\n",
    "    r_bins=[float(r) for r in config['sim_wl_bins'].split()]\n",
    "    \n",
    "    mass_encl = total_mass_enclosed_per_cylinder(galaxies, sim_data['particles'], sim_data['particle_masses'], \n",
    "                                                 sim_data['downsampling_factor'], r_bins, period)\n",
    "\n",
    "    # delta Sigma\n",
    "    rp, ds = delta_sigma_from_precomputed_pairs(galaxies, mass_encl, r_bins, period, cosmology=config['sim_cosmo'])\n",
    "    ds = ds/1e12 #there seems to be a discrepancy in units pc^2 --> Mpc^2\n",
    "    \n",
    "    return rp, ds\n",
    "\n",
    "\n",
    "def predict_model(param, config, obs_data, sim_data,\n",
    "                       constant_bin=False, return_all=False,\n",
    "                       show_smf=False, show_dsigma=False):\n",
    "    \"\"\"Return all model predictions.\n",
    "    Parameters\n",
    "    ----------\n",
    "    param: list, array, or tuple.\n",
    "        Input model parameters.\n",
    "    config : dict\n",
    "        Configurations of the data and model.\n",
    "    obs_data: dict\n",
    "        Dictionary for observed data.\n",
    "    sim_data: dict\n",
    "        Dictionary for UniverseMachine data.\n",
    "    constant_bin : boolen\n",
    "        Whether to use constant bin size for logMs_tot or not.\n",
    "    return_all : bool, optional\n",
    "        Return all model information.\n",
    "    show_smf : bool, optional\n",
    "        Show the comparison of SMF.\n",
    "    show_dsigma : bool, optional\n",
    "        Show the comparisons of WL.\n",
    "    \"\"\"\n",
    "    \n",
    "    #build_model and populate mock\n",
    "    try: #save memory if model already exists\n",
    "        sim_data['model'].param_dict['scatter_model_param1'] = param[0]\n",
    "        sim_data['model'].param_dict['scatter_model_param2'] = param[1]\n",
    "        sim_data['model'].mock.populate()\n",
    "        print('mock.populate')\n",
    "        \n",
    "    except KeyError:\n",
    "        sim_data['model'] = PrebuiltSubhaloModelFactory('behroozi10', redshift=config['sim_z'],\n",
    "                                        scatter_abscissa=[12, 15], scatter_ordinates=[param[0], param[1]])\n",
    "        sim_data['model'].populate_mock(deepcopy(sim_data['halocat']))\n",
    "        print('populate_mock')\n",
    "    \n",
    "\n",
    "\n",
    "    # Predict SMFs\n",
    "    smf_mass_bins, smf_log_phi = compute_SMF(sim_data['model'],config, nbins=100)\n",
    "\n",
    "    # Predict DeltaSigma profiles\n",
    "    wl_r, wl_ds = compute_deltaSigma(sim_data['model'], config)\n",
    "    \n",
    "\n",
    "#     if show_smf:\n",
    "#         um_smf_tot_all = get_smf_bootstrap(logms_mod_tot_all,\n",
    "#                                            cfg['um_volume'],\n",
    "#                                            20, cfg['obs_min_mtot'], 12.5,\n",
    "#                                            n_boots=1)\n",
    "#         _ = plot_mtot_minn_smf(\n",
    "#             obs_data['obs_smf_tot'], obs_data['obs_smf_inn'],\n",
    "#             obs_data['obs_mtot'], obs_data['obs_minn'],\n",
    "#             um_smf_tot, um_smf_inn,\n",
    "#             logms_mod_tot, logms_mod_inn,\n",
    "#             obs_smf_full=obs_data['obs_smf_full'],\n",
    "#             um_smf_tot_all=um_smf_tot_all,\n",
    "#             not_table=True)\n",
    "\n",
    "#     if show_dsigma:\n",
    "#         um_mhalo_tuple = asap_predict_mhalo(\n",
    "#             obs_data['obs_wl_dsigma'], um_data['um_mock'][mask_mtot],\n",
    "#             logms_mod_tot, logms_mod_inn)\n",
    "#         _ = plot_dsigma_profiles(obs_data['obs_wl_dsigma'],\n",
    "#                                  um_dsigma_profs, obs_mhalo=None,\n",
    "#                                  um_mhalo=um_mhalo_tuple)\n",
    "\n",
    "\n",
    "\n",
    "    return smf_mass_bins, smf_log_phi, wl_r, wl_ds"
   ]
  },
  {
   "cell_type": "code",
   "execution_count": 19,
   "metadata": {},
   "outputs": [
    {
     "name": "stdout",
     "output_type": "stream",
     "text": [
      "[0.4, 0.2]\n",
      "populate_mock\n"
     ]
    }
   ],
   "source": [
    "parameters = list(config['param_ini'])\n",
    "print(parameters)\n",
    "# Generate the model predictions\n",
    "sim_smf_mass_bins, sim_smf_log_phi, sim_wl_r, sim_wl_ds = predict_model(parameters, config, cosmos_data, sim_data)       "
   ]
  },
  {
   "cell_type": "markdown",
   "metadata": {},
   "source": [
    "## plotting functions"
   ]
  },
  {
   "cell_type": "code",
   "execution_count": 7,
   "metadata": {},
   "outputs": [],
   "source": [
    "def plot_SMF(sim_mass_centers, sim_logPhi, cosmos_SMF_points_table, cosmos_SMF_fit_table):\n",
    "    \n",
    "    #plot sim\n",
    "    plt.plot(sim_mass_centers, sim_logPhi, c='r', label='Bolshoi-Planck halos')\n",
    "    \n",
    "    #plot COSMOS\n",
    "    plt.plot(cosmos_SMF_fit_table['log_m'], cosmos_SMF_fit_table['log_phi'], label='COSMOS z~0.2 fit')\n",
    "    plt.fill_between(cosmos_SMF_fit_table['log_m'], cosmos_SMF_fit_table['log_phi_inf'], \n",
    "                     cosmos_SMF_fit_table['log_phi_sup'], alpha=0.5)\n",
    "    plt.errorbar(cosmos_SMF_points_table['logM'], cosmos_SMF_points_table['Phi'], \n",
    "                 yerr=[cosmos_SMF_points_table['Phi_err+'],cosmos_SMF_points_table['Phi_err-']], fmt='o', elinewidth=3,\n",
    "                markersize=5, c='#1f77b4', label='COSMOS z~0.2 points')\n",
    "\n",
    "    #plot details\n",
    "    plt.xlabel('log(M)')\n",
    "    plt.ylabel('log(Phi)')\n",
    "    plt.xlim([8,12.5])\n",
    "    plt.ylim([-10,0])\n",
    "    plt.legend(loc='lower left')\n",
    "    \n",
    "    plt.show()\n",
    "    \n",
    "def plot_deltaSigma(observed_signal_table, sim_r, sim_ds):\n",
    "\n",
    "    fig, ax = plt.subplots(1, 1, figsize=(8, 6))\n",
    "\n",
    "    plt.loglog()\n",
    "\n",
    "    #plot sim\n",
    "    ax.plot(sim_r, sim_ds, label=r'Bol-Planck: ', linestyle='--', zorder=3, marker='o')\n",
    "    ax.fill_between(sim_r, sim_ds,sim_ds, alpha=0.5)\n",
    "\n",
    "    #plot observations\n",
    "    ax.errorbar(observed_signal_table['R(Mpc)'], observed_signal_table['SigR(Msun/pc^2)'],\n",
    "                yerr=observed_signal_table['err(weights)'], marker='o', label=r'Laigle+2016: ', linewidth=3, zorder=1)\n",
    "    # ax.fill_between(cosmos_lensing_signal['R(Mpc)'], cosmos_lensing_signal['SigR(Msun/pc^2)']+cosmos_lensing_signal['err(weights)'],\n",
    "    #                 cosmos_lensing_signal['SigR(Msun/pc^2)']-cosmos_lensing_signal['err(weights)'], alpha=0.5)\n",
    "\n",
    "    __=ax.set_xlim(xmin = 0.01, xmax = 1)\n",
    "    # __=ax.set_ylim(ymin = 0.5, ymax = 200)\n",
    "\n",
    "    __=ax.set_xlabel(r'$R_{\\rm p} $  $\\rm{[Mpc / h]}$', fontsize=16)\n",
    "    __=ax.set_ylabel(r'$\\Delta\\Sigma(R_{\\rm p})$  $[h M_{\\odot} / {\\rm pc}^2]$', fontsize=16)\n",
    "    __=ax.legend(loc='best', fontsize=13)\n",
    "    __=plt.xticks(fontsize=15); plt.yticks(fontsize=15)\n",
    "\n",
    "    #plt.title('Matched Mass distribution')\n",
    "    plt.show()"
   ]
  },
  {
   "cell_type": "code",
   "execution_count": 11,
   "metadata": {},
   "outputs": [
    {
     "data": {
      "image/png": "[encoded data removed]",
      "text/plain": [
       "<Figure size 432x288 with 1 Axes>"
      ]
     },
     "metadata": {
      "needs_background": "light"
     },
     "output_type": "display_data"
    }
   ],
   "source": [
    "plot_SMF(sim_smf_mass_bins, sim_smf_log_phi, cosmos_data['cosmos_SMF_points_table'],\n",
    "         cosmos_data['cosmos_SMF_fit_table'])"
   ]
  },
  {
   "cell_type": "code",
   "execution_count": 12,
   "metadata": {},
   "outputs": [
    {
     "data": {
      "text/plain": [
       "array([112.11130602,  48.96603309,  93.34299271,  60.80819339,\n",
       "        37.56459017,  22.40011544,  15.0303015 ,   8.89846034])"
      ]
     },
     "execution_count": 12,
     "metadata": {},
     "output_type": "execute_result"
    }
   ],
   "source": [
    "sim_wl_ds"
   ]
  },
  {
   "cell_type": "code",
   "execution_count": 13,
   "metadata": {
    "scrolled": true
   },
   "outputs": [
    {
     "data": {
      "image/png": "[encoded data removed]",
      "text/plain": [
       "<Figure size 576x432 with 1 Axes>"
      ]
     },
     "metadata": {
      "needs_background": "light"
     },
     "output_type": "display_data"
    }
   ],
   "source": [
    "plot_deltaSigma(cosmos_data['cosmos_wl_table'], sim_wl_r, sim_wl_ds)"
   ]
  },
  {
   "cell_type": "markdown",
   "metadata": {},
   "source": [
    "## probability functions"
   ]
  },
  {
   "cell_type": "code",
   "execution_count": 16,
   "metadata": {},
   "outputs": [],
   "source": [
    "def flat_prior(param_tuple, param_low, param_upp):\n",
    "    \"\"\"Priors of parameters. Return -inf if all parameters are not within bounds.\"\"\"\n",
    "    if not np.all([low <= param <= upp for param, low, upp in\n",
    "                   zip(list(param_tuple), param_low, param_upp)]):\n",
    "        return -np.inf\n",
    "\n",
    "    return 0.0\n",
    "\n",
    "def smf_lnlike(obs_smf_fit_table, obs_smf_points_table, sim_smf_mass_bins, sim_smf_log_phi):\n",
    "    \"\"\"Calculate the likelihood for SMF.\"\"\"\n",
    "    \n",
    "    #get same bins in simulations as in observations \n",
    "    sim_smf_log_phi_interpolated = np.interp(obs_smf_points_table['logM'], sim_smf_mass_bins, sim_smf_log_phi)\n",
    "    \n",
    "    #difference\n",
    "    smf_diff = (np.array(sim_smf_log_phi_interpolated) - np.array(obs_smf_points_table['Phi']))\n",
    "    \n",
    "    #variance\n",
    "    obs_mean_smf_error = np.mean([obs_smf_points_table['Phi_err+'] , obs_smf_points_table['Phi_err-'] ])\n",
    "    smf_var = np.array(obs_mean_smf_error ** 2)\n",
    "\n",
    "    #chi2\n",
    "    smf_chi2 = (smf_diff ** 2 / smf_var).sum()\n",
    "\n",
    "    #likelihood\n",
    "    smf_lnlike = -0.5 * (smf_chi2 + np.log(2 * np.pi * smf_var).sum())\n",
    "\n",
    "\n",
    "    # print(\"SMF Tot lnlike/chi2: %f,%f\" % (smf_mtot_lnlike,\n",
    "    #                                       smf_mtot_chi2))\n",
    "\n",
    "\n",
    "    return smf_lnlike\n",
    "\n",
    "def dsigma_lnlike(obs_wl_table, sim_wl_r, sim_wl_ds):\n",
    "    \"\"\"Calculate the likelihood for WL profile.\"\"\"\n",
    "    \n",
    "    #make sure same bins\n",
    "    decimal_places_to_round_bins = 5\n",
    "    assert np.all(sim_wl_r.round(decimal_places_to_round_bins) == \\\n",
    "                  np.array(cosmos_data['cosmos_wl_table']['R(Mpc)']).round(decimal_places_to_round_bins))\n",
    "    \n",
    "    dsigma_obs = obs_wl_table['SigR(Msun/pc^2)']  \n",
    "    dsigma_obs_err = obs_wl_table['err(weights)']\n",
    "\n",
    "    dsigma_var = (dsigma_obs_err ** 2)\n",
    "    dsigma_diff = (dsigma_obs - sim_wl_ds) ** 2\n",
    "\n",
    "    dsigma_chi2 = (dsigma_diff / dsigma_var).sum()\n",
    "    dsigma_lnlike = -0.5 * (dsigma_chi2 + np.log(2 * np.pi * dsigma_var).sum())\n",
    "    # print(\"DSigma likelihood / chi2: %f, %f\" % (dsigma_lnlike, dsigma_chi2))\n",
    "\n",
    "    return dsigma_lnlike\n",
    "def ln_like(param_tuple, config, obs_data, sim_data, chi2=False,\n",
    "                 sep_return=False):\n",
    "    \"\"\"Calculate the lnLikelihood of the model.\"\"\"\n",
    "    # Unpack the input parameters\n",
    "    parameters = list(param_tuple)\n",
    "\n",
    "    # Generate the model predictions\n",
    "    sim_smf_mass_bins, sim_smf_log_phi, sim_wl_r, sim_wl_ds = predict_model(parameters, config, obs_data, sim_data)   \n",
    "\n",
    "    # Likelihood for SMFs.\n",
    "    smf_lnlike_value = smf_lnlike(obs_data['cosmos_SMF_fit_table'], obs_data['cosmos_SMF_points_table'],\n",
    "        sim_smf_mass_bins, sim_smf_log_phi)\n",
    "\n",
    "    # Likelihood for DeltaSigma\n",
    "    dsigma_lnlike_value = dsigma_lnlike(obs_data['cosmos_wl_table'], sim_wl_r, sim_wl_ds)\n",
    "\n",
    "    if not np.isfinite(dsigma_lnlike_value):\n",
    "        return -np.inf\n",
    "\n",
    "    return smf_lnlike_value + config['mcmc_wl_weight'] * dsigma_lnlike_value\n",
    "\n",
    "def ln_prob_global(param_tuple):\n",
    "    \"\"\"Probability function to sample in an MCMC.\n",
    "\n",
    "    Parameters\n",
    "    ----------\n",
    "    param_tuple: tuple of model parameters.\n",
    "\n",
    "    \"\"\"\n",
    "    print(param_tuple)\n",
    "    \n",
    "    lp = flat_prior(param_tuple, config['param_low'], config['param_upp'])\n",
    "\n",
    "    if not np.isfinite(lp):\n",
    "        return -np.inf\n",
    "\n",
    "    print(lp + ln_like(param_tuple, config, cosmos_data, sim_data))\n",
    "    return lp + ln_like(param_tuple, config, cosmos_data, sim_data)\n"
   ]
  },
  {
   "cell_type": "code",
   "execution_count": 15,
   "metadata": {},
   "outputs": [
    {
     "data": {
      "text/plain": [
       "-1197.9123312001027"
      ]
     },
     "execution_count": 15,
     "metadata": {},
     "output_type": "execute_result"
    }
   ],
   "source": [
    "dsigma_lnlike(cosmos_data['cosmos_wl_table'], sim_wl_r, sim_wl_ds)"
   ]
  },
  {
   "cell_type": "code",
   "execution_count": 16,
   "metadata": {},
   "outputs": [
    {
     "data": {
      "text/plain": [
       "-5.119586259530056"
      ]
     },
     "execution_count": 16,
     "metadata": {},
     "output_type": "execute_result"
    }
   ],
   "source": [
    "smf_lnlike(cosmos_data['cosmos_SMF_fit_table'], cosmos_data['cosmos_SMF_points_table'],\n",
    "           sim_smf_mass_bins, sim_smf_log_phi)"
   ]
  },
  {
   "cell_type": "code",
   "execution_count": 13,
   "metadata": {},
   "outputs": [],
   "source": [
    "%lprun -f predict_model ln_like(config['param_ini'], config, cosmos_data, sim_data)"
   ]
  },
  {
   "cell_type": "markdown",
   "metadata": {},
   "source": [
    "## setup mcmc functions "
   ]
  },
  {
   "cell_type": "code",
   "execution_count": 25,
   "metadata": {},
   "outputs": [],
   "source": [
    "def mcmc_initial_guess(param_initial, param_sigma, n_walkers, n_dims):\n",
    "    \"\"\"Initialize guesses for the MCMC run. One guess for each dimension (model parameter) per walker,\n",
    "    with a small sigma deviation from param_initial. \"\"\"\n",
    "    mcmc_position = np.zeros([n_walkers, n_dims])\n",
    "\n",
    "    for ii, param_0 in enumerate(param_initial):\n",
    "        mcmc_position[:, ii] = (param_0 + param_sigma[ii] * np.random.randn(n_walkers))\n",
    "\n",
    "    return mcmc_position\n",
    "\n",
    "def mcmc_setup_moves(config, move_col):\n",
    "    \"\"\"Choose the Move object for emcee.\"\"\"\n",
    "    if config[move_col] == 'snooker':\n",
    "        emcee_moves = emcee.moves.DESnookerMove()\n",
    "    elif config[move_col] == 'stretch':\n",
    "        emcee_moves = emcee.moves.StretchMove(a=config['mcmc_stretch_a'])\n",
    "    elif config[move_col] == 'walk':\n",
    "        emcee_moves = emcee.moves.WalkMove()\n",
    "    elif config[move_col] == 'kde':\n",
    "        emcee_moves = emcee.moves.KDEMove()\n",
    "    elif config[move_col] == 'de':\n",
    "        emcee_moves = emcee.moves.DEMove(config['mcmc_de_sigma'])\n",
    "    else:\n",
    "        raise Exception(\"Wrong option: stretch, walk, kde, de, snooker\")\n",
    "    \n",
    "    return emcee_moves\n",
    "\n",
    "def mcmc_burnin(mcmc_sampler, mcmc_position, config, verbose=True):\n",
    "    \"\"\"Run the MCMC chain.\"\"\"\n",
    "    # Burn-in\n",
    "    if verbose:\n",
    "        print(\"# Phase: Burn-in ...\")\n",
    "    mcmc_burnin_result = mcmc_sampler.run_mcmc(\n",
    "        mcmc_position, config['mcmc_nburnin'],\n",
    "        progress=True)\n",
    "\n",
    "    mcmc_save_results(mcmc_burnin_result, mcmc_sampler,\n",
    "                      config['mcmc_burnin_file'], config['mcmc_ndims'],\n",
    "                      verbose=True)\n",
    "\n",
    "    # Rest the chains\n",
    "    mcmc_sampler.reset()\n",
    "    \n",
    "    return mcmc_burnin_result\n",
    "    \n",
    "def emcee_run(mcmc_sampler, mcmc_burnin_result, config, verbose=True):\n",
    "    \"\"\"Run the MCMC chain.\"\"\"\n",
    "    mcmc_burnin_position, _, mcmc_burnin_state = mcmc_burnin_result\n",
    "\n",
    "    if verbose:\n",
    "        print(\"# Phase: MCMC run ...\")\n",
    "    mcmc_run_result = mcmc_sampler.run_mcmc(\n",
    "        mcmc_burnin_position, config['mcmc_nsamples'],\n",
    "        rstate0=mcmc_burnin_state,\n",
    "        progress=True)\n",
    "\n",
    "    mcmc_save_results(mcmc_run_result, mcmc_sampler,\n",
    "                      config['mcmc_run_file'], config['mcmc_ndims'],\n",
    "                      verbose=True)\n",
    "\n",
    "    return mcmc_run_result\n",
    "\n",
    "def mcmc_save_results(mcmc_results, mcmc_sampler, mcmc_file,\n",
    "                      mcmc_ndims, verbose=True):\n",
    "    \"\"\"Save the MCMC run results.\"\"\"\n",
    "    (mcmc_position, mcmc_lnprob, _) = mcmc_results\n",
    "\n",
    "    mcmc_samples = mcmc_sampler.chain[:, :, :].reshape(\n",
    "        (-1, mcmc_ndims))\n",
    "    mcmc_chains = mcmc_sampler.chain\n",
    "    mcmc_lnprob = mcmc_sampler.lnprobability\n",
    "    ind_1, ind_2 = np.unravel_index(np.argmax(mcmc_lnprob, axis=None),\n",
    "                                    mcmc_lnprob.shape)\n",
    "    mcmc_best = mcmc_chains[ind_2, ind_1, :]\n",
    "#     mcmc_params_stats = mcmc_samples_stats(mcmc_samples)\n",
    "\n",
    "    np.savez(mcmc_file,\n",
    "             samples=mcmc_samples, lnprob=np.array(mcmc_lnprob),\n",
    "             best=np.array(mcmc_best), chains=mcmc_chains,\n",
    "             position=np.asarray(mcmc_position),\n",
    "             acceptance=np.array(mcmc_sampler.acceptance_fraction))\n",
    "\n",
    "    if verbose:\n",
    "        print(\"#------------------------------------------------------\")\n",
    "        print(\"#  Mean acceptance fraction\",\n",
    "              np.mean(mcmc_sampler.acceptance_fraction))\n",
    "        print(\"#------------------------------------------------------\")\n",
    "        print(\"#  Best ln(Probability): %11.5f\" % np.max(mcmc_lnprob))\n",
    "        print(mcmc_best)\n",
    "        print(\"#------------------------------------------------------\")\n",
    "#         for param_stats in mcmc_params_stats:\n",
    "#             print(param_stats)\n",
    "#         print(\"#------------------------------------------------------\")\n",
    "\n",
    "    return\n"
   ]
  },
  {
   "cell_type": "markdown",
   "metadata": {},
   "source": [
    "## run fit"
   ]
  },
  {
   "cell_type": "code",
   "execution_count": 26,
   "metadata": {},
   "outputs": [],
   "source": [
    "#skip paralleization for now\n",
    "def emcee_fit(config, verbose=True):\n",
    "    \n",
    "    print('{0} thread(s)'.format(config['mcmc_nthreads']))\n",
    "    \n",
    "    # Initialize the model\n",
    "    mcmc_ini_position = mcmc_initial_guess(\n",
    "        config['param_ini'], config['param_sig'], config['mcmc_nwalkers'],\n",
    "        config['mcmc_ndims'])\n",
    "\n",
    "    if config['mcmc_nthreads'] > 1:\n",
    "        from multiprocessing import Pool\n",
    "        from contextlib import closing\n",
    "\n",
    "        with closing(Pool(processes=config['mcmc_nthreads'])) as pool:\n",
    "\n",
    "            # Decide the Ensemble moves for walkers during burnin\n",
    "            burnin_move = mcmc_setup_moves(config, 'mcmc_moves_burnin')\n",
    "\n",
    "            burnin_sampler = emcee.EnsembleSampler(\n",
    "                config['mcmc_nwalkers_burnin'],\n",
    "                config['mcmc_ndims'],\n",
    "                ln_prob_global,\n",
    "                moves=burnin_move,\n",
    "                pool=pool)\n",
    "\n",
    "            # Burn-in\n",
    "            mcmc_burnin_pos, mcmc_burnin_lnp, mcmc_burnin_state = mcmc_burnin(\n",
    "                burnin_sampler, mcmc_ini_position, config, verbose=True)\n",
    "            \n",
    "            # Estimate the Kernel density distributions of final brun-in positions\n",
    "            # Resample the distributions to get starting positions of the actual run\n",
    "            mcmc_kde = gaussian_kde(np.transpose(mcmc_burnin_pos), \n",
    "                               bw_method='silverman')\n",
    "            mcmc_new_pos = np.transpose(mcmc_kde.resample(config['mcmc_nwalkers']))\n",
    "\n",
    "            mcmc_new_ini = (mcmc_new_pos, mcmc_burnin_lnp, mcmc_burnin_state)\n",
    "\n",
    "            # TODO: Convergence test\n",
    "            burnin_sampler.reset()\n",
    "\n",
    "            # Change the moves\n",
    "            # Decide the Ensemble moves for walkers during the official run\n",
    "            mcmc_move = mcmc_setup_moves(config, 'mcmc_moves')\n",
    "\n",
    "            mcmc_sampler = emcee.EnsembleSampler(\n",
    "                config['mcmc_nwalkers'],\n",
    "                config['mcmc_ndims'],\n",
    "                ln_prob_global,\n",
    "                moves=mcmc_move,\n",
    "                pool=pool)\n",
    "\n",
    "            # MCMC run\n",
    "            mcmc_run_result = emcee_run(\n",
    "                mcmc_sampler, mcmc_new_ini, config, verbose=True)\n",
    "    else:\n",
    "            \n",
    "        # define the ensemble moves object for walkers during burn in\n",
    "        burnin_move = mcmc_setup_moves(config, 'mcmc_moves_burnin')\n",
    "        # define sampler\n",
    "        burnin_sampler = emcee.EnsembleSampler(\n",
    "            config['mcmc_nwalkers_burnin'],\n",
    "            config['mcmc_ndims'],\n",
    "            ln_prob_global,\n",
    "            moves=burnin_move) #,pool=pool)\n",
    "\n",
    "        # Burn-in\n",
    "        mcmc_burnin_pos, mcmc_burnin_lnp, mcmc_burnin_state = mcmc_burnin(\n",
    "            burnin_sampler, mcmc_ini_position, config, verbose=True)\n",
    "\n",
    "        # Estimate the Kernel density distributions of final burn-in positions\n",
    "        # Resample the distributions to get starting positions of the actual run\n",
    "        mcmc_kde = gaussian_kde(np.transpose(mcmc_burnin_pos), \n",
    "                            bw_method='silverman')\n",
    "        mcmc_new_pos = np.transpose(mcmc_kde.resample(config['mcmc_nwalkers']))\n",
    "\n",
    "        mcmc_new_ini = (mcmc_new_pos, mcmc_burnin_lnp, mcmc_burnin_state)\n",
    "\n",
    "\n",
    "        # MCMC run\n",
    "\n",
    "        # Decide the Ensemble moves for walkers during burnin\n",
    "        mcmc_move = mcmc_setup_moves(config, 'mcmc_moves')\n",
    "        # define sampler\n",
    "        mcmc_sampler = emcee.EnsembleSampler(config['mcmc_nwalkers'],\n",
    "                                             config['mcmc_ndims'],\n",
    "                                             ln_prob_global,\n",
    "                                             moves=mcmc_move)\n",
    "\n",
    "        mcmc_run_result = emcee_run(mcmc_sampler, mcmc_new_ini, config, verbose=True)\n",
    "\n",
    "    return mcmc_run_result"
   ]
  },
  {
   "cell_type": "code",
   "execution_count": 27,
   "metadata": {
    "scrolled": false
   },
   "outputs": [
    {
     "name": "stdout",
     "output_type": "stream",
     "text": [
      "1 thread(s)\n",
      "# Phase: Burn-in ...\n",
      "[0.3633381  0.28646553]\n",
      "mock.populate\n",
      "-1815.8024028650761\n",
      "mock.populate\n",
      "[0.45188291 0.18984182]\n",
      "mock.populate\n",
      "-916.2443010494915\n",
      "mock.populate\n",
      "[0.47923493 0.13382029]\n",
      "mock.populate\n",
      "-599.2207603065319\n",
      "mock.populate\n",
      "[0.40929034 0.33218148]\n",
      "mock.populate\n",
      "-1406.1290011813692\n",
      "mock.populate\n"
     ]
    },
    {
     "name": "stderr",
     "output_type": "stream",
     "text": [
      "\r",
      "  0%|          | 0/5 [00:00<?, ?it/s]"
     ]
    },
    {
     "name": "stdout",
     "output_type": "stream",
     "text": [
      "[0.57604016 0.02818247]\n",
      "mock.populate\n",
      "-267.33123060427414\n",
      "mock.populate\n",
      "[0.50462632 0.22814697]\n",
      "mock.populate\n",
      "-559.4922889956187\n",
      "mock.populate\n",
      "[0.39920536 0.18603431]\n",
      "mock.populate\n",
      "-971.061305442813\n",
      "mock.populate\n",
      "[0.4583094  0.17184713]\n",
      "mock.populate\n",
      "-624.936349056317\n",
      "mock.populate\n"
     ]
    },
    {
     "name": "stderr",
     "output_type": "stream",
     "text": [
      "\r",
      " 20%|██        | 1/5 [00:17<01:10, 17.72s/it]"
     ]
    },
    {
     "name": "stdout",
     "output_type": "stream",
     "text": [
      "[0.38868808 0.31727933]\n",
      "mock.populate\n",
      "-1100.6230835928864\n",
      "mock.populate\n",
      "[0.60516261 0.06358183]\n",
      "mock.populate\n",
      "-230.68808851259482\n",
      "mock.populate\n",
      "[ 0.70287025 -0.12512191]\n",
      "[0.45735376 0.2855498 ]\n",
      "mock.populate\n",
      "-823.5137119034005\n",
      "mock.populate\n"
     ]
    },
    {
     "name": "stderr",
     "output_type": "stream",
     "text": [
      "\r",
      " 40%|████      | 2/5 [00:30<00:49, 16.37s/it]"
     ]
    },
    {
     "name": "stdout",
     "output_type": "stream",
     "text": [
      "[0.42827566 0.20722344]\n",
      "mock.populate\n",
      "-908.0275159107767\n",
      "mock.populate\n",
      "[0.22908005 0.56439096]\n",
      "mock.populate\n",
      "-3112.255124117621\n",
      "mock.populate\n",
      "[0.49113093 0.18084171]\n",
      "mock.populate\n",
      "-515.4055497216259\n",
      "mock.populate\n",
      "[0.51034538 0.01017913]\n",
      "mock.populate\n",
      "-571.7225673350175\n",
      "mock.populate\n"
     ]
    },
    {
     "name": "stderr",
     "output_type": "stream",
     "text": [
      "\r",
      " 60%|██████    | 3/5 [00:47<00:32, 16.46s/it]"
     ]
    },
    {
     "name": "stdout",
     "output_type": "stream",
     "text": [
      "[0.41595259 0.24172901]\n",
      "mock.populate\n",
      "-1170.9911533999327\n",
      "mock.populate\n",
      "[0.49804269 0.1614882 ]\n",
      "mock.populate\n",
      "-501.99682925135227\n",
      "mock.populate\n",
      "[0.61228066 0.01297154]\n",
      "mock.populate\n",
      "-246.8879135244263\n",
      "mock.populate\n",
      "[0.45390835 0.24943441]\n",
      "mock.populate\n",
      "-743.4166084466281\n",
      "mock.populate\n"
     ]
    },
    {
     "name": "stderr",
     "output_type": "stream",
     "text": [
      "\r",
      " 80%|████████  | 4/5 [01:05<00:16, 16.98s/it]"
     ]
    },
    {
     "name": "stdout",
     "output_type": "stream",
     "text": [
      "[0.65371275 0.009206  ]\n",
      "mock.populate\n",
      "-157.4958132513484\n",
      "mock.populate\n",
      "[0.38956182 0.3496192 ]\n",
      "mock.populate\n",
      "-976.2172795534226\n",
      "mock.populate\n",
      "[0.44096313 0.18859124]\n",
      "mock.populate\n",
      "-1051.758602357342\n",
      "mock.populate\n"
     ]
    },
    {
     "name": "stderr",
     "output_type": "stream",
     "text": [
      "\r",
      "100%|██████████| 5/5 [01:19<00:00, 16.05s/it]"
     ]
    },
    {
     "name": "stdout",
     "output_type": "stream",
     "text": [
      "[ 0.74312705 -0.17918301]\n",
      "#------------------------------------------------------\n",
      "#  Mean acceptance fraction 0.35000000000000003\n",
      "#------------------------------------------------------\n",
      "#  Best ln(Probability):  -173.09415\n",
      "[0.65371275 0.009206  ]\n",
      "#------------------------------------------------------\n",
      "# Phase: MCMC run ...\n",
      "[0.43900552 0.30488785]\n"
     ]
    },
    {
     "name": "stderr",
     "output_type": "stream",
     "text": [
      "\n"
     ]
    },
    {
     "name": "stdout",
     "output_type": "stream",
     "text": [
      "mock.populate\n",
      "-905.9752263227904\n",
      "mock.populate\n",
      "[0.46874626 0.29453097]\n",
      "mock.populate\n",
      "-657.5398600318459\n",
      "mock.populate\n",
      "[0.54303062 0.17024136]\n",
      "mock.populate\n",
      "-369.689704828677\n",
      "mock.populate\n",
      "[0.56162939 0.07585374]\n",
      "mock.populate\n",
      "-347.78071450867014\n",
      "mock.populate\n"
     ]
    },
    {
     "name": "stderr",
     "output_type": "stream",
     "text": [
      "\r",
      "  0%|          | 0/5 [00:00<?, ?it/s]"
     ]
    },
    {
     "name": "stdout",
     "output_type": "stream",
     "text": [
      "[0.51817044 0.2022176 ]\n",
      "mock.populate\n",
      "-410.03808755684963\n",
      "mock.populate\n",
      "[0.41881254 0.40225309]\n",
      "mock.populate\n",
      "-995.6264678665443\n",
      "mock.populate\n",
      "[0.41847731 0.33129213]\n",
      "mock.populate\n",
      "-894.861582589442\n",
      "mock.populate\n",
      "[0.59214502 0.03660322]\n",
      "mock.populate\n",
      "-245.78022906725903\n",
      "mock.populate\n"
     ]
    },
    {
     "name": "stderr",
     "output_type": "stream",
     "text": [
      "\r",
      " 20%|██        | 1/5 [00:19<01:17, 19.40s/it]"
     ]
    },
    {
     "name": "stdout",
     "output_type": "stream",
     "text": [
      "[0.46488537 0.20501783]\n",
      "mock.populate\n",
      "-838.7402864082977\n",
      "mock.populate\n",
      "[0.56992108 0.06140636]\n",
      "mock.populate\n",
      "-383.65295693377436\n",
      "mock.populate\n",
      "[0.62838742 0.05353614]\n",
      "mock.populate\n",
      "-208.93409793363682\n",
      "mock.populate\n",
      "[0.55737156 0.08414769]\n",
      "mock.populate\n",
      "-346.8290380354369\n",
      "mock.populate\n"
     ]
    },
    {
     "name": "stderr",
     "output_type": "stream",
     "text": [
      "\r",
      " 40%|████      | 2/5 [00:39<00:58, 19.52s/it]"
     ]
    },
    {
     "name": "stdout",
     "output_type": "stream",
     "text": [
      "[ 0.67728602 -0.07890881]\n",
      "[ 0.71396334 -0.05830298]\n",
      "[0.42846422 0.20992053]\n",
      "mock.populate\n",
      "-885.3540294172079\n",
      "mock.populate\n",
      "[0.63881183 0.07318492]\n",
      "mock.populate\n",
      "-166.10222317773136\n",
      "mock.populate\n"
     ]
    },
    {
     "name": "stderr",
     "output_type": "stream",
     "text": [
      "\r",
      " 60%|██████    | 3/5 [00:48<00:33, 16.52s/it]"
     ]
    },
    {
     "name": "stdout",
     "output_type": "stream",
     "text": [
      "[0.54039987 0.08875723]\n",
      "mock.populate\n",
      "-388.1741882963328\n",
      "mock.populate\n",
      "[0.44957405 0.24851031]\n",
      "mock.populate\n",
      "-720.6706653491033\n",
      "mock.populate\n",
      "[0.51006122 0.19786939]\n",
      "mock.populate\n",
      "-441.79610965244126\n",
      "mock.populate\n",
      "[0.67476366 0.04619775]\n",
      "mock.populate\n",
      "-185.27067336589556\n",
      "mock.populate\n"
     ]
    },
    {
     "name": "stderr",
     "output_type": "stream",
     "text": [
      "\r",
      " 80%|████████  | 4/5 [01:08<00:17, 17.40s/it]"
     ]
    },
    {
     "name": "stdout",
     "output_type": "stream",
     "text": [
      "[0.4842177  0.20195876]\n",
      "mock.populate\n",
      "-537.4330010351193\n",
      "mock.populate\n",
      "[0.68591757 0.0444328 ]\n",
      "mock.populate\n",
      "-146.12776268859804\n",
      "mock.populate\n",
      "[0.45288754 0.16511269]\n",
      "mock.populate\n",
      "-859.4843819976824\n",
      "mock.populate\n",
      "[0.67279592 0.04353342]\n",
      "mock.populate\n",
      "-157.88321004050582\n",
      "mock.populate\n"
     ]
    },
    {
     "name": "stderr",
     "output_type": "stream",
     "text": [
      "\r",
      "100%|██████████| 5/5 [01:27<00:00, 17.98s/it]"
     ]
    },
    {
     "name": "stdout",
     "output_type": "stream",
     "text": [
      "#------------------------------------------------------\n",
      "#  Mean acceptance fraction 0.6499999999999999\n",
      "#------------------------------------------------------\n",
      "#  Best ln(Probability):  -147.14832\n",
      "[0.67279592 0.04353342]\n",
      "#------------------------------------------------------\n"
     ]
    },
    {
     "name": "stderr",
     "output_type": "stream",
     "text": [
      "\n"
     ]
    },
    {
     "data": {
      "text/plain": [
       "State([[0.51006122 0.19786939]\n",
       " [0.54039987 0.08875723]\n",
       " [0.68591757 0.0444328 ]\n",
       " [0.67279592 0.04353342]], log_prob=[-443.07406353 -330.84375557 -152.16892466 -147.148324  ], blobs=None, random_state=('MT19937', array([1940153125,  569719204, 1649896046, 2289773569, 2977730530,\n",
       "       1488586343, 4107724012, 2442213841, 1161870999,  329689792,\n",
       "       2325320556, 1229611746, 3687903408, 1768607378, 3653454347,\n",
       "       1259077348, 2822407516,  153957682, 1550020162, 4112389646,\n",
       "       3253383222, 1515517062, 4291890710, 3656820647, 2774598390,\n",
       "       1672497750,   37039001, 1159405146, 1215189630, 3787949277,\n",
       "       3033018429,  702680791, 1556636834, 1944874773, 2299434671,\n",
       "       1522996926, 2501924058, 1627345783, 2860912300, 1194689426,\n",
       "       3866668224, 1866967486, 1097000039, 2214222174, 1622260343,\n",
       "       2558659479, 2077897110, 2621779931, 3820690914, 1893608077,\n",
       "       1439553695, 1634572292, 3223483684, 1256207162, 1348045761,\n",
       "       1610853206, 1273159227, 1196783657, 1469583101,  978011311,\n",
       "        747834928, 3032652793, 1099419908, 1610587959, 3344519003,\n",
       "       3709622675,  692724379,  214738443, 2628771445, 1090030395,\n",
       "       2455976892,  107157266, 2826433429, 3895358875, 1494551266,\n",
       "       1171013020, 3383562281, 2864810705,  736687063, 1276608248,\n",
       "       2865836851, 4168087723, 1935744852, 3889373274, 2266431252,\n",
       "       1992812814, 3679300973, 3669289226,   94852774, 1238709719,\n",
       "       1197546138, 2115955926,  643111736, 1411309623, 3311425554,\n",
       "       3389439042, 3574581639, 1108401984, 4110154597, 1112234770,\n",
       "       3416910953,  590175111, 2448359125, 1291816116, 1238216684,\n",
       "        723892947,  471490752,  315551378, 4093623402, 1798984336,\n",
       "       3156663578, 4018136297,  530020178,   16248496, 3286415211,\n",
       "        219789224, 4267143371,  982560055, 2842564518, 1727125184,\n",
       "       2624134500, 4107793375, 1209086902,  436324196, 3797909864,\n",
       "        410089846,  784243376, 3956157408, 2881312280,  643458159,\n",
       "       2367917467,   81840962, 3145185884,  984222504, 2162880161,\n",
       "          3961911, 3258290866, 1077942487, 3004444705,  506260896,\n",
       "       2833187446,  312805649, 1170466027, 4101718606,  527767185,\n",
       "        930220846,   83407893, 1841487611, 2486433370, 3501814126,\n",
       "        185150639, 1136116736, 1667599004, 4023720459, 3028495872,\n",
       "        430678092, 2258969006, 2040383753, 1255966516, 2151935341,\n",
       "       1521035575,  354731189, 3467844782, 1977290526, 1854016238,\n",
       "       1432586940, 1293825359, 2397361965, 3968365190, 4289173084,\n",
       "       3937960605, 3234638680, 1457776186,  408589021, 3162244558,\n",
       "       3966327649, 2044490238, 1519527295, 1781284613,  276163281,\n",
       "       2394631130, 2090729749, 1220118712,  218383174, 1234951114,\n",
       "       2357357667,  742933955, 3857003590, 3038540387, 2022769060,\n",
       "        592086008,  270320592, 2807914308,  474882495,  141682645,\n",
       "       3525150258, 2414041288,  942184269, 2148716821, 2395299593,\n",
       "       2016554428, 1900050463, 3401802784,  781393063, 2972370727,\n",
       "         45935610,  791846225, 3974894196,  111537846, 1415979313,\n",
       "        392638251,   29982410, 3303205386,  380276035,  397298375,\n",
       "       3109889715,   39745424,  942163392,   49264853, 2500114110,\n",
       "        770211391,  604328423, 1889706699, 2426174487, 1504603012,\n",
       "       3981849585,  331709038, 3715506411, 2380508318, 2396847974,\n",
       "       2218956633, 1485822676, 1866235076, 3823259306, 3911045917,\n",
       "        703795518, 2941225968, 3290697886, 2429022834,  504895006,\n",
       "       1543989730,  836583718, 1236674031, 1888984704, 3227123799,\n",
       "       3963705801, 1813727677, 1224729892, 3087186478, 1368790765,\n",
       "        358111237, 4134192231, 3479469629,   32900332, 3165966516,\n",
       "       3040032651, 1752659135, 2690584170, 3527839603, 2969890358,\n",
       "       3935072882, 2084579197,   31938406, 4279435661, 2511065544,\n",
       "       3574827855, 1114340053, 1097588720, 1863178678,  144186471,\n",
       "       2197500665,  667832172, 1900894399, 1120019991, 1511704260,\n",
       "       1689695781, 2160856762, 2700693471, 3364948953, 2339594102,\n",
       "       4041156784, 2198069531,  309619422,  993455635,  816157670,\n",
       "       3390015465, 2773851109, 1263243898, 1022356466, 2102632477,\n",
       "       2514383349,  259057213, 3242314904, 3569033490, 1077579659,\n",
       "       1342175074, 1856351667,  785257518, 1590927927, 1392899224,\n",
       "        478952759, 1103096417,  771451359, 2983595961, 2256353883,\n",
       "        407307115, 1368067903, 1534575065, 3824695870, 3210599336,\n",
       "       3762560772, 4061043123, 1032644758, 1630760604,  535535522,\n",
       "       2660976507, 3010595315, 4214770754, 3145438924, 1725804843,\n",
       "       2602297479, 4131852579, 3973790575, 1950589821,  461068891,\n",
       "       4112559559,  261031653, 2953612719,  261765661, 2177158121,\n",
       "       2960296791, 1719582632, 4121071155,  332880103,  988314128,\n",
       "       3312123903, 1630869621, 3785490538, 2328760472,  190975673,\n",
       "       3902093759, 1568183188, 1360155661,  682535033,  195285965,\n",
       "       3284076172, 3514065713, 2855724368, 2536437919, 3909170216,\n",
       "         85938397, 1579762965, 3625107971, 2460010993, 2392787673,\n",
       "       2531196386, 2347105393, 1105006910,   47809340,  968624939,\n",
       "        980545448, 2552611776, 1980964569, 1648584223, 1843916068,\n",
       "       2449455957,  810073134,     262205, 3534870911, 2773266488,\n",
       "       4090264782, 2152698697, 3355171725, 1825875993, 1284419640,\n",
       "       2941491783,  890488869, 2764724444, 3087006104, 2124430462,\n",
       "       2313804543, 2551650972, 2981147972, 1929838157, 2150494325,\n",
       "        935527567,  605725906, 3769559783, 3807485448,  821975725,\n",
       "       3092496022, 3448992878, 2188721364, 1589289034, 2905155223,\n",
       "       3628694661, 3111360242,  372358182, 2112136849,  169637713,\n",
       "       3793372435, 3189281220, 2870504878,  348540444,  239924994,\n",
       "       3937415560, 3611678041, 3690921272, 1926590995, 2917603729,\n",
       "       1367809521, 1159689805, 1493809302, 1474126391, 3411307417,\n",
       "       2656279520, 3016435855, 1246051511, 3280880633, 3874377239,\n",
       "       1912362558, 1557490826, 1082036592, 2558923286,   54999530,\n",
       "        488244796,  361739174, 2925800909, 2653907771, 1327953065,\n",
       "       2714837329,  371832598, 1982522260, 3553303125, 1548371208,\n",
       "       2640503972, 3992908505, 3294853719, 2135663378, 2519522036,\n",
       "        154367528, 1212819408, 1764334530, 1972955097, 3215779067,\n",
       "       2346253140,  979618153, 2245065794, 2494214406, 2074015907,\n",
       "       1199785988, 2536712758, 4266393904,  686209410, 3181803604,\n",
       "       3946213290, 3503767819, 3881469535,  372992974,  428987929,\n",
       "       1071336529, 1455314560,  622252202, 3451292627,   96968208,\n",
       "       3206917347, 2547942700, 2356421396,  357090608, 2302375173,\n",
       "       1401083336, 3485391264, 2505673549, 1282484257, 3037264278,\n",
       "       1280415533, 1892781287,  957389122, 3511245419,  118000964,\n",
       "       1472610658, 1699827486, 2583838511, 2963504166, 1655998906,\n",
       "       3076222751, 1801888840, 1006019320, 3238708881, 1640204323,\n",
       "       1335052648, 2412359595,  199330815,  659034763, 2763549188,\n",
       "       3493602481, 3737242613, 2469696333, 1898021603, 2131222617,\n",
       "        621581623,  545019517, 3559272614, 3699873514, 2613422608,\n",
       "       3225467322, 2497111553, 3116635022, 2997704776, 2935544543,\n",
       "       1267629110, 3327789223, 1301933196, 2924941920,  851476694,\n",
       "         32387770,   48368988, 3510731765, 2932042010,  308446904,\n",
       "        265072552, 3125112636, 1988521417, 1210904763, 2751645563,\n",
       "       1606498982,  183511048,  726409449, 3395662672, 2225216095,\n",
       "       2949542920,  872246711, 3254527109, 1156855273, 2592056234,\n",
       "       4238084341, 2363952728, 2048198330,  544021088, 2993448801,\n",
       "       4251713866, 3415286199, 2427890537,  981577934, 3175375494,\n",
       "       4239355956, 1359447488, 1308672153, 1637666199, 1815469654,\n",
       "       2658044688, 2227002694,  226488994, 1943810402, 3230364829,\n",
       "       3037038857, 2139762476, 3059608812, 2442403081, 2819001541,\n",
       "       3496575128, 2004413160,  852025863, 1721824009, 3136052034,\n",
       "       2112335700,  183438453, 1193804396, 2620212336, 2027811996,\n",
       "        150509800,  166761828,  889212917, 2876024560, 2438933449,\n",
       "       3876054983,  939119758, 3544060358, 3064172947, 2927342137,\n",
       "       2273406146, 1901904378, 3682272704, 3446239393, 2145704895,\n",
       "       3593665399, 2376359445, 1976258524,  713898289,  248918944,\n",
       "       1882988505,  353424357, 3837568456, 1193783439, 3409904703,\n",
       "       1670903951,  384688697,  678406694, 1824051099, 3897954058,\n",
       "       2131630160, 2660306554, 3585261517, 3289314609, 2311006125,\n",
       "       4059657234,   43552380, 3287956286, 2511052986, 3506582793,\n",
       "        184505018,  323734101, 2186800729, 2708877191, 2368247543,\n",
       "        888015205, 3373355607, 3378051047, 1580951558, 1087850705,\n",
       "       2156264423,  380463766, 1411636612, 1504253887], dtype=uint32), 582, 0, 0.0))"
      ]
     },
     "execution_count": 27,
     "metadata": {},
     "output_type": "execute_result"
    }
   ],
   "source": [
    "emcee_fit(config)"
   ]
  },
  {
   "cell_type": "code",
   "execution_count": 14,
   "metadata": {},
   "outputs": [
    {
     "name": "stdout",
     "output_type": "stream",
     "text": [
      "[0.32200022, 0.26710406]\n",
      "mock.populate\n"
     ]
    },
    {
     "data": {
      "text/plain": [
       "-2047.0922560036606"
      ]
     },
     "execution_count": 14,
     "metadata": {},
     "output_type": "execute_result"
    }
   ],
   "source": [
    "params = [0.32200022, 0.26710406]\n",
    "\n",
    "ln_prob_global(param_tuple=params)"
   ]
  },
  {
   "cell_type": "markdown",
   "metadata": {},
   "source": [
    "10/8: successfully implemented mock.populate. parallelization works in notebook, not well in standalone script. still some bugs like the one above (not parallel)"
   ]
  },
  {
   "cell_type": "code",
   "execution_count": null,
   "metadata": {},
   "outputs": [],
   "source": []
  }
 ],
 "metadata": {
  "kernelspec": {
   "display_name": "Python [conda env:dwarf_lensing]",
   "language": "python",
   "name": "conda-env-dwarf_lensing-py"
  },
  "language_info": {
   "codemirror_mode": {
    "name": "ipython",
    "version": 2
   },
   "file_extension": ".py",
   "mimetype": "text/x-python",
   "name": "python",
   "nbconvert_exporter": "python",
   "pygments_lexer": "ipython2",
   "version": "2.7.15"
  }
 },
 "nbformat": 4,
 "nbformat_minor": 2
}
